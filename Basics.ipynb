{
 "cells": [
  {
   "cell_type": "code",
   "execution_count": 1,
   "id": "c11e5c84-d754-4e40-9b22-d1098e7675a8",
   "metadata": {},
   "outputs": [],
   "source": [
    "import sys # access system specific parameters and function\n",
    "import keyword\n",
    "import operator #to perform operations on variables and values\n",
    "from datetime import datetime\n",
    "import os"
   ]
  },
  {
   "cell_type": "code",
   "execution_count": 6,
   "id": "a84167fa-8e2d-43c3-8150-8c6d7fd5ca41",
   "metadata": {},
   "outputs": [
    {
     "name": "stdout",
     "output_type": "stream",
     "text": [
      "Todays date 2024-10-05\n"
     ]
    }
   ],
   "source": [
    "from datetime import date\n",
    "today=date.today()\n",
    "print('Todays date',today)"
   ]
  },
  {
   "cell_type": "code",
   "execution_count": null,
   "id": "31e52a8e-d09e-4b60-8a3b-8e25d62395a4",
   "metadata": {},
   "outputs": [],
   "source": []
  },
  {
   "cell_type": "code",
   "execution_count": null,
   "id": "1e96f26a-bad1-4291-8e98-a4da3abebfc7",
   "metadata": {},
   "outputs": [],
   "source": []
  },
  {
   "cell_type": "code",
   "execution_count": null,
   "id": "0d385ed4-4430-44e3-8b71-e5466662f04b",
   "metadata": {},
   "outputs": [],
   "source": []
  },
  {
   "cell_type": "code",
   "execution_count": null,
   "id": "2378de98-7e52-4658-9965-c02ed027d5e8",
   "metadata": {},
   "outputs": [],
   "source": []
  },
  {
   "cell_type": "code",
   "execution_count": null,
   "id": "4a5e0211-869b-425d-9ae3-809b08f5161a",
   "metadata": {},
   "outputs": [],
   "source": []
  },
  {
   "cell_type": "markdown",
   "id": "f842336c-9031-4a92-bf1a-4e544449e878",
   "metadata": {},
   "source": [
    "Keywords\n",
    "Keywords are the reserved words in python and cant be used as an identifier\n"
   ]
  },
  {
   "cell_type": "code",
   "execution_count": 3,
   "id": "166cfe14-6612-4f1b-b7da-a2319d3e0d51",
   "metadata": {},
   "outputs": [
    {
     "name": "stdout",
     "output_type": "stream",
     "text": [
      "['False', 'None', 'True', 'and', 'as', 'assert', 'async', 'await', 'break', 'class', 'continue', 'def', 'del', 'elif', 'else', 'except', 'finally', 'for', 'from', 'global', 'if', 'import', 'in', 'is', 'lambda', 'nonlocal', 'not', 'or', 'pass', 'raise', 'return', 'try', 'while', 'with', 'yield']\n"
     ]
    }
   ],
   "source": [
    "print(keyword.kwlist)"
   ]
  },
  {
   "cell_type": "code",
   "execution_count": 4,
   "id": "11401f19-6804-4267-829c-2e123567ba50",
   "metadata": {},
   "outputs": [
    {
     "name": "stdout",
     "output_type": "stream",
     "text": [
      "35\n"
     ]
    }
   ],
   "source": [
    "print(len(keyword.kwlist))"
   ]
  },
  {
   "cell_type": "markdown",
   "id": "710f4c4b-30bc-43fd-81d9-01c32e3440ab",
   "metadata": {},
   "source": [
    "Identifiers\n",
    "An identifier is a name given to entities like clas, functions,variables,etc., It helps to differentiate one entity from another"
   ]
  },
  {
   "cell_type": "code",
   "execution_count": 5,
   "id": "15e13076-da65-4a7e-93d4-091d65a6af74",
   "metadata": {},
   "outputs": [
    {
     "ename": "SyntaxError",
     "evalue": "invalid decimal literal (1521661254.py, line 1)",
     "output_type": "error",
     "traceback": [
      "\u001b[1;36m  Cell \u001b[1;32mIn[5], line 1\u001b[1;36m\u001b[0m\n\u001b[1;33m    1var=10\u001b[0m\n\u001b[1;37m    ^\u001b[0m\n\u001b[1;31mSyntaxError\u001b[0m\u001b[1;31m:\u001b[0m invalid decimal literal\n"
     ]
    }
   ],
   "source": [
    "1var=10"
   ]
  },
  {
   "cell_type": "code",
   "execution_count": 6,
   "id": "403a05a1-e72f-407b-9e76-051fb822c915",
   "metadata": {},
   "outputs": [
    {
     "ename": "NameError",
     "evalue": "name 'val2' is not defined",
     "output_type": "error",
     "traceback": [
      "\u001b[1;31m---------------------------------------------------------------------------\u001b[0m",
      "\u001b[1;31mNameError\u001b[0m                                 Traceback (most recent call last)",
      "Cell \u001b[1;32mIn[6], line 1\u001b[0m\n\u001b[1;32m----> 1\u001b[0m \u001b[43mval2\u001b[49m\u001b[38;5;241m@\u001b[39m\u001b[38;5;241m=\u001b[39m\u001b[38;5;241m10\u001b[39m\n",
      "\u001b[1;31mNameError\u001b[0m: name 'val2' is not defined"
     ]
    }
   ],
   "source": [
    "val2@=10"
   ]
  },
  {
   "cell_type": "code",
   "execution_count": 7,
   "id": "f8500922-655e-4c9e-8951-48617e00b7cd",
   "metadata": {},
   "outputs": [
    {
     "ename": "SyntaxError",
     "evalue": "invalid syntax (3043145148.py, line 1)",
     "output_type": "error",
     "traceback": [
      "\u001b[1;36m  Cell \u001b[1;32mIn[7], line 1\u001b[1;36m\u001b[0m\n\u001b[1;33m    import =125\u001b[0m\n\u001b[1;37m           ^\u001b[0m\n\u001b[1;31mSyntaxError\u001b[0m\u001b[1;31m:\u001b[0m invalid syntax\n"
     ]
    }
   ],
   "source": [
    "import =125"
   ]
  },
  {
   "cell_type": "code",
   "execution_count": 8,
   "id": "8f0d0be7-cf80-44b0-9717-bf14cd5e8d85",
   "metadata": {},
   "outputs": [
    {
     "data": {
      "text/plain": [
       "10"
      ]
     },
     "execution_count": 8,
     "metadata": {},
     "output_type": "execute_result"
    }
   ],
   "source": [
    "#identifiers can be a combination of letters in lowercase(a to z)or uppercase(A to Z) underscore and digits(0-9)\n",
    "i1=10\n",
    "i1"
   ]
  },
  {
   "cell_type": "code",
   "execution_count": 10,
   "id": "64132534-99b6-4afb-99b0-e628fdf657ca",
   "metadata": {},
   "outputs": [
    {
     "data": {
      "text/plain": [
       "20"
      ]
     },
     "execution_count": 10,
     "metadata": {},
     "output_type": "execute_result"
    }
   ],
   "source": [
    "i2=20\n",
    "i2"
   ]
  },
  {
   "cell_type": "markdown",
   "id": "409b389c-ae04-4838-a516-2fb8da35fa11",
   "metadata": {},
   "source": [
    "Comments in python"
   ]
  },
  {
   "cell_type": "raw",
   "id": "66634e4f-e17f-42fd-a2bb-4cd9187b04b5",
   "metadata": {},
   "source": [
    "Comments can be used to explain the code for more redability"
   ]
  },
  {
   "cell_type": "code",
   "execution_count": 11,
   "id": "e6ad92b3-6a16-4170-b4e4-b5b38bc0db19",
   "metadata": {},
   "outputs": [
    {
     "data": {
      "text/plain": [
       "15"
      ]
     },
     "execution_count": 11,
     "metadata": {},
     "output_type": "execute_result"
    }
   ],
   "source": [
    "#single line comment\n",
    "c1=15\n",
    "c1"
   ]
  },
  {
   "cell_type": "code",
   "execution_count": 12,
   "id": "01a201d5-584e-4e6e-8f1f-ee0e8e16eb32",
   "metadata": {},
   "outputs": [
    {
     "data": {
      "text/plain": [
       "25"
      ]
     },
     "execution_count": 12,
     "metadata": {},
     "output_type": "execute_result"
    }
   ],
   "source": [
    "'''multiple \n",
    "line\n",
    "comment'''\n",
    "c2=25\n",
    "c2"
   ]
  },
  {
   "cell_type": "markdown",
   "id": "723a0035-6e01-475a-9481-cae3264b7c2e",
   "metadata": {},
   "source": [
    "Statements\n",
    "--Instructions that a python interpreter can execute"
   ]
  },
  {
   "cell_type": "code",
   "execution_count": 14,
   "id": "5017e246-d6b3-4304-b2f1-08ea78264b45",
   "metadata": {},
   "outputs": [
    {
     "data": {
      "text/plain": [
       "20"
      ]
     },
     "execution_count": 14,
     "metadata": {},
     "output_type": "execute_result"
    }
   ],
   "source": [
    "#single line statement\n",
    "sl=10+10\n",
    "sl"
   ]
  },
  {
   "cell_type": "code",
   "execution_count": 15,
   "id": "af7b36ca-25a1-4bbc-97d1-6580c7701dd2",
   "metadata": {},
   "outputs": [
    {
     "data": {
      "text/plain": [
       "['apple', 'banana', 'grapes', 'mango']"
      ]
     },
     "execution_count": 15,
     "metadata": {},
     "output_type": "execute_result"
    }
   ],
   "source": [
    "sl1=['apple','banana','grapes','mango']\n",
    "sl1"
   ]
  },
  {
   "cell_type": "code",
   "execution_count": 16,
   "id": "5ffa3557-6669-4298-b23a-13afb931cc22",
   "metadata": {},
   "outputs": [
    {
     "data": {
      "text/plain": [
       "290"
      ]
     },
     "execution_count": 16,
     "metadata": {},
     "output_type": "execute_result"
    }
   ],
   "source": [
    "#Multiple line statement\n",
    "ml1=20+30\\\n",
    "    +40+50+\\\n",
    "    +70+80\n",
    "ml1"
   ]
  },
  {
   "cell_type": "code",
   "execution_count": 20,
   "id": "d8e81361-6bae-4e68-9b80-1c2dfc107b10",
   "metadata": {},
   "outputs": [
    {
     "data": {
      "text/plain": [
       "225"
      ]
     },
     "execution_count": 20,
     "metadata": {},
     "output_type": "execute_result"
    }
   ],
   "source": [
    "ml2=15+30\\\n",
    "+20+40+\\\n",
    "+70+50\n",
    "ml2"
   ]
  },
  {
   "cell_type": "code",
   "execution_count": 23,
   "id": "f584f8a5-9809-408d-8a62-8efb0dcbdd9e",
   "metadata": {},
   "outputs": [
    {
     "data": {
      "text/plain": [
       "['apple', 'banana', 'grapes', 'mango']"
      ]
     },
     "execution_count": 23,
     "metadata": {},
     "output_type": "execute_result"
    }
   ],
   "source": [
    "ml3=['apple',\n",
    "     'banana',\n",
    "     'grapes',\n",
    "     'mango'\n",
    "    ]\n",
    "ml3"
   ]
  },
  {
   "cell_type": "markdown",
   "id": "e06a3213-8e26-433a-ac2f-2edc3361734e",
   "metadata": {},
   "source": [
    "Indentation"
   ]
  },
  {
   "cell_type": "raw",
   "id": "35e265c2-9b29-44ff-bcf7-637a5ce60144",
   "metadata": {},
   "source": [
    "Indentation refers to the spaces at the beginning of a code line. It is very important as python uses indentation to indicate a block of code. If the indentation is not correct we will endup with Indentation Error error"
   ]
  },
  {
   "cell_type": "code",
   "execution_count": 24,
   "id": "71a67a7d-dd2c-4599-b800-680f75e92c95",
   "metadata": {},
   "outputs": [
    {
     "name": "stdout",
     "output_type": "stream",
     "text": [
      "p is equal to 10\n"
     ]
    }
   ],
   "source": [
    "p=10\n",
    "if p==10:\n",
    "    print(\"p is equal to 10\") #correct indenation"
   ]
  },
  {
   "cell_type": "code",
   "execution_count": 27,
   "id": "fb31f777-deac-4750-bbe3-31fdb649a697",
   "metadata": {},
   "outputs": [
    {
     "ename": "IndentationError",
     "evalue": "expected an indented block after 'if' statement on line 3 (1373627197.py, line 4)",
     "output_type": "error",
     "traceback": [
      "\u001b[1;36m  Cell \u001b[1;32mIn[27], line 4\u001b[1;36m\u001b[0m\n\u001b[1;33m    print(\"p is equal to 10\")\u001b[0m\n\u001b[1;37m    ^\u001b[0m\n\u001b[1;31mIndentationError\u001b[0m\u001b[1;31m:\u001b[0m expected an indented block after 'if' statement on line 3\n"
     ]
    }
   ],
   "source": [
    "#if indentation is skipped we will encounter \"IndentationError: expected an indented block\"\n",
    "p=10\n",
    "if p==10:\n",
    "print(\"p is equal to 10\")"
   ]
  },
  {
   "cell_type": "code",
   "execution_count": 29,
   "id": "cec9264d-d64a-45bf-a490-f26d790b3276",
   "metadata": {},
   "outputs": [
    {
     "name": "stdout",
     "output_type": "stream",
     "text": [
      "0\n",
      "1\n",
      "2\n",
      "3\n",
      "4\n"
     ]
    }
   ],
   "source": [
    "for i in range(0,5):\n",
    "    print(i)"
   ]
  },
  {
   "cell_type": "code",
   "execution_count": 30,
   "id": "15bb23be-03a0-4426-9cca-1d0d29fc9d00",
   "metadata": {},
   "outputs": [
    {
     "ename": "IndentationError",
     "evalue": "expected an indented block after 'for' statement on line 1 (2129355989.py, line 2)",
     "output_type": "error",
     "traceback": [
      "\u001b[1;36m  Cell \u001b[1;32mIn[30], line 2\u001b[1;36m\u001b[0m\n\u001b[1;33m    print(i)\u001b[0m\n\u001b[1;37m    ^\u001b[0m\n\u001b[1;31mIndentationError\u001b[0m\u001b[1;31m:\u001b[0m expected an indented block after 'for' statement on line 1\n"
     ]
    }
   ],
   "source": [
    "for i in range(0,5):\n",
    "print(i)"
   ]
  },
  {
   "cell_type": "code",
   "execution_count": 31,
   "id": "c7c83d3e-a4db-4916-a69d-79e3bf26b438",
   "metadata": {},
   "outputs": [
    {
     "name": "stdout",
     "output_type": "stream",
     "text": [
      "0\n",
      "1\n",
      "2\n",
      "3\n",
      "4\n"
     ]
    }
   ],
   "source": [
    "for i in range(0,5): print(i)  #correct indentation but less readable"
   ]
  },
  {
   "cell_type": "code",
   "execution_count": 32,
   "id": "b485f4de-328a-4e62-8559-2387706409a4",
   "metadata": {},
   "outputs": [
    {
     "name": "stdout",
     "output_type": "stream",
     "text": [
      "0\n",
      "1\n",
      "2\n",
      "3\n",
      "4\n",
      "20\n"
     ]
    }
   ],
   "source": [
    "j=20\n",
    "for i in range(0,5):\n",
    "    print(i) #inside the for loop\n",
    "print(j) #outside the for loop"
   ]
  },
  {
   "cell_type": "raw",
   "id": "4d423fa7-fcfb-4908-8b8f-56c1db96506a",
   "metadata": {},
   "source": [
    "Variables\n",
    "-A python variables is a reserved memeory location to store values. A variable is created the moment you first assign value to it."
   ]
  },
  {
   "cell_type": "code",
   "execution_count": 34,
   "id": "c707b3ee-6eba-47ed-987b-0bbf6791c912",
   "metadata": {},
   "outputs": [
    {
     "data": {
      "text/plain": [
       "20"
      ]
     },
     "execution_count": 34,
     "metadata": {},
     "output_type": "execute_result"
    }
   ],
   "source": [
    "v=20\n",
    "v"
   ]
  },
  {
   "cell_type": "code",
   "execution_count": 35,
   "id": "fac56791-2b04-4e3d-9271-9024f389f5e0",
   "metadata": {},
   "outputs": [
    {
     "data": {
      "text/plain": [
       "140727150722072"
      ]
     },
     "execution_count": 35,
     "metadata": {},
     "output_type": "execute_result"
    }
   ],
   "source": [
    "'''id() function returns the \"identity\" of the object'''\n",
    "id(v)"
   ]
  },
  {
   "cell_type": "code",
   "execution_count": 36,
   "id": "6a694559-dcaa-4101-933d-bb84dc2d3e80",
   "metadata": {},
   "outputs": [
    {
     "data": {
      "text/plain": [
       "'0x7ffd97d43c18'"
      ]
     },
     "execution_count": 36,
     "metadata": {},
     "output_type": "execute_result"
    }
   ],
   "source": [
    "hex(id(v)) #memeory address of the variable"
   ]
  },
  {
   "cell_type": "code",
   "execution_count": 44,
   "id": "0b94626f-a2b4-4e32-b9b9-eeabdca56402",
   "metadata": {},
   "outputs": [
    {
     "data": {
      "text/plain": [
       "(20, int, '0x7ffd97d43c18')"
      ]
     },
     "execution_count": 44,
     "metadata": {},
     "output_type": "execute_result"
    }
   ],
   "source": [
    "v=20\n",
    "w=30\n",
    "x=w\n",
    "v,type(v),hex(id(v))"
   ]
  },
  {
   "cell_type": "code",
   "execution_count": 45,
   "id": "6eaa1043-3bea-49ed-a32f-c6f31e1fa108",
   "metadata": {},
   "outputs": [
    {
     "data": {
      "text/plain": [
       "(30, int, '0x7ffd97d43d58')"
      ]
     },
     "execution_count": 45,
     "metadata": {},
     "output_type": "execute_result"
    }
   ],
   "source": [
    "w,type(w),hex(id(w))"
   ]
  },
  {
   "cell_type": "code",
   "execution_count": 46,
   "id": "7a0c57d4-7175-4437-8d6c-5ccb923725ca",
   "metadata": {},
   "outputs": [
    {
     "data": {
      "text/plain": [
       "(30, int, '0x7ffd97d43d58')"
      ]
     },
     "execution_count": 46,
     "metadata": {},
     "output_type": "execute_result"
    }
   ],
   "source": [
    "x,type(x),hex(id(x))"
   ]
  },
  {
   "cell_type": "code",
   "execution_count": 49,
   "id": "c8c6327b-7519-4c1b-aef7-3888b8e1c5f1",
   "metadata": {},
   "outputs": [
    {
     "data": {
      "text/plain": [
       "50"
      ]
     },
     "execution_count": 49,
     "metadata": {},
     "output_type": "execute_result"
    }
   ],
   "source": [
    "v=20\n",
    "v=v+30\n",
    "v"
   ]
  },
  {
   "cell_type": "markdown",
   "id": "676ef49d-9be1-4ae2-bc26-ed53b8fd64f2",
   "metadata": {},
   "source": [
    "Variable assignment"
   ]
  },
  {
   "cell_type": "code",
   "execution_count": 51,
   "id": "89e5ce18-077a-4c95-99be-45735327f0cc",
   "metadata": {},
   "outputs": [
    {
     "name": "stdout",
     "output_type": "stream",
     "text": [
      "10\n",
      "10.45\n",
      "Python Language\n"
     ]
    }
   ],
   "source": [
    "intvar=10  #integer variable\n",
    "floatvar=10.45  #float variable\n",
    "strvar=\"Python Language\"  #string variable\n",
    "\n",
    "print(intvar)\n",
    "print(floatvar)\n",
    "print(strvar)"
   ]
  },
  {
   "cell_type": "markdown",
   "id": "6203be21-6ae1-4ba8-8fdb-3bcde6eef74b",
   "metadata": {},
   "source": [
    "Multiple Assignements"
   ]
  },
  {
   "cell_type": "code",
   "execution_count": 54,
   "id": "54659e7f-7aeb-43e0-8498-95e69f811b76",
   "metadata": {},
   "outputs": [
    {
     "name": "stdout",
     "output_type": "stream",
     "text": [
      "10\n",
      "10.45\n",
      "Python Language\n"
     ]
    }
   ],
   "source": [
    "intvar, floatvar, strvar =10,10.45,\"Python Language\"\n",
    "print(intvar)\n",
    "print(floatvar)\n",
    "print(strvar)"
   ]
  },
  {
   "cell_type": "code",
   "execution_count": 55,
   "id": "c9bb93ea-0f2a-4133-bfc4-979665f0e415",
   "metadata": {},
   "outputs": [
    {
     "name": "stdout",
     "output_type": "stream",
     "text": [
      "10 10.45 Python Language\n"
     ]
    }
   ],
   "source": [
    "intvar, floatvar, strvar =10,10.45,\"Python Language\"\n",
    "print(intvar,floatvar,strvar)"
   ]
  },
  {
   "cell_type": "code",
   "execution_count": 56,
   "id": "705eaad0-2897-4d32-86b5-832ec1d0e55d",
   "metadata": {},
   "outputs": [
    {
     "name": "stdout",
     "output_type": "stream",
     "text": [
      "50 50 50 50\n"
     ]
    }
   ],
   "source": [
    "v1=v2=v3=v4=50\n",
    "print(v1,v2,v3,v4)"
   ]
  },
  {
   "cell_type": "markdown",
   "id": "57b62a53-566b-446a-81e5-c648d26ce26e",
   "metadata": {},
   "source": [
    "Data types"
   ]
  },
  {
   "cell_type": "markdown",
   "id": "e0cb70b7-de97-47d5-be8a-fb76453ddaf4",
   "metadata": {},
   "source": [
    "Numeric"
   ]
  },
  {
   "cell_type": "code",
   "execution_count": 60,
   "id": "797f2b28-d1af-43a3-b525-faf3cfded438",
   "metadata": {},
   "outputs": [
    {
     "name": "stdout",
     "output_type": "stream",
     "text": [
      "10\n",
      "<class 'int'>\n",
      "140727150721752\n",
      "28\n",
      "10 is integer? True\n"
     ]
    }
   ],
   "source": [
    "n=10\n",
    "print(n)\n",
    "print(type(n))\n",
    "print(id(n))\n",
    "print(sys.getsizeof(n))\n",
    "print(n,\"is integer?\",isinstance(n,int))"
   ]
  },
  {
   "cell_type": "code",
   "execution_count": 61,
   "id": "1b632d0f-63bf-49fd-91d0-24f0360445ea",
   "metadata": {},
   "outputs": [
    {
     "name": "stdout",
     "output_type": "stream",
     "text": [
      "10.45\n",
      "<class 'float'>\n",
      "2615656458128\n",
      "28\n",
      "10.45 is integer? False\n"
     ]
    }
   ],
   "source": [
    "n1=10.45\n",
    "print(n1)\n",
    "print(type(n1))\n",
    "print(id(n1))\n",
    "print(sys.getsizeof(n))\n",
    "print(n1,\"is integer?\",isinstance(n1,int))"
   ]
  },
  {
   "cell_type": "code",
   "execution_count": 62,
   "id": "554ab3ea-b0d4-4f19-a79f-069c24443b83",
   "metadata": {},
   "outputs": [
    {
     "name": "stdout",
     "output_type": "stream",
     "text": [
      "10.45\n",
      "<class 'float'>\n",
      "2615665621296\n",
      "24\n",
      "10.45 is float? True\n"
     ]
    }
   ],
   "source": [
    "n2=10.45\n",
    "print(n2)\n",
    "print(type(n2))\n",
    "print(id(n2))\n",
    "print(sys.getsizeof(n2))\n",
    "print(n2,\"is float?\",isinstance(n2,float))\n"
   ]
  },
  {
   "cell_type": "code",
   "execution_count": 64,
   "id": "81c51878-2246-4dfd-8b3c-04f4cba067af",
   "metadata": {},
   "outputs": [
    {
     "name": "stdout",
     "output_type": "stream",
     "text": [
      "(4+5j)\n",
      "<class 'complex'>\n",
      "2615666245680\n",
      "32\n",
      "(4+5j) is Complex? True\n"
     ]
    }
   ],
   "source": [
    "c1=4+5j  #complex data type\n",
    "print(c1)\n",
    "print(type(c1))\n",
    "print(id(c1))\n",
    "print(sys.getsizeof(c1))\n",
    "print(c1,\"is Complex?\",isinstance(c1,complex))"
   ]
  },
  {
   "cell_type": "code",
   "execution_count": 65,
   "id": "7faafb76-bdc9-4fa6-9677-50102eca0e9f",
   "metadata": {},
   "outputs": [
    {
     "name": "stdout",
     "output_type": "stream",
     "text": [
      "9\n",
      "<class 'int'>\n",
      "140727150721720\n",
      "28\n",
      "9 is Complex? False\n"
     ]
    }
   ],
   "source": [
    "c1=4+5  #complex data type\n",
    "print(c1)\n",
    "print(type(c1))\n",
    "print(id(c1))\n",
    "print(sys.getsizeof(c1))\n",
    "print(c1,\"is Complex?\",isinstance(c1,complex))"
   ]
  },
  {
   "cell_type": "code",
   "execution_count": 66,
   "id": "0a97fb65-d9c9-46db-956b-6ecf3fb851a5",
   "metadata": {},
   "outputs": [
    {
     "data": {
      "text/plain": [
       "28"
      ]
     },
     "execution_count": 66,
     "metadata": {},
     "output_type": "execute_result"
    }
   ],
   "source": [
    "sys.getsizeof(int()) #size of integer object in bytes"
   ]
  },
  {
   "cell_type": "code",
   "execution_count": 67,
   "id": "00365c60-9a7c-46e7-bb90-5d9a0d53dbd8",
   "metadata": {},
   "outputs": [
    {
     "data": {
      "text/plain": [
       "24"
      ]
     },
     "execution_count": 67,
     "metadata": {},
     "output_type": "execute_result"
    }
   ],
   "source": [
    "sys.getsizeof(float()) #size of flaot object in bytes"
   ]
  },
  {
   "cell_type": "code",
   "execution_count": 68,
   "id": "252272eb-a1c8-46ac-ab38-ddc6ef6f5c8e",
   "metadata": {},
   "outputs": [
    {
     "data": {
      "text/plain": [
       "32"
      ]
     },
     "execution_count": 68,
     "metadata": {},
     "output_type": "execute_result"
    }
   ],
   "source": [
    "sys.getsizeof(complex())  #size of complex object in bytes"
   ]
  },
  {
   "cell_type": "raw",
   "id": "dc90a3a1-a2c3-4a98-abf0-fc9e5fce179d",
   "metadata": {},
   "source": [
    "Boolean\n",
    "-- Boolean data type can have only two possible values true or false."
   ]
  },
  {
   "cell_type": "code",
   "execution_count": 70,
   "id": "88caf57a-95b0-4724-b867-c209c479200c",
   "metadata": {},
   "outputs": [
    {
     "data": {
      "text/plain": [
       "True"
      ]
     },
     "execution_count": 70,
     "metadata": {},
     "output_type": "execute_result"
    }
   ],
   "source": [
    "bool1=True\n",
    "bool1"
   ]
  },
  {
   "cell_type": "code",
   "execution_count": 71,
   "id": "c0d0f9a5-358d-4faa-b45e-dafcd4f9a5d0",
   "metadata": {},
   "outputs": [
    {
     "data": {
      "text/plain": [
       "False"
      ]
     },
     "execution_count": 71,
     "metadata": {},
     "output_type": "execute_result"
    }
   ],
   "source": [
    "bool2=False\n",
    "bool2"
   ]
  },
  {
   "cell_type": "code",
   "execution_count": 72,
   "id": "0dcf23a0-271a-4bae-85bd-0bd8da2f79fb",
   "metadata": {},
   "outputs": [
    {
     "name": "stdout",
     "output_type": "stream",
     "text": [
      "<class 'bool'>\n"
     ]
    }
   ],
   "source": [
    "print(type(bool1))\n"
   ]
  },
  {
   "cell_type": "code",
   "execution_count": 73,
   "id": "6342ebfa-b905-4b5a-9cd1-1926e20854f1",
   "metadata": {},
   "outputs": [
    {
     "name": "stdout",
     "output_type": "stream",
     "text": [
      "<class 'bool'>\n"
     ]
    }
   ],
   "source": [
    "print(type(bool2))"
   ]
  },
  {
   "cell_type": "code",
   "execution_count": 74,
   "id": "c4062056-a699-4133-ba94-7f8b535c0944",
   "metadata": {},
   "outputs": [
    {
     "data": {
      "text/plain": [
       "True"
      ]
     },
     "execution_count": 74,
     "metadata": {},
     "output_type": "execute_result"
    }
   ],
   "source": [
    "isinstance(bool1,bool)"
   ]
  },
  {
   "cell_type": "code",
   "execution_count": 75,
   "id": "216b9286-fa0a-42aa-81c2-ed7df71e606a",
   "metadata": {},
   "outputs": [
    {
     "data": {
      "text/plain": [
       "True"
      ]
     },
     "execution_count": 75,
     "metadata": {},
     "output_type": "execute_result"
    }
   ],
   "source": [
    "isinstance(bool2,bool)"
   ]
  },
  {
   "cell_type": "code",
   "execution_count": 76,
   "id": "7ff58cb0-60bc-4f7a-9db4-8fb8cbd803b8",
   "metadata": {},
   "outputs": [
    {
     "data": {
      "text/plain": [
       "False"
      ]
     },
     "execution_count": 76,
     "metadata": {},
     "output_type": "execute_result"
    }
   ],
   "source": [
    "bool(0)"
   ]
  },
  {
   "cell_type": "code",
   "execution_count": 77,
   "id": "d56a5468-6820-4b62-91ff-e6d58852368e",
   "metadata": {},
   "outputs": [
    {
     "data": {
      "text/plain": [
       "True"
      ]
     },
     "execution_count": 77,
     "metadata": {},
     "output_type": "execute_result"
    }
   ],
   "source": [
    "bool(1)"
   ]
  },
  {
   "cell_type": "code",
   "execution_count": 78,
   "id": "f4c19357-03a6-491b-8bda-c739a24a2967",
   "metadata": {},
   "outputs": [
    {
     "data": {
      "text/plain": [
       "True"
      ]
     },
     "execution_count": 78,
     "metadata": {},
     "output_type": "execute_result"
    }
   ],
   "source": [
    "bool(2)"
   ]
  },
  {
   "cell_type": "code",
   "execution_count": 79,
   "id": "835b7574-e66d-44a6-97e8-3bf60d53e679",
   "metadata": {},
   "outputs": [
    {
     "data": {
      "text/plain": [
       "False"
      ]
     },
     "execution_count": 79,
     "metadata": {},
     "output_type": "execute_result"
    }
   ],
   "source": [
    "bool(None)"
   ]
  },
  {
   "cell_type": "code",
   "execution_count": 80,
   "id": "e285748e-7b63-4706-b736-49ae8fe78280",
   "metadata": {},
   "outputs": [
    {
     "data": {
      "text/plain": [
       "True"
      ]
     },
     "execution_count": 80,
     "metadata": {},
     "output_type": "execute_result"
    }
   ],
   "source": [
    "bool(120)"
   ]
  },
  {
   "cell_type": "code",
   "execution_count": 81,
   "id": "55f36a19-3c5c-4f29-ac1f-33ac688f4812",
   "metadata": {},
   "outputs": [
    {
     "data": {
      "text/plain": [
       "True"
      ]
     },
     "execution_count": 81,
     "metadata": {},
     "output_type": "execute_result"
    }
   ],
   "source": [
    "bool(240)"
   ]
  },
  {
   "cell_type": "raw",
   "id": "f72a8c85-99df-4eed-9930-9b8e1418f03f",
   "metadata": {},
   "source": [
    "String"
   ]
  },
  {
   "cell_type": "code",
   "execution_count": 84,
   "id": "ee3177d6-6d39-411b-a799-d70f1cf20967",
   "metadata": {},
   "outputs": [
    {
     "data": {
      "text/plain": [
       "'Hello world'"
      ]
     },
     "execution_count": 84,
     "metadata": {},
     "output_type": "execute_result"
    }
   ],
   "source": [
    "#String creation\n",
    "str1=\"Hello world\"\n",
    "str1"
   ]
  },
  {
   "cell_type": "code",
   "execution_count": 86,
   "id": "258c059d-ac6b-48a0-ad51-cfdc758a6bd3",
   "metadata": {},
   "outputs": [
    {
     "data": {
      "text/plain": [
       "'Welcome to python tutorial'"
      ]
     },
     "execution_count": 86,
     "metadata": {},
     "output_type": "execute_result"
    }
   ],
   "source": [
    "str2=\"Welcome to python tutorial\"\n",
    "str2"
   ]
  },
  {
   "cell_type": "code",
   "execution_count": 89,
   "id": "1f4daf03-b1cb-4ffe-b7b8-6cc0ddeb6db1",
   "metadata": {},
   "outputs": [
    {
     "name": "stdout",
     "output_type": "stream",
     "text": [
      "Hello\n",
      "        World\n"
     ]
    }
   ],
   "source": [
    "str3='''Hello\n",
    "        World'''\n",
    "print(str3)"
   ]
  },
  {
   "cell_type": "code",
   "execution_count": 91,
   "id": "b0d90823-b263-4e40-b6b0-b1b0ef9f0ba7",
   "metadata": {},
   "outputs": [
    {
     "name": "stdout",
     "output_type": "stream",
     "text": [
      "Good Evening Everyone\n"
     ]
    }
   ],
   "source": [
    "str4=(\"Good \"\n",
    "      \"Evening \"\n",
    "      \"Everyone\")\n",
    "print(str4)\n"
   ]
  },
  {
   "cell_type": "code",
   "execution_count": 93,
   "id": "9f8b6ca1-7759-434c-bce7-cca66212672a",
   "metadata": {},
   "outputs": [
    {
     "name": "stdout",
     "output_type": "stream",
     "text": [
      "Hello Hello Hello \n"
     ]
    }
   ],
   "source": [
    "str5=\"Hello \"*3\n",
    "print(str5)"
   ]
  },
  {
   "cell_type": "code",
   "execution_count": 94,
   "id": "f99bcddd-e588-43f6-b1b6-c22c318c1eb8",
   "metadata": {},
   "outputs": [
    {
     "data": {
      "text/plain": [
       "18"
      ]
     },
     "execution_count": 94,
     "metadata": {},
     "output_type": "execute_result"
    }
   ],
   "source": [
    "len(str5)"
   ]
  },
  {
   "cell_type": "code",
   "execution_count": 95,
   "id": "554ecbce-b8f9-4f7d-9812-9a63089a14a1",
   "metadata": {},
   "outputs": [
    {
     "data": {
      "text/plain": [
       "11"
      ]
     },
     "execution_count": 95,
     "metadata": {},
     "output_type": "execute_result"
    }
   ],
   "source": [
    "len(str1)"
   ]
  },
  {
   "cell_type": "markdown",
   "id": "6783bf4d-aed0-4b47-a8e8-fcf7d3cc2ebb",
   "metadata": {},
   "source": [
    "String Indexing"
   ]
  },
  {
   "cell_type": "code",
   "execution_count": 96,
   "id": "03decd0f-5837-44c6-a503-01312e4f86e7",
   "metadata": {},
   "outputs": [
    {
     "data": {
      "text/plain": [
       "'Good Evening Everyone'"
      ]
     },
     "execution_count": 96,
     "metadata": {},
     "output_type": "execute_result"
    }
   ],
   "source": [
    "str4"
   ]
  },
  {
   "cell_type": "code",
   "execution_count": 97,
   "id": "fa33feec-dba1-4e53-9d5d-9aa25605ff37",
   "metadata": {},
   "outputs": [
    {
     "data": {
      "text/plain": [
       "'o'"
      ]
     },
     "execution_count": 97,
     "metadata": {},
     "output_type": "execute_result"
    }
   ],
   "source": [
    "str4[2]"
   ]
  },
  {
   "cell_type": "code",
   "execution_count": 98,
   "id": "80322f7b-f0e9-41db-95e0-f33f1b7ec28c",
   "metadata": {},
   "outputs": [
    {
     "data": {
      "text/plain": [
       "'e'"
      ]
     },
     "execution_count": 98,
     "metadata": {},
     "output_type": "execute_result"
    }
   ],
   "source": [
    "str4[7]\n"
   ]
  },
  {
   "cell_type": "code",
   "execution_count": 99,
   "id": "0e087480-4bf6-47b1-ac3e-7c8f8b389ac2",
   "metadata": {},
   "outputs": [
    {
     "data": {
      "text/plain": [
       "'e'"
      ]
     },
     "execution_count": 99,
     "metadata": {},
     "output_type": "execute_result"
    }
   ],
   "source": [
    "str4[len(str4)-1]"
   ]
  },
  {
   "cell_type": "code",
   "execution_count": 100,
   "id": "a463e674-b5b4-4266-b7b9-ad5109d91750",
   "metadata": {},
   "outputs": [
    {
     "data": {
      "text/plain": [
       "'e'"
      ]
     },
     "execution_count": 100,
     "metadata": {},
     "output_type": "execute_result"
    }
   ],
   "source": [
    "str4[-1]"
   ]
  },
  {
   "cell_type": "code",
   "execution_count": 101,
   "id": "4d12cfe9-eff0-4fa2-870a-f101f853586f",
   "metadata": {},
   "outputs": [
    {
     "data": {
      "text/plain": [
       "' '"
      ]
     },
     "execution_count": 101,
     "metadata": {},
     "output_type": "execute_result"
    }
   ],
   "source": [
    "str4[4]"
   ]
  },
  {
   "cell_type": "markdown",
   "id": "b9fbfd1b-e77d-4c31-9e65-c98c55844939",
   "metadata": {},
   "source": [
    "String Slicing"
   ]
  },
  {
   "cell_type": "code",
   "execution_count": 102,
   "id": "60b8e37b-4a38-4a5a-b49f-c1d93ad28914",
   "metadata": {},
   "outputs": [
    {
     "data": {
      "text/plain": [
       "'Hello world'"
      ]
     },
     "execution_count": 102,
     "metadata": {},
     "output_type": "execute_result"
    }
   ],
   "source": [
    "str1"
   ]
  },
  {
   "cell_type": "code",
   "execution_count": 104,
   "id": "ba26568b-9dea-4300-980a-24655f752021",
   "metadata": {},
   "outputs": [
    {
     "data": {
      "text/plain": [
       "'Welcome to python tutorial'"
      ]
     },
     "execution_count": 104,
     "metadata": {},
     "output_type": "execute_result"
    }
   ],
   "source": [
    "str2"
   ]
  },
  {
   "cell_type": "code",
   "execution_count": 106,
   "id": "abc3ff78-f0bb-4965-bee8-be1fad103aac",
   "metadata": {},
   "outputs": [
    {
     "data": {
      "text/plain": [
       "'Welco'"
      ]
     },
     "execution_count": 106,
     "metadata": {},
     "output_type": "execute_result"
    }
   ],
   "source": [
    "str2[0:5]\n"
   ]
  },
  {
   "cell_type": "code",
   "execution_count": 107,
   "id": "f3dd3544-c0c8-41d4-93b1-caa8afc3f415",
   "metadata": {},
   "outputs": [
    {
     "data": {
      "text/plain": [
       "'Wel'"
      ]
     },
     "execution_count": 107,
     "metadata": {},
     "output_type": "execute_result"
    }
   ],
   "source": [
    "str2[:3]"
   ]
  },
  {
   "cell_type": "code",
   "execution_count": 108,
   "id": "872204d1-a608-4235-9669-98752e3ce1b7",
   "metadata": {},
   "outputs": [
    {
     "data": {
      "text/plain": [
       "'Welcome'"
      ]
     },
     "execution_count": 108,
     "metadata": {},
     "output_type": "execute_result"
    }
   ],
   "source": [
    "str2[0:7]"
   ]
  },
  {
   "cell_type": "code",
   "execution_count": 109,
   "id": "fd6bec22-2a12-4f72-9986-a08786ee24d3",
   "metadata": {},
   "outputs": [
    {
     "data": {
      "text/plain": [
       "'to python tutorial'"
      ]
     },
     "execution_count": 109,
     "metadata": {},
     "output_type": "execute_result"
    }
   ],
   "source": [
    "str2[8:]"
   ]
  },
  {
   "cell_type": "code",
   "execution_count": 111,
   "id": "01025d4c-9200-46ee-9c2a-b8dd366d2a80",
   "metadata": {},
   "outputs": [
    {
     "data": {
      "text/plain": [
       "'rial'"
      ]
     },
     "execution_count": 111,
     "metadata": {},
     "output_type": "execute_result"
    }
   ],
   "source": [
    "str2[-4:] # last 4 characters of the string"
   ]
  },
  {
   "cell_type": "code",
   "execution_count": 113,
   "id": "f04bc942-30b7-4069-af2e-9cc4939df594",
   "metadata": {},
   "outputs": [
    {
     "data": {
      "text/plain": [
       "'tutorial'"
      ]
     },
     "execution_count": 113,
     "metadata": {},
     "output_type": "execute_result"
    }
   ],
   "source": [
    "str2[-8:]"
   ]
  },
  {
   "cell_type": "code",
   "execution_count": 114,
   "id": "5de2754e-2887-4a84-9e1b-96cb3809ebbd",
   "metadata": {},
   "outputs": [
    {
     "data": {
      "text/plain": [
       "'Welcome'"
      ]
     },
     "execution_count": 114,
     "metadata": {},
     "output_type": "execute_result"
    }
   ],
   "source": [
    "str2[:7]"
   ]
  },
  {
   "cell_type": "markdown",
   "id": "ecf028be-5740-4c93-8bcf-de74b2f021d0",
   "metadata": {},
   "source": [
    "Update and Delete string"
   ]
  },
  {
   "cell_type": "code",
   "execution_count": 115,
   "id": "9cdf3d78-720a-4696-99fe-9f6adb991b4d",
   "metadata": {},
   "outputs": [
    {
     "data": {
      "text/plain": [
       "'Hello world'"
      ]
     },
     "execution_count": 115,
     "metadata": {},
     "output_type": "execute_result"
    }
   ],
   "source": [
    "str1"
   ]
  },
  {
   "cell_type": "code",
   "execution_count": 117,
   "id": "809823d7-161d-4a28-a460-c376534ac388",
   "metadata": {},
   "outputs": [
    {
     "ename": "TypeError",
     "evalue": "'str' object does not support item assignment",
     "output_type": "error",
     "traceback": [
      "\u001b[1;31m---------------------------------------------------------------------------\u001b[0m",
      "\u001b[1;31mTypeError\u001b[0m                                 Traceback (most recent call last)",
      "Cell \u001b[1;32mIn[117], line 2\u001b[0m\n\u001b[0;32m      1\u001b[0m \u001b[38;5;66;03m#Strings are immutable which means elements of a string cannot be changed once the string is created\u001b[39;00m\n\u001b[1;32m----> 2\u001b[0m \u001b[43mstr1\u001b[49m\u001b[43m[\u001b[49m\u001b[38;5;241;43m0\u001b[39;49m\u001b[43m:\u001b[49m\u001b[38;5;241;43m5\u001b[39;49m\u001b[43m]\u001b[49m\u001b[38;5;241m=\u001b[39m\u001b[38;5;124m'\u001b[39m\u001b[38;5;124mHai\u001b[39m\u001b[38;5;124m'\u001b[39m\n",
      "\u001b[1;31mTypeError\u001b[0m: 'str' object does not support item assignment"
     ]
    }
   ],
   "source": [
    "#Strings are immutable which means elements of a string cannot be changed once the string is created\n",
    "str1[0:5]='Hai'"
   ]
  },
  {
   "cell_type": "code",
   "execution_count": 118,
   "id": "467debc9-e035-4f2b-9754-e3f84001b5e9",
   "metadata": {},
   "outputs": [
    {
     "ename": "NameError",
     "evalue": "name 'str1' is not defined",
     "output_type": "error",
     "traceback": [
      "\u001b[1;31m---------------------------------------------------------------------------\u001b[0m",
      "\u001b[1;31mNameError\u001b[0m                                 Traceback (most recent call last)",
      "Cell \u001b[1;32mIn[118], line 2\u001b[0m\n\u001b[0;32m      1\u001b[0m \u001b[38;5;28;01mdel\u001b[39;00m str1\n\u001b[1;32m----> 2\u001b[0m \u001b[38;5;28mprint\u001b[39m(\u001b[43mstr1\u001b[49m)\n",
      "\u001b[1;31mNameError\u001b[0m: name 'str1' is not defined"
     ]
    }
   ],
   "source": [
    "del str1\n",
    "print(str1)"
   ]
  },
  {
   "cell_type": "markdown",
   "id": "23cd0ddd-289a-40b9-9a09-a76d03ef5737",
   "metadata": {},
   "source": [
    " In a string updation and deletion is not poosible once the string is created "
   ]
  },
  {
   "cell_type": "markdown",
   "id": "d5ecc95c-6824-4b3b-b87e-5674e20da074",
   "metadata": {},
   "source": [
    "String concatination"
   ]
  },
  {
   "cell_type": "code",
   "execution_count": 121,
   "id": "9685212e-fd61-43b2-b94a-c21c7fae73a4",
   "metadata": {},
   "outputs": [
    {
     "name": "stdout",
     "output_type": "stream",
     "text": [
      "Hello Venky\n"
     ]
    }
   ],
   "source": [
    "s1=\"Hello \"\n",
    "s2=\"Venky\"\n",
    "s3=s1+s2\n",
    "print(s3)"
   ]
  },
  {
   "cell_type": "code",
   "execution_count": 123,
   "id": "d657f98c-b753-4225-97e7-f8abe0840690",
   "metadata": {},
   "outputs": [
    {
     "name": "stdout",
     "output_type": "stream",
     "text": [
      "Hello Venkat, How are you?\n"
     ]
    }
   ],
   "source": [
    "s1=\"Hello\"\n",
    "s2=\"Venkat, How are you?\"\n",
    "s3=s1+' '+s2\n",
    "print(s3)"
   ]
  },
  {
   "cell_type": "markdown",
   "id": "3a15709c-7e9e-412f-bae0-a5fe5ba32315",
   "metadata": {},
   "source": [
    "Iterating through a string"
   ]
  },
  {
   "cell_type": "code",
   "execution_count": 125,
   "id": "f012b042-276a-4da4-be2e-04422483b850",
   "metadata": {},
   "outputs": [
    {
     "name": "stdout",
     "output_type": "stream",
     "text": [
      "W\n",
      "e\n",
      "l\n",
      "c\n",
      "o\n",
      "m\n",
      "e\n",
      " \n",
      "t\n",
      "o\n",
      " \n",
      "p\n",
      "y\n",
      "t\n",
      "h\n",
      "o\n",
      "n\n",
      " \n",
      "t\n",
      "u\n",
      "t\n",
      "o\n",
      "r\n",
      "i\n",
      "a\n",
      "l\n"
     ]
    }
   ],
   "source": [
    "for i in str2:\n",
    "    print(i)"
   ]
  },
  {
   "cell_type": "code",
   "execution_count": 126,
   "id": "1eaafa66-4512-4a63-9a6b-1eefb87d33ac",
   "metadata": {},
   "outputs": [
    {
     "name": "stdout",
     "output_type": "stream",
     "text": [
      "(0, 'W')\n",
      "(1, 'e')\n",
      "(2, 'l')\n",
      "(3, 'c')\n",
      "(4, 'o')\n",
      "(5, 'm')\n",
      "(6, 'e')\n",
      "(7, ' ')\n",
      "(8, 't')\n",
      "(9, 'o')\n",
      "(10, ' ')\n",
      "(11, 'p')\n",
      "(12, 'y')\n",
      "(13, 't')\n",
      "(14, 'h')\n",
      "(15, 'o')\n",
      "(16, 'n')\n",
      "(17, ' ')\n",
      "(18, 't')\n",
      "(19, 'u')\n",
      "(20, 't')\n",
      "(21, 'o')\n",
      "(22, 'r')\n",
      "(23, 'i')\n",
      "(24, 'a')\n",
      "(25, 'l')\n"
     ]
    }
   ],
   "source": [
    "for i in enumerate(str2):    #automatically provide an index for each letter\n",
    "    print(i)"
   ]
  },
  {
   "cell_type": "code",
   "execution_count": 128,
   "id": "b4d4ced7-be94-4b13-8ab5-e5a3703b0171",
   "metadata": {},
   "outputs": [
    {
     "data": {
      "text/plain": [
       "[(0, 'W'),\n",
       " (1, 'e'),\n",
       " (2, 'l'),\n",
       " (3, 'c'),\n",
       " (4, 'o'),\n",
       " (5, 'm'),\n",
       " (6, 'e'),\n",
       " (7, ' '),\n",
       " (8, 't'),\n",
       " (9, 'o'),\n",
       " (10, ' '),\n",
       " (11, 'p'),\n",
       " (12, 'y'),\n",
       " (13, 't'),\n",
       " (14, 'h'),\n",
       " (15, 'o'),\n",
       " (16, 'n'),\n",
       " (17, ' '),\n",
       " (18, 't'),\n",
       " (19, 'u'),\n",
       " (20, 't'),\n",
       " (21, 'o'),\n",
       " (22, 'r'),\n",
       " (23, 'i'),\n",
       " (24, 'a'),\n",
       " (25, 'l')]"
      ]
     },
     "execution_count": 128,
     "metadata": {},
     "output_type": "execute_result"
    }
   ],
   "source": [
    "list(enumerate(str2)) #Enumerate method adds to a counter to an iterable and return in a list format"
   ]
  },
  {
   "cell_type": "markdown",
   "id": "c3ed91e8-52f9-4dec-83f9-63b335b009c0",
   "metadata": {},
   "source": [
    "String memebrship"
   ]
  },
  {
   "cell_type": "code",
   "execution_count": 129,
   "id": "aea138c0-09d3-4f06-8ad8-54c92d51a6d9",
   "metadata": {},
   "outputs": [
    {
     "name": "stdout",
     "output_type": "stream",
     "text": [
      "True\n"
     ]
    }
   ],
   "source": [
    "sm=\"Hello Everyone\"\n",
    "print(\"Hello\"in sm)"
   ]
  },
  {
   "cell_type": "code",
   "execution_count": 130,
   "id": "8852a0d6-6575-42db-89ee-2b7cf7914c6d",
   "metadata": {},
   "outputs": [
    {
     "name": "stdout",
     "output_type": "stream",
     "text": [
      "False\n"
     ]
    }
   ],
   "source": [
    "print(\"hi\" in sm)"
   ]
  },
  {
   "cell_type": "code",
   "execution_count": 131,
   "id": "b898fbc4-4e8d-4915-87f2-ed2466c40c07",
   "metadata": {},
   "outputs": [
    {
     "name": "stdout",
     "output_type": "stream",
     "text": [
      "True\n"
     ]
    }
   ],
   "source": [
    "print(\"hi\" not in sm)\n"
   ]
  },
  {
   "cell_type": "code",
   "execution_count": 132,
   "id": "773697fb-9d63-4752-b8af-879da3a6d996",
   "metadata": {},
   "outputs": [
    {
     "name": "stdout",
     "output_type": "stream",
     "text": [
      "False\n"
     ]
    }
   ],
   "source": [
    "print(\"Everyone\" not in sm)"
   ]
  },
  {
   "cell_type": "code",
   "execution_count": 133,
   "id": "015f5538-d181-4476-b883-a2b63e4649ed",
   "metadata": {},
   "outputs": [
    {
     "name": "stdout",
     "output_type": "stream",
     "text": [
      "True\n"
     ]
    }
   ],
   "source": [
    "print(\"Everyone\" in sm)"
   ]
  },
  {
   "cell_type": "markdown",
   "id": "08247287-6495-424d-a3e3-fb356a131910",
   "metadata": {},
   "source": [
    "String partition"
   ]
  },
  {
   "cell_type": "raw",
   "id": "763b2915-9547-4997-b250-17531032e124",
   "metadata": {},
   "source": [
    "The partition() method searches for a specified string and splits the string into a tuple containg three elements\n",
    "-The first element contains the part before the specified string\n",
    "-The second element contains the specified string\n",
    "-The third element contains the part after the string"
   ]
  },
  {
   "cell_type": "code",
   "execution_count": 136,
   "id": "e2e5e68b-9b52-48da-87b3-4cd017bdeeba",
   "metadata": {},
   "outputs": [
    {
     "name": "stdout",
     "output_type": "stream",
     "text": [
      "('Full stack datascience with AI ', 'and', ' ML')\n"
     ]
    }
   ],
   "source": [
    "sp=\"Full stack datascience with AI and ML\"\n",
    "L=sp.partition(\"and\")\n",
    "print(L)"
   ]
  },
  {
   "cell_type": "raw",
   "id": "9fdca9c6-87cf-43fd-b17a-c280d2f23677",
   "metadata": {},
   "source": [
    "The partition() method searches for the last occurence of the specified string and splits the string into a tuple containg three elements\n",
    "-The first element contains the part before the argument string\n",
    "-The second element contains the argument string\n",
    "-The third element contains the part after the argument string"
   ]
  },
  {
   "cell_type": "code",
   "execution_count": 141,
   "id": "47a287e9-7db9-4fb3-8df6-a3870790eb09",
   "metadata": {},
   "outputs": [
    {
     "name": "stdout",
     "output_type": "stream",
     "text": [
      "('Full stack datascience with AI ', 'and', ' ML')\n"
     ]
    }
   ],
   "source": [
    "sp=\"Full stack datascience with AI and ML\"\n",
    "L=sp.rpartition(\"and\")\n",
    "print(L)"
   ]
  },
  {
   "cell_type": "markdown",
   "id": "c8e0c6f6-daf5-4edd-9689-2fecc176e602",
   "metadata": {},
   "source": [
    "String Functions"
   ]
  },
  {
   "cell_type": "code",
   "execution_count": 144,
   "id": "362833e9-c5d0-4814-8c82-b00b50298904",
   "metadata": {},
   "outputs": [
    {
     "data": {
      "text/plain": [
       "' Hello Everyone '"
      ]
     },
     "execution_count": 144,
     "metadata": {},
     "output_type": "execute_result"
    }
   ],
   "source": [
    "sf=\" Hello Everyone \"\n",
    "sf"
   ]
  },
  {
   "cell_type": "code",
   "execution_count": 145,
   "id": "88444b28-68f9-4563-9bdb-2d3046e60dda",
   "metadata": {},
   "outputs": [
    {
     "data": {
      "text/plain": [
       "'Hello Everyone'"
      ]
     },
     "execution_count": 145,
     "metadata": {},
     "output_type": "execute_result"
    }
   ],
   "source": [
    "sf.strip() #Removes the white space from beginning and end"
   ]
  },
  {
   "cell_type": "code",
   "execution_count": 146,
   "id": "876dfe02-1bf2-431d-9207-7e57025ab6a8",
   "metadata": {},
   "outputs": [
    {
     "data": {
      "text/plain": [
       "' Hello Everyone'"
      ]
     },
     "execution_count": 146,
     "metadata": {},
     "output_type": "execute_result"
    }
   ],
   "source": [
    "sf.rstrip() #remove all whitespaces at the end of the string"
   ]
  },
  {
   "cell_type": "code",
   "execution_count": 147,
   "id": "1bde6b3a-aca5-435b-a579-c0ab564799de",
   "metadata": {},
   "outputs": [
    {
     "data": {
      "text/plain": [
       "'Hello Everyone '"
      ]
     },
     "execution_count": 147,
     "metadata": {},
     "output_type": "execute_result"
    }
   ],
   "source": [
    "sf.lstrip() #remove all whitespaces at the begining of the string"
   ]
  },
  {
   "cell_type": "code",
   "execution_count": 149,
   "id": "070d3b9e-fe48-4015-8637-0b8c4118fb95",
   "metadata": {},
   "outputs": [
    {
     "data": {
      "text/plain": [
       "'*******ALL THE BEST********THANK YOU*******'"
      ]
     },
     "execution_count": 149,
     "metadata": {},
     "output_type": "execute_result"
    }
   ],
   "source": [
    "sf1=\"*******ALL THE BEST********THANK YOU*******\"\n",
    "sf1"
   ]
  },
  {
   "cell_type": "code",
   "execution_count": 154,
   "id": "bd30d031-eb1c-4f5f-9a98-d3d112228e05",
   "metadata": {},
   "outputs": [
    {
     "data": {
      "text/plain": [
       "'ALL THE BEST********THANK YOU'"
      ]
     },
     "execution_count": 154,
     "metadata": {},
     "output_type": "execute_result"
    }
   ],
   "source": [
    "sf1.strip('*')"
   ]
  },
  {
   "cell_type": "code",
   "execution_count": 155,
   "id": "b08a3b85-e5d1-4e1d-91a2-e842ec831924",
   "metadata": {},
   "outputs": [
    {
     "data": {
      "text/plain": [
       "'*******ALL THE BEST********THANK YOU'"
      ]
     },
     "execution_count": 155,
     "metadata": {},
     "output_type": "execute_result"
    }
   ],
   "source": [
    "sf1.rstrip('*')"
   ]
  },
  {
   "cell_type": "code",
   "execution_count": 156,
   "id": "ee935e59-3042-496d-a066-69d8aad516fa",
   "metadata": {},
   "outputs": [
    {
     "data": {
      "text/plain": [
       "'ALL THE BEST********THANK YOU*******'"
      ]
     },
     "execution_count": 156,
     "metadata": {},
     "output_type": "execute_result"
    }
   ],
   "source": [
    "sf1.lstrip('*')"
   ]
  },
  {
   "cell_type": "code",
   "execution_count": 168,
   "id": "20896c4d-96d5-4138-95a0-2442c0ba152f",
   "metadata": {},
   "outputs": [
    {
     "data": {
      "text/plain": [
       "'Hello  Everyone'"
      ]
     },
     "execution_count": 168,
     "metadata": {},
     "output_type": "execute_result"
    }
   ],
   "source": [
    "sf=\"Hello  Everyone\"\n",
    "sf"
   ]
  },
  {
   "cell_type": "code",
   "execution_count": 158,
   "id": "7152e104-044f-43f4-972d-1ed63f54bed7",
   "metadata": {},
   "outputs": [
    {
     "data": {
      "text/plain": [
       "'hello everyone'"
      ]
     },
     "execution_count": 158,
     "metadata": {},
     "output_type": "execute_result"
    }
   ],
   "source": [
    "sf.lower()"
   ]
  },
  {
   "cell_type": "code",
   "execution_count": 159,
   "id": "a61d9feb-a132-4687-a941-55ba756de730",
   "metadata": {},
   "outputs": [
    {
     "data": {
      "text/plain": [
       "'HELLO EVERYONE'"
      ]
     },
     "execution_count": 159,
     "metadata": {},
     "output_type": "execute_result"
    }
   ],
   "source": [
    "sf.upper()"
   ]
  },
  {
   "cell_type": "code",
   "execution_count": 174,
   "id": "8d5d7d68-1260-4f6d-b52a-2edad08baa66",
   "metadata": {},
   "outputs": [
    {
     "data": {
      "text/plain": [
       "'Good Morning  Everyone'"
      ]
     },
     "execution_count": 174,
     "metadata": {},
     "output_type": "execute_result"
    }
   ],
   "source": [
    "sf.replace(\"Hello\", \"Good Morning\")"
   ]
  },
  {
   "cell_type": "code",
   "execution_count": 175,
   "id": "b54c3b26-ae8a-46af-995e-e4b31c60c51b",
   "metadata": {},
   "outputs": [
    {
     "data": {
      "text/plain": [
       "'Hello  Everyone'"
      ]
     },
     "execution_count": 175,
     "metadata": {},
     "output_type": "execute_result"
    }
   ],
   "source": [
    "sf.replace(\" \",\" \") #remove all whitespaces using replace function"
   ]
  },
  {
   "cell_type": "code",
   "execution_count": 177,
   "id": "3baef258-0f79-4d86-992e-c9a86643eb72",
   "metadata": {},
   "outputs": [
    {
     "data": {
      "text/plain": [
       "2"
      ]
     },
     "execution_count": 177,
     "metadata": {},
     "output_type": "execute_result"
    }
   ],
   "source": [
    "sf.count(\"l\")"
   ]
  },
  {
   "cell_type": "code",
   "execution_count": 178,
   "id": "0b470a50-8315-4cd2-b684-0345ffda895e",
   "metadata": {},
   "outputs": [
    {
     "data": {
      "text/plain": [
       "2"
      ]
     },
     "execution_count": 178,
     "metadata": {},
     "output_type": "execute_result"
    }
   ],
   "source": [
    "sf.count(\"o\")"
   ]
  },
  {
   "cell_type": "code",
   "execution_count": 180,
   "id": "d32c4ec5-1bd3-4248-b16e-0b0e658d7b16",
   "metadata": {},
   "outputs": [
    {
     "data": {
      "text/plain": [
       "3"
      ]
     },
     "execution_count": 180,
     "metadata": {},
     "output_type": "execute_result"
    }
   ],
   "source": [
    "sf.count(\"e\")"
   ]
  },
  {
   "cell_type": "code",
   "execution_count": 181,
   "id": "14c7ce03-8b2b-4327-9c17-10e86c441cd5",
   "metadata": {},
   "outputs": [
    {
     "data": {
      "text/plain": [
       "True"
      ]
     },
     "execution_count": 181,
     "metadata": {},
     "output_type": "execute_result"
    }
   ],
   "source": [
    "sf.startswith(\"H\")"
   ]
  },
  {
   "cell_type": "code",
   "execution_count": 182,
   "id": "b348675d-061a-4a13-95d2-ae59dff3b97d",
   "metadata": {},
   "outputs": [
    {
     "data": {
      "text/plain": [
       "False"
      ]
     },
     "execution_count": 182,
     "metadata": {},
     "output_type": "execute_result"
    }
   ],
   "source": [
    "sf.startswith(\"E\")"
   ]
  },
  {
   "cell_type": "code",
   "execution_count": 183,
   "id": "577428e4-ec6e-4dd8-8086-427b733b0cdf",
   "metadata": {},
   "outputs": [
    {
     "data": {
      "text/plain": [
       "True"
      ]
     },
     "execution_count": 183,
     "metadata": {},
     "output_type": "execute_result"
    }
   ],
   "source": [
    "sf.endswith(\"e\")"
   ]
  },
  {
   "cell_type": "code",
   "execution_count": 184,
   "id": "a56a3fd3-11be-4395-a9c9-7459c9c4bfbf",
   "metadata": {},
   "outputs": [
    {
     "data": {
      "text/plain": [
       "False"
      ]
     },
     "execution_count": 184,
     "metadata": {},
     "output_type": "execute_result"
    }
   ],
   "source": [
    "sf.endswith(\"n\")"
   ]
  },
  {
   "cell_type": "code",
   "execution_count": 186,
   "id": "b7b5604e-2c33-4a70-a7e3-55c059f4eca3",
   "metadata": {},
   "outputs": [
    {
     "data": {
      "text/plain": [
       "['one',\n",
       " 'two',\n",
       " 'three',\n",
       " 'four',\n",
       " 'five',\n",
       " 'six',\n",
       " 'seven',\n",
       " 'eight',\n",
       " 'nine',\n",
       " 'one',\n",
       " 'two',\n",
       " 'three',\n",
       " 'four',\n",
       " 'five',\n",
       " 'six',\n",
       " 'seven',\n",
       " 'eight',\n",
       " 'nine',\n",
       " 'one',\n",
       " 'two',\n",
       " 'three',\n",
       " 'four',\n",
       " 'five',\n",
       " 'six',\n",
       " 'seven',\n",
       " 'eight',\n",
       " 'nine']"
      ]
     },
     "execution_count": 186,
     "metadata": {},
     "output_type": "execute_result"
    }
   ],
   "source": [
    "sf2=\"one two three four five six seven eight nine one two three four five six seven eight nine one two three four five six seven eight nine \"\n",
    "sf2.split()"
   ]
  },
  {
   "cell_type": "code",
   "execution_count": 190,
   "id": "a95140e3-7412-4325-a11e-4746757410b3",
   "metadata": {},
   "outputs": [
    {
     "name": "stdout",
     "output_type": "stream",
     "text": [
      "Cost of itm1, itm2 and itm3 are 40, 60 and 70\n"
     ]
    }
   ],
   "source": [
    "#combining string and numbers using fomrat method\n",
    "itm1=40\n",
    "itm2=60\n",
    "itm3=70\n",
    "res=\"Cost of itm1, itm2 and itm3 are {}, {} and {}\"\n",
    "print(res.format(itm1,itm2,itm3))"
   ]
  },
  {
   "cell_type": "code",
   "execution_count": 192,
   "id": "ae820b4f-78f4-4360-933e-5ee1725d5362",
   "metadata": {},
   "outputs": [
    {
     "name": "stdout",
     "output_type": "stream",
     "text": [
      "Cost of itm3, itm2 and itm1 are 89, 55 and 30\n"
     ]
    }
   ],
   "source": [
    "itm1=30\n",
    "itm2=55\n",
    "itm3=89\n",
    "res=\"Cost of itm3, itm2 and itm1 are {2}, {1} and {0}\"\n",
    "print(res.format(itm1,itm2,itm3))"
   ]
  },
  {
   "cell_type": "code",
   "execution_count": 193,
   "id": "20db96eb-42b9-45d9-ad79-06ff997b4536",
   "metadata": {},
   "outputs": [
    {
     "data": {
      "text/plain": [
       "'Welcome to python tutorial'"
      ]
     },
     "execution_count": 193,
     "metadata": {},
     "output_type": "execute_result"
    }
   ],
   "source": [
    "str2"
   ]
  },
  {
   "cell_type": "code",
   "execution_count": 195,
   "id": "29c9280a-9ab4-4058-9fe1-89dba0e61e59",
   "metadata": {},
   "outputs": [
    {
     "name": "stdout",
     "output_type": "stream",
     "text": [
      "                                     Welcome to python tutorial                                     \n"
     ]
    }
   ],
   "source": [
    "str2=\"Welcome to python tutorial\"\n",
    "str2=str2.center(100)\n",
    "print(str2)"
   ]
  },
  {
   "cell_type": "code",
   "execution_count": 196,
   "id": "5577538e-aded-4840-8a44-9d20f275bf62",
   "metadata": {},
   "outputs": [
    {
     "name": "stdout",
     "output_type": "stream",
     "text": [
      "*************************************Welcome to python tutorial*************************************\n"
     ]
    }
   ],
   "source": [
    "str2=\"Welcome to python tutorial\"\n",
    "str2=str2.center(100,'*')\n",
    "print(str2)"
   ]
  },
  {
   "cell_type": "code",
   "execution_count": 198,
   "id": "b464c3cf-edc7-4149-92fe-5dd054990037",
   "metadata": {},
   "outputs": [
    {
     "name": "stdout",
     "output_type": "stream",
     "text": [
      "************************Welcome to python tutorial\n"
     ]
    }
   ],
   "source": [
    "str2=\"Welcome to python tutorial\"\n",
    "str2=str2.rjust(50,'*')\n",
    "print(str2)"
   ]
  },
  {
   "cell_type": "code",
   "execution_count": 199,
   "id": "e38badac-a39e-4b50-931a-bb2130342e81",
   "metadata": {},
   "outputs": [
    {
     "name": "stdout",
     "output_type": "stream",
     "text": [
      "Welcome to python tutorial************************\n"
     ]
    }
   ],
   "source": [
    "str2=\"Welcome to python tutorial\"\n",
    "str2=str2.ljust(50,'*')\n",
    "print(str2)"
   ]
  },
  {
   "cell_type": "code",
   "execution_count": 200,
   "id": "a033e9da-dc80-4e4b-b3a5-9e10e061cc87",
   "metadata": {},
   "outputs": [
    {
     "name": "stdout",
     "output_type": "stream",
     "text": [
      "19\n"
     ]
    }
   ],
   "source": [
    "str3=\"one two three four five six seven eight\"\n",
    "loc=str3.find(\"five\")\n",
    "print(loc)"
   ]
  },
  {
   "cell_type": "code",
   "execution_count": 201,
   "id": "543babb2-f28d-4dd6-b1d0-fe21358169e5",
   "metadata": {},
   "outputs": [
    {
     "name": "stdout",
     "output_type": "stream",
     "text": [
      "4\n"
     ]
    }
   ],
   "source": [
    "str3=\"one two three four five six seven eight\"\n",
    "loc=str3.find(\"two\")\n",
    "print(loc)"
   ]
  },
  {
   "cell_type": "code",
   "execution_count": 202,
   "id": "2b45edf1-d875-43fe-ae7b-b7a357e9ee5b",
   "metadata": {},
   "outputs": [
    {
     "name": "stdout",
     "output_type": "stream",
     "text": [
      "8\n"
     ]
    }
   ],
   "source": [
    "str3=\"one two three four five six seven eight\"\n",
    "loc=str3.index(\"three\")\n",
    "print(loc)"
   ]
  },
  {
   "cell_type": "code",
   "execution_count": 203,
   "id": "8455b2aa-b014-4179-8ee4-73a42e506272",
   "metadata": {},
   "outputs": [
    {
     "name": "stdout",
     "output_type": "stream",
     "text": [
      "19\n"
     ]
    }
   ],
   "source": [
    "str3=\"one two three four five six seven eight\"\n",
    "loc=str3.index(\"five\")\n",
    "print(loc)"
   ]
  },
  {
   "cell_type": "code",
   "execution_count": 204,
   "id": "2b0daef4-3fa0-4425-8bb5-c2217d90288c",
   "metadata": {},
   "outputs": [
    {
     "name": "stdout",
     "output_type": "stream",
     "text": [
      "False\n",
      "True\n",
      "True\n",
      "True\n"
     ]
    }
   ],
   "source": [
    "str4='1234567890'\n",
    "print(str4.isalpha()) #returns  True if all the characters in the text or alphabets\n",
    "print(str4.isalnum()) # returns True if it contains botth alpha and numeric values\n",
    "print(str4.isdecimal()) #returns True if the character are decimals (0-9)\n",
    "print(str4.isnumeric()) #returns True if all the characters are numeric(0-9)"
   ]
  },
  {
   "cell_type": "code",
   "execution_count": 205,
   "id": "b9d8699e-5e10-480b-ad73-042ce026ce99",
   "metadata": {},
   "outputs": [
    {
     "name": "stdout",
     "output_type": "stream",
     "text": [
      "True\n"
     ]
    }
   ],
   "source": [
    "str5=\"Venky8675\"\n",
    "print(str5.isalnum())"
   ]
  },
  {
   "cell_type": "code",
   "execution_count": 206,
   "id": "543606d8-d1e8-4b70-a4d0-c70b85ac893c",
   "metadata": {},
   "outputs": [
    {
     "name": "stdout",
     "output_type": "stream",
     "text": [
      "False\n"
     ]
    }
   ],
   "source": [
    "str6= \"123456789.5\"\n",
    "print(str6.isdecimal())"
   ]
  },
  {
   "cell_type": "code",
   "execution_count": 207,
   "id": "6332e17b-bcb9-423a-94c8-37c0cfaf711d",
   "metadata": {},
   "outputs": [
    {
     "name": "stdout",
     "output_type": "stream",
     "text": [
      "True\n"
     ]
    }
   ],
   "source": [
    "str6= \"123456789\"\n",
    "print(str6.isdecimal())"
   ]
  },
  {
   "cell_type": "code",
   "execution_count": 208,
   "id": "50d77e8a-ec89-44c4-8122-e0064f0648ca",
   "metadata": {},
   "outputs": [
    {
     "name": "stdout",
     "output_type": "stream",
     "text": [
      "True\n"
     ]
    }
   ],
   "source": [
    "str7=\"45781534\"\n",
    "print(str7.isnumeric())"
   ]
  },
  {
   "cell_type": "code",
   "execution_count": 209,
   "id": "0836cf82-0637-4fd7-9afe-751f06909958",
   "metadata": {},
   "outputs": [
    {
     "name": "stdout",
     "output_type": "stream",
     "text": [
      "False\n",
      "True\n"
     ]
    }
   ],
   "source": [
    "str8='abcdef'\n",
    "print(str8.isupper())\n",
    "print(str8.islower())"
   ]
  },
  {
   "cell_type": "code",
   "execution_count": 210,
   "id": "0427bfc8-21a6-4c51-805c-96439a2a0547",
   "metadata": {},
   "outputs": [
    {
     "data": {
      "text/plain": [
       "'abc  def  ghi  jkl'"
      ]
     },
     "execution_count": 210,
     "metadata": {},
     "output_type": "execute_result"
    }
   ],
   "source": [
    "txt=\"   abc  def  ghi  jkl  \"\n",
    "txt.strip()"
   ]
  },
  {
   "cell_type": "code",
   "execution_count": 211,
   "id": "e86d7fe8-8172-4a9a-8001-77200cb9ad12",
   "metadata": {},
   "outputs": [
    {
     "data": {
      "text/plain": [
       "'   abc  def  ghi  jkl'"
      ]
     },
     "execution_count": 211,
     "metadata": {},
     "output_type": "execute_result"
    }
   ],
   "source": [
    "txt.rstrip()"
   ]
  },
  {
   "cell_type": "code",
   "execution_count": 213,
   "id": "087858b5-eea5-40f8-ab78-be765972e296",
   "metadata": {},
   "outputs": [
    {
     "data": {
      "text/plain": [
       "'abc  def  ghi  jkl  '"
      ]
     },
     "execution_count": 213,
     "metadata": {},
     "output_type": "execute_result"
    }
   ],
   "source": [
    "txt.lstrip()"
   ]
  },
  {
   "cell_type": "markdown",
   "id": "0ad59b5f-06f5-45ca-b436-5b4db297762b",
   "metadata": {},
   "source": [
    "Using escape characters"
   ]
  },
  {
   "cell_type": "code",
   "execution_count": 215,
   "id": "a4d37789-d22b-44d5-84ae-c5e051eabbf1",
   "metadata": {},
   "outputs": [
    {
     "ename": "SyntaxError",
     "evalue": "unterminated string literal (detected at line 2) (1952005782.py, line 2)",
     "output_type": "error",
     "traceback": [
      "\u001b[1;36m  Cell \u001b[1;32mIn[215], line 2\u001b[1;36m\u001b[0m\n\u001b[1;33m    str9=\"Eagerly waitng for DEVAR\"Movie\"\u001b[0m\n\u001b[1;37m                                        ^\u001b[0m\n\u001b[1;31mSyntaxError\u001b[0m\u001b[1;31m:\u001b[0m unterminated string literal (detected at line 2)\n"
     ]
    }
   ],
   "source": [
    "#Using double quotes in the string is not allowed\n",
    "str9=\"Eagerly waitng for DEVAR\"Movie\""
   ]
  },
  {
   "cell_type": "code",
   "execution_count": 219,
   "id": "2556b74b-c5c3-4e33-84d5-c321c014c4c2",
   "metadata": {},
   "outputs": [
    {
     "name": "stdout",
     "output_type": "stream",
     "text": [
      "Eagerly waitng for DEVARA\"Movie\"\n"
     ]
    }
   ],
   "source": [
    "#using escape character to allow illegal characters\n",
    "str10=\"Eagerly waitng for DEVARA\\\"Movie\\\"\"\n",
    "print(str10)"
   ]
  },
  {
   "cell_type": "code",
   "execution_count": null,
   "id": "fa550d34-3d2e-41f5-9d47-1d2ab92d7d26",
   "metadata": {},
   "outputs": [],
   "source": []
  }
 ],
 "metadata": {
  "kernelspec": {
   "display_name": "Python 3 (ipykernel)",
   "language": "python",
   "name": "python3"
  },
  "language_info": {
   "codemirror_mode": {
    "name": "ipython",
    "version": 3
   },
   "file_extension": ".py",
   "mimetype": "text/x-python",
   "name": "python",
   "nbconvert_exporter": "python",
   "pygments_lexer": "ipython3",
   "version": "3.12.4"
  }
 },
 "nbformat": 4,
 "nbformat_minor": 5
}
