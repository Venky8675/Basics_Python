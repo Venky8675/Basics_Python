{
 "cells": [
  {
   "cell_type": "markdown",
   "id": "6e39fc52-b92b-4445-b0af-6e34f158238a",
   "metadata": {},
   "source": []
  },
  {
   "cell_type": "markdown",
   "id": "e3ceb183-7a87-4693-8707-c2e085cfbbda",
   "metadata": {},
   "source": [
    "Dictionary"
   ]
  },
  {
   "cell_type": "raw",
   "id": "8ff36b65-80a5-425b-9d40-fbf2156f0452",
   "metadata": {},
   "source": [
    "- Dictionary is a mutable data type in python\n",
    "- A python dictionary is a collection of key and value pairs separated by colon(:) and enclosed in curly braces {}.\n",
    "-Keys must be unique in dictionary.\n",
    "-Duplicate values are allowed"
   ]
  },
  {
   "cell_type": "code",
   "execution_count": 1,
   "id": "bd39b756-6762-4dff-b355-15b732905fa9",
   "metadata": {},
   "outputs": [
    {
     "data": {
      "text/plain": [
       "{}"
      ]
     },
     "execution_count": 1,
     "metadata": {},
     "output_type": "execute_result"
    }
   ],
   "source": [
    "mydict={}\n",
    "mydict"
   ]
  },
  {
   "cell_type": "code",
   "execution_count": 2,
   "id": "ade61544-be25-4ba7-8cf8-fd7a848dc029",
   "metadata": {},
   "outputs": [
    {
     "data": {
      "text/plain": [
       "{}"
      ]
     },
     "execution_count": 2,
     "metadata": {},
     "output_type": "execute_result"
    }
   ],
   "source": [
    "mydict=dict()\n",
    "mydict"
   ]
  },
  {
   "cell_type": "code",
   "execution_count": 3,
   "id": "fe41a29d-449b-48c3-8660-f332636c03a1",
   "metadata": {},
   "outputs": [
    {
     "data": {
      "text/plain": [
       "{1: 'one', 2: 'two', 3: 'three', 4: 'four'}"
      ]
     },
     "execution_count": 3,
     "metadata": {},
     "output_type": "execute_result"
    }
   ],
   "source": [
    "mydict={1:'one',2:'two',3:'three',4:'four'} # dictionary with integr keys\n",
    "mydict"
   ]
  },
  {
   "cell_type": "code",
   "execution_count": 4,
   "id": "d46bd25d-0b48-48ef-aa25-5b69499ac065",
   "metadata": {},
   "outputs": [
    {
     "data": {
      "text/plain": [
       "{1: 'one', 2: 'two', 3: 'three', 4: 'four'}"
      ]
     },
     "execution_count": 4,
     "metadata": {},
     "output_type": "execute_result"
    }
   ],
   "source": [
    "mydict=({1:'one',2:'two',3:'three',4:'four'})\n",
    "mydict"
   ]
  },
  {
   "cell_type": "code",
   "execution_count": 6,
   "id": "f241e5ad-f82d-48e8-a922-c8374473637d",
   "metadata": {},
   "outputs": [
    {
     "data": {
      "text/plain": [
       "{'A': 'ONE', 'B': 'TWO', 'C': 'THREE', 'D': 'FOUR'}"
      ]
     },
     "execution_count": 6,
     "metadata": {},
     "output_type": "execute_result"
    }
   ],
   "source": [
    "mydcit={'A':'ONE','B':'TWO','C':'THREE','D':'FOUR'} #dictionary with character keys\n",
    "mydcit"
   ]
  },
  {
   "cell_type": "code",
   "execution_count": 7,
   "id": "a30fe4a1-4895-4146-899d-d2dcd4c5ca66",
   "metadata": {},
   "outputs": [
    {
     "data": {
      "text/plain": [
       "{1: 'one', 2: 'two', 3: 'three', 4: 'four'}"
      ]
     },
     "execution_count": 7,
     "metadata": {},
     "output_type": "execute_result"
    }
   ],
   "source": [
    "mydict={1:'one',2:'two',3:'three',4:'four'} #dictionary with mixed keys\n",
    "mydict"
   ]
  },
  {
   "cell_type": "code",
   "execution_count": 8,
   "id": "001bed5e-d1fe-4dbd-ae95-d522c13a0eb9",
   "metadata": {},
   "outputs": [
    {
     "data": {
      "text/plain": [
       "{'a': 2.7, 'b': 'Python', 'c': True, 'd': (2+6j)}"
      ]
     },
     "execution_count": 8,
     "metadata": {},
     "output_type": "execute_result"
    }
   ],
   "source": [
    "mydict1={'a':2.7,'b':\"Python\",'c':True,'d':2+6j}\n",
    "mydict1"
   ]
  },
  {
   "cell_type": "code",
   "execution_count": 9,
   "id": "b3bb4fe3-e523-402e-b0dd-2aa931cb7473",
   "metadata": {},
   "outputs": [
    {
     "data": {
      "text/plain": [
       "dict_keys([1, 2, 3, 4])"
      ]
     },
     "execution_count": 9,
     "metadata": {},
     "output_type": "execute_result"
    }
   ],
   "source": [
    "mydict.keys()"
   ]
  },
  {
   "cell_type": "code",
   "execution_count": 10,
   "id": "eb554713-9fa4-4853-a047-226643db5aca",
   "metadata": {},
   "outputs": [
    {
     "data": {
      "text/plain": [
       "dict_values(['one', 'two', 'three', 'four'])"
      ]
     },
     "execution_count": 10,
     "metadata": {},
     "output_type": "execute_result"
    }
   ],
   "source": [
    "mydict.values()"
   ]
  },
  {
   "cell_type": "code",
   "execution_count": 11,
   "id": "f2ec8f2d-6e8c-4cda-bb61-2bf2a9ca46e8",
   "metadata": {},
   "outputs": [
    {
     "data": {
      "text/plain": [
       "dict_items([(1, 'one'), (2, 'two'), (3, 'three'), (4, 'four')])"
      ]
     },
     "execution_count": 11,
     "metadata": {},
     "output_type": "execute_result"
    }
   ],
   "source": [
    "mydict.items()"
   ]
  },
  {
   "cell_type": "code",
   "execution_count": 13,
   "id": "ce174878-ae72-4b80-9747-b7e947c6a3dc",
   "metadata": {},
   "outputs": [
    {
     "data": {
      "text/plain": [
       "{1: 'one',\n",
       " 2: 'two',\n",
       " 'A': ['venky', 'john', 'surya'],\n",
       " 'B': ('Bat', 'Ball', 'Wicket')}"
      ]
     },
     "execution_count": 13,
     "metadata": {},
     "output_type": "execute_result"
    }
   ],
   "source": [
    "mydict2={1:'one',2:'two','A':['venky','john','surya'],'B':('Bat','Ball','Wicket')}\n",
    "mydict2"
   ]
  },
  {
   "cell_type": "code",
   "execution_count": 14,
   "id": "a49fa918-f1d7-4c08-a731-c8f8ee1292f8",
   "metadata": {},
   "outputs": [
    {
     "data": {
      "text/plain": [
       "{'Name': 'Venky', 'Age': '26', 'Qualification': 'MCA'}"
      ]
     },
     "execution_count": 14,
     "metadata": {},
     "output_type": "execute_result"
    }
   ],
   "source": [
    "mydict3={'Name':'Venky', 'Age':'26','Qualification':'MCA'}\n",
    "mydict3"
   ]
  },
  {
   "cell_type": "code",
   "execution_count": 16,
   "id": "c8f55aed-1ceb-4004-ab7c-ff286998c98a",
   "metadata": {},
   "outputs": [
    {
     "data": {
      "text/plain": [
       "dict_keys(['Name', 'Age', 'Qualification'])"
      ]
     },
     "execution_count": 16,
     "metadata": {},
     "output_type": "execute_result"
    }
   ],
   "source": [
    "mydict3.keys()"
   ]
  },
  {
   "cell_type": "code",
   "execution_count": 17,
   "id": "db6584e5-22f9-43b9-8311-98aac3c72c3a",
   "metadata": {},
   "outputs": [
    {
     "data": {
      "text/plain": [
       "dict_values(['Venky', '26', 'MCA'])"
      ]
     },
     "execution_count": 17,
     "metadata": {},
     "output_type": "execute_result"
    }
   ],
   "source": [
    "mydict3.values()"
   ]
  },
  {
   "cell_type": "code",
   "execution_count": 18,
   "id": "5219efe1-8c65-4913-8f56-727da9df5fa9",
   "metadata": {},
   "outputs": [
    {
     "data": {
      "text/plain": [
       "dict_items([(1, 'one'), (2, 'two'), (3, 'three'), (4, 'four')])"
      ]
     },
     "execution_count": 18,
     "metadata": {},
     "output_type": "execute_result"
    }
   ],
   "source": [
    "mydict.items()"
   ]
  },
  {
   "cell_type": "code",
   "execution_count": 23,
   "id": "b3296063-3a92-46f5-aacf-78ca4b1cf335",
   "metadata": {},
   "outputs": [
    {
     "data": {
      "text/plain": [
       "{'c': 10, 'a': 10, 'b': 10, 'd': 10}"
      ]
     },
     "execution_count": 23,
     "metadata": {},
     "output_type": "execute_result"
    }
   ],
   "source": [
    "keys={'a','b','c','d'}\n",
    "values=10\n",
    "mydict3=dict.fromkeys(keys,values)\n",
    "mydict3"
   ]
  },
  {
   "cell_type": "code",
   "execution_count": 24,
   "id": "64128d6d-9fd1-43ae-9ef6-79c96c3ffae8",
   "metadata": {},
   "outputs": [
    {
     "data": {
      "text/plain": [
       "{'c': [10, 20, 30], 'a': [10, 20, 30], 'b': [10, 20, 30], 'd': [10, 20, 30]}"
      ]
     },
     "execution_count": 24,
     "metadata": {},
     "output_type": "execute_result"
    }
   ],
   "source": [
    "keys={'a','b','c','d'}\n",
    "value=[10,20,30]\n",
    "mydict3=dict.fromkeys(keys,value)\n",
    "mydict3"
   ]
  },
  {
   "cell_type": "code",
   "execution_count": 25,
   "id": "b5be7568-876e-46d6-98a6-93a0b2d54158",
   "metadata": {},
   "outputs": [
    {
     "data": {
      "text/plain": [
       "{'c': [10, 20, 30, 40],\n",
       " 'a': [10, 20, 30, 40],\n",
       " 'b': [10, 20, 30, 40],\n",
       " 'd': [10, 20, 30, 40]}"
      ]
     },
     "execution_count": 25,
     "metadata": {},
     "output_type": "execute_result"
    }
   ],
   "source": [
    "value.append(40)\n",
    "mydict3"
   ]
  },
  {
   "cell_type": "markdown",
   "id": "fe8fe157-74ff-4a4f-aeab-d535e897bc5d",
   "metadata": {},
   "source": [
    "Accessing items"
   ]
  },
  {
   "cell_type": "code",
   "execution_count": 27,
   "id": "9bcd7a87-1146-4d71-8aa5-76d7fe6e85d9",
   "metadata": {},
   "outputs": [
    {
     "data": {
      "text/plain": [
       "{1: 'one', 2: 'two', 3: 'three', 4: 'four'}"
      ]
     },
     "execution_count": 27,
     "metadata": {},
     "output_type": "execute_result"
    }
   ],
   "source": [
    "mydict4={1:'one',2:'two',3:'three',4:'four'}\n",
    "mydict4"
   ]
  },
  {
   "cell_type": "code",
   "execution_count": 28,
   "id": "228d074e-5128-4a56-b325-b5f6bd042ba7",
   "metadata": {},
   "outputs": [
    {
     "data": {
      "text/plain": [
       "'one'"
      ]
     },
     "execution_count": 28,
     "metadata": {},
     "output_type": "execute_result"
    }
   ],
   "source": [
    "mydict4[1]  #access item using key"
   ]
  },
  {
   "cell_type": "code",
   "execution_count": 32,
   "id": "7a2df6cd-18c1-41ff-a5e8-6542068989c2",
   "metadata": {},
   "outputs": [
    {
     "data": {
      "text/plain": [
       "'two'"
      ]
     },
     "execution_count": 32,
     "metadata": {},
     "output_type": "execute_result"
    }
   ],
   "source": [
    "mydict4[2]"
   ]
  },
  {
   "cell_type": "code",
   "execution_count": 33,
   "id": "b0dd8c18-1a6a-495d-9125-123d351b7c68",
   "metadata": {},
   "outputs": [
    {
     "data": {
      "text/plain": [
       "{'c': [10, 20, 30, 40],\n",
       " 'a': [10, 20, 30, 40],\n",
       " 'b': [10, 20, 30, 40],\n",
       " 'd': [10, 20, 30, 40]}"
      ]
     },
     "execution_count": 33,
     "metadata": {},
     "output_type": "execute_result"
    }
   ],
   "source": [
    "mydict3"
   ]
  },
  {
   "cell_type": "code",
   "execution_count": 34,
   "id": "1ce9fea8-7a3a-41ac-aaec-e50d0827772d",
   "metadata": {},
   "outputs": [
    {
     "data": {
      "text/plain": [
       "[10, 20, 30, 40]"
      ]
     },
     "execution_count": 34,
     "metadata": {},
     "output_type": "execute_result"
    }
   ],
   "source": [
    "mydict3['c']"
   ]
  },
  {
   "cell_type": "code",
   "execution_count": 36,
   "id": "ac5dee0c-7d24-4db5-8960-25af89bac258",
   "metadata": {},
   "outputs": [
    {
     "data": {
      "text/plain": [
       "'one'"
      ]
     },
     "execution_count": 36,
     "metadata": {},
     "output_type": "execute_result"
    }
   ],
   "source": [
    "mydict4.get(1)"
   ]
  },
  {
   "cell_type": "code",
   "execution_count": 37,
   "id": "e6bc6eee-59fa-4fb2-bb8b-67702eb95ea7",
   "metadata": {},
   "outputs": [
    {
     "data": {
      "text/plain": [
       "'two'"
      ]
     },
     "execution_count": 37,
     "metadata": {},
     "output_type": "execute_result"
    }
   ],
   "source": [
    "mydict4.get(2)"
   ]
  },
  {
   "cell_type": "code",
   "execution_count": 38,
   "id": "c87a9ec2-7142-4514-9bad-6280b6ba54e8",
   "metadata": {},
   "outputs": [
    {
     "data": {
      "text/plain": [
       "{'Name': 'Venky', 'ID': 'R3154', 'DOB': 1998, 'Job': 'Data Scientist'}"
      ]
     },
     "execution_count": 38,
     "metadata": {},
     "output_type": "execute_result"
    }
   ],
   "source": [
    "mydict5={'Name':'Venky','ID':'R3154','DOB':1998,'Job':'Data Scientist'}\n",
    "mydict5"
   ]
  },
  {
   "cell_type": "code",
   "execution_count": 39,
   "id": "5037119d-de48-4ec4-bcee-7da495fd872a",
   "metadata": {},
   "outputs": [
    {
     "data": {
      "text/plain": [
       "'Venky'"
      ]
     },
     "execution_count": 39,
     "metadata": {},
     "output_type": "execute_result"
    }
   ],
   "source": [
    "mydict5['Name']"
   ]
  },
  {
   "cell_type": "code",
   "execution_count": 41,
   "id": "431a0fd6-0e65-43fb-9fe7-5ab39f39b1e7",
   "metadata": {},
   "outputs": [
    {
     "data": {
      "text/plain": [
       "'R3154'"
      ]
     },
     "execution_count": 41,
     "metadata": {},
     "output_type": "execute_result"
    }
   ],
   "source": [
    "mydict5['ID']"
   ]
  },
  {
   "cell_type": "code",
   "execution_count": 43,
   "id": "cedb02f3-ca05-4558-aacc-83129120bf40",
   "metadata": {},
   "outputs": [
    {
     "data": {
      "text/plain": [
       "'Data Scientist'"
      ]
     },
     "execution_count": 43,
     "metadata": {},
     "output_type": "execute_result"
    }
   ],
   "source": [
    "mydict5['Job']"
   ]
  },
  {
   "cell_type": "markdown",
   "id": "3fb5fc36-6764-4568-8ab4-7910bcc3b210",
   "metadata": {},
   "source": [
    "Add, Remove & Change items"
   ]
  },
  {
   "cell_type": "code",
   "execution_count": 60,
   "id": "ffb90c12-f412-48e9-8689-eee29c011bae",
   "metadata": {},
   "outputs": [
    {
     "data": {
      "text/plain": [
       "{'Name': 'Venky',\n",
       " 'ID': 24512,\n",
       " 'DOB': 1998,\n",
       " 'Address': 'Warangal',\n",
       " 'Job': 'Data Scientist'}"
      ]
     },
     "execution_count": 60,
     "metadata": {},
     "output_type": "execute_result"
    }
   ],
   "source": [
    "mydict6={'Name':'Venky','ID':24512, 'DOB':1998,'Address':'Warangal','Job':'Data Scientist'}\n",
    "mydict6"
   ]
  },
  {
   "cell_type": "code",
   "execution_count": 61,
   "id": "eddf9498-479b-4c27-a03d-6a40d6cdc769",
   "metadata": {},
   "outputs": [
    {
     "data": {
      "text/plain": [
       "1998"
      ]
     },
     "execution_count": 61,
     "metadata": {},
     "output_type": "execute_result"
    }
   ],
   "source": [
    "mydict6['DOB']"
   ]
  },
  {
   "cell_type": "code",
   "execution_count": 62,
   "id": "5905d1ae-8ee1-40f3-bfde-5a95ba4b2073",
   "metadata": {},
   "outputs": [
    {
     "data": {
      "text/plain": [
       "{'Name': 'Venky',\n",
       " 'ID': 24512,\n",
       " 'DOB': 2000,\n",
       " 'Address': 'Hyderabad',\n",
       " 'Job': 'Data Scientist'}"
      ]
     },
     "execution_count": 62,
     "metadata": {},
     "output_type": "execute_result"
    }
   ],
   "source": [
    "mydict6['DOB']=2000  #Changing dictionary items\n",
    "mydict6['Address']='Hyderabad'\n",
    "mydict6\n"
   ]
  },
  {
   "cell_type": "code",
   "execution_count": 63,
   "id": "dbf2978c-2024-4944-9be0-01970e03750c",
   "metadata": {},
   "outputs": [
    {
     "data": {
      "text/plain": [
       "{'Name': 'Venky',\n",
       " 'ID': 24512,\n",
       " 'DOB': 1995,\n",
       " 'Address': 'Hyderabad',\n",
       " 'Job': 'Data Scientist'}"
      ]
     },
     "execution_count": 63,
     "metadata": {},
     "output_type": "execute_result"
    }
   ],
   "source": [
    "dict1={'DOB':1995}\n",
    "mydict6.update(dict1)\n",
    "mydict6"
   ]
  },
  {
   "cell_type": "code",
   "execution_count": 64,
   "id": "438069a8-3e1f-443a-be67-d7e83b71eab6",
   "metadata": {},
   "outputs": [
    {
     "data": {
      "text/plain": [
       "{'Name': 'Venky',\n",
       " 'ID': 24512,\n",
       " 'DOB': 1995,\n",
       " 'Address': 'Hyderabad',\n",
       " 'Job': 'Data Scientist'}"
      ]
     },
     "execution_count": 64,
     "metadata": {},
     "output_type": "execute_result"
    }
   ],
   "source": [
    "mydict6"
   ]
  },
  {
   "cell_type": "code",
   "execution_count": 66,
   "id": "04d76001-7e05-46a3-bc5e-7dfcab9e45d9",
   "metadata": {},
   "outputs": [
    {
     "data": {
      "text/plain": [
       "'Data Scientist'"
      ]
     },
     "execution_count": 66,
     "metadata": {},
     "output_type": "execute_result"
    }
   ],
   "source": [
    "mydict6.pop('Job')"
   ]
  },
  {
   "cell_type": "code",
   "execution_count": 67,
   "id": "d8dcacea-43e5-44a6-91ef-c0c4ea187515",
   "metadata": {},
   "outputs": [
    {
     "data": {
      "text/plain": [
       "{'Name': 'Venky', 'ID': 24512, 'DOB': 1995, 'Address': 'Hyderabad'}"
      ]
     },
     "execution_count": 67,
     "metadata": {},
     "output_type": "execute_result"
    }
   ],
   "source": [
    "mydict6"
   ]
  },
  {
   "cell_type": "code",
   "execution_count": 68,
   "id": "51fa2b20-a99f-4f79-918a-5a6ce53d7566",
   "metadata": {},
   "outputs": [
    {
     "data": {
      "text/plain": [
       "('Address', 'Hyderabad')"
      ]
     },
     "execution_count": 68,
     "metadata": {},
     "output_type": "execute_result"
    }
   ],
   "source": [
    "mydict6.popitem() #A random item is removed\n"
   ]
  },
  {
   "cell_type": "code",
   "execution_count": 69,
   "id": "71849be5-fdba-4c88-b1f6-9e3c96153d0b",
   "metadata": {},
   "outputs": [
    {
     "data": {
      "text/plain": [
       "{'Name': 'Venky', 'ID': 24512, 'DOB': 1995}"
      ]
     },
     "execution_count": 69,
     "metadata": {},
     "output_type": "execute_result"
    }
   ],
   "source": [
    "mydict6"
   ]
  },
  {
   "cell_type": "code",
   "execution_count": 70,
   "id": "941a88a5-c4d2-4a72-800e-7e3bf96b16b5",
   "metadata": {},
   "outputs": [
    {
     "data": {
      "text/plain": [
       "{'a': 2.7, 'b': 'Python', 'c': True, 'd': (2+6j)}"
      ]
     },
     "execution_count": 70,
     "metadata": {},
     "output_type": "execute_result"
    }
   ],
   "source": [
    "mydict1"
   ]
  },
  {
   "cell_type": "code",
   "execution_count": 71,
   "id": "325838da-4b40-4b8e-8449-0659996b9eaf",
   "metadata": {},
   "outputs": [],
   "source": [
    "mydict1.clear()"
   ]
  },
  {
   "cell_type": "code",
   "execution_count": 73,
   "id": "ee4ca98f-5edd-4517-a9e3-ff8774d9288c",
   "metadata": {},
   "outputs": [
    {
     "data": {
      "text/plain": [
       "{}"
      ]
     },
     "execution_count": 73,
     "metadata": {},
     "output_type": "execute_result"
    }
   ],
   "source": [
    "mydict1"
   ]
  },
  {
   "cell_type": "code",
   "execution_count": 74,
   "id": "aaa8238c-1d66-4e48-acc1-3987a938ec59",
   "metadata": {},
   "outputs": [],
   "source": [
    "del mydict1"
   ]
  },
  {
   "cell_type": "code",
   "execution_count": 75,
   "id": "2aedcd02-9f82-49ca-9907-aacd0439f1ad",
   "metadata": {},
   "outputs": [
    {
     "ename": "NameError",
     "evalue": "name 'mydict1' is not defined",
     "output_type": "error",
     "traceback": [
      "\u001b[1;31m---------------------------------------------------------------------------\u001b[0m",
      "\u001b[1;31mNameError\u001b[0m                                 Traceback (most recent call last)",
      "Cell \u001b[1;32mIn[75], line 1\u001b[0m\n\u001b[1;32m----> 1\u001b[0m \u001b[43mmydict1\u001b[49m\n",
      "\u001b[1;31mNameError\u001b[0m: name 'mydict1' is not defined"
     ]
    }
   ],
   "source": [
    "mydict1"
   ]
  },
  {
   "cell_type": "markdown",
   "id": "5a0da1b1-c45c-464f-8dc7-cae000b3c378",
   "metadata": {},
   "source": [
    "Copy dictionary"
   ]
  },
  {
   "cell_type": "code",
   "execution_count": 76,
   "id": "6060e848-e0fe-4e5c-a854-92e8ff84b10d",
   "metadata": {},
   "outputs": [
    {
     "data": {
      "text/plain": [
       "{'Name': 'Venky', 'ID': 24512, 'DOB': 1995}"
      ]
     },
     "execution_count": 76,
     "metadata": {},
     "output_type": "execute_result"
    }
   ],
   "source": [
    "mydict6"
   ]
  },
  {
   "cell_type": "code",
   "execution_count": 78,
   "id": "ba56abf4-bb40-4dc2-9256-e22670411396",
   "metadata": {},
   "outputs": [
    {
     "data": {
      "text/plain": [
       "{'Name': 'Venky', 'ID': 24512, 'DOB': 1995, 'Address': 'Hyderabad'}"
      ]
     },
     "execution_count": 78,
     "metadata": {},
     "output_type": "execute_result"
    }
   ],
   "source": [
    "dict1={'Address':'Hyderabad'}\n",
    "mydict6.update(dict1)\n",
    "mydict6"
   ]
  },
  {
   "cell_type": "code",
   "execution_count": 79,
   "id": "82c5c4cf-dd00-4d94-8d7f-1eaa47663fd3",
   "metadata": {},
   "outputs": [],
   "source": [
    "mydict1=mydict6"
   ]
  },
  {
   "cell_type": "code",
   "execution_count": 80,
   "id": "f08493d2-86a7-4bb7-824b-1719b006dfac",
   "metadata": {},
   "outputs": [
    {
     "data": {
      "text/plain": [
       "{'Name': 'Venky', 'ID': 24512, 'DOB': 1995, 'Address': 'Hyderabad'}"
      ]
     },
     "execution_count": 80,
     "metadata": {},
     "output_type": "execute_result"
    }
   ],
   "source": [
    "mydict1"
   ]
  },
  {
   "cell_type": "code",
   "execution_count": 87,
   "id": "eb967a1e-d818-4c02-bf90-142ca1249e66",
   "metadata": {},
   "outputs": [
    {
     "data": {
      "text/plain": [
       "{'Name': 'Venky', 'ID': 24512, 'DOB': 1995, 'Address': 'Mumbai'}"
      ]
     },
     "execution_count": 87,
     "metadata": {},
     "output_type": "execute_result"
    }
   ],
   "source": [
    "mydict6"
   ]
  },
  {
   "cell_type": "code",
   "execution_count": 88,
   "id": "5f8369ee-a626-41c4-9197-bcc59dcc8fbb",
   "metadata": {},
   "outputs": [
    {
     "data": {
      "text/plain": [
       "True"
      ]
     },
     "execution_count": 88,
     "metadata": {},
     "output_type": "execute_result"
    }
   ],
   "source": [
    "mydict1==mydict6"
   ]
  },
  {
   "cell_type": "code",
   "execution_count": 89,
   "id": "23a53132-8696-47e1-9fd7-1cc04c8840e5",
   "metadata": {},
   "outputs": [
    {
     "data": {
      "text/plain": [
       "(1862822070336, 1862822070336)"
      ]
     },
     "execution_count": 89,
     "metadata": {},
     "output_type": "execute_result"
    }
   ],
   "source": [
    "id(mydict1), id(mydict6)"
   ]
  },
  {
   "cell_type": "code",
   "execution_count": 90,
   "id": "de81ec10-8d2e-42aa-9ae6-26ec7877a8ea",
   "metadata": {},
   "outputs": [
    {
     "data": {
      "text/plain": [
       "{'Name': 'Venky', 'ID': 24512, 'DOB': 1995, 'Address': 'Mumbai'}"
      ]
     },
     "execution_count": 90,
     "metadata": {},
     "output_type": "execute_result"
    }
   ],
   "source": [
    "mydict6['Address']='Mumbai'\n",
    "mydict6"
   ]
  },
  {
   "cell_type": "code",
   "execution_count": 92,
   "id": "7e2ae7f1-736e-4de8-a796-7bf4b2b00bf4",
   "metadata": {},
   "outputs": [
    {
     "data": {
      "text/plain": [
       "{'Name': 'Venky', 'ID': 24512, 'DOB': 1995, 'Address': 'Hyderabad'}"
      ]
     },
     "execution_count": 92,
     "metadata": {},
     "output_type": "execute_result"
    }
   ],
   "source": [
    "mydict1['Address']='Hyderabad'\n",
    "mydict1"
   ]
  },
  {
   "cell_type": "code",
   "execution_count": 93,
   "id": "7ab061f3-2942-48eb-8bc7-73a1405abc85",
   "metadata": {},
   "outputs": [
    {
     "data": {
      "text/plain": [
       "{'Name': 'Venky', 'ID': 24512, 'DOB': 1995, 'Address': 'Hyderabad'}"
      ]
     },
     "execution_count": 93,
     "metadata": {},
     "output_type": "execute_result"
    }
   ],
   "source": [
    "mydict6"
   ]
  },
  {
   "cell_type": "markdown",
   "id": "4b9f6c84-052d-4286-876c-84af08c26f88",
   "metadata": {},
   "source": [
    "Loop through a Dictionary"
   ]
  },
  {
   "cell_type": "code",
   "execution_count": 99,
   "id": "156d8296-6a42-41df-8207-22f1c520d259",
   "metadata": {},
   "outputs": [
    {
     "data": {
      "text/plain": [
       "{'Name': 'Venky',\n",
       " 'ID': 24512,\n",
       " 'DOB': 1995,\n",
       " 'Address': 'Hyderabad',\n",
       " 'Job': 'Data Scientist'}"
      ]
     },
     "execution_count": 99,
     "metadata": {},
     "output_type": "execute_result"
    }
   ],
   "source": [
    "mydict1={'Name': 'Venky', 'ID': 24512, 'DOB': 1995, 'Address': 'Hyderabad', 'Job':'Data Scientist'}\n",
    "mydict1"
   ]
  },
  {
   "cell_type": "code",
   "execution_count": 100,
   "id": "0bb72584-b6da-4f26-a8c7-9e56c5827c37",
   "metadata": {},
   "outputs": [
    {
     "name": "stdout",
     "output_type": "stream",
     "text": [
      "Name\n",
      "ID\n",
      "DOB\n",
      "Address\n",
      "Job\n"
     ]
    }
   ],
   "source": [
    "for i in mydict1:\n",
    "    print(i)"
   ]
  },
  {
   "cell_type": "code",
   "execution_count": 101,
   "id": "6d668456-28fc-4319-85b4-b035a4fb06d8",
   "metadata": {},
   "outputs": [
    {
     "name": "stdout",
     "output_type": "stream",
     "text": [
      "Name : Venky\n",
      "ID : 24512\n",
      "DOB : 1995\n",
      "Address : Hyderabad\n",
      "Job : Data Scientist\n"
     ]
    }
   ],
   "source": [
    "for i in mydict1:\n",
    "    print(i, ':',mydict1[i])   #key and value pair"
   ]
  },
  {
   "cell_type": "code",
   "execution_count": 102,
   "id": "92bc0074-9de1-4679-90c9-63175f9fccb5",
   "metadata": {},
   "outputs": [
    {
     "name": "stdout",
     "output_type": "stream",
     "text": [
      "Venky\n",
      "24512\n",
      "1995\n",
      "Hyderabad\n",
      "Data Scientist\n"
     ]
    }
   ],
   "source": [
    "for i in mydict1:\n",
    "    print(mydict1[i])   #dictionary items"
   ]
  },
  {
   "cell_type": "markdown",
   "id": "352110b1-1937-4cb7-9608-b49f6dca9342",
   "metadata": {},
   "source": [
    "Dictionary Membership"
   ]
  },
  {
   "cell_type": "code",
   "execution_count": 108,
   "id": "b54a235f-cd46-4b57-98c2-d739d56e9922",
   "metadata": {},
   "outputs": [
    {
     "data": {
      "text/plain": [
       "{'Name': 'Venky', 'ID': 'R3154', 'DOB': 1998, 'Job': 'Data Scientist'}"
      ]
     },
     "execution_count": 108,
     "metadata": {},
     "output_type": "execute_result"
    }
   ],
   "source": [
    "mydict7={'Name': 'Venky', 'ID': 'R3154', 'DOB': 1998, 'Job': 'Data Scientist'}\n",
    "mydict7"
   ]
  },
  {
   "cell_type": "code",
   "execution_count": 109,
   "id": "ef4ca924-4e01-450c-919e-97df2eb2e3ac",
   "metadata": {},
   "outputs": [
    {
     "data": {
      "text/plain": [
       "True"
      ]
     },
     "execution_count": 109,
     "metadata": {},
     "output_type": "execute_result"
    }
   ],
   "source": [
    "'Name' in mydict7"
   ]
  },
  {
   "cell_type": "code",
   "execution_count": 111,
   "id": "09cf735a-5f7c-43fe-bc94-8beb0e1df733",
   "metadata": {},
   "outputs": [
    {
     "data": {
      "text/plain": [
       "False"
      ]
     },
     "execution_count": 111,
     "metadata": {},
     "output_type": "execute_result"
    }
   ],
   "source": [
    "'Venky' in mydict7"
   ]
  },
  {
   "cell_type": "code",
   "execution_count": 112,
   "id": "9d3903a1-81a7-4d1b-8678-f403163c6dff",
   "metadata": {},
   "outputs": [
    {
     "data": {
      "text/plain": [
       "True"
      ]
     },
     "execution_count": 112,
     "metadata": {},
     "output_type": "execute_result"
    }
   ],
   "source": [
    "'ID' in mydict7"
   ]
  },
  {
   "cell_type": "code",
   "execution_count": 113,
   "id": "d1259056-5ea3-40f7-88f9-67e175b2c57f",
   "metadata": {},
   "outputs": [
    {
     "data": {
      "text/plain": [
       "False"
      ]
     },
     "execution_count": 113,
     "metadata": {},
     "output_type": "execute_result"
    }
   ],
   "source": [
    "'Address' in mydict7"
   ]
  },
  {
   "cell_type": "markdown",
   "id": "c118179f-1705-433b-93d0-35f6eee8f81f",
   "metadata": {},
   "source": [
    "All/Any"
   ]
  },
  {
   "cell_type": "raw",
   "id": "3c7e095d-921b-4bc6-8f9a-e960961c2cc5",
   "metadata": {},
   "source": [
    "The all() method returns:\n",
    "-True: If all keys of the dictionary are true\n",
    "-False: If any key of the dictionary is false"
   ]
  },
  {
   "cell_type": "code",
   "execution_count": 115,
   "id": "0c683f9a-abd7-4a81-ad9e-5410d5a81059",
   "metadata": {},
   "outputs": [
    {
     "data": {
      "text/plain": [
       "{'Name': 'Venky', 'ID': 'R3154', 'DOB': 1998, 'Job': 'Data Scientist'}"
      ]
     },
     "execution_count": 115,
     "metadata": {},
     "output_type": "execute_result"
    }
   ],
   "source": [
    "mydict7={'Name': 'Venky', 'ID': 'R3154', 'DOB': 1998, 'Job': 'Data Scientist'}\n",
    "mydict7"
   ]
  },
  {
   "cell_type": "code",
   "execution_count": 116,
   "id": "670b9408-3834-4174-b013-eaed4a7584ae",
   "metadata": {},
   "outputs": [
    {
     "data": {
      "text/plain": [
       "True"
      ]
     },
     "execution_count": 116,
     "metadata": {},
     "output_type": "execute_result"
    }
   ],
   "source": [
    "all(mydict7) #WIll return false as one value is false(value0)"
   ]
  },
  {
   "cell_type": "code",
   "execution_count": 117,
   "id": "3723100e-0a02-42c8-97eb-579d334aeb4c",
   "metadata": {},
   "outputs": [
    {
     "data": {
      "text/plain": [
       "True"
      ]
     },
     "execution_count": 117,
     "metadata": {},
     "output_type": "execute_result"
    }
   ],
   "source": [
    "any(mydict7)"
   ]
  },
  {
   "cell_type": "code",
   "execution_count": 118,
   "id": "b68e5b54-1cc3-416a-b8eb-04ecf4d7d25b",
   "metadata": {},
   "outputs": [
    {
     "data": {
      "text/plain": [
       "{'Name': 'Venky',\n",
       " 'ID': 'R3154',\n",
       " 'DOB': 1998,\n",
       " 'Job': 'Data Scientist',\n",
       " 'Bool': False}"
      ]
     },
     "execution_count": 118,
     "metadata": {},
     "output_type": "execute_result"
    }
   ],
   "source": [
    "mydict8={'Name': 'Venky', 'ID': 'R3154', 'DOB': 1998, 'Job': 'Data Scientist','Bool':False}\n",
    "mydict8"
   ]
  },
  {
   "cell_type": "code",
   "execution_count": 119,
   "id": "485c6f08-dab1-4161-a68c-b5795cb05560",
   "metadata": {},
   "outputs": [
    {
     "data": {
      "text/plain": [
       "True"
      ]
     },
     "execution_count": 119,
     "metadata": {},
     "output_type": "execute_result"
    }
   ],
   "source": [
    "all(mydict8)"
   ]
  },
  {
   "cell_type": "code",
   "execution_count": 120,
   "id": "b081b5e4-7cb8-4ccb-bd83-422cfbb30957",
   "metadata": {},
   "outputs": [
    {
     "data": {
      "text/plain": [
       "True"
      ]
     },
     "execution_count": 120,
     "metadata": {},
     "output_type": "execute_result"
    }
   ],
   "source": [
    "any(mydict8)"
   ]
  },
  {
   "cell_type": "code",
   "execution_count": null,
   "id": "ddac8e39-4e0f-4258-9b86-f308df48032a",
   "metadata": {},
   "outputs": [],
   "source": []
  }
 ],
 "metadata": {
  "kernelspec": {
   "display_name": "Python 3 (ipykernel)",
   "language": "python",
   "name": "python3"
  },
  "language_info": {
   "codemirror_mode": {
    "name": "ipython",
    "version": 3
   },
   "file_extension": ".py",
   "mimetype": "text/x-python",
   "name": "python",
   "nbconvert_exporter": "python",
   "pygments_lexer": "ipython3",
   "version": "3.12.4"
  }
 },
 "nbformat": 4,
 "nbformat_minor": 5
}
