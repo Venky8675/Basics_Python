{
 "cells": [
  {
   "cell_type": "markdown",
   "id": "d6ca52f2-15a1-49aa-8d8f-289167101489",
   "metadata": {},
   "source": [
    "SET"
   ]
  },
  {
   "cell_type": "code",
   "execution_count": 1,
   "id": "fa1dc487-54e2-4753-9e54-b728b5591704",
   "metadata": {},
   "outputs": [
    {
     "data": {
      "text/plain": [
       "{}"
      ]
     },
     "execution_count": 1,
     "metadata": {},
     "output_type": "execute_result"
    }
   ],
   "source": [
    "s={}\n",
    "s"
   ]
  },
  {
   "cell_type": "code",
   "execution_count": 2,
   "id": "cb80caed-2ea4-4773-82a3-1c0e79bb0393",
   "metadata": {},
   "outputs": [
    {
     "data": {
      "text/plain": [
       "dict"
      ]
     },
     "execution_count": 2,
     "metadata": {},
     "output_type": "execute_result"
    }
   ],
   "source": [
    "type(s)"
   ]
  },
  {
   "cell_type": "code",
   "execution_count": 4,
   "id": "56da0f73-83bf-4f39-b81a-c87111071d59",
   "metadata": {},
   "outputs": [
    {
     "data": {
      "text/plain": [
       "set()"
      ]
     },
     "execution_count": 4,
     "metadata": {},
     "output_type": "execute_result"
    }
   ],
   "source": [
    "s1=set()\n",
    "s1"
   ]
  },
  {
   "cell_type": "code",
   "execution_count": 5,
   "id": "371660eb-dfa1-4117-abfe-4e4538efa8ba",
   "metadata": {},
   "outputs": [
    {
     "data": {
      "text/plain": [
       "set"
      ]
     },
     "execution_count": 5,
     "metadata": {},
     "output_type": "execute_result"
    }
   ],
   "source": [
    "type(s1)"
   ]
  },
  {
   "cell_type": "code",
   "execution_count": 6,
   "id": "a335049d-9ab5-4618-8508-3d68646135eb",
   "metadata": {},
   "outputs": [
    {
     "data": {
      "text/plain": [
       "{1, 3, 7, 9, 10, 14, 20, 190}"
      ]
     },
     "execution_count": 6,
     "metadata": {},
     "output_type": "execute_result"
    }
   ],
   "source": [
    "s2={10,20,3,9,190,1,7,14}\n",
    "s2"
   ]
  },
  {
   "cell_type": "code",
   "execution_count": 7,
   "id": "7198a3a3-f4ba-49d8-a6bb-69dfeb99248d",
   "metadata": {},
   "outputs": [
    {
     "data": {
      "text/plain": [
       "{1, 10, 14, 190, 20, 3, 7, 9, 'hello'}"
      ]
     },
     "execution_count": 7,
     "metadata": {},
     "output_type": "execute_result"
    }
   ],
   "source": [
    "s2.add('hello')\n",
    "s2"
   ]
  },
  {
   "cell_type": "code",
   "execution_count": 8,
   "id": "ac0d2243-a0c2-4c66-81c2-21bbcf75d3d2",
   "metadata": {},
   "outputs": [
    {
     "data": {
      "text/plain": [
       "{(1+2j), 1, 10, 14, 190, 20, 3, 4.5, 7, 9, 'hello'}"
      ]
     },
     "execution_count": 8,
     "metadata": {},
     "output_type": "execute_result"
    }
   ],
   "source": [
    "s2.add(1+2j)\n",
    "s2.add(True)\n",
    "s2.add(4.5)\n",
    "s2"
   ]
  },
  {
   "cell_type": "code",
   "execution_count": 9,
   "id": "d6aed442-3b00-4f1b-b08e-6e3392001ba7",
   "metadata": {},
   "outputs": [
    {
     "data": {
      "text/plain": [
       "{(1+2j), 1, 10, 14, 190, 20, 3, 4.5, 7, 9, 'hello'}"
      ]
     },
     "execution_count": 9,
     "metadata": {},
     "output_type": "execute_result"
    }
   ],
   "source": [
    "s3=s2.copy()\n",
    "s3"
   ]
  },
  {
   "cell_type": "code",
   "execution_count": 10,
   "id": "5c9b6cda-2774-414c-95d0-fc4095576c57",
   "metadata": {},
   "outputs": [
    {
     "data": {
      "text/plain": [
       "{(1+2j), 1, 10, 14, 190, 20, 3, 4.5, 7, 9, 'hello'}"
      ]
     },
     "execution_count": 10,
     "metadata": {},
     "output_type": "execute_result"
    }
   ],
   "source": [
    "s2\n"
   ]
  },
  {
   "cell_type": "code",
   "execution_count": 11,
   "id": "017a3abd-51b9-460c-b672-b5c9a709400f",
   "metadata": {},
   "outputs": [
    {
     "data": {
      "text/plain": [
       "{(1+2j), 1, 10, 14, 190, 20, 3, 4.5, 7, 9, 'hello'}"
      ]
     },
     "execution_count": 11,
     "metadata": {},
     "output_type": "execute_result"
    }
   ],
   "source": [
    "s3"
   ]
  },
  {
   "cell_type": "code",
   "execution_count": 13,
   "id": "0b612f8f-eff5-4990-a199-fc5bf2c91f88",
   "metadata": {},
   "outputs": [
    {
     "data": {
      "text/plain": [
       "{(1+2j), 1, 10, 14, 190, 20, 3, 4.5, 7, 9, 'hello'}"
      ]
     },
     "execution_count": 13,
     "metadata": {},
     "output_type": "execute_result"
    }
   ],
   "source": [
    "s4=s3.copy()\n",
    "s4"
   ]
  },
  {
   "cell_type": "code",
   "execution_count": 14,
   "id": "793ce776-c8e9-4aed-8052-82c1431e326a",
   "metadata": {},
   "outputs": [
    {
     "name": "stdout",
     "output_type": "stream",
     "text": [
      "{}\n",
      "set()\n",
      "{1, 3, 4.5, 7, 'hello', 9, 10, (1+2j), 14, 20, 190}\n",
      "{1, 3, 4.5, 7, 'hello', 9, 10, (1+2j), 14, 20, 190}\n",
      "{1, 3, 4.5, 7, 'hello', 9, 10, (1+2j), 14, 20, 190}\n"
     ]
    }
   ],
   "source": [
    "print(s)\n",
    "print(s1)\n",
    "print(s2)\n",
    "print(s3)\n",
    "print(s4)"
   ]
  },
  {
   "cell_type": "code",
   "execution_count": 15,
   "id": "b74d23a6-a28d-475c-85a8-0b89fd817342",
   "metadata": {},
   "outputs": [],
   "source": [
    "s4.clear()"
   ]
  },
  {
   "cell_type": "code",
   "execution_count": 16,
   "id": "facd90c5-e49c-41ec-a830-b23e2467ee13",
   "metadata": {},
   "outputs": [
    {
     "data": {
      "text/plain": [
       "set()"
      ]
     },
     "execution_count": 16,
     "metadata": {},
     "output_type": "execute_result"
    }
   ],
   "source": [
    "s4"
   ]
  },
  {
   "cell_type": "code",
   "execution_count": 17,
   "id": "5ef27345-6672-4ec9-b9be-cd15e51d4443",
   "metadata": {},
   "outputs": [
    {
     "name": "stdout",
     "output_type": "stream",
     "text": [
      "{}\n",
      "set()\n",
      "{1, 3, 4.5, 7, 'hello', 9, 10, (1+2j), 14, 20, 190}\n",
      "{1, 3, 4.5, 7, 'hello', 9, 10, (1+2j), 14, 20, 190}\n",
      "set()\n"
     ]
    }
   ],
   "source": [
    "print(s)\n",
    "print(s1)\n",
    "print(s2)\n",
    "print(s3)\n",
    "print(s4)"
   ]
  },
  {
   "cell_type": "code",
   "execution_count": 18,
   "id": "638f5995-8012-4391-9280-cb69f3a31ca3",
   "metadata": {},
   "outputs": [],
   "source": [
    "del s"
   ]
  },
  {
   "cell_type": "code",
   "execution_count": 19,
   "id": "988fce63-df84-4265-89d9-f4b8cb707ecc",
   "metadata": {},
   "outputs": [
    {
     "ename": "NameError",
     "evalue": "name 's' is not defined",
     "output_type": "error",
     "traceback": [
      "\u001b[1;31m---------------------------------------------------------------------------\u001b[0m",
      "\u001b[1;31mNameError\u001b[0m                                 Traceback (most recent call last)",
      "Cell \u001b[1;32mIn[19], line 1\u001b[0m\n\u001b[1;32m----> 1\u001b[0m \u001b[38;5;28mprint\u001b[39m(\u001b[43ms\u001b[49m)\n\u001b[0;32m      2\u001b[0m \u001b[38;5;28mprint\u001b[39m(s1)\n\u001b[0;32m      3\u001b[0m \u001b[38;5;28mprint\u001b[39m(s2)\n",
      "\u001b[1;31mNameError\u001b[0m: name 's' is not defined"
     ]
    }
   ],
   "source": [
    "print(s)\n",
    "print(s1)\n",
    "print(s2)\n",
    "print(s3)\n",
    "print(s4)"
   ]
  },
  {
   "cell_type": "code",
   "execution_count": 20,
   "id": "73cb80c8-5421-4a01-8c00-67dee37e6727",
   "metadata": {},
   "outputs": [
    {
     "name": "stdout",
     "output_type": "stream",
     "text": [
      "set()\n",
      "{1, 3, 4.5, 7, 'hello', 9, 10, (1+2j), 14, 20, 190}\n",
      "{1, 3, 4.5, 7, 'hello', 9, 10, (1+2j), 14, 20, 190}\n",
      "set()\n"
     ]
    },
    {
     "ename": "NameError",
     "evalue": "name 's' is not defined",
     "output_type": "error",
     "traceback": [
      "\u001b[1;31m---------------------------------------------------------------------------\u001b[0m",
      "\u001b[1;31mNameError\u001b[0m                                 Traceback (most recent call last)",
      "Cell \u001b[1;32mIn[20], line 5\u001b[0m\n\u001b[0;32m      3\u001b[0m \u001b[38;5;28mprint\u001b[39m(s3)\n\u001b[0;32m      4\u001b[0m \u001b[38;5;28mprint\u001b[39m(s4)\n\u001b[1;32m----> 5\u001b[0m \u001b[38;5;28mprint\u001b[39m(\u001b[43ms\u001b[49m)\n",
      "\u001b[1;31mNameError\u001b[0m: name 's' is not defined"
     ]
    }
   ],
   "source": [
    "print(s1)\n",
    "print(s2)\n",
    "print(s3)\n",
    "print(s4)\n",
    "print(s)"
   ]
  },
  {
   "cell_type": "code",
   "execution_count": 21,
   "id": "79e088bd-0f17-4ecb-9f90-76fe59c7df05",
   "metadata": {},
   "outputs": [
    {
     "data": {
      "text/plain": [
       "{(1+2j), 1, 10, 14, 190, 20, 3, 4.5, 7, 9, 'hello'}"
      ]
     },
     "execution_count": 21,
     "metadata": {},
     "output_type": "execute_result"
    }
   ],
   "source": [
    "s3"
   ]
  },
  {
   "cell_type": "code",
   "execution_count": 23,
   "id": "618f858a-958c-4cc9-9409-828eab34335b",
   "metadata": {},
   "outputs": [
    {
     "data": {
      "text/plain": [
       "11"
      ]
     },
     "execution_count": 23,
     "metadata": {},
     "output_type": "execute_result"
    }
   ],
   "source": [
    "len(s3)"
   ]
  },
  {
   "cell_type": "code",
   "execution_count": 24,
   "id": "75016dfa-284f-4b87-a2fe-4310bbddce3f",
   "metadata": {},
   "outputs": [
    {
     "data": {
      "text/plain": [
       "0"
      ]
     },
     "execution_count": 24,
     "metadata": {},
     "output_type": "execute_result"
    }
   ],
   "source": [
    "len(s4)"
   ]
  },
  {
   "cell_type": "code",
   "execution_count": 25,
   "id": "14b3a596-6099-42b4-8215-26ba08c15a7c",
   "metadata": {},
   "outputs": [],
   "source": [
    "del s4"
   ]
  },
  {
   "cell_type": "code",
   "execution_count": 26,
   "id": "c5b239ec-7aef-46ba-b087-b40da85dd206",
   "metadata": {},
   "outputs": [
    {
     "ename": "NameError",
     "evalue": "name 's4' is not defined",
     "output_type": "error",
     "traceback": [
      "\u001b[1;31m---------------------------------------------------------------------------\u001b[0m",
      "\u001b[1;31mNameError\u001b[0m                                 Traceback (most recent call last)",
      "Cell \u001b[1;32mIn[26], line 1\u001b[0m\n\u001b[1;32m----> 1\u001b[0m \u001b[43ms4\u001b[49m\n",
      "\u001b[1;31mNameError\u001b[0m: name 's4' is not defined"
     ]
    }
   ],
   "source": [
    "s4"
   ]
  },
  {
   "cell_type": "code",
   "execution_count": 27,
   "id": "15f5c7f3-5e07-465c-b45f-ef72d4918d6a",
   "metadata": {},
   "outputs": [
    {
     "data": {
      "text/plain": [
       "{(1+2j), 1, 10, 14, 190, 20, 3, 4.5, 7, 9, 'hello'}"
      ]
     },
     "execution_count": 27,
     "metadata": {},
     "output_type": "execute_result"
    }
   ],
   "source": [
    "s3"
   ]
  },
  {
   "cell_type": "code",
   "execution_count": 28,
   "id": "2c1e71c0-9f23-4ea4-9ce7-66baf8bd4ac1",
   "metadata": {},
   "outputs": [
    {
     "data": {
      "text/plain": [
       "1"
      ]
     },
     "execution_count": 28,
     "metadata": {},
     "output_type": "execute_result"
    }
   ],
   "source": [
    "s3.pop()"
   ]
  },
  {
   "cell_type": "code",
   "execution_count": 29,
   "id": "bcc43288-5314-46ef-a04f-49a748a842da",
   "metadata": {},
   "outputs": [
    {
     "data": {
      "text/plain": [
       "{(1+2j), 10, 14, 190, 20, 3, 4.5, 7, 9, 'hello'}"
      ]
     },
     "execution_count": 29,
     "metadata": {},
     "output_type": "execute_result"
    }
   ],
   "source": [
    "s3"
   ]
  },
  {
   "cell_type": "code",
   "execution_count": 33,
   "id": "ee53be96-2599-4b52-94bf-3beafe21a126",
   "metadata": {},
   "outputs": [
    {
     "data": {
      "text/plain": [
       "{(1+2j), 1, 10, 14, 190, 20, 3, 4.5, 7, 9, 'hello'}"
      ]
     },
     "execution_count": 33,
     "metadata": {},
     "output_type": "execute_result"
    }
   ],
   "source": [
    "s2"
   ]
  },
  {
   "cell_type": "code",
   "execution_count": 34,
   "id": "9dfb8b7e-6c46-4c32-bba4-14cd200f4627",
   "metadata": {},
   "outputs": [
    {
     "data": {
      "text/plain": [
       "{(1+2j), 10, 14, 190, 20, 3, 4.5, 7, 9, 'hello'}"
      ]
     },
     "execution_count": 34,
     "metadata": {},
     "output_type": "execute_result"
    }
   ],
   "source": [
    "s3"
   ]
  },
  {
   "cell_type": "code",
   "execution_count": 36,
   "id": "451803de-9021-4414-9088-bafb90ae4d63",
   "metadata": {},
   "outputs": [
    {
     "data": {
      "text/plain": [
       "{10, 14, 190, 20, 3, 4.5, 7, 9, 'hello'}"
      ]
     },
     "execution_count": 36,
     "metadata": {},
     "output_type": "execute_result"
    }
   ],
   "source": [
    "s3.remove((1+2j))\n",
    "s3"
   ]
  },
  {
   "cell_type": "code",
   "execution_count": 37,
   "id": "0ed6229e-dcdc-40ce-82dc-75bf1289d1b1",
   "metadata": {},
   "outputs": [
    {
     "data": {
      "text/plain": [
       "{10, 14, 190, 20, 3, 4.5, 7, 9, 'hello'}"
      ]
     },
     "execution_count": 37,
     "metadata": {},
     "output_type": "execute_result"
    }
   ],
   "source": [
    "s3"
   ]
  },
  {
   "cell_type": "code",
   "execution_count": 38,
   "id": "459cf2ab-84d9-4dfb-8f2b-85e8a48d3356",
   "metadata": {},
   "outputs": [
    {
     "data": {
      "text/plain": [
       "{10, 14, 190, 20, 3, 4.5, 7, 9, 'hello'}"
      ]
     },
     "execution_count": 38,
     "metadata": {},
     "output_type": "execute_result"
    }
   ],
   "source": [
    "s3.discard(100)\n",
    "s3"
   ]
  },
  {
   "cell_type": "code",
   "execution_count": 39,
   "id": "235beff9-96e9-4a2e-9d70-f530cbbaebda",
   "metadata": {},
   "outputs": [
    {
     "ename": "KeyError",
     "evalue": "100",
     "output_type": "error",
     "traceback": [
      "\u001b[1;31m---------------------------------------------------------------------------\u001b[0m",
      "\u001b[1;31mKeyError\u001b[0m                                  Traceback (most recent call last)",
      "Cell \u001b[1;32mIn[39], line 1\u001b[0m\n\u001b[1;32m----> 1\u001b[0m \u001b[43ms3\u001b[49m\u001b[38;5;241;43m.\u001b[39;49m\u001b[43mremove\u001b[49m\u001b[43m(\u001b[49m\u001b[38;5;241;43m100\u001b[39;49m\u001b[43m)\u001b[49m\n",
      "\u001b[1;31mKeyError\u001b[0m: 100"
     ]
    }
   ],
   "source": [
    "s3.remove(100)"
   ]
  },
  {
   "cell_type": "code",
   "execution_count": 43,
   "id": "23df01bf-581f-4cb8-a0a2-df1bd639fc23",
   "metadata": {},
   "outputs": [],
   "source": [
    "s3.discard(190)"
   ]
  },
  {
   "cell_type": "code",
   "execution_count": 44,
   "id": "f39fca3d-45ed-4d1b-82c9-386e3e676021",
   "metadata": {},
   "outputs": [
    {
     "data": {
      "text/plain": [
       "{10, 14, 20, 3, 4.5, 7, 9, 'hello'}"
      ]
     },
     "execution_count": 44,
     "metadata": {},
     "output_type": "execute_result"
    }
   ],
   "source": [
    "s3"
   ]
  },
  {
   "cell_type": "code",
   "execution_count": 46,
   "id": "f0a146a3-0a3a-46e4-949a-9af186df6782",
   "metadata": {},
   "outputs": [
    {
     "data": {
      "text/plain": [
       "{(1+2j), 1, 10, 14, 190, 20, 3, 4.5, 7, 9, 'hello'}"
      ]
     },
     "execution_count": 46,
     "metadata": {},
     "output_type": "execute_result"
    }
   ],
   "source": [
    "s2"
   ]
  },
  {
   "cell_type": "code",
   "execution_count": 48,
   "id": "644e40ff-36b2-424c-95c4-28d6a1bb142f",
   "metadata": {},
   "outputs": [
    {
     "name": "stdout",
     "output_type": "stream",
     "text": [
      "1\n",
      "3\n",
      "4.5\n",
      "7\n",
      "hello\n",
      "9\n",
      "10\n",
      "(1+2j)\n",
      "14\n",
      "20\n",
      "190\n"
     ]
    }
   ],
   "source": [
    "for i in s2:\n",
    "    print(i)"
   ]
  },
  {
   "cell_type": "code",
   "execution_count": 49,
   "id": "bafb1be6-a261-481a-ab98-993688ae6f3c",
   "metadata": {},
   "outputs": [
    {
     "name": "stdout",
     "output_type": "stream",
     "text": [
      "(0, 1)\n",
      "(1, 3)\n",
      "(2, 4.5)\n",
      "(3, 7)\n",
      "(4, 'hello')\n",
      "(5, 9)\n",
      "(6, 10)\n",
      "(7, (1+2j))\n",
      "(8, 14)\n",
      "(9, 20)\n",
      "(10, 190)\n"
     ]
    }
   ],
   "source": [
    "for i in enumerate(s2):\n",
    "    print(i)"
   ]
  },
  {
   "cell_type": "code",
   "execution_count": 50,
   "id": "7724c3f5-e892-4e91-935e-73fc30610add",
   "metadata": {},
   "outputs": [
    {
     "data": {
      "text/plain": [
       "{(1+2j), 1, 10, 14, 190, 20, 3, 4.5, 7, 9, 'hello'}"
      ]
     },
     "execution_count": 50,
     "metadata": {},
     "output_type": "execute_result"
    }
   ],
   "source": [
    "s2"
   ]
  },
  {
   "cell_type": "code",
   "execution_count": 51,
   "id": "61abd76f-6b3e-4690-b3ad-4d3443d8c61f",
   "metadata": {},
   "outputs": [
    {
     "ename": "TypeError",
     "evalue": "'set' object is not subscriptable",
     "output_type": "error",
     "traceback": [
      "\u001b[1;31m---------------------------------------------------------------------------\u001b[0m",
      "\u001b[1;31mTypeError\u001b[0m                                 Traceback (most recent call last)",
      "Cell \u001b[1;32mIn[51], line 1\u001b[0m\n\u001b[1;32m----> 1\u001b[0m \u001b[43ms2\u001b[49m\u001b[43m[\u001b[49m\u001b[43m:\u001b[49m\u001b[43m]\u001b[49m\n",
      "\u001b[1;31mTypeError\u001b[0m: 'set' object is not subscriptable"
     ]
    }
   ],
   "source": [
    "s2[:]"
   ]
  },
  {
   "cell_type": "code",
   "execution_count": 52,
   "id": "50a84487-6323-4c35-a3b4-fb453e5bda6e",
   "metadata": {},
   "outputs": [
    {
     "ename": "TypeError",
     "evalue": "'set' object is not subscriptable",
     "output_type": "error",
     "traceback": [
      "\u001b[1;31m---------------------------------------------------------------------------\u001b[0m",
      "\u001b[1;31mTypeError\u001b[0m                                 Traceback (most recent call last)",
      "Cell \u001b[1;32mIn[52], line 1\u001b[0m\n\u001b[1;32m----> 1\u001b[0m \u001b[43ms2\u001b[49m\u001b[43m[\u001b[49m\u001b[38;5;241;43m3\u001b[39;49m\u001b[43m]\u001b[49m\n",
      "\u001b[1;31mTypeError\u001b[0m: 'set' object is not subscriptable"
     ]
    }
   ],
   "source": [
    "s2[3]"
   ]
  },
  {
   "cell_type": "markdown",
   "id": "2e7ab95c-c260-4fcf-aec9-0ff1d390f130",
   "metadata": {},
   "source": [
    "SET OPERATION"
   ]
  },
  {
   "cell_type": "code",
   "execution_count": 53,
   "id": "91934bb1-ff51-42c4-b283-b51fa7f065fd",
   "metadata": {},
   "outputs": [],
   "source": [
    "A={1,2,3,4,5}\n",
    "B={4,5,6,7,8}\n",
    "C={8,9,10}"
   ]
  },
  {
   "cell_type": "code",
   "execution_count": 54,
   "id": "40093c42-12d6-4be8-a8d6-be72f8a5f19e",
   "metadata": {},
   "outputs": [
    {
     "data": {
      "text/plain": [
       "{1, 2, 3, 4, 5, 6, 7, 8}"
      ]
     },
     "execution_count": 54,
     "metadata": {},
     "output_type": "execute_result"
    }
   ],
   "source": [
    "A|B"
   ]
  },
  {
   "cell_type": "code",
   "execution_count": 55,
   "id": "46d36a0e-b46d-4a6f-883d-da8b4b20bd24",
   "metadata": {},
   "outputs": [
    {
     "data": {
      "text/plain": [
       "{1, 2, 3, 4, 5, 6, 7, 8}"
      ]
     },
     "execution_count": 55,
     "metadata": {},
     "output_type": "execute_result"
    }
   ],
   "source": [
    "A.union(B)"
   ]
  },
  {
   "cell_type": "code",
   "execution_count": 56,
   "id": "12875290-266c-4d5a-a94b-58ee15d082cc",
   "metadata": {},
   "outputs": [
    {
     "data": {
      "text/plain": [
       "{1, 2, 3, 4, 5, 8, 9, 10}"
      ]
     },
     "execution_count": 56,
     "metadata": {},
     "output_type": "execute_result"
    }
   ],
   "source": [
    "A.union(C)"
   ]
  },
  {
   "cell_type": "code",
   "execution_count": 57,
   "id": "66ce6add-506d-4de8-86d2-bfcefbf2c35a",
   "metadata": {},
   "outputs": [
    {
     "data": {
      "text/plain": [
       "{1, 2, 3, 4, 5, 6, 7, 8}"
      ]
     },
     "execution_count": 57,
     "metadata": {},
     "output_type": "execute_result"
    }
   ],
   "source": [
    "B.union(A)"
   ]
  },
  {
   "cell_type": "code",
   "execution_count": 58,
   "id": "e6f51786-46a4-4e89-81d8-99409c1f173d",
   "metadata": {},
   "outputs": [
    {
     "data": {
      "text/plain": [
       "{4, 5, 6, 7, 8, 9, 10}"
      ]
     },
     "execution_count": 58,
     "metadata": {},
     "output_type": "execute_result"
    }
   ],
   "source": [
    "B.union(C)"
   ]
  },
  {
   "cell_type": "code",
   "execution_count": 59,
   "id": "9d7621c8-1f73-4c41-8cf9-03fd6a0e1b5f",
   "metadata": {},
   "outputs": [
    {
     "data": {
      "text/plain": [
       "{1, 2, 3, 4, 5, 8, 9, 10}"
      ]
     },
     "execution_count": 59,
     "metadata": {},
     "output_type": "execute_result"
    }
   ],
   "source": [
    "C.union(A)"
   ]
  },
  {
   "cell_type": "code",
   "execution_count": 60,
   "id": "3f1ce9c6-f0e5-4925-bd50-622838126fc4",
   "metadata": {},
   "outputs": [
    {
     "data": {
      "text/plain": [
       "{4, 5, 6, 7, 8, 9, 10}"
      ]
     },
     "execution_count": 60,
     "metadata": {},
     "output_type": "execute_result"
    }
   ],
   "source": [
    "C.union(B)"
   ]
  },
  {
   "cell_type": "code",
   "execution_count": 61,
   "id": "dccb961e-9ec8-4bbe-bb48-20b703c6c62e",
   "metadata": {},
   "outputs": [
    {
     "data": {
      "text/plain": [
       "{1, 2, 3, 4, 5, 6, 7, 8, 9, 10}"
      ]
     },
     "execution_count": 61,
     "metadata": {},
     "output_type": "execute_result"
    }
   ],
   "source": [
    "A.union(B,C)"
   ]
  },
  {
   "cell_type": "code",
   "execution_count": 62,
   "id": "3c58d5b6-e593-4e04-bb3d-536e2a85266f",
   "metadata": {},
   "outputs": [
    {
     "data": {
      "text/plain": [
       "{1, 2, 3, 4, 5, 6, 7, 8, 9, 10}"
      ]
     },
     "execution_count": 62,
     "metadata": {},
     "output_type": "execute_result"
    }
   ],
   "source": [
    "B.union(A,C)"
   ]
  },
  {
   "cell_type": "code",
   "execution_count": 64,
   "id": "740a9d2c-8608-4c20-b650-9fc7a29192bf",
   "metadata": {},
   "outputs": [
    {
     "data": {
      "text/plain": [
       "{1, 2, 3, 4, 5, 6, 7, 8, 9, 10}"
      ]
     },
     "execution_count": 64,
     "metadata": {},
     "output_type": "execute_result"
    }
   ],
   "source": [
    "B|A|C"
   ]
  },
  {
   "cell_type": "code",
   "execution_count": 65,
   "id": "42e94536-b039-40cd-a0d1-b992aec46ff9",
   "metadata": {},
   "outputs": [
    {
     "name": "stdout",
     "output_type": "stream",
     "text": [
      "{1, 2, 3, 4, 5}\n",
      "{4, 5, 6, 7, 8}\n",
      "{8, 9, 10}\n"
     ]
    }
   ],
   "source": [
    "print(A)\n",
    "print(B)\n",
    "print(C)\n"
   ]
  },
  {
   "cell_type": "code",
   "execution_count": 66,
   "id": "3ddabef9-dbe8-4c75-a8df-9a180f1c73d4",
   "metadata": {},
   "outputs": [
    {
     "data": {
      "text/plain": [
       "{4, 5}"
      ]
     },
     "execution_count": 66,
     "metadata": {},
     "output_type": "execute_result"
    }
   ],
   "source": [
    "A&B"
   ]
  },
  {
   "cell_type": "code",
   "execution_count": 68,
   "id": "9121d478-00ce-408e-b261-caf1e636ee77",
   "metadata": {},
   "outputs": [
    {
     "data": {
      "text/plain": [
       "{4, 5, 6, 7, 8}"
      ]
     },
     "execution_count": 68,
     "metadata": {},
     "output_type": "execute_result"
    }
   ],
   "source": [
    "B.intersection(C)\n",
    "B"
   ]
  },
  {
   "cell_type": "code",
   "execution_count": 69,
   "id": "99ab9f3b-2e5c-49d4-b660-2e2e42cbc55c",
   "metadata": {},
   "outputs": [
    {
     "data": {
      "text/plain": [
       "set()"
      ]
     },
     "execution_count": 69,
     "metadata": {},
     "output_type": "execute_result"
    }
   ],
   "source": [
    "A & C"
   ]
  },
  {
   "cell_type": "code",
   "execution_count": 70,
   "id": "c16cac11-aa65-46ef-bf0c-c08997f3cff6",
   "metadata": {},
   "outputs": [
    {
     "data": {
      "text/plain": [
       "{1, 2, 3, 4, 5}"
      ]
     },
     "execution_count": 70,
     "metadata": {},
     "output_type": "execute_result"
    }
   ],
   "source": [
    "A"
   ]
  },
  {
   "cell_type": "code",
   "execution_count": 71,
   "id": "0aa5be0b-edf3-427c-a0ca-00360db9c706",
   "metadata": {},
   "outputs": [
    {
     "data": {
      "text/plain": [
       "{4, 5, 6, 7, 8}"
      ]
     },
     "execution_count": 71,
     "metadata": {},
     "output_type": "execute_result"
    }
   ],
   "source": [
    "B"
   ]
  },
  {
   "cell_type": "code",
   "execution_count": 72,
   "id": "bfaaebd6-f9de-4e3c-92d3-6822e62a6131",
   "metadata": {},
   "outputs": [],
   "source": [
    "A.update(B)"
   ]
  },
  {
   "cell_type": "code",
   "execution_count": 73,
   "id": "7f07f04e-8945-43c2-ac97-db9a5f6e2610",
   "metadata": {},
   "outputs": [
    {
     "data": {
      "text/plain": [
       "{1, 2, 3, 4, 5, 6, 7, 8}"
      ]
     },
     "execution_count": 73,
     "metadata": {},
     "output_type": "execute_result"
    }
   ],
   "source": [
    "A"
   ]
  },
  {
   "cell_type": "code",
   "execution_count": 74,
   "id": "16c4fbbe-606f-4af3-a027-b0d16fff49c9",
   "metadata": {},
   "outputs": [
    {
     "data": {
      "text/plain": [
       "{4, 5, 6, 7, 8}"
      ]
     },
     "execution_count": 74,
     "metadata": {},
     "output_type": "execute_result"
    }
   ],
   "source": [
    "B"
   ]
  },
  {
   "cell_type": "code",
   "execution_count": 75,
   "id": "273fe48e-79a5-450c-aa3d-c8c7a61d8211",
   "metadata": {},
   "outputs": [],
   "source": [
    "B.update(A,C)"
   ]
  },
  {
   "cell_type": "code",
   "execution_count": 76,
   "id": "25241e7c-0fdb-4f54-9e0e-d79b2624a164",
   "metadata": {},
   "outputs": [
    {
     "data": {
      "text/plain": [
       "{1, 2, 3, 4, 5, 6, 7, 8, 9, 10}"
      ]
     },
     "execution_count": 76,
     "metadata": {},
     "output_type": "execute_result"
    }
   ],
   "source": [
    "B"
   ]
  },
  {
   "cell_type": "code",
   "execution_count": 77,
   "id": "8a0c6bc1-1923-452c-832c-3ca8ba23755a",
   "metadata": {},
   "outputs": [
    {
     "name": "stdout",
     "output_type": "stream",
     "text": [
      "{1, 2, 3, 4, 5, 6, 7, 8}\n",
      "{1, 2, 3, 4, 5, 6, 7, 8, 9, 10}\n",
      "{8, 9, 10}\n"
     ]
    }
   ],
   "source": [
    "print(A)\n",
    "print(B)\n",
    "print(C)"
   ]
  },
  {
   "cell_type": "code",
   "execution_count": 78,
   "id": "a01df260-6848-435b-a871-a98dc67b08be",
   "metadata": {},
   "outputs": [
    {
     "data": {
      "text/plain": [
       "set()"
      ]
     },
     "execution_count": 78,
     "metadata": {},
     "output_type": "execute_result"
    }
   ],
   "source": [
    "A-B"
   ]
  },
  {
   "cell_type": "code",
   "execution_count": 79,
   "id": "877f16a1-2270-45b4-9192-cb18a71e8b95",
   "metadata": {},
   "outputs": [
    {
     "data": {
      "text/plain": [
       "{1, 2, 3, 4, 5, 6, 7, 8}"
      ]
     },
     "execution_count": 79,
     "metadata": {},
     "output_type": "execute_result"
    }
   ],
   "source": [
    "A"
   ]
  },
  {
   "cell_type": "code",
   "execution_count": 80,
   "id": "043e1264-9ec1-41a5-b1af-84aa70a58e0f",
   "metadata": {},
   "outputs": [
    {
     "data": {
      "text/plain": [
       "{9, 10}"
      ]
     },
     "execution_count": 80,
     "metadata": {},
     "output_type": "execute_result"
    }
   ],
   "source": [
    "B-A"
   ]
  },
  {
   "cell_type": "code",
   "execution_count": 83,
   "id": "b5ef5901-f687-4d51-af13-ea3054868e3a",
   "metadata": {},
   "outputs": [
    {
     "data": {
      "text/plain": [
       "{1, 2, 3, 4, 5, 6, 7}"
      ]
     },
     "execution_count": 83,
     "metadata": {},
     "output_type": "execute_result"
    }
   ],
   "source": [
    "B.difference(C)\n"
   ]
  },
  {
   "cell_type": "code",
   "execution_count": 85,
   "id": "5548e191-1c42-42fb-9f39-3a88722d3cec",
   "metadata": {},
   "outputs": [
    {
     "name": "stdout",
     "output_type": "stream",
     "text": [
      "{1, 2, 3, 4, 5, 6, 7, 8}\n",
      "{1, 2, 3, 4, 5, 6, 7, 8, 9, 10}\n",
      "{8, 9, 10}\n"
     ]
    }
   ],
   "source": [
    "print(A)\n",
    "print(B)\n",
    "print(C)"
   ]
  },
  {
   "cell_type": "code",
   "execution_count": 86,
   "id": "7a217db4-de3a-453a-bb68-b7f913b7279a",
   "metadata": {},
   "outputs": [
    {
     "data": {
      "text/plain": [
       "{9, 10}"
      ]
     },
     "execution_count": 86,
     "metadata": {},
     "output_type": "execute_result"
    }
   ],
   "source": [
    "B.symmetric_difference(A)"
   ]
  },
  {
   "cell_type": "code",
   "execution_count": 88,
   "id": "2f9114db-c601-4f09-81c3-c42b4fb66d6e",
   "metadata": {},
   "outputs": [
    {
     "data": {
      "text/plain": [
       "{1, 2, 3, 4, 5, 6, 7}"
      ]
     },
     "execution_count": 88,
     "metadata": {},
     "output_type": "execute_result"
    }
   ],
   "source": [
    "B.symmetric_difference(C)"
   ]
  },
  {
   "cell_type": "code",
   "execution_count": 89,
   "id": "d4781dcc-7b5c-4e36-9f3a-597c5059cf73",
   "metadata": {},
   "outputs": [
    {
     "data": {
      "text/plain": [
       "{1, 2, 3, 4, 5, 6, 7, 9, 10}"
      ]
     },
     "execution_count": 89,
     "metadata": {},
     "output_type": "execute_result"
    }
   ],
   "source": [
    "A.symmetric_difference(C)"
   ]
  },
  {
   "cell_type": "code",
   "execution_count": 90,
   "id": "9f695cbd-e7ee-42d3-8cd2-ef37f599d892",
   "metadata": {},
   "outputs": [
    {
     "data": {
      "text/plain": [
       "{9, 10}"
      ]
     },
     "execution_count": 90,
     "metadata": {},
     "output_type": "execute_result"
    }
   ],
   "source": [
    "A.symmetric_difference(B)"
   ]
  },
  {
   "cell_type": "code",
   "execution_count": 91,
   "id": "433b75d5-e10c-449c-822d-a078d2c75751",
   "metadata": {},
   "outputs": [],
   "source": [
    "A1={1,2,3,4,5}\n",
    "B1={4,5,6,7,8}\n",
    "C1={8,9,10}"
   ]
  },
  {
   "cell_type": "code",
   "execution_count": 92,
   "id": "2bfad89d-d5d6-40a7-8f55-5b454242068d",
   "metadata": {},
   "outputs": [
    {
     "data": {
      "text/plain": [
       "{1, 2, 3}"
      ]
     },
     "execution_count": 92,
     "metadata": {},
     "output_type": "execute_result"
    }
   ],
   "source": [
    "A1.difference(B1)"
   ]
  },
  {
   "cell_type": "code",
   "execution_count": 93,
   "id": "a61a4110-3f5d-45f3-aee0-571c9188284b",
   "metadata": {},
   "outputs": [
    {
     "data": {
      "text/plain": [
       "{6, 7, 8}"
      ]
     },
     "execution_count": 93,
     "metadata": {},
     "output_type": "execute_result"
    }
   ],
   "source": [
    "B1.difference(A1)"
   ]
  },
  {
   "cell_type": "code",
   "execution_count": 94,
   "id": "997e5d66-8b9e-4f19-ac09-c8e892e3611d",
   "metadata": {},
   "outputs": [
    {
     "data": {
      "text/plain": [
       "{4, 5, 6, 7}"
      ]
     },
     "execution_count": 94,
     "metadata": {},
     "output_type": "execute_result"
    }
   ],
   "source": [
    "B1.difference(C1)"
   ]
  },
  {
   "cell_type": "code",
   "execution_count": 95,
   "id": "5b2c031b-c5e3-4624-8071-402887f58829",
   "metadata": {},
   "outputs": [
    {
     "data": {
      "text/plain": [
       "{8, 9, 10}"
      ]
     },
     "execution_count": 95,
     "metadata": {},
     "output_type": "execute_result"
    }
   ],
   "source": [
    "C1.difference(A1)"
   ]
  },
  {
   "cell_type": "code",
   "execution_count": 96,
   "id": "70db8376-6532-48a0-846c-7c157636b6d6",
   "metadata": {},
   "outputs": [
    {
     "data": {
      "text/plain": [
       "{9, 10}"
      ]
     },
     "execution_count": 96,
     "metadata": {},
     "output_type": "execute_result"
    }
   ],
   "source": [
    "C1.difference(B1)"
   ]
  },
  {
   "cell_type": "code",
   "execution_count": 97,
   "id": "d98ad988-212f-49a3-a2b8-7368276a9c73",
   "metadata": {},
   "outputs": [
    {
     "data": {
      "text/plain": [
       "{1, 2, 3, 6, 7, 8}"
      ]
     },
     "execution_count": 97,
     "metadata": {},
     "output_type": "execute_result"
    }
   ],
   "source": [
    "A1.symmetric_difference(B1)"
   ]
  },
  {
   "cell_type": "code",
   "execution_count": 99,
   "id": "bd157705-8e25-4981-b5d8-450270d13012",
   "metadata": {},
   "outputs": [
    {
     "data": {
      "text/plain": [
       "{4, 5, 6, 7, 9, 10}"
      ]
     },
     "execution_count": 99,
     "metadata": {},
     "output_type": "execute_result"
    }
   ],
   "source": [
    "B1.symmetric_difference(C1)"
   ]
  },
  {
   "cell_type": "code",
   "execution_count": 100,
   "id": "823f1599-24e0-4c43-98e3-a0fec9d0ed5b",
   "metadata": {},
   "outputs": [
    {
     "data": {
      "text/plain": [
       "{1, 2, 3, 6, 7, 8}"
      ]
     },
     "execution_count": 100,
     "metadata": {},
     "output_type": "execute_result"
    }
   ],
   "source": [
    "B1^A1"
   ]
  },
  {
   "cell_type": "code",
   "execution_count": 101,
   "id": "cbf97a77-1c3f-4b50-ae0c-c7fbfeb7e5fa",
   "metadata": {},
   "outputs": [
    {
     "data": {
      "text/plain": [
       "{1, 2, 3, 4, 5}"
      ]
     },
     "execution_count": 101,
     "metadata": {},
     "output_type": "execute_result"
    }
   ],
   "source": [
    "A1"
   ]
  },
  {
   "cell_type": "code",
   "execution_count": 102,
   "id": "1e176e36-e8c8-41f9-b668-81fa6f5e21f1",
   "metadata": {},
   "outputs": [],
   "source": [
    "A1.symmetric_difference_update(B1)"
   ]
  },
  {
   "cell_type": "code",
   "execution_count": 103,
   "id": "aac62080-5909-41b2-b2fa-684dcd0cfe32",
   "metadata": {},
   "outputs": [
    {
     "data": {
      "text/plain": [
       "{1, 2, 3, 6, 7, 8}"
      ]
     },
     "execution_count": 103,
     "metadata": {},
     "output_type": "execute_result"
    }
   ],
   "source": [
    "A1"
   ]
  },
  {
   "cell_type": "code",
   "execution_count": null,
   "id": "9bdbe73d-f216-4be5-8947-05d5d018e021",
   "metadata": {},
   "outputs": [],
   "source": []
  }
 ],
 "metadata": {
  "kernelspec": {
   "display_name": "Python 3 (ipykernel)",
   "language": "python",
   "name": "python3"
  },
  "language_info": {
   "codemirror_mode": {
    "name": "ipython",
    "version": 3
   },
   "file_extension": ".py",
   "mimetype": "text/x-python",
   "name": "python",
   "nbconvert_exporter": "python",
   "pygments_lexer": "ipython3",
   "version": "3.12.4"
  }
 },
 "nbformat": 4,
 "nbformat_minor": 5
}
