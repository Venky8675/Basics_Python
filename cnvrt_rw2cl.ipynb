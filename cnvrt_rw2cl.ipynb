{
 "cells": [
  {
   "cell_type": "code",
   "execution_count": 1,
   "id": "c81653c6-98e3-40b4-8397-24f10d53a2af",
   "metadata": {},
   "outputs": [],
   "source": [
    "import pandas as pd"
   ]
  },
  {
   "cell_type": "code",
   "execution_count": 7,
   "id": "64f9bbce-c48f-49a2-b857-def39ddece29",
   "metadata": {},
   "outputs": [],
   "source": [
    "data=pd.read_excel(r\"D:\\DS_NIT\\Oct_24\\Pandas\\TASK -- convert raw data - clean data.xlsx\")"
   ]
  },
  {
   "cell_type": "code",
   "execution_count": 8,
   "id": "00a3da37-ac25-4675-94b2-888cfe9bc9cd",
   "metadata": {},
   "outputs": [
    {
     "data": {
      "text/html": [
       "<div>\n",
       "<style scoped>\n",
       "    .dataframe tbody tr th:only-of-type {\n",
       "        vertical-align: middle;\n",
       "    }\n",
       "\n",
       "    .dataframe tbody tr th {\n",
       "        vertical-align: top;\n",
       "    }\n",
       "\n",
       "    .dataframe thead th {\n",
       "        text-align: right;\n",
       "    }\n",
       "</style>\n",
       "<table border=\"1\" class=\"dataframe\">\n",
       "  <thead>\n",
       "    <tr style=\"text-align: right;\">\n",
       "      <th></th>\n",
       "      <th>Unnamed: 0</th>\n",
       "      <th>Unnamed: 1</th>\n",
       "      <th>Unnamed: 2</th>\n",
       "      <th>Unnamed: 3</th>\n",
       "      <th>Unnamed: 4</th>\n",
       "      <th>Unnamed: 5</th>\n",
       "      <th>Unnamed: 6</th>\n",
       "      <th>Unnamed: 7</th>\n",
       "      <th>Unnamed: 8</th>\n",
       "      <th>Unnamed: 9</th>\n",
       "      <th>Unnamed: 10</th>\n",
       "      <th>Unnamed: 11</th>\n",
       "      <th>Unnamed: 12</th>\n",
       "      <th>Unnamed: 13</th>\n",
       "    </tr>\n",
       "  </thead>\n",
       "  <tbody>\n",
       "    <tr>\n",
       "      <th>0</th>\n",
       "      <td>NaN</td>\n",
       "      <td>THIS IS NOT CLEAN DATA</td>\n",
       "      <td>NaN</td>\n",
       "      <td>NaN</td>\n",
       "      <td>NaN</td>\n",
       "      <td>NaN</td>\n",
       "      <td>NaN</td>\n",
       "      <td>NaN</td>\n",
       "      <td>NaN</td>\n",
       "      <td>NaN</td>\n",
       "      <td>NaN</td>\n",
       "      <td>NaN</td>\n",
       "      <td>NaN</td>\n",
       "      <td>NaN</td>\n",
       "    </tr>\n",
       "    <tr>\n",
       "      <th>1</th>\n",
       "      <td>NaN</td>\n",
       "      <td>NaN</td>\n",
       "      <td>ADDR</td>\n",
       "      <td>DT</td>\n",
       "      <td>NAME</td>\n",
       "      <td>time</td>\n",
       "      <td>NaN</td>\n",
       "      <td>NaN</td>\n",
       "      <td>NaN</td>\n",
       "      <td>NaN</td>\n",
       "      <td>NaN</td>\n",
       "      <td>NaN</td>\n",
       "      <td>NaN</td>\n",
       "      <td>NaN</td>\n",
       "    </tr>\n",
       "    <tr>\n",
       "      <th>2</th>\n",
       "      <td>NaN</td>\n",
       "      <td>NaN</td>\n",
       "      <td>45 rd, kenith street, btm, bangalore 500038</td>\n",
       "      <td>2022-04-03 00:00:00</td>\n",
       "      <td>abc</td>\n",
       "      <td>8:30:21</td>\n",
       "      <td>NaN</td>\n",
       "      <td>NaN</td>\n",
       "      <td>NaN</td>\n",
       "      <td>NaN</td>\n",
       "      <td>NaN</td>\n",
       "      <td>NaN</td>\n",
       "      <td>NaN</td>\n",
       "      <td>NaN</td>\n",
       "    </tr>\n",
       "    <tr>\n",
       "      <th>3</th>\n",
       "      <td>NaN</td>\n",
       "      <td>NaN</td>\n",
       "      <td>45 rd,  street, hitech, Hd 500038</td>\n",
       "      <td>2022-04-02 00:00:00</td>\n",
       "      <td>dec</td>\n",
       "      <td>5:30:21</td>\n",
       "      <td>NaN</td>\n",
       "      <td>NaN</td>\n",
       "      <td>NaN</td>\n",
       "      <td>NaN</td>\n",
       "      <td>NaN</td>\n",
       "      <td>NaN</td>\n",
       "      <td>NaN</td>\n",
       "      <td>NaN</td>\n",
       "    </tr>\n",
       "    <tr>\n",
       "      <th>4</th>\n",
       "      <td>NaN</td>\n",
       "      <td>NaN</td>\n",
       "      <td>NaN</td>\n",
       "      <td>NaN</td>\n",
       "      <td>NaN</td>\n",
       "      <td>NaN</td>\n",
       "      <td>NaN</td>\n",
       "      <td>NaN</td>\n",
       "      <td>NaN</td>\n",
       "      <td>NaN</td>\n",
       "      <td>NaN</td>\n",
       "      <td>NaN</td>\n",
       "      <td>NaN</td>\n",
       "      <td>NaN</td>\n",
       "    </tr>\n",
       "    <tr>\n",
       "      <th>5</th>\n",
       "      <td>NaN</td>\n",
       "      <td>NaN</td>\n",
       "      <td>NaN</td>\n",
       "      <td>NaN</td>\n",
       "      <td>NaN</td>\n",
       "      <td>NaN</td>\n",
       "      <td>NaN</td>\n",
       "      <td>NaN</td>\n",
       "      <td>NaN</td>\n",
       "      <td>NaN</td>\n",
       "      <td>NaN</td>\n",
       "      <td>NaN</td>\n",
       "      <td>NaN</td>\n",
       "      <td>NaN</td>\n",
       "    </tr>\n",
       "    <tr>\n",
       "      <th>6</th>\n",
       "      <td>NaN</td>\n",
       "      <td>THIS IS CLEAN DATA</td>\n",
       "      <td>NaN</td>\n",
       "      <td>NaN</td>\n",
       "      <td>NaN</td>\n",
       "      <td>NaN</td>\n",
       "      <td>NaN</td>\n",
       "      <td>NaN</td>\n",
       "      <td>NaN</td>\n",
       "      <td>NaN</td>\n",
       "      <td>NaN</td>\n",
       "      <td>NaN</td>\n",
       "      <td>NaN</td>\n",
       "      <td>NaN</td>\n",
       "    </tr>\n",
       "    <tr>\n",
       "      <th>7</th>\n",
       "      <td>NaN</td>\n",
       "      <td>NaN</td>\n",
       "      <td>House add</td>\n",
       "      <td>street</td>\n",
       "      <td>city</td>\n",
       "      <td>state</td>\n",
       "      <td>zip</td>\n",
       "      <td>month</td>\n",
       "      <td>data</td>\n",
       "      <td>year</td>\n",
       "      <td>name</td>\n",
       "      <td>hr</td>\n",
       "      <td>min</td>\n",
       "      <td>sec</td>\n",
       "    </tr>\n",
       "    <tr>\n",
       "      <th>8</th>\n",
       "      <td>NaN</td>\n",
       "      <td>NaN</td>\n",
       "      <td>45 rd</td>\n",
       "      <td>kenith</td>\n",
       "      <td>btm</td>\n",
       "      <td>banga</td>\n",
       "      <td>50038</td>\n",
       "      <td>3</td>\n",
       "      <td>4</td>\n",
       "      <td>2022</td>\n",
       "      <td>abc</td>\n",
       "      <td>8</td>\n",
       "      <td>30</td>\n",
       "      <td>21</td>\n",
       "    </tr>\n",
       "  </tbody>\n",
       "</table>\n",
       "</div>"
      ],
      "text/plain": [
       "   Unnamed: 0               Unnamed: 1  \\\n",
       "0         NaN  THIS IS NOT CLEAN DATA    \n",
       "1         NaN                      NaN   \n",
       "2         NaN                      NaN   \n",
       "3         NaN                      NaN   \n",
       "4         NaN                      NaN   \n",
       "5         NaN                      NaN   \n",
       "6         NaN      THIS IS CLEAN DATA    \n",
       "7         NaN                      NaN   \n",
       "8         NaN                      NaN   \n",
       "\n",
       "                                    Unnamed: 2           Unnamed: 3  \\\n",
       "0                                          NaN                  NaN   \n",
       "1                                         ADDR                   DT   \n",
       "2  45 rd, kenith street, btm, bangalore 500038  2022-04-03 00:00:00   \n",
       "3            45 rd,  street, hitech, Hd 500038  2022-04-02 00:00:00   \n",
       "4                                          NaN                  NaN   \n",
       "5                                          NaN                  NaN   \n",
       "6                                          NaN                  NaN   \n",
       "7                                    House add               street   \n",
       "8                                        45 rd              kenith    \n",
       "\n",
       "  Unnamed: 4 Unnamed: 5 Unnamed: 6 Unnamed: 7 Unnamed: 8 Unnamed: 9  \\\n",
       "0        NaN        NaN        NaN        NaN        NaN        NaN   \n",
       "1       NAME       time        NaN        NaN        NaN        NaN   \n",
       "2        abc    8:30:21        NaN        NaN        NaN        NaN   \n",
       "3        dec    5:30:21        NaN        NaN        NaN        NaN   \n",
       "4        NaN        NaN        NaN        NaN        NaN        NaN   \n",
       "5        NaN        NaN        NaN        NaN        NaN        NaN   \n",
       "6        NaN        NaN        NaN        NaN        NaN        NaN   \n",
       "7       city      state        zip      month       data       year   \n",
       "8        btm      banga      50038          3          4       2022   \n",
       "\n",
       "  Unnamed: 10 Unnamed: 11 Unnamed: 12 Unnamed: 13  \n",
       "0         NaN         NaN         NaN         NaN  \n",
       "1         NaN         NaN         NaN         NaN  \n",
       "2         NaN         NaN         NaN         NaN  \n",
       "3         NaN         NaN         NaN         NaN  \n",
       "4         NaN         NaN         NaN         NaN  \n",
       "5         NaN         NaN         NaN         NaN  \n",
       "6         NaN         NaN         NaN         NaN  \n",
       "7        name          hr         min         sec  \n",
       "8         abc           8          30          21  "
      ]
     },
     "execution_count": 8,
     "metadata": {},
     "output_type": "execute_result"
    }
   ],
   "source": [
    "data"
   ]
  },
  {
   "cell_type": "code",
   "execution_count": 5,
   "id": "e547778c-40bb-4406-b060-d4871ebd23c5",
   "metadata": {},
   "outputs": [],
   "source": [
    "##by this we cannot extract clean data"
   ]
  },
  {
   "cell_type": "code",
   "execution_count": 25,
   "id": "4e242527-f3cf-49c6-8845-a791c094863e",
   "metadata": {},
   "outputs": [
    {
     "name": "stdout",
     "output_type": "stream",
     "text": [
      "                                           ADDR        DT NAME     time\n",
      "0  45 rd, kenith street, btm, bangalore, 500038  4/3/2022  abc  8:30:21\n",
      "1            45 rd,  street, hitech, Hd, 500038  4/2/2022  dec  5:30:21\n"
     ]
    }
   ],
   "source": [
    "raw_data={\n",
    "    \"ADDR\":['45 rd, kenith street, btm, bangalore, 500038',\n",
    "\t\t'45 rd,  street, hitech, Hd, 500038'],\n",
    "    \"DT\":['4/3/2022','4/2/2022'],\n",
    "    \"NAME\":['abc', 'dec'],\n",
    "    \"time\":[\"8:30:21\",\"5:30:21\"]\n",
    "}\n",
    "\n",
    "df=pd.DataFrame(raw_data)\n",
    "print(df)\n",
    "\n",
    "\n",
    "    \n"
   ]
  },
  {
   "cell_type": "code",
   "execution_count": 16,
   "id": "a34ff5e2-99d7-4e4a-a10b-7b2394b5b73d",
   "metadata": {},
   "outputs": [
    {
     "data": {
      "text/html": [
       "<div>\n",
       "<style scoped>\n",
       "    .dataframe tbody tr th:only-of-type {\n",
       "        vertical-align: middle;\n",
       "    }\n",
       "\n",
       "    .dataframe tbody tr th {\n",
       "        vertical-align: top;\n",
       "    }\n",
       "\n",
       "    .dataframe thead th {\n",
       "        text-align: right;\n",
       "    }\n",
       "</style>\n",
       "<table border=\"1\" class=\"dataframe\">\n",
       "  <thead>\n",
       "    <tr style=\"text-align: right;\">\n",
       "      <th></th>\n",
       "      <th>0</th>\n",
       "      <th>1</th>\n",
       "      <th>2</th>\n",
       "      <th>3</th>\n",
       "      <th>4</th>\n",
       "    </tr>\n",
       "  </thead>\n",
       "  <tbody>\n",
       "    <tr>\n",
       "      <th>0</th>\n",
       "      <td>45 rd</td>\n",
       "      <td>kenith street</td>\n",
       "      <td>btm</td>\n",
       "      <td>bangalore</td>\n",
       "      <td>500038</td>\n",
       "    </tr>\n",
       "    <tr>\n",
       "      <th>1</th>\n",
       "      <td>45 rd</td>\n",
       "      <td>street</td>\n",
       "      <td>hitech</td>\n",
       "      <td>Hd</td>\n",
       "      <td>500038</td>\n",
       "    </tr>\n",
       "  </tbody>\n",
       "</table>\n",
       "</div>"
      ],
      "text/plain": [
       "       0               1        2           3        4\n",
       "0  45 rd   kenith street      btm   bangalore   500038\n",
       "1  45 rd          street   hitech          Hd   500038"
      ]
     },
     "execution_count": 16,
     "metadata": {},
     "output_type": "execute_result"
    }
   ],
   "source": [
    "addr_s=df.ADDR.str.split(',',expand=True)\n",
    "addr_s"
   ]
  },
  {
   "cell_type": "code",
   "execution_count": 28,
   "id": "28aa0fd1-c90c-405d-b661-1e2eda4bcf4e",
   "metadata": {},
   "outputs": [
    {
     "data": {
      "text/html": [
       "<div>\n",
       "<style scoped>\n",
       "    .dataframe tbody tr th:only-of-type {\n",
       "        vertical-align: middle;\n",
       "    }\n",
       "\n",
       "    .dataframe tbody tr th {\n",
       "        vertical-align: top;\n",
       "    }\n",
       "\n",
       "    .dataframe thead th {\n",
       "        text-align: right;\n",
       "    }\n",
       "</style>\n",
       "<table border=\"1\" class=\"dataframe\">\n",
       "  <thead>\n",
       "    <tr style=\"text-align: right;\">\n",
       "      <th></th>\n",
       "      <th>ADDR</th>\n",
       "      <th>DT</th>\n",
       "      <th>NAME</th>\n",
       "      <th>time</th>\n",
       "      <th>House Add</th>\n",
       "    </tr>\n",
       "  </thead>\n",
       "  <tbody>\n",
       "    <tr>\n",
       "      <th>0</th>\n",
       "      <td>45 rd, kenith street, btm, bangalore, 500038</td>\n",
       "      <td>4/3/2022</td>\n",
       "      <td>abc</td>\n",
       "      <td>8:30:21</td>\n",
       "      <td>45 rd</td>\n",
       "    </tr>\n",
       "    <tr>\n",
       "      <th>1</th>\n",
       "      <td>45 rd,  street, hitech, Hd, 500038</td>\n",
       "      <td>4/2/2022</td>\n",
       "      <td>dec</td>\n",
       "      <td>5:30:21</td>\n",
       "      <td>45 rd</td>\n",
       "    </tr>\n",
       "  </tbody>\n",
       "</table>\n",
       "</div>"
      ],
      "text/plain": [
       "                                           ADDR        DT NAME     time  \\\n",
       "0  45 rd, kenith street, btm, bangalore, 500038  4/3/2022  abc  8:30:21   \n",
       "1            45 rd,  street, hitech, Hd, 500038  4/2/2022  dec  5:30:21   \n",
       "\n",
       "  House Add  \n",
       "0     45 rd  \n",
       "1     45 rd  "
      ]
     },
     "execution_count": 28,
     "metadata": {},
     "output_type": "execute_result"
    }
   ],
   "source": [
    "df"
   ]
  },
  {
   "cell_type": "code",
   "execution_count": 36,
   "id": "0aebf673-b769-4ad9-aaf4-a045c16f4a3f",
   "metadata": {},
   "outputs": [
    {
     "data": {
      "text/plain": [
       "0    45 rd\n",
       "1    45 rd\n",
       "Name: H.No, dtype: object"
      ]
     },
     "execution_count": 36,
     "metadata": {},
     "output_type": "execute_result"
    }
   ],
   "source": [
    "df['H.No']=addr_s[0]\n",
    "df['H.No']"
   ]
  },
  {
   "cell_type": "code",
   "execution_count": 32,
   "id": "4cb9b933-4c24-42e5-abd3-028ba172976b",
   "metadata": {},
   "outputs": [],
   "source": [
    "#House address having h.no, street,city,state,zipcode"
   ]
  },
  {
   "cell_type": "code",
   "execution_count": 37,
   "id": "ec3b7cac-410a-49f3-8ad8-2ab900f22476",
   "metadata": {},
   "outputs": [
    {
     "data": {
      "text/plain": [
       "0     kenith street\n",
       "1            street\n",
       "Name: Street, dtype: object"
      ]
     },
     "execution_count": 37,
     "metadata": {},
     "output_type": "execute_result"
    }
   ],
   "source": [
    "df['Street']=addr_s[1]\n",
    "df['Street']"
   ]
  },
  {
   "cell_type": "code",
   "execution_count": 38,
   "id": "eb22342d-0b92-4d4e-be5b-5a30601487ce",
   "metadata": {},
   "outputs": [
    {
     "data": {
      "text/plain": [
       "0        btm\n",
       "1     hitech\n",
       "Name: City, dtype: object"
      ]
     },
     "execution_count": 38,
     "metadata": {},
     "output_type": "execute_result"
    }
   ],
   "source": [
    "df['City']=addr_s[2]\n",
    "df['City']"
   ]
  },
  {
   "cell_type": "code",
   "execution_count": 39,
   "id": "e58bab7a-1e10-439a-aa8c-58243ae9c7e2",
   "metadata": {},
   "outputs": [
    {
     "data": {
      "text/plain": [
       "0     bangalore\n",
       "1            Hd\n",
       "Name: State, dtype: object"
      ]
     },
     "execution_count": 39,
     "metadata": {},
     "output_type": "execute_result"
    }
   ],
   "source": [
    "df['State']=addr_s[3]\n",
    "df['State']"
   ]
  },
  {
   "cell_type": "code",
   "execution_count": 40,
   "id": "ba64f692-ecb5-4d9a-bc09-cf0a2050314d",
   "metadata": {},
   "outputs": [
    {
     "data": {
      "text/plain": [
       "0     500038\n",
       "1     500038\n",
       "Name: Zipcode, dtype: object"
      ]
     },
     "execution_count": 40,
     "metadata": {},
     "output_type": "execute_result"
    }
   ],
   "source": [
    "df['Zipcode']=addr_s[4]\n",
    "df['Zipcode']"
   ]
  },
  {
   "cell_type": "code",
   "execution_count": 41,
   "id": "c358c7b3-a005-49e3-b068-4d9e648316c1",
   "metadata": {},
   "outputs": [],
   "source": [
    "#DAte we can convert it as day,month,year"
   ]
  },
  {
   "cell_type": "code",
   "execution_count": 48,
   "id": "3f449bd5-3ed0-4714-9432-db1f1d8521ac",
   "metadata": {},
   "outputs": [
    {
     "data": {
      "text/html": [
       "<div>\n",
       "<style scoped>\n",
       "    .dataframe tbody tr th:only-of-type {\n",
       "        vertical-align: middle;\n",
       "    }\n",
       "\n",
       "    .dataframe tbody tr th {\n",
       "        vertical-align: top;\n",
       "    }\n",
       "\n",
       "    .dataframe thead th {\n",
       "        text-align: right;\n",
       "    }\n",
       "</style>\n",
       "<table border=\"1\" class=\"dataframe\">\n",
       "  <thead>\n",
       "    <tr style=\"text-align: right;\">\n",
       "      <th></th>\n",
       "      <th>date</th>\n",
       "      <th>month</th>\n",
       "      <th>year</th>\n",
       "    </tr>\n",
       "  </thead>\n",
       "  <tbody>\n",
       "    <tr>\n",
       "      <th>0</th>\n",
       "      <td>4</td>\n",
       "      <td>3</td>\n",
       "      <td>2022</td>\n",
       "    </tr>\n",
       "    <tr>\n",
       "      <th>1</th>\n",
       "      <td>4</td>\n",
       "      <td>2</td>\n",
       "      <td>2022</td>\n",
       "    </tr>\n",
       "  </tbody>\n",
       "</table>\n",
       "</div>"
      ],
      "text/plain": [
       "  date month  year\n",
       "0    4     3  2022\n",
       "1    4     2  2022"
      ]
     },
     "execution_count": 48,
     "metadata": {},
     "output_type": "execute_result"
    }
   ],
   "source": [
    "df[['date','month','year']]=df['DT'].str.split('/',expand=True)\n",
    "df[['date','month','year']]"
   ]
  },
  {
   "cell_type": "code",
   "execution_count": 49,
   "id": "9e0af45e-4d38-4988-9b6b-48dd6658f569",
   "metadata": {},
   "outputs": [
    {
     "data": {
      "text/plain": [
       "0    4\n",
       "1    4\n",
       "Name: date, dtype: object"
      ]
     },
     "execution_count": 49,
     "metadata": {},
     "output_type": "execute_result"
    }
   ],
   "source": [
    "df.date"
   ]
  },
  {
   "cell_type": "code",
   "execution_count": 50,
   "id": "2734b83e-5560-42e6-ba81-0dbac1567355",
   "metadata": {},
   "outputs": [
    {
     "data": {
      "text/plain": [
       "0    3\n",
       "1    2\n",
       "Name: month, dtype: object"
      ]
     },
     "execution_count": 50,
     "metadata": {},
     "output_type": "execute_result"
    }
   ],
   "source": [
    "df.month"
   ]
  },
  {
   "cell_type": "code",
   "execution_count": 51,
   "id": "758ac19a-f263-42f3-b4af-1577b67235cf",
   "metadata": {},
   "outputs": [
    {
     "data": {
      "text/plain": [
       "0    2022\n",
       "1    2022\n",
       "Name: year, dtype: object"
      ]
     },
     "execution_count": 51,
     "metadata": {},
     "output_type": "execute_result"
    }
   ],
   "source": [
    "df.year"
   ]
  },
  {
   "cell_type": "code",
   "execution_count": 52,
   "id": "1d0a7958-8be3-4d7f-8b5e-eb9f9a57639e",
   "metadata": {},
   "outputs": [],
   "source": [
    "#As well as time also having hour,minute,second"
   ]
  },
  {
   "cell_type": "code",
   "execution_count": 55,
   "id": "c29d2112-d8e0-44a5-a4f6-42a6ef2dd5d5",
   "metadata": {},
   "outputs": [
    {
     "data": {
      "text/html": [
       "<div>\n",
       "<style scoped>\n",
       "    .dataframe tbody tr th:only-of-type {\n",
       "        vertical-align: middle;\n",
       "    }\n",
       "\n",
       "    .dataframe tbody tr th {\n",
       "        vertical-align: top;\n",
       "    }\n",
       "\n",
       "    .dataframe thead th {\n",
       "        text-align: right;\n",
       "    }\n",
       "</style>\n",
       "<table border=\"1\" class=\"dataframe\">\n",
       "  <thead>\n",
       "    <tr style=\"text-align: right;\">\n",
       "      <th></th>\n",
       "      <th>hr</th>\n",
       "      <th>min</th>\n",
       "      <th>sec</th>\n",
       "    </tr>\n",
       "  </thead>\n",
       "  <tbody>\n",
       "    <tr>\n",
       "      <th>0</th>\n",
       "      <td>8</td>\n",
       "      <td>30</td>\n",
       "      <td>21</td>\n",
       "    </tr>\n",
       "    <tr>\n",
       "      <th>1</th>\n",
       "      <td>5</td>\n",
       "      <td>30</td>\n",
       "      <td>21</td>\n",
       "    </tr>\n",
       "  </tbody>\n",
       "</table>\n",
       "</div>"
      ],
      "text/plain": [
       "  hr min sec\n",
       "0  8  30  21\n",
       "1  5  30  21"
      ]
     },
     "execution_count": 55,
     "metadata": {},
     "output_type": "execute_result"
    }
   ],
   "source": [
    "df[['hr','min','sec']]=df['time'].str.split(':',expand=True)\n",
    "df[['hr','min','sec']]"
   ]
  },
  {
   "cell_type": "code",
   "execution_count": 56,
   "id": "1a1b1aaf-cb81-490e-bbfa-a5ecc4e1a411",
   "metadata": {},
   "outputs": [
    {
     "data": {
      "text/plain": [
       "0    8\n",
       "1    5\n",
       "Name: hr, dtype: object"
      ]
     },
     "execution_count": 56,
     "metadata": {},
     "output_type": "execute_result"
    }
   ],
   "source": [
    "df['hr']\n"
   ]
  },
  {
   "cell_type": "code",
   "execution_count": 57,
   "id": "cea4b593-a108-45c4-b062-2f597ff11805",
   "metadata": {},
   "outputs": [
    {
     "data": {
      "text/plain": [
       "0    30\n",
       "1    30\n",
       "Name: min, dtype: object"
      ]
     },
     "execution_count": 57,
     "metadata": {},
     "output_type": "execute_result"
    }
   ],
   "source": [
    "df['min']"
   ]
  },
  {
   "cell_type": "code",
   "execution_count": 58,
   "id": "d969b0d0-52de-4053-a4b1-ee180e98d001",
   "metadata": {},
   "outputs": [
    {
     "data": {
      "text/plain": [
       "0    21\n",
       "1    21\n",
       "Name: sec, dtype: object"
      ]
     },
     "execution_count": 58,
     "metadata": {},
     "output_type": "execute_result"
    }
   ],
   "source": [
    "df['sec']"
   ]
  },
  {
   "cell_type": "code",
   "execution_count": 62,
   "id": "7fd0c296-c829-4dd4-98d6-34a2dbe4b361",
   "metadata": {},
   "outputs": [
    {
     "data": {
      "text/html": [
       "<div>\n",
       "<style scoped>\n",
       "    .dataframe tbody tr th:only-of-type {\n",
       "        vertical-align: middle;\n",
       "    }\n",
       "\n",
       "    .dataframe tbody tr th {\n",
       "        vertical-align: top;\n",
       "    }\n",
       "\n",
       "    .dataframe thead th {\n",
       "        text-align: right;\n",
       "    }\n",
       "</style>\n",
       "<table border=\"1\" class=\"dataframe\">\n",
       "  <thead>\n",
       "    <tr style=\"text-align: right;\">\n",
       "      <th></th>\n",
       "      <th>H.No</th>\n",
       "      <th>Street</th>\n",
       "      <th>City</th>\n",
       "      <th>State</th>\n",
       "      <th>Zipcode</th>\n",
       "      <th>date</th>\n",
       "      <th>month</th>\n",
       "      <th>year</th>\n",
       "      <th>hr</th>\n",
       "      <th>min</th>\n",
       "      <th>sec</th>\n",
       "    </tr>\n",
       "  </thead>\n",
       "  <tbody>\n",
       "    <tr>\n",
       "      <th>0</th>\n",
       "      <td>45 rd</td>\n",
       "      <td>kenith street</td>\n",
       "      <td>btm</td>\n",
       "      <td>bangalore</td>\n",
       "      <td>500038</td>\n",
       "      <td>4</td>\n",
       "      <td>3</td>\n",
       "      <td>2022</td>\n",
       "      <td>8</td>\n",
       "      <td>30</td>\n",
       "      <td>21</td>\n",
       "    </tr>\n",
       "    <tr>\n",
       "      <th>1</th>\n",
       "      <td>45 rd</td>\n",
       "      <td>street</td>\n",
       "      <td>hitech</td>\n",
       "      <td>Hd</td>\n",
       "      <td>500038</td>\n",
       "      <td>4</td>\n",
       "      <td>2</td>\n",
       "      <td>2022</td>\n",
       "      <td>5</td>\n",
       "      <td>30</td>\n",
       "      <td>21</td>\n",
       "    </tr>\n",
       "  </tbody>\n",
       "</table>\n",
       "</div>"
      ],
      "text/plain": [
       "    H.No          Street     City       State  Zipcode date month  year hr  \\\n",
       "0  45 rd   kenith street      btm   bangalore   500038    4     3  2022  8   \n",
       "1  45 rd          street   hitech          Hd   500038    4     2  2022  5   \n",
       "\n",
       "  min sec  \n",
       "0  30  21  \n",
       "1  30  21  "
      ]
     },
     "execution_count": 62,
     "metadata": {},
     "output_type": "execute_result"
    }
   ],
   "source": [
    "df=df[['H.No','Street','City','State','Zipcode','date','month','year','hr','min','sec']]\n",
    "df"
   ]
  },
  {
   "cell_type": "code",
   "execution_count": 63,
   "id": "bce3046b-0bcc-4e49-8899-7e701e43c1e9",
   "metadata": {},
   "outputs": [
    {
     "name": "stdout",
     "output_type": "stream",
     "text": [
      "{'H.No': '2-8-41/A/1', 'Street': 'AadarshNagar', 'Village': 'BankColony', 'City': 'Munaganoor', 'State': 'Hyderabad', 'ZipCode': 'Telanagana'}\n"
     ]
    }
   ],
   "source": [
    "#we can also split the data in this format.\n",
    "addr=\"2-8-41/A/1,AadarshNagar,BankColony,Munaganoor,Hyderabad,Telanagana,501511\"\n",
    "add_s=addr.split(',')\n",
    "address={\n",
    "    'H.No':add_s[0],\n",
    "    'Street':add_s[1],\n",
    "    'Village':add_s[2],\n",
    "    'City':add_s[3],\n",
    "    'State':add_s[4],\n",
    "    'ZipCode':add_s[5]\n",
    "    \n",
    "}\n",
    "print(address)"
   ]
  },
  {
   "cell_type": "code",
   "execution_count": null,
   "id": "cc20f762-c6af-41c7-b50e-eaa6680c268d",
   "metadata": {},
   "outputs": [],
   "source": []
  }
 ],
 "metadata": {
  "kernelspec": {
   "display_name": "Python 3 (ipykernel)",
   "language": "python",
   "name": "python3"
  },
  "language_info": {
   "codemirror_mode": {
    "name": "ipython",
    "version": 3
   },
   "file_extension": ".py",
   "mimetype": "text/x-python",
   "name": "python",
   "nbconvert_exporter": "python",
   "pygments_lexer": "ipython3",
   "version": "3.12.4"
  }
 },
 "nbformat": 4,
 "nbformat_minor": 5
}
