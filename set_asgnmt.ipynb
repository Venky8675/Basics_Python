{
 "cells": [
  {
   "cell_type": "markdown",
   "id": "e74db18f-a4ea-4c83-84be-db72ceffefa4",
   "metadata": {},
   "source": []
  },
  {
   "cell_type": "markdown",
   "id": "29eb2ef9-0735-4e82-b34f-81b149618e5a",
   "metadata": {},
   "source": [
    "Sets"
   ]
  },
  {
   "cell_type": "raw",
   "id": "71f2d6e0-6892-4e66-804f-d0131443eca6",
   "metadata": {},
   "source": [
    "1) unordered & Unindexed collection of items.\n",
    "2) Set elements are unique. Duplicate elements are not allowed.\n",
    "3) Set elements are immutable.\n",
    "4)Set itself is mutable. We can add or remove items from it."
   ]
  },
  {
   "cell_type": "markdown",
   "id": "576b651a-8d82-4896-ac7f-ced7834afd36",
   "metadata": {},
   "source": [
    "Set Creation"
   ]
  },
  {
   "cell_type": "code",
   "execution_count": 1,
   "id": "c6399c42-0494-49d9-a21c-cfe20f1c1956",
   "metadata": {},
   "outputs": [
    {
     "data": {
      "text/plain": [
       "{1, 2, 3, 4, 5}"
      ]
     },
     "execution_count": 1,
     "metadata": {},
     "output_type": "execute_result"
    }
   ],
   "source": [
    "myset={1,2,3,4,5} #set of numbers\n",
    "myset"
   ]
  },
  {
   "cell_type": "code",
   "execution_count": 2,
   "id": "2bfcd8a9-55bf-44e6-a48d-d48f268543a0",
   "metadata": {},
   "outputs": [
    {
     "data": {
      "text/plain": [
       "5"
      ]
     },
     "execution_count": 2,
     "metadata": {},
     "output_type": "execute_result"
    }
   ],
   "source": [
    "len(myset)"
   ]
  },
  {
   "cell_type": "code",
   "execution_count": 4,
   "id": "3dcfece8-e4dd-4466-88ad-e5a01ae95109",
   "metadata": {},
   "outputs": [
    {
     "data": {
      "text/plain": [
       "{1, 2, 3, 4, 5}"
      ]
     },
     "execution_count": 4,
     "metadata": {},
     "output_type": "execute_result"
    }
   ],
   "source": [
    "my_set={1,1,2,2,3,4,4,5}   #duplicate lements are not allowed\n",
    "my_set"
   ]
  },
  {
   "cell_type": "code",
   "execution_count": 5,
   "id": "cee3bbfd-c701-4bbc-a848-5c708802caae",
   "metadata": {},
   "outputs": [
    {
     "data": {
      "text/plain": [
       "{1.79, 2.08, 3.99, 4.56, 5.45}"
      ]
     },
     "execution_count": 5,
     "metadata": {},
     "output_type": "execute_result"
    }
   ],
   "source": [
    "myset1={1.79,2.08,3.99,4.56,5.45}  #set of float elements\n",
    "myset1"
   ]
  },
  {
   "cell_type": "code",
   "execution_count": 6,
   "id": "9a0e8bbb-bf17-4608-a7d0-e92f382ec565",
   "metadata": {},
   "outputs": [
    {
     "data": {
      "text/plain": [
       "{'Surya', 'Tyson', 'Venky'}"
      ]
     },
     "execution_count": 6,
     "metadata": {},
     "output_type": "execute_result"
    }
   ],
   "source": [
    "myset2={'Venky','Surya','Tyson'}  #set of float elements\n",
    "myset2"
   ]
  },
  {
   "cell_type": "code",
   "execution_count": 11,
   "id": "5e85642b-f2ee-427c-ae51-c242ce8af8f7",
   "metadata": {},
   "outputs": [
    {
     "data": {
      "text/plain": [
       "{(2+5j), 10, 2.57, 'Hello', True}"
      ]
     },
     "execution_count": 11,
     "metadata": {},
     "output_type": "execute_result"
    }
   ],
   "source": [
    "myset3={10,2.57,'Hello',True,2+5j}  #set of mixed data types\n",
    "myset3"
   ]
  },
  {
   "cell_type": "code",
   "execution_count": 12,
   "id": "348cc222-b5dc-4ff8-ace1-8acfd9b66c73",
   "metadata": {},
   "outputs": [
    {
     "data": {
      "text/plain": [
       "{(4+6j), (5, 10, 15), 10, 20, 'Hello'}"
      ]
     },
     "execution_count": 12,
     "metadata": {},
     "output_type": "execute_result"
    }
   ],
   "source": [
    "myset4={10,20,'Hello',(5,10,15),4+6j}\n",
    "myset4"
   ]
  },
  {
   "cell_type": "code",
   "execution_count": 13,
   "id": "b3135660-e6da-4150-8bf5-5f168dc94888",
   "metadata": {},
   "outputs": [
    {
     "ename": "TypeError",
     "evalue": "unhashable type: 'list'",
     "output_type": "error",
     "traceback": [
      "\u001b[1;31m---------------------------------------------------------------------------\u001b[0m",
      "\u001b[1;31mTypeError\u001b[0m                                 Traceback (most recent call last)",
      "Cell \u001b[1;32mIn[13], line 1\u001b[0m\n\u001b[1;32m----> 1\u001b[0m myset5\u001b[38;5;241m=\u001b[39m{\u001b[38;5;241m10\u001b[39m,\u001b[38;5;241m20\u001b[39m,\u001b[38;5;124m'\u001b[39m\u001b[38;5;124mHello\u001b[39m\u001b[38;5;124m'\u001b[39m,\u001b[38;5;28;01mTrue\u001b[39;00m,\u001b[38;5;241m2\u001b[39m\u001b[38;5;241m+\u001b[39m\u001b[38;5;241m6\u001b[39mj,[\u001b[38;5;241m2\u001b[39m,\u001b[38;5;241m4\u001b[39m,\u001b[38;5;241m6\u001b[39m]}\n\u001b[0;32m      2\u001b[0m myset5\n",
      "\u001b[1;31mTypeError\u001b[0m: unhashable type: 'list'"
     ]
    }
   ],
   "source": [
    "myset5={10,20,'Hello',True,2+6j,[2,4,6]} #set doesn't allow mutable items like list\n",
    "myset5"
   ]
  },
  {
   "cell_type": "code",
   "execution_count": 14,
   "id": "d2622af1-dec9-4701-b833-a7ad58f9d6b5",
   "metadata": {},
   "outputs": [
    {
     "data": {
      "text/plain": [
       "set()"
      ]
     },
     "execution_count": 14,
     "metadata": {},
     "output_type": "execute_result"
    }
   ],
   "source": [
    "s=set()\n",
    "s"
   ]
  },
  {
   "cell_type": "markdown",
   "id": "b974e7a6-4f2a-4907-aa52-3e7c44ea283b",
   "metadata": {},
   "source": []
  },
  {
   "cell_type": "code",
   "execution_count": 15,
   "id": "29673103-6c78-4298-91e5-90c425928283",
   "metadata": {},
   "outputs": [
    {
     "data": {
      "text/plain": [
       "set"
      ]
     },
     "execution_count": 15,
     "metadata": {},
     "output_type": "execute_result"
    }
   ],
   "source": [
    "type(s)"
   ]
  },
  {
   "cell_type": "code",
   "execution_count": 16,
   "id": "fa3e7858-251a-4709-a610-73d146958fec",
   "metadata": {},
   "outputs": [
    {
     "data": {
      "text/plain": [
       "{'five', 'four', 'one', 'three', 'two'}"
      ]
     },
     "execution_count": 16,
     "metadata": {},
     "output_type": "execute_result"
    }
   ],
   "source": [
    "s=set(('one','two','three','four','five'))\n",
    "s\n"
   ]
  },
  {
   "cell_type": "markdown",
   "id": "e758e971-cd30-4397-8b50-c9fa6c341d4f",
   "metadata": {},
   "source": [
    "Loop through a set"
   ]
  },
  {
   "cell_type": "code",
   "execution_count": 17,
   "id": "2280d071-4551-4d4b-823d-a3700418cd7b",
   "metadata": {},
   "outputs": [
    {
     "name": "stdout",
     "output_type": "stream",
     "text": [
      "one\n",
      "four\n",
      "five\n",
      "two\n",
      "three\n"
     ]
    }
   ],
   "source": [
    "for i in s:\n",
    "    print(i)"
   ]
  },
  {
   "cell_type": "code",
   "execution_count": 18,
   "id": "4f9bc92f-ab43-419e-8051-7cd6c886a39a",
   "metadata": {},
   "outputs": [
    {
     "name": "stdout",
     "output_type": "stream",
     "text": [
      "(0, 'one')\n",
      "(1, 'four')\n",
      "(2, 'five')\n",
      "(3, 'two')\n",
      "(4, 'three')\n"
     ]
    }
   ],
   "source": [
    "for i in enumerate(s):\n",
    "    print(i)"
   ]
  },
  {
   "cell_type": "markdown",
   "id": "96f52cd7-4f5f-44ab-8749-52ec621c83b2",
   "metadata": {},
   "source": [
    "Set memebership"
   ]
  },
  {
   "cell_type": "code",
   "execution_count": 19,
   "id": "f58cdb25-4a0b-4718-bd0c-5fd82d596da4",
   "metadata": {},
   "outputs": [
    {
     "data": {
      "text/plain": [
       "{'eight', 'four', 'nine', 'one', 'six', 'three', 'two'}"
      ]
     },
     "execution_count": 19,
     "metadata": {},
     "output_type": "execute_result"
    }
   ],
   "source": [
    "s1={'six','one','eight','nine','two','four','three'}\n",
    "s1"
   ]
  },
  {
   "cell_type": "code",
   "execution_count": 20,
   "id": "68f98dc2-3319-4fc9-92e6-ffbdb331b2f6",
   "metadata": {},
   "outputs": [
    {
     "data": {
      "text/plain": [
       "True"
      ]
     },
     "execution_count": 20,
     "metadata": {},
     "output_type": "execute_result"
    }
   ],
   "source": [
    "'one' in s1"
   ]
  },
  {
   "cell_type": "code",
   "execution_count": 21,
   "id": "300cec83-a187-449e-8f91-1ef2185f484d",
   "metadata": {},
   "outputs": [
    {
     "data": {
      "text/plain": [
       "False"
      ]
     },
     "execution_count": 21,
     "metadata": {},
     "output_type": "execute_result"
    }
   ],
   "source": [
    "'seven' in s1"
   ]
  },
  {
   "cell_type": "code",
   "execution_count": 22,
   "id": "88aaf21f-4986-4606-bc4e-b02773a5f296",
   "metadata": {},
   "outputs": [
    {
     "data": {
      "text/plain": [
       "True"
      ]
     },
     "execution_count": 22,
     "metadata": {},
     "output_type": "execute_result"
    }
   ],
   "source": [
    "'seven' not in s1"
   ]
  },
  {
   "cell_type": "code",
   "execution_count": 23,
   "id": "c4fb31f1-e561-4249-b9d7-9f398cd015c4",
   "metadata": {},
   "outputs": [
    {
     "name": "stdout",
     "output_type": "stream",
     "text": [
      "Five is not present in the set\n"
     ]
    }
   ],
   "source": [
    "if  'five' in s1:\n",
    "    print(\"Five is present in the set\")\n",
    "else:\n",
    "    print(\"Five is not present in the set\")"
   ]
  },
  {
   "cell_type": "code",
   "execution_count": 24,
   "id": "7a7b5199-425b-4ebc-b638-1cdc7ec226fa",
   "metadata": {},
   "outputs": [
    {
     "name": "stdout",
     "output_type": "stream",
     "text": [
      "Four is present in the set\n"
     ]
    }
   ],
   "source": [
    "if 'four' in s1:\n",
    "    print(\"Four is present in the set\")\n",
    "else:\n",
    "    print(\"Four is not present in the set\")"
   ]
  },
  {
   "cell_type": "markdown",
   "id": "fd05d265-9184-4e6c-a706-1886f24c9ada",
   "metadata": {},
   "source": [
    "Add & Remove items"
   ]
  },
  {
   "cell_type": "code",
   "execution_count": 25,
   "id": "370f0290-6285-468d-b43f-a802a38b825d",
   "metadata": {},
   "outputs": [
    {
     "data": {
      "text/plain": [
       "{'eight', 'four', 'nine', 'one', 'six', 'three', 'two'}"
      ]
     },
     "execution_count": 25,
     "metadata": {},
     "output_type": "execute_result"
    }
   ],
   "source": [
    "s1"
   ]
  },
  {
   "cell_type": "code",
   "execution_count": 27,
   "id": "cb6d817b-0ed3-4657-84f5-255508565818",
   "metadata": {},
   "outputs": [
    {
     "data": {
      "text/plain": [
       "{'eight', 'five', 'four', 'nine', 'one', 'six', 'three', 'two'}"
      ]
     },
     "execution_count": 27,
     "metadata": {},
     "output_type": "execute_result"
    }
   ],
   "source": [
    "s1.add('five')\n",
    "s1"
   ]
  },
  {
   "cell_type": "code",
   "execution_count": 29,
   "id": "fe6ba3bd-8649-46a2-8e76-fde2864abbdc",
   "metadata": {},
   "outputs": [
    {
     "data": {
      "text/plain": [
       "{'ELEVEN',\n",
       " 'TEN',\n",
       " 'TWELVE',\n",
       " 'eight',\n",
       " 'five',\n",
       " 'four',\n",
       " 'nine',\n",
       " 'one',\n",
       " 'six',\n",
       " 'three',\n",
       " 'two'}"
      ]
     },
     "execution_count": 29,
     "metadata": {},
     "output_type": "execute_result"
    }
   ],
   "source": [
    "s1.update(['TEN','TWELVE','ELEVEN'])\n",
    "s1"
   ]
  },
  {
   "cell_type": "code",
   "execution_count": 30,
   "id": "242183af-e938-403f-8bde-b1433be25a26",
   "metadata": {},
   "outputs": [
    {
     "data": {
      "text/plain": [
       "{'ELEVEN',\n",
       " 'TEN',\n",
       " 'TWELVE',\n",
       " 'eight',\n",
       " 'five',\n",
       " 'four',\n",
       " 'one',\n",
       " 'six',\n",
       " 'three',\n",
       " 'two'}"
      ]
     },
     "execution_count": 30,
     "metadata": {},
     "output_type": "execute_result"
    }
   ],
   "source": [
    "s1.remove('nine')\n",
    "s1"
   ]
  },
  {
   "cell_type": "code",
   "execution_count": 31,
   "id": "f8cc7311-3987-43f0-9e7f-5af8b2b038fe",
   "metadata": {},
   "outputs": [
    {
     "data": {
      "text/plain": [
       "10"
      ]
     },
     "execution_count": 31,
     "metadata": {},
     "output_type": "execute_result"
    }
   ],
   "source": [
    "len(s1)"
   ]
  },
  {
   "cell_type": "code",
   "execution_count": 32,
   "id": "e6c74be9-761a-4daa-acb0-98c0d30e0baf",
   "metadata": {},
   "outputs": [
    {
     "data": {
      "text/plain": [
       "{'ELEVEN', 'TWELVE', 'eight', 'five', 'four', 'one', 'six', 'three', 'two'}"
      ]
     },
     "execution_count": 32,
     "metadata": {},
     "output_type": "execute_result"
    }
   ],
   "source": [
    "s1.discard('TEN')\n",
    "s1"
   ]
  },
  {
   "cell_type": "code",
   "execution_count": 33,
   "id": "4d1f8f0f-78a9-4a1d-9b4f-012fcf495bef",
   "metadata": {},
   "outputs": [
    {
     "data": {
      "text/plain": [
       "9"
      ]
     },
     "execution_count": 33,
     "metadata": {},
     "output_type": "execute_result"
    }
   ],
   "source": [
    "len(s1)"
   ]
  },
  {
   "cell_type": "code",
   "execution_count": 34,
   "id": "12996f39-35ed-4e07-ac60-4178b80ea62a",
   "metadata": {},
   "outputs": [],
   "source": [
    "s1.clear()"
   ]
  },
  {
   "cell_type": "code",
   "execution_count": 35,
   "id": "8ebe7525-74f2-4a0e-96c3-6ca66927d4b7",
   "metadata": {},
   "outputs": [
    {
     "data": {
      "text/plain": [
       "set()"
      ]
     },
     "execution_count": 35,
     "metadata": {},
     "output_type": "execute_result"
    }
   ],
   "source": [
    "s1"
   ]
  },
  {
   "cell_type": "code",
   "execution_count": 36,
   "id": "d1426bca-a328-4826-8bfc-e03444273c5a",
   "metadata": {},
   "outputs": [],
   "source": [
    "del s1"
   ]
  },
  {
   "cell_type": "code",
   "execution_count": 37,
   "id": "086e6e0c-78b8-4b34-9c0c-0ef56b48604b",
   "metadata": {},
   "outputs": [
    {
     "ename": "NameError",
     "evalue": "name 's1' is not defined",
     "output_type": "error",
     "traceback": [
      "\u001b[1;31m---------------------------------------------------------------------------\u001b[0m",
      "\u001b[1;31mNameError\u001b[0m                                 Traceback (most recent call last)",
      "Cell \u001b[1;32mIn[37], line 1\u001b[0m\n\u001b[1;32m----> 1\u001b[0m \u001b[43ms1\u001b[49m\n",
      "\u001b[1;31mNameError\u001b[0m: name 's1' is not defined"
     ]
    }
   ],
   "source": [
    "s1"
   ]
  },
  {
   "cell_type": "markdown",
   "id": "25e39277-0d64-4aad-bbd5-7baf3e1b68c1",
   "metadata": {},
   "source": [
    " Copy set"
   ]
  },
  {
   "cell_type": "code",
   "execution_count": 39,
   "id": "994028d2-1921-494d-b790-31097fdab111",
   "metadata": {},
   "outputs": [
    {
     "data": {
      "text/plain": [
       "{'eight', 'five', 'four', 'one', 'seven', 'six', 'three', 'two'}"
      ]
     },
     "execution_count": 39,
     "metadata": {},
     "output_type": "execute_result"
    }
   ],
   "source": [
    "s1={'one','two','three','four','five','six','seven','eight'}\n",
    "s1"
   ]
  },
  {
   "cell_type": "code",
   "execution_count": 41,
   "id": "67847020-3e13-4698-81f1-93790b6662be",
   "metadata": {},
   "outputs": [
    {
     "data": {
      "text/plain": [
       "{'eight', 'five', 'four', 'one', 'seven', 'six', 'three', 'two'}"
      ]
     },
     "execution_count": 41,
     "metadata": {},
     "output_type": "execute_result"
    }
   ],
   "source": [
    "s2=s1\n",
    "s1"
   ]
  },
  {
   "cell_type": "code",
   "execution_count": 42,
   "id": "4105cb4e-8a43-4efa-bb64-efd739f440cd",
   "metadata": {},
   "outputs": [
    {
     "data": {
      "text/plain": [
       "True"
      ]
     },
     "execution_count": 42,
     "metadata": {},
     "output_type": "execute_result"
    }
   ],
   "source": [
    "s1==s2"
   ]
  },
  {
   "cell_type": "code",
   "execution_count": 43,
   "id": "5c77926f-746c-4091-9233-15109075a3d9",
   "metadata": {},
   "outputs": [
    {
     "data": {
      "text/plain": [
       "2446369676576"
      ]
     },
     "execution_count": 43,
     "metadata": {},
     "output_type": "execute_result"
    }
   ],
   "source": [
    "id(s1)"
   ]
  },
  {
   "cell_type": "code",
   "execution_count": 44,
   "id": "c2b312ca-62c9-446b-9d10-febf0bf85692",
   "metadata": {},
   "outputs": [
    {
     "data": {
      "text/plain": [
       "2446369676576"
      ]
     },
     "execution_count": 44,
     "metadata": {},
     "output_type": "execute_result"
    }
   ],
   "source": [
    "id(s2)"
   ]
  },
  {
   "cell_type": "code",
   "execution_count": 45,
   "id": "e55f5572-bc3e-4a5c-840a-e24361421ae1",
   "metadata": {},
   "outputs": [
    {
     "data": {
      "text/plain": [
       "8"
      ]
     },
     "execution_count": 45,
     "metadata": {},
     "output_type": "execute_result"
    }
   ],
   "source": [
    "len(s1)"
   ]
  },
  {
   "cell_type": "code",
   "execution_count": 46,
   "id": "1c6f0b69-f125-4078-ab7a-4f09f57f31cd",
   "metadata": {},
   "outputs": [
    {
     "data": {
      "text/plain": [
       "8"
      ]
     },
     "execution_count": 46,
     "metadata": {},
     "output_type": "execute_result"
    }
   ],
   "source": [
    "len(s2)"
   ]
  },
  {
   "cell_type": "code",
   "execution_count": 50,
   "id": "9d530b53-05d1-4de8-ada2-b50d4c9e51fd",
   "metadata": {},
   "outputs": [],
   "source": [
    "s3=s1.copy()"
   ]
  },
  {
   "cell_type": "code",
   "execution_count": 51,
   "id": "36868788-b909-4468-9b65-e34969ec6104",
   "metadata": {},
   "outputs": [
    {
     "data": {
      "text/plain": [
       "{'eight', 'five', 'four', 'one', 'seven', 'six', 'three', 'two'}"
      ]
     },
     "execution_count": 51,
     "metadata": {},
     "output_type": "execute_result"
    }
   ],
   "source": [
    "s3"
   ]
  },
  {
   "cell_type": "code",
   "execution_count": 52,
   "id": "8a3a74b1-6892-4f13-9101-6202e80cac7e",
   "metadata": {},
   "outputs": [
    {
     "data": {
      "text/plain": [
       "True"
      ]
     },
     "execution_count": 52,
     "metadata": {},
     "output_type": "execute_result"
    }
   ],
   "source": [
    "s1==s3"
   ]
  },
  {
   "cell_type": "code",
   "execution_count": 53,
   "id": "d60ffd69-c722-4d03-b688-02dbb5d29f52",
   "metadata": {},
   "outputs": [
    {
     "data": {
      "text/plain": [
       "{'eight', 'five', 'four', 'one', 'seven', 'six', 'three', 'two'}"
      ]
     },
     "execution_count": 53,
     "metadata": {},
     "output_type": "execute_result"
    }
   ],
   "source": [
    "s3"
   ]
  },
  {
   "cell_type": "code",
   "execution_count": 54,
   "id": "7b361120-6473-4f45-a64e-d8d24ebe2d18",
   "metadata": {},
   "outputs": [
    {
     "data": {
      "text/plain": [
       "{'eight', 'five', 'four', 'one', 'seven', 'six', 'three', 'two'}"
      ]
     },
     "execution_count": 54,
     "metadata": {},
     "output_type": "execute_result"
    }
   ],
   "source": [
    "s1"
   ]
  },
  {
   "cell_type": "code",
   "execution_count": 55,
   "id": "f2ff144a-f1e8-44bf-8700-f5c970334e30",
   "metadata": {},
   "outputs": [
    {
     "data": {
      "text/plain": [
       "{'eight', 'five', 'four', 'one', 'seven', 'six', 'three', 'two'}"
      ]
     },
     "execution_count": 55,
     "metadata": {},
     "output_type": "execute_result"
    }
   ],
   "source": [
    "s2"
   ]
  },
  {
   "cell_type": "code",
   "execution_count": 56,
   "id": "93772edd-4f80-4fae-8cff-21df8ab2b931",
   "metadata": {},
   "outputs": [
    {
     "data": {
      "text/plain": [
       "2446369674560"
      ]
     },
     "execution_count": 56,
     "metadata": {},
     "output_type": "execute_result"
    }
   ],
   "source": [
    "id(s3)"
   ]
  },
  {
   "cell_type": "code",
   "execution_count": 57,
   "id": "aab62a9a-b641-479b-ab33-40a3c9cb08a2",
   "metadata": {},
   "outputs": [],
   "source": [
    "s3.add('nine')"
   ]
  },
  {
   "cell_type": "code",
   "execution_count": 58,
   "id": "3e3d4ef8-cb45-4b59-a5c2-8f7ee110a575",
   "metadata": {},
   "outputs": [
    {
     "data": {
      "text/plain": [
       "{'eight', 'five', 'four', 'nine', 'one', 'seven', 'six', 'three', 'two'}"
      ]
     },
     "execution_count": 58,
     "metadata": {},
     "output_type": "execute_result"
    }
   ],
   "source": [
    "s3"
   ]
  },
  {
   "cell_type": "code",
   "execution_count": 59,
   "id": "c025cf60-b13c-4e32-a710-83cb1a81f7a7",
   "metadata": {},
   "outputs": [
    {
     "data": {
      "text/plain": [
       "9"
      ]
     },
     "execution_count": 59,
     "metadata": {},
     "output_type": "execute_result"
    }
   ],
   "source": [
    "len(s3)"
   ]
  },
  {
   "cell_type": "code",
   "execution_count": 60,
   "id": "21aa8a4e-3716-4bc0-a3a3-9844bbc814c4",
   "metadata": {},
   "outputs": [
    {
     "data": {
      "text/plain": [
       "{'eight', 'five', 'four', 'one', 'seven', 'six', 'three', 'two'}"
      ]
     },
     "execution_count": 60,
     "metadata": {},
     "output_type": "execute_result"
    }
   ],
   "source": [
    "s1"
   ]
  },
  {
   "cell_type": "code",
   "execution_count": 61,
   "id": "065b6412-e355-4aba-911c-7371e085a81f",
   "metadata": {},
   "outputs": [
    {
     "data": {
      "text/plain": [
       "{'eight', 'five', 'four', 'one', 'seven', 'six', 'three', 'two'}"
      ]
     },
     "execution_count": 61,
     "metadata": {},
     "output_type": "execute_result"
    }
   ],
   "source": [
    "s2"
   ]
  },
  {
   "cell_type": "code",
   "execution_count": 62,
   "id": "c8744372-982a-4943-bb92-c5e0af0b67a4",
   "metadata": {},
   "outputs": [
    {
     "data": {
      "text/plain": [
       "{'eight', 'five', 'four', 'nine', 'one', 'seven', 'six', 'three', 'two'}"
      ]
     },
     "execution_count": 62,
     "metadata": {},
     "output_type": "execute_result"
    }
   ],
   "source": [
    "s3"
   ]
  },
  {
   "cell_type": "markdown",
   "id": "e2eec2dc-90e9-4758-bedc-0c63520e4995",
   "metadata": {},
   "source": [
    "Set operation"
   ]
  },
  {
   "cell_type": "markdown",
   "id": "e1c121c9-dd7c-46d1-b816-d46eb2a51e54",
   "metadata": {},
   "source": [
    "Union"
   ]
  },
  {
   "cell_type": "code",
   "execution_count": 64,
   "id": "f8a4d2b8-8773-4279-b026-22effce9c2ec",
   "metadata": {},
   "outputs": [],
   "source": [
    "A={1,2,3,4,5}\n",
    "B={4,5,6,7,8}\n",
    "C={8,9,10}"
   ]
  },
  {
   "cell_type": "code",
   "execution_count": 65,
   "id": "8b4f263e-d45c-4f4c-af58-69b2598903ec",
   "metadata": {},
   "outputs": [
    {
     "data": {
      "text/plain": [
       "{1, 2, 3, 4, 5, 6, 7, 8}"
      ]
     },
     "execution_count": 65,
     "metadata": {},
     "output_type": "execute_result"
    }
   ],
   "source": [
    "A|B"
   ]
  },
  {
   "cell_type": "code",
   "execution_count": 85,
   "id": "942b9ccf-9adb-4efa-8e55-29bb0b6848fa",
   "metadata": {},
   "outputs": [
    {
     "data": {
      "text/plain": [
       "{1, 2, 3, 4, 5, 6, 7, 8, 9, 10}"
      ]
     },
     "execution_count": 85,
     "metadata": {},
     "output_type": "execute_result"
    }
   ],
   "source": [
    "A.union(B)"
   ]
  },
  {
   "cell_type": "code",
   "execution_count": 84,
   "id": "cc3317e9-8431-4fb6-bcb5-777fe03dc190",
   "metadata": {},
   "outputs": [
    {
     "data": {
      "text/plain": [
       "{1, 2, 3, 4, 5, 6, 7, 8, 9, 10}"
      ]
     },
     "execution_count": 84,
     "metadata": {},
     "output_type": "execute_result"
    }
   ],
   "source": [
    "A.union(C)"
   ]
  },
  {
   "cell_type": "code",
   "execution_count": 83,
   "id": "a5934b9d-a4db-4f8a-9d6e-aba51678f238",
   "metadata": {},
   "outputs": [
    {
     "data": {
      "text/plain": [
       "{1, 2, 3, 4, 5, 6, 7, 8, 9, 10}"
      ]
     },
     "execution_count": 83,
     "metadata": {},
     "output_type": "execute_result"
    }
   ],
   "source": [
    "A.union(B,C)"
   ]
  },
  {
   "cell_type": "code",
   "execution_count": 94,
   "id": "b98b99ee-3b9b-4b1f-9050-524f6a437f20",
   "metadata": {},
   "outputs": [
    {
     "data": {
      "text/plain": [
       "{4, 5, 6, 7, 8, 9, 10}"
      ]
     },
     "execution_count": 94,
     "metadata": {},
     "output_type": "execute_result"
    }
   ],
   "source": [
    "'''Updates the set calling the update() method with union of A,B&C.\n",
    "For below example set A will be updated with union of A,B&C).'''\n",
    "A.update(B,C)\n",
    "A"
   ]
  },
  {
   "cell_type": "markdown",
   "id": "ad56b5fe-0bad-4d6e-9abc-e7b1526339f1",
   "metadata": {},
   "source": [
    "Intersection"
   ]
  },
  {
   "cell_type": "code",
   "execution_count": 86,
   "id": "6f3de8bb-58c7-4f1a-a217-1d35b42b3086",
   "metadata": {},
   "outputs": [
    {
     "data": {
      "text/plain": [
       "{1, 2, 3, 4, 5, 6, 7, 8, 9, 10}"
      ]
     },
     "execution_count": 86,
     "metadata": {},
     "output_type": "execute_result"
    }
   ],
   "source": [
    "A"
   ]
  },
  {
   "cell_type": "code",
   "execution_count": 87,
   "id": "9719913e-2b26-470a-9721-b839672f3ace",
   "metadata": {},
   "outputs": [
    {
     "data": {
      "text/plain": [
       "{4, 5, 6, 7, 8}"
      ]
     },
     "execution_count": 87,
     "metadata": {},
     "output_type": "execute_result"
    }
   ],
   "source": [
    "B"
   ]
  },
  {
   "cell_type": "code",
   "execution_count": 88,
   "id": "6ab69890-61a9-4145-a7ad-0c3a18a6f791",
   "metadata": {},
   "outputs": [
    {
     "data": {
      "text/plain": [
       "{4, 5, 6, 7, 8}"
      ]
     },
     "execution_count": 88,
     "metadata": {},
     "output_type": "execute_result"
    }
   ],
   "source": [
    "A&B"
   ]
  },
  {
   "cell_type": "code",
   "execution_count": 89,
   "id": "c46b5e41-aca8-4137-a3fe-ba0ab73ab10d",
   "metadata": {},
   "outputs": [
    {
     "data": {
      "text/plain": [
       "{4, 5, 6, 7, 8}"
      ]
     },
     "execution_count": 89,
     "metadata": {},
     "output_type": "execute_result"
    }
   ],
   "source": [
    "A.intersection(B)"
   ]
  },
  {
   "cell_type": "code",
   "execution_count": 90,
   "id": "5d9b2221-266b-4b9f-8f66-0a59dc759bc3",
   "metadata": {},
   "outputs": [
    {
     "ename": "SyntaxError",
     "evalue": "invalid syntax (3871018507.py, line 1)",
     "output_type": "error",
     "traceback": [
      "\u001b[1;36m  Cell \u001b[1;32mIn[90], line 1\u001b[1;36m\u001b[0m\n\u001b[1;33m    A.intersection(B) Intersection of A and B\u001b[0m\n\u001b[1;37m                      ^\u001b[0m\n\u001b[1;31mSyntaxError\u001b[0m\u001b[1;31m:\u001b[0m invalid syntax\n"
     ]
    }
   ],
   "source": [
    "A.intersection(B) Intersection of A and B"
   ]
  },
  {
   "cell_type": "code",
   "execution_count": 93,
   "id": "4bd4a634-35be-4993-b347-7273e2111901",
   "metadata": {},
   "outputs": [
    {
     "data": {
      "text/plain": [
       "{4, 5, 6, 7, 8}"
      ]
     },
     "execution_count": 93,
     "metadata": {},
     "output_type": "execute_result"
    }
   ],
   "source": [
    "'''Updates the set calling the interection_update() method with the intersection of A&B\n",
    "For below example set A will be updated with intersection of A&B.'''\n",
    "A.intersection_update(B)\n",
    "A"
   ]
  },
  {
   "cell_type": "code",
   "execution_count": 96,
   "id": "733793c2-75b4-4b52-b2fe-152f878d6f38",
   "metadata": {},
   "outputs": [
    {
     "data": {
      "text/plain": [
       "{8, 9, 10}"
      ]
     },
     "execution_count": 96,
     "metadata": {},
     "output_type": "execute_result"
    }
   ],
   "source": [
    "A.intersection_update(C)\n",
    "A\n"
   ]
  },
  {
   "cell_type": "code",
   "execution_count": 97,
   "id": "d2a18863-116d-4fce-ab34-179f49adf6e3",
   "metadata": {},
   "outputs": [
    {
     "data": {
      "text/plain": [
       "{8, 9, 10}"
      ]
     },
     "execution_count": 97,
     "metadata": {},
     "output_type": "execute_result"
    }
   ],
   "source": [
    "A"
   ]
  },
  {
   "cell_type": "code",
   "execution_count": 98,
   "id": "2b1eb40a-993e-45a8-b90f-87570895a6eb",
   "metadata": {},
   "outputs": [
    {
     "data": {
      "text/plain": [
       "{4, 5, 6, 7, 8}"
      ]
     },
     "execution_count": 98,
     "metadata": {},
     "output_type": "execute_result"
    }
   ],
   "source": [
    "B"
   ]
  },
  {
   "cell_type": "code",
   "execution_count": 99,
   "id": "6d270a75-fc0a-421f-96c3-c75862bfa82b",
   "metadata": {},
   "outputs": [
    {
     "data": {
      "text/plain": [
       "{8, 9, 10}"
      ]
     },
     "execution_count": 99,
     "metadata": {},
     "output_type": "execute_result"
    }
   ],
   "source": [
    "C"
   ]
  },
  {
   "cell_type": "markdown",
   "id": "20d45cee-0d2c-4fe4-bdcd-deae4758d5a6",
   "metadata": {},
   "source": [
    "Difference"
   ]
  },
  {
   "cell_type": "code",
   "execution_count": 100,
   "id": "59d79320-7bfa-48d6-b23c-74ce286fe27a",
   "metadata": {},
   "outputs": [],
   "source": [
    "A={1,2,3,4,5}\n",
    "B={4,5,6,7,8}\n"
   ]
  },
  {
   "cell_type": "code",
   "execution_count": 101,
   "id": "4f67a013-6094-4ff1-b9d1-fda0773837bf",
   "metadata": {},
   "outputs": [
    {
     "data": {
      "text/plain": [
       "{1, 2, 3}"
      ]
     },
     "execution_count": 101,
     "metadata": {},
     "output_type": "execute_result"
    }
   ],
   "source": [
    "A-B  #set of elements that are only in A not in B"
   ]
  },
  {
   "cell_type": "code",
   "execution_count": 102,
   "id": "4e8b6917-e7ee-4380-a832-8e8bbab4df62",
   "metadata": {},
   "outputs": [
    {
     "data": {
      "text/plain": [
       "{1, 2, 3}"
      ]
     },
     "execution_count": 102,
     "metadata": {},
     "output_type": "execute_result"
    }
   ],
   "source": [
    "A.difference(B)  #difference of sets"
   ]
  },
  {
   "cell_type": "code",
   "execution_count": 103,
   "id": "c26c2072-a602-4546-bac6-5f0648fdcaac",
   "metadata": {},
   "outputs": [
    {
     "data": {
      "text/plain": [
       "{6, 7, 8}"
      ]
     },
     "execution_count": 103,
     "metadata": {},
     "output_type": "execute_result"
    }
   ],
   "source": [
    "B-A"
   ]
  },
  {
   "cell_type": "code",
   "execution_count": 104,
   "id": "e5049033-9d6e-4982-abb1-0b9b108d0449",
   "metadata": {},
   "outputs": [
    {
     "data": {
      "text/plain": [
       "{6, 7, 8}"
      ]
     },
     "execution_count": 104,
     "metadata": {},
     "output_type": "execute_result"
    }
   ],
   "source": [
    "B.difference(A)"
   ]
  },
  {
   "cell_type": "code",
   "execution_count": 105,
   "id": "e806c4a2-a8f8-4974-a5da-2d5fc6cc84c8",
   "metadata": {},
   "outputs": [
    {
     "data": {
      "text/plain": [
       "{6, 7, 8}"
      ]
     },
     "execution_count": 105,
     "metadata": {},
     "output_type": "execute_result"
    }
   ],
   "source": [
    "B.difference_update(A)\n",
    "B"
   ]
  },
  {
   "cell_type": "code",
   "execution_count": 106,
   "id": "58c8419b-2bee-4611-a9f9-ab786cf7e759",
   "metadata": {},
   "outputs": [
    {
     "data": {
      "text/plain": [
       "{6, 7, 8}"
      ]
     },
     "execution_count": 106,
     "metadata": {},
     "output_type": "execute_result"
    }
   ],
   "source": [
    "B"
   ]
  },
  {
   "cell_type": "code",
   "execution_count": 107,
   "id": "19808413-949a-4fd8-acb7-c50ca940396d",
   "metadata": {},
   "outputs": [
    {
     "data": {
      "text/plain": [
       "{1, 2, 3, 4, 5}"
      ]
     },
     "execution_count": 107,
     "metadata": {},
     "output_type": "execute_result"
    }
   ],
   "source": [
    "A"
   ]
  },
  {
   "cell_type": "markdown",
   "id": "b2099d6c-98f1-4eb4-bbaf-967ce21ecdf0",
   "metadata": {},
   "source": [
    "Symmetric Difference"
   ]
  },
  {
   "cell_type": "code",
   "execution_count": 108,
   "id": "16aa34fe-1237-46a4-b93b-47a380faea2e",
   "metadata": {},
   "outputs": [],
   "source": [
    "A1={2,4,6,8,10}\n",
    "B1={8,10,12,14,16}\n",
    "C1={20,22,24}"
   ]
  },
  {
   "cell_type": "code",
   "execution_count": 110,
   "id": "9c006047-2139-47fd-abf4-f3125f61e183",
   "metadata": {},
   "outputs": [
    {
     "data": {
      "text/plain": [
       "{2, 4, 6, 12, 14, 16}"
      ]
     },
     "execution_count": 110,
     "metadata": {},
     "output_type": "execute_result"
    }
   ],
   "source": [
    "A1^B1"
   ]
  },
  {
   "cell_type": "code",
   "execution_count": 111,
   "id": "b2dcdf0c-fc63-4aaa-a597-45aff09dab44",
   "metadata": {},
   "outputs": [
    {
     "data": {
      "text/plain": [
       "{2, 4, 6, 12, 14, 16}"
      ]
     },
     "execution_count": 111,
     "metadata": {},
     "output_type": "execute_result"
    }
   ],
   "source": [
    "A1.symmetric_difference(B1)"
   ]
  },
  {
   "cell_type": "code",
   "execution_count": 112,
   "id": "c6dc95ae-ba1b-44c3-9537-1b385e20577c",
   "metadata": {},
   "outputs": [
    {
     "data": {
      "text/plain": [
       "{2, 4, 6, 12, 14, 16}"
      ]
     },
     "execution_count": 112,
     "metadata": {},
     "output_type": "execute_result"
    }
   ],
   "source": [
    "B1.symmetric_difference(A1)"
   ]
  },
  {
   "cell_type": "code",
   "execution_count": 113,
   "id": "87bd5b6f-11b9-43e8-b295-ef263dd32793",
   "metadata": {},
   "outputs": [
    {
     "data": {
      "text/plain": [
       "{2, 4, 6, 12, 14, 16, 20, 22, 24}"
      ]
     },
     "execution_count": 113,
     "metadata": {},
     "output_type": "execute_result"
    }
   ],
   "source": [
    "A1^B1^C1"
   ]
  },
  {
   "cell_type": "code",
   "execution_count": 117,
   "id": "928fb8f7-06c1-4129-b08d-87a5e81fa974",
   "metadata": {},
   "outputs": [
    {
     "data": {
      "text/plain": [
       "{8, 10, 12, 14, 16, 20, 22, 24}"
      ]
     },
     "execution_count": 117,
     "metadata": {},
     "output_type": "execute_result"
    }
   ],
   "source": [
    "B1.symmetric_difference(C1)\n"
   ]
  },
  {
   "cell_type": "code",
   "execution_count": 121,
   "id": "7ec51a00-d476-4aee-9624-3bef12d9dd52",
   "metadata": {},
   "outputs": [
    {
     "data": {
      "text/plain": [
       "{2, 4, 6, 12, 14, 16}"
      ]
     },
     "execution_count": 121,
     "metadata": {},
     "output_type": "execute_result"
    }
   ],
   "source": [
    "'''Updates the set calling the symmetric_difference_update() method  with the symmetric difference of sets\n",
    "For below example set A will be updated with the symmetric difference of A&B'''\n",
    "A1.symmetric_difference_update(B1)\n",
    "A1"
   ]
  },
  {
   "cell_type": "code",
   "execution_count": 122,
   "id": "d78c27d9-9e44-4038-af39-3982b400ec76",
   "metadata": {},
   "outputs": [
    {
     "name": "stdout",
     "output_type": "stream",
     "text": [
      "{16, 2, 4, 6, 12, 14}\n",
      "{16, 8, 10, 12, 14}\n",
      "{24, 20, 22}\n"
     ]
    }
   ],
   "source": [
    "print(A1)\n",
    "print(B1)\n",
    "print(C1)"
   ]
  },
  {
   "cell_type": "markdown",
   "id": "f3480c83-b52f-4f50-9095-1a31c74b3cf0",
   "metadata": {},
   "source": [
    "Subset, Superset and Disjoint"
   ]
  },
  {
   "cell_type": "code",
   "execution_count": 126,
   "id": "c703faa8-6ac6-4d80-9fc5-e269d38bb11f",
   "metadata": {},
   "outputs": [],
   "source": [
    "A2={1,3,5,7,9,11,13}\n",
    "B2={7,9,11}\n",
    "C2={2,4,6,8,10}\n"
   ]
  },
  {
   "cell_type": "code",
   "execution_count": 127,
   "id": "937ce05c-b51c-4725-87d8-3b966c9bf2a7",
   "metadata": {},
   "outputs": [
    {
     "data": {
      "text/plain": [
       "True"
      ]
     },
     "execution_count": 127,
     "metadata": {},
     "output_type": "execute_result"
    }
   ],
   "source": [
    "B2.issubset(A2)"
   ]
  },
  {
   "cell_type": "code",
   "execution_count": 128,
   "id": "40adfba1-d0c7-404c-9078-7dba2f0ef24a",
   "metadata": {},
   "outputs": [
    {
     "data": {
      "text/plain": [
       "False"
      ]
     },
     "execution_count": 128,
     "metadata": {},
     "output_type": "execute_result"
    }
   ],
   "source": [
    "A2.issubset(B2)"
   ]
  },
  {
   "cell_type": "code",
   "execution_count": 129,
   "id": "fbdffb2f-60c0-4082-ab4d-1787abe8f5ad",
   "metadata": {},
   "outputs": [
    {
     "data": {
      "text/plain": [
       "False"
      ]
     },
     "execution_count": 129,
     "metadata": {},
     "output_type": "execute_result"
    }
   ],
   "source": [
    "C2.issubset(B2)"
   ]
  },
  {
   "cell_type": "code",
   "execution_count": 130,
   "id": "c4d816fc-aa66-4f01-86c3-d1438e306230",
   "metadata": {},
   "outputs": [
    {
     "data": {
      "text/plain": [
       "True"
      ]
     },
     "execution_count": 130,
     "metadata": {},
     "output_type": "execute_result"
    }
   ],
   "source": [
    "A2.issuperset(B2)"
   ]
  },
  {
   "cell_type": "code",
   "execution_count": 134,
   "id": "3847b31f-bc49-4d33-a9a7-f230a77ab271",
   "metadata": {},
   "outputs": [
    {
     "data": {
      "text/plain": [
       "False"
      ]
     },
     "execution_count": 134,
     "metadata": {},
     "output_type": "execute_result"
    }
   ],
   "source": [
    "B2.issuperset(A2)"
   ]
  },
  {
   "cell_type": "code",
   "execution_count": 131,
   "id": "6cd9bb14-fe54-450c-8529-c9ff559ecd72",
   "metadata": {},
   "outputs": [
    {
     "data": {
      "text/plain": [
       "True"
      ]
     },
     "execution_count": 131,
     "metadata": {},
     "output_type": "execute_result"
    }
   ],
   "source": [
    "C2.isdisjoint(B2)"
   ]
  },
  {
   "cell_type": "code",
   "execution_count": 132,
   "id": "d9d97188-f172-479a-924f-3b06c0e4c529",
   "metadata": {},
   "outputs": [
    {
     "data": {
      "text/plain": [
       "True"
      ]
     },
     "execution_count": 132,
     "metadata": {},
     "output_type": "execute_result"
    }
   ],
   "source": [
    "C2.isdisjoint(A2)"
   ]
  },
  {
   "cell_type": "code",
   "execution_count": 133,
   "id": "90bee78d-f760-4b20-a894-5bb383c5e908",
   "metadata": {},
   "outputs": [
    {
     "data": {
      "text/plain": [
       "False"
      ]
     },
     "execution_count": 133,
     "metadata": {},
     "output_type": "execute_result"
    }
   ],
   "source": [
    "B2.isdisjoint(A2)"
   ]
  },
  {
   "cell_type": "markdown",
   "id": "0962cc59-f30e-411f-8e9b-748d7613d258",
   "metadata": {},
   "source": [
    "Other Builtin Functions"
   ]
  },
  {
   "cell_type": "code",
   "execution_count": 135,
   "id": "7ff6cbe1-79fd-46d8-9c3a-4bdb3465e7bd",
   "metadata": {},
   "outputs": [
    {
     "data": {
      "text/plain": [
       "{1, 2, 3, 4, 5}"
      ]
     },
     "execution_count": 135,
     "metadata": {},
     "output_type": "execute_result"
    }
   ],
   "source": [
    "A"
   ]
  },
  {
   "cell_type": "code",
   "execution_count": 136,
   "id": "f4c8c87a-b7ae-49a0-9b4f-99064be133fc",
   "metadata": {},
   "outputs": [
    {
     "data": {
      "text/plain": [
       "{6, 7, 8}"
      ]
     },
     "execution_count": 136,
     "metadata": {},
     "output_type": "execute_result"
    }
   ],
   "source": [
    "B"
   ]
  },
  {
   "cell_type": "code",
   "execution_count": 137,
   "id": "87329daf-d33c-4255-9277-8659c938fbd9",
   "metadata": {},
   "outputs": [
    {
     "data": {
      "text/plain": [
       "{8, 9, 10}"
      ]
     },
     "execution_count": 137,
     "metadata": {},
     "output_type": "execute_result"
    }
   ],
   "source": [
    "C"
   ]
  },
  {
   "cell_type": "code",
   "execution_count": 138,
   "id": "1db09d56-2a5b-4cb5-a6aa-4939cf0805b0",
   "metadata": {},
   "outputs": [
    {
     "data": {
      "text/plain": [
       "{2, 4, 6, 12, 14, 16}"
      ]
     },
     "execution_count": 138,
     "metadata": {},
     "output_type": "execute_result"
    }
   ],
   "source": [
    "A1"
   ]
  },
  {
   "cell_type": "code",
   "execution_count": 139,
   "id": "092ba02a-f52e-4249-bc78-684cb778b04b",
   "metadata": {},
   "outputs": [
    {
     "data": {
      "text/plain": [
       "54"
      ]
     },
     "execution_count": 139,
     "metadata": {},
     "output_type": "execute_result"
    }
   ],
   "source": [
    "sum(A1)"
   ]
  },
  {
   "cell_type": "code",
   "execution_count": 140,
   "id": "792202f0-fce7-4868-97ce-d82405f9278d",
   "metadata": {},
   "outputs": [
    {
     "data": {
      "text/plain": [
       "16"
      ]
     },
     "execution_count": 140,
     "metadata": {},
     "output_type": "execute_result"
    }
   ],
   "source": [
    "max(A1)"
   ]
  },
  {
   "cell_type": "code",
   "execution_count": 141,
   "id": "255b1cda-02d2-42d7-beb9-590dad0c5572",
   "metadata": {},
   "outputs": [
    {
     "data": {
      "text/plain": [
       "2"
      ]
     },
     "execution_count": 141,
     "metadata": {},
     "output_type": "execute_result"
    }
   ],
   "source": [
    "min(A1)"
   ]
  },
  {
   "cell_type": "code",
   "execution_count": 142,
   "id": "366bc180-369a-496b-8cd9-7d025fff34c2",
   "metadata": {},
   "outputs": [
    {
     "data": {
      "text/plain": [
       "[(0, 16), (1, 2), (2, 4), (3, 6), (4, 12), (5, 14)]"
      ]
     },
     "execution_count": 142,
     "metadata": {},
     "output_type": "execute_result"
    }
   ],
   "source": [
    "list(enumerate(A1))"
   ]
  },
  {
   "cell_type": "code",
   "execution_count": 144,
   "id": "31d794a4-d3e1-470e-9b0f-7d8304b4afa0",
   "metadata": {},
   "outputs": [
    {
     "data": {
      "text/plain": [
       "[5, 4, 3, 2, 1]"
      ]
     },
     "execution_count": 144,
     "metadata": {},
     "output_type": "execute_result"
    }
   ],
   "source": [
    "D=sorted(A,reverse=True)\n",
    "D"
   ]
  },
  {
   "cell_type": "code",
   "execution_count": 145,
   "id": "2b21e575-614b-41ad-8ca8-877e5a6d81c7",
   "metadata": {},
   "outputs": [
    {
     "data": {
      "text/plain": [
       "[1, 2, 3, 4, 5]"
      ]
     },
     "execution_count": 145,
     "metadata": {},
     "output_type": "execute_result"
    }
   ],
   "source": [
    "sorted(D)"
   ]
  },
  {
   "cell_type": "code",
   "execution_count": null,
   "id": "e71d8a55-89a5-44d7-b638-6bc6c69fd373",
   "metadata": {},
   "outputs": [],
   "source": []
  }
 ],
 "metadata": {
  "kernelspec": {
   "display_name": "Python 3 (ipykernel)",
   "language": "python",
   "name": "python3"
  },
  "language_info": {
   "codemirror_mode": {
    "name": "ipython",
    "version": 3
   },
   "file_extension": ".py",
   "mimetype": "text/x-python",
   "name": "python",
   "nbconvert_exporter": "python",
   "pygments_lexer": "ipython3",
   "version": "3.12.4"
  }
 },
 "nbformat": 4,
 "nbformat_minor": 5
}
