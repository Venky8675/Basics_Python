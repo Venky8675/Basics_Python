{
 "cells": [
  {
   "cell_type": "markdown",
   "id": "a2a7ea25-3c37-4814-a8b6-5bfe917b7664",
   "metadata": {},
   "source": [
    "#Python in built data structure\n"
   ]
  },
  {
   "cell_type": "markdown",
   "id": "1f2456d1-3e8f-42e9-8506-dfdb166af85a",
   "metadata": {},
   "source": [
    "LIST"
   ]
  },
  {
   "cell_type": "code",
   "execution_count": 2,
   "id": "7830ba5b-63f2-4c4a-a0ca-2e713189b847",
   "metadata": {},
   "outputs": [
    {
     "data": {
      "text/plain": [
       "[]"
      ]
     },
     "execution_count": 2,
     "metadata": {},
     "output_type": "execute_result"
    }
   ],
   "source": [
    "l=[]\n",
    "l"
   ]
  },
  {
   "cell_type": "code",
   "execution_count": 3,
   "id": "54202e8c-354b-4f1a-8a48-b7298eb40c29",
   "metadata": {},
   "outputs": [
    {
     "data": {
      "text/plain": [
       "[]"
      ]
     },
     "execution_count": 3,
     "metadata": {},
     "output_type": "execute_result"
    }
   ],
   "source": [
    "l1=list()\n",
    "l1"
   ]
  },
  {
   "cell_type": "code",
   "execution_count": 4,
   "id": "06e8381a-70b1-4179-a112-9d133245b3e0",
   "metadata": {},
   "outputs": [
    {
     "data": {
      "text/plain": [
       "list"
      ]
     },
     "execution_count": 4,
     "metadata": {},
     "output_type": "execute_result"
    }
   ],
   "source": [
    "type(l)"
   ]
  },
  {
   "cell_type": "code",
   "execution_count": 5,
   "id": "b7a6de94-cd00-434f-a321-5f2e4a303735",
   "metadata": {},
   "outputs": [
    {
     "data": {
      "text/plain": [
       "list"
      ]
     },
     "execution_count": 5,
     "metadata": {},
     "output_type": "execute_result"
    }
   ],
   "source": [
    "type(l1)"
   ]
  },
  {
   "cell_type": "code",
   "execution_count": 6,
   "id": "3b00590e-63bd-4bf6-9953-0d1f734ea04b",
   "metadata": {},
   "outputs": [
    {
     "data": {
      "text/plain": [
       "0"
      ]
     },
     "execution_count": 6,
     "metadata": {},
     "output_type": "execute_result"
    }
   ],
   "source": [
    "len(l)"
   ]
  },
  {
   "cell_type": "code",
   "execution_count": 7,
   "id": "42b66c5c-329e-41a6-aed3-03fa67a1403e",
   "metadata": {},
   "outputs": [
    {
     "data": {
      "text/plain": [
       "0"
      ]
     },
     "execution_count": 7,
     "metadata": {},
     "output_type": "execute_result"
    }
   ],
   "source": [
    "len(l1)\n"
   ]
  },
  {
   "cell_type": "code",
   "execution_count": 8,
   "id": "b73e3416-fc86-4110-9dc0-c0d24017b2a6",
   "metadata": {},
   "outputs": [
    {
     "data": {
      "text/plain": [
       "[10]"
      ]
     },
     "execution_count": 8,
     "metadata": {},
     "output_type": "execute_result"
    }
   ],
   "source": [
    "l.append(10)\n",
    "l"
   ]
  },
  {
   "cell_type": "code",
   "execution_count": 9,
   "id": "03bee20e-5e19-4f05-8ba6-acd083c94de2",
   "metadata": {},
   "outputs": [
    {
     "data": {
      "text/plain": [
       "[10, 20, 30, 40, 50]"
      ]
     },
     "execution_count": 9,
     "metadata": {},
     "output_type": "execute_result"
    }
   ],
   "source": [
    "l.append(20)\n",
    "l.append(30)\n",
    "l.append(40)\n",
    "l.append(50)\n",
    "l"
   ]
  },
  {
   "cell_type": "code",
   "execution_count": 10,
   "id": "e51d57c1-bea3-4e91-a129-780851eb83a8",
   "metadata": {},
   "outputs": [
    {
     "data": {
      "text/plain": [
       "5"
      ]
     },
     "execution_count": 10,
     "metadata": {},
     "output_type": "execute_result"
    }
   ],
   "source": [
    "len(l)"
   ]
  },
  {
   "cell_type": "code",
   "execution_count": 11,
   "id": "10ed19af-cea1-4e68-8157-6ab2d5b49395",
   "metadata": {},
   "outputs": [
    {
     "data": {
      "text/plain": [
       "[]"
      ]
     },
     "execution_count": 11,
     "metadata": {},
     "output_type": "execute_result"
    }
   ],
   "source": [
    "l1"
   ]
  },
  {
   "cell_type": "code",
   "execution_count": 12,
   "id": "a82cda22-8dd4-497d-a88e-8a354512b0f1",
   "metadata": {},
   "outputs": [
    {
     "data": {
      "text/plain": [
       "[2.3, True, '10', (1+2j)]"
      ]
     },
     "execution_count": 12,
     "metadata": {},
     "output_type": "execute_result"
    }
   ],
   "source": [
    "l1.append(2.3)\n",
    "l1.append(True)\n",
    "l1.append('10')\n",
    "l1.append(1+2j)\n",
    "l1"
   ]
  },
  {
   "cell_type": "code",
   "execution_count": 13,
   "id": "625fb1dd-1a65-4a6b-b9b1-edad77e007d4",
   "metadata": {},
   "outputs": [
    {
     "data": {
      "text/plain": [
       "[2.3, True, '10', (1+2j), 2.3]"
      ]
     },
     "execution_count": 13,
     "metadata": {},
     "output_type": "execute_result"
    }
   ],
   "source": [
    "l1.append(2.3)\n",
    "l1"
   ]
  },
  {
   "cell_type": "code",
   "execution_count": 14,
   "id": "6f98ffd1-e2db-43da-b28e-308b91579526",
   "metadata": {},
   "outputs": [
    {
     "data": {
      "text/plain": [
       "[2.3, True, '10', (1+2j), 2.3]"
      ]
     },
     "execution_count": 14,
     "metadata": {},
     "output_type": "execute_result"
    }
   ],
   "source": [
    "l2=l1.copy()\n",
    "l2"
   ]
  },
  {
   "cell_type": "code",
   "execution_count": 15,
   "id": "e16994fc-e8a0-43b1-98b1-3536386d9312",
   "metadata": {},
   "outputs": [
    {
     "data": {
      "text/plain": [
       "True"
      ]
     },
     "execution_count": 15,
     "metadata": {},
     "output_type": "execute_result"
    }
   ],
   "source": [
    "l1==l2"
   ]
  },
  {
   "cell_type": "code",
   "execution_count": 16,
   "id": "484fe739-ef84-4eb3-a0e5-29109a7003fc",
   "metadata": {},
   "outputs": [
    {
     "data": {
      "text/plain": [
       "False"
      ]
     },
     "execution_count": 16,
     "metadata": {},
     "output_type": "execute_result"
    }
   ],
   "source": [
    "l==l2"
   ]
  },
  {
   "cell_type": "code",
   "execution_count": 17,
   "id": "5e07303f-de8e-4b9a-afc1-bd9f359bc49d",
   "metadata": {},
   "outputs": [
    {
     "data": {
      "text/plain": [
       "[]"
      ]
     },
     "execution_count": 17,
     "metadata": {},
     "output_type": "execute_result"
    }
   ],
   "source": [
    "l2.clear()\n",
    "l2"
   ]
  },
  {
   "cell_type": "code",
   "execution_count": 18,
   "id": "81c8c836-6003-4e4c-a232-42bd1df9ae3c",
   "metadata": {},
   "outputs": [],
   "source": [
    "l2.append(90)\n",
    "l2.append(80)\n",
    "l2.append('hi')\n",
    "l2.append(False)\n",
    "l2.append(1+2j)"
   ]
  },
  {
   "cell_type": "code",
   "execution_count": 19,
   "id": "fc6a8dfd-171a-47bf-8a04-aaa5ecd2382a",
   "metadata": {},
   "outputs": [
    {
     "name": "stdout",
     "output_type": "stream",
     "text": [
      "[10, 20, 30, 40, 50]\n",
      "[2.3, True, '10', (1+2j), 2.3]\n",
      "[90, 80, 'hi', False, (1+2j)]\n"
     ]
    }
   ],
   "source": [
    "print(l)\n",
    "print(l1)\n",
    "print(l2)"
   ]
  },
  {
   "cell_type": "code",
   "execution_count": 20,
   "id": "0c00542b-646a-455d-a96f-0c93ac6fb91a",
   "metadata": {},
   "outputs": [
    {
     "data": {
      "text/plain": [
       "[10, 20, 30, 40, 50]"
      ]
     },
     "execution_count": 20,
     "metadata": {},
     "output_type": "execute_result"
    }
   ],
   "source": [
    "l[:]"
   ]
  },
  {
   "cell_type": "code",
   "execution_count": 21,
   "id": "ac01b555-39ea-478b-ad9c-2fb0d19af313",
   "metadata": {},
   "outputs": [
    {
     "data": {
      "text/plain": [
       "40"
      ]
     },
     "execution_count": 21,
     "metadata": {},
     "output_type": "execute_result"
    }
   ],
   "source": [
    "l[3]"
   ]
  },
  {
   "cell_type": "code",
   "execution_count": 22,
   "id": "2e9536ef-686e-43ac-8242-8c7263c6c50c",
   "metadata": {},
   "outputs": [
    {
     "ename": "IndexError",
     "evalue": "list index out of range",
     "output_type": "error",
     "traceback": [
      "\u001b[1;31m---------------------------------------------------------------------------\u001b[0m",
      "\u001b[1;31mIndexError\u001b[0m                                Traceback (most recent call last)",
      "Cell \u001b[1;32mIn[22], line 1\u001b[0m\n\u001b[1;32m----> 1\u001b[0m \u001b[43ml\u001b[49m\u001b[43m[\u001b[49m\u001b[38;5;241;43m10\u001b[39;49m\u001b[43m]\u001b[49m\n",
      "\u001b[1;31mIndexError\u001b[0m: list index out of range"
     ]
    }
   ],
   "source": [
    "l[10]"
   ]
  },
  {
   "cell_type": "code",
   "execution_count": 23,
   "id": "b654ef10-906e-4335-9074-ec57f88c03b1",
   "metadata": {},
   "outputs": [
    {
     "data": {
      "text/plain": [
       "[2.3, True, '10', (1+2j), 2.3]"
      ]
     },
     "execution_count": 23,
     "metadata": {},
     "output_type": "execute_result"
    }
   ],
   "source": [
    "l1\n"
   ]
  },
  {
   "cell_type": "code",
   "execution_count": 24,
   "id": "80c39724-ef3f-42bf-a1ac-b32c412b7045",
   "metadata": {},
   "outputs": [
    {
     "data": {
      "text/plain": [
       "['10', (1+2j), 2.3]"
      ]
     },
     "execution_count": 24,
     "metadata": {},
     "output_type": "execute_result"
    }
   ],
   "source": [
    "l1[2:]"
   ]
  },
  {
   "cell_type": "code",
   "execution_count": 25,
   "id": "58b6a06a-d335-4be5-896e-97e5bbf1e620",
   "metadata": {},
   "outputs": [
    {
     "data": {
      "text/plain": [
       "[2.3, True, '10', (1+2j)]"
      ]
     },
     "execution_count": 25,
     "metadata": {},
     "output_type": "execute_result"
    }
   ],
   "source": [
    "l1[:4]"
   ]
  },
  {
   "cell_type": "code",
   "execution_count": 26,
   "id": "87611830-16ff-4230-95a5-1b2234d6d9c1",
   "metadata": {},
   "outputs": [
    {
     "data": {
      "text/plain": [
       "[90, 80, 'hi', False, (1+2j)]"
      ]
     },
     "execution_count": 26,
     "metadata": {},
     "output_type": "execute_result"
    }
   ],
   "source": [
    "l2\n"
   ]
  },
  {
   "cell_type": "code",
   "execution_count": 27,
   "id": "6d6da445-12b9-4993-8abe-f0a1fbbc1a94",
   "metadata": {},
   "outputs": [
    {
     "data": {
      "text/plain": [
       "[90, 80, 'hi', False, (1+2j)]"
      ]
     },
     "execution_count": 27,
     "metadata": {},
     "output_type": "execute_result"
    }
   ],
   "source": [
    "l2[0:10]"
   ]
  },
  {
   "cell_type": "code",
   "execution_count": 28,
   "id": "99b7fccf-8357-4f2f-b69f-f1f05f4ca7cf",
   "metadata": {},
   "outputs": [
    {
     "data": {
      "text/plain": [
       "[90, 80, 'hi', False, (1+2j)]"
      ]
     },
     "execution_count": 28,
     "metadata": {},
     "output_type": "execute_result"
    }
   ],
   "source": [
    "l2[0:5]"
   ]
  },
  {
   "cell_type": "code",
   "execution_count": 29,
   "id": "13f7f68f-a4b3-4f8f-9cfd-b9e1e469c38c",
   "metadata": {},
   "outputs": [
    {
     "data": {
      "text/plain": [
       "[90, 80, 'hi']"
      ]
     },
     "execution_count": 29,
     "metadata": {},
     "output_type": "execute_result"
    }
   ],
   "source": [
    "l2[0:3]"
   ]
  },
  {
   "cell_type": "code",
   "execution_count": 30,
   "id": "7519c32d-03f2-4d18-a538-27b9b2e627e2",
   "metadata": {},
   "outputs": [
    {
     "data": {
      "text/plain": [
       "[90, 80, 'hi']"
      ]
     },
     "execution_count": 30,
     "metadata": {},
     "output_type": "execute_result"
    }
   ],
   "source": [
    "l2[:-2]"
   ]
  },
  {
   "cell_type": "code",
   "execution_count": 31,
   "id": "07a32bd8-88df-4167-911d-1435aa7848c3",
   "metadata": {},
   "outputs": [
    {
     "data": {
      "text/plain": [
       "[90, 80, 'hi', False, (1+2j)]"
      ]
     },
     "execution_count": 31,
     "metadata": {},
     "output_type": "execute_result"
    }
   ],
   "source": [
    "l2"
   ]
  },
  {
   "cell_type": "code",
   "execution_count": 32,
   "id": "ea5a7b1b-9149-4684-87f6-1ddea0e04c1f",
   "metadata": {},
   "outputs": [
    {
     "data": {
      "text/plain": [
       "[80, 'hi', False, (1+2j)]"
      ]
     },
     "execution_count": 32,
     "metadata": {},
     "output_type": "execute_result"
    }
   ],
   "source": [
    "l2[-4:]"
   ]
  },
  {
   "cell_type": "code",
   "execution_count": 33,
   "id": "19f8d2fa-4d17-4254-8756-0857f8029cb3",
   "metadata": {},
   "outputs": [
    {
     "data": {
      "text/plain": [
       "[10, 20, 30, 40]"
      ]
     },
     "execution_count": 33,
     "metadata": {},
     "output_type": "execute_result"
    }
   ],
   "source": [
    "l[:-1]"
   ]
  },
  {
   "cell_type": "code",
   "execution_count": 34,
   "id": "a2019f13-6ebd-4d7f-aff0-6d1145c3735e",
   "metadata": {},
   "outputs": [
    {
     "data": {
      "text/plain": [
       "[20, 30, 40, 50]"
      ]
     },
     "execution_count": 34,
     "metadata": {},
     "output_type": "execute_result"
    }
   ],
   "source": [
    "l[-4:]"
   ]
  },
  {
   "cell_type": "code",
   "execution_count": 35,
   "id": "4ee68261-78a3-4420-8743-f688f05b5ec7",
   "metadata": {},
   "outputs": [
    {
     "data": {
      "text/plain": [
       "[(1+2j), False, 'hi', 80, 90]"
      ]
     },
     "execution_count": 35,
     "metadata": {},
     "output_type": "execute_result"
    }
   ],
   "source": [
    "l2[::-1]"
   ]
  },
  {
   "cell_type": "code",
   "execution_count": 36,
   "id": "ff571dfb-23af-44d1-9823-f1c1c3c8179b",
   "metadata": {},
   "outputs": [
    {
     "data": {
      "text/plain": [
       "[90, 80, 'hi', False, (1+2j)]"
      ]
     },
     "execution_count": 36,
     "metadata": {},
     "output_type": "execute_result"
    }
   ],
   "source": [
    "l2"
   ]
  },
  {
   "cell_type": "code",
   "execution_count": 37,
   "id": "59e0ddd0-da80-4cea-810f-7e59b2a7bf94",
   "metadata": {},
   "outputs": [
    {
     "data": {
      "text/plain": [
       "[(1+2j), 'hi', 90]"
      ]
     },
     "execution_count": 37,
     "metadata": {},
     "output_type": "execute_result"
    }
   ],
   "source": [
    "l2[::-2]"
   ]
  },
  {
   "cell_type": "code",
   "execution_count": 38,
   "id": "79a04d67-1473-4e5e-9349-547b0432104c",
   "metadata": {},
   "outputs": [
    {
     "data": {
      "text/plain": [
       "[10, 20, 30, 40, 50]"
      ]
     },
     "execution_count": 38,
     "metadata": {},
     "output_type": "execute_result"
    }
   ],
   "source": [
    "l"
   ]
  },
  {
   "cell_type": "code",
   "execution_count": 39,
   "id": "95f7ef7b-ab60-4a9d-89aa-055be3e3be5f",
   "metadata": {},
   "outputs": [
    {
     "data": {
      "text/plain": [
       "[50, 30, 10]"
      ]
     },
     "execution_count": 39,
     "metadata": {},
     "output_type": "execute_result"
    }
   ],
   "source": [
    "l[::-2]"
   ]
  },
  {
   "cell_type": "code",
   "execution_count": 40,
   "id": "aa53c8c1-d814-43c5-b292-a8429ae10c25",
   "metadata": {},
   "outputs": [
    {
     "data": {
      "text/plain": [
       "[10, 30, 50]"
      ]
     },
     "execution_count": 40,
     "metadata": {},
     "output_type": "execute_result"
    }
   ],
   "source": [
    "l[::2]"
   ]
  },
  {
   "cell_type": "code",
   "execution_count": 41,
   "id": "e70baa81-ba69-4ade-924d-a1ea4bdd4fce",
   "metadata": {},
   "outputs": [
    {
     "data": {
      "text/plain": [
       "[10, 20, 30, 40, 50]"
      ]
     },
     "execution_count": 41,
     "metadata": {},
     "output_type": "execute_result"
    }
   ],
   "source": [
    "l"
   ]
  },
  {
   "cell_type": "code",
   "execution_count": 42,
   "id": "0d0ef614-a11d-4793-9683-b2d3024d58d3",
   "metadata": {},
   "outputs": [],
   "source": [
    "l=[10,20,30,40,50]"
   ]
  },
  {
   "cell_type": "code",
   "execution_count": 43,
   "id": "49194fda-87b4-4de7-9604-8c6e60a8a92e",
   "metadata": {},
   "outputs": [
    {
     "data": {
      "text/plain": [
       "[10, 20, 30, 40, 50]"
      ]
     },
     "execution_count": 43,
     "metadata": {},
     "output_type": "execute_result"
    }
   ],
   "source": [
    "l"
   ]
  },
  {
   "cell_type": "code",
   "execution_count": 44,
   "id": "e85964ff-b292-4907-ba54-4892b967df4d",
   "metadata": {},
   "outputs": [
    {
     "data": {
      "text/plain": [
       "[50, 20]"
      ]
     },
     "execution_count": 44,
     "metadata": {},
     "output_type": "execute_result"
    }
   ],
   "source": [
    "l[::-3]"
   ]
  },
  {
   "cell_type": "code",
   "execution_count": 45,
   "id": "78a50152-d667-49e1-8574-13622b830a39",
   "metadata": {},
   "outputs": [
    {
     "data": {
      "text/plain": [
       "1"
      ]
     },
     "execution_count": 45,
     "metadata": {},
     "output_type": "execute_result"
    }
   ],
   "source": [
    "l.count(10)"
   ]
  },
  {
   "cell_type": "code",
   "execution_count": 46,
   "id": "50484d24-3e54-4b90-8531-4bd89300dd69",
   "metadata": {},
   "outputs": [
    {
     "data": {
      "text/plain": [
       "[2.3, True, '10', (1+2j), 2.3]"
      ]
     },
     "execution_count": 46,
     "metadata": {},
     "output_type": "execute_result"
    }
   ],
   "source": [
    "l1"
   ]
  },
  {
   "cell_type": "code",
   "execution_count": 47,
   "id": "1b3b627f-cbd5-4c5d-8fa2-ab7b4e2838ed",
   "metadata": {},
   "outputs": [
    {
     "data": {
      "text/plain": [
       "1"
      ]
     },
     "execution_count": 47,
     "metadata": {},
     "output_type": "execute_result"
    }
   ],
   "source": [
    "l1.count('10')"
   ]
  },
  {
   "cell_type": "code",
   "execution_count": 48,
   "id": "f2c108cc-2890-4420-843d-5e6129f5c555",
   "metadata": {},
   "outputs": [],
   "source": [
    "l1=[2.3,True,'10',(1+2j)]"
   ]
  },
  {
   "cell_type": "code",
   "execution_count": 49,
   "id": "68403908-9d5b-477a-bc65-54a425424843",
   "metadata": {},
   "outputs": [
    {
     "data": {
      "text/plain": [
       "[2.3, True, '10', (1+2j)]"
      ]
     },
     "execution_count": 49,
     "metadata": {},
     "output_type": "execute_result"
    }
   ],
   "source": [
    "l1"
   ]
  },
  {
   "cell_type": "code",
   "execution_count": 50,
   "id": "46f19f21-3ca0-4267-9696-e96c082e026b",
   "metadata": {},
   "outputs": [],
   "source": [
    "l1.append(2.3)"
   ]
  },
  {
   "cell_type": "code",
   "execution_count": 51,
   "id": "8f0dccac-fe3c-4749-97cd-3ea4fd7c442c",
   "metadata": {},
   "outputs": [
    {
     "data": {
      "text/plain": [
       "[2.3, True, '10', (1+2j), 2.3]"
      ]
     },
     "execution_count": 51,
     "metadata": {},
     "output_type": "execute_result"
    }
   ],
   "source": [
    "l1\n"
   ]
  },
  {
   "cell_type": "code",
   "execution_count": 52,
   "id": "b583bcbc-87d5-4ccd-8f10-9d43d668585e",
   "metadata": {},
   "outputs": [
    {
     "data": {
      "text/plain": [
       "2"
      ]
     },
     "execution_count": 52,
     "metadata": {},
     "output_type": "execute_result"
    }
   ],
   "source": [
    "l1.count(2.3)"
   ]
  },
  {
   "cell_type": "code",
   "execution_count": 53,
   "id": "b2d213c2-3741-4500-9620-a2e6f49a52e5",
   "metadata": {},
   "outputs": [
    {
     "data": {
      "text/plain": [
       "1"
      ]
     },
     "execution_count": 53,
     "metadata": {},
     "output_type": "execute_result"
    }
   ],
   "source": [
    "l1.count('10')"
   ]
  },
  {
   "cell_type": "code",
   "execution_count": 54,
   "id": "b435f3a5-ecd3-4f96-8f48-01f02d3d0dbf",
   "metadata": {},
   "outputs": [
    {
     "data": {
      "text/plain": [
       "0"
      ]
     },
     "execution_count": 54,
     "metadata": {},
     "output_type": "execute_result"
    }
   ],
   "source": [
    "l1.count(100)"
   ]
  },
  {
   "cell_type": "code",
   "execution_count": 55,
   "id": "4fcd4de2-92d4-4521-8fe9-d5d1442b9243",
   "metadata": {},
   "outputs": [
    {
     "data": {
      "text/plain": [
       "0"
      ]
     },
     "execution_count": 55,
     "metadata": {},
     "output_type": "execute_result"
    }
   ],
   "source": [
    "l1.index(2.3)"
   ]
  },
  {
   "cell_type": "code",
   "execution_count": 56,
   "id": "97e35bc7-6a65-45c7-b191-985c7c151c31",
   "metadata": {},
   "outputs": [
    {
     "data": {
      "text/plain": [
       "1"
      ]
     },
     "execution_count": 56,
     "metadata": {},
     "output_type": "execute_result"
    }
   ],
   "source": [
    "l1.index(True)"
   ]
  },
  {
   "cell_type": "code",
   "execution_count": 57,
   "id": "d23030e6-3666-49de-a42a-2fc2c08ca472",
   "metadata": {},
   "outputs": [
    {
     "data": {
      "text/plain": [
       "[2.3, True, '10', (1+2j), 2.3]"
      ]
     },
     "execution_count": 57,
     "metadata": {},
     "output_type": "execute_result"
    }
   ],
   "source": [
    "l1"
   ]
  },
  {
   "cell_type": "code",
   "execution_count": 58,
   "id": "29ecf98a-80c6-4a9c-a325-8e26103ad842",
   "metadata": {},
   "outputs": [
    {
     "data": {
      "text/plain": [
       "[2.3, True, '10', (1+2j), 2.3]"
      ]
     },
     "execution_count": 58,
     "metadata": {},
     "output_type": "execute_result"
    }
   ],
   "source": [
    "l1"
   ]
  },
  {
   "cell_type": "code",
   "execution_count": 59,
   "id": "20374753-4f0d-4045-86ac-d75c32e57d66",
   "metadata": {},
   "outputs": [
    {
     "data": {
      "text/plain": [
       "[2.3, True, '10', (1+2j), 2.3, 2.3]"
      ]
     },
     "execution_count": 59,
     "metadata": {},
     "output_type": "execute_result"
    }
   ],
   "source": [
    "l1.append(2.3)\n",
    "l1"
   ]
  },
  {
   "cell_type": "code",
   "execution_count": 60,
   "id": "1e6a6418-1187-4dd7-9065-1b30e075b232",
   "metadata": {},
   "outputs": [
    {
     "data": {
      "text/plain": [
       "2.3"
      ]
     },
     "execution_count": 60,
     "metadata": {},
     "output_type": "execute_result"
    }
   ],
   "source": [
    "l1.pop()"
   ]
  },
  {
   "cell_type": "code",
   "execution_count": 61,
   "id": "cffb968c-a52b-415c-9b3e-2c18555a34da",
   "metadata": {},
   "outputs": [
    {
     "data": {
      "text/plain": [
       "[2.3, True, '10', (1+2j), 2.3]"
      ]
     },
     "execution_count": 61,
     "metadata": {},
     "output_type": "execute_result"
    }
   ],
   "source": [
    "l1"
   ]
  },
  {
   "cell_type": "code",
   "execution_count": 62,
   "id": "4fd8b9b9-e166-4bf9-a918-c59597a15a12",
   "metadata": {},
   "outputs": [],
   "source": [
    "l1.remove(2.3)"
   ]
  },
  {
   "cell_type": "code",
   "execution_count": 63,
   "id": "6c2a10f4-3427-4fa5-a535-2321136ec7b2",
   "metadata": {},
   "outputs": [
    {
     "data": {
      "text/plain": [
       "[True, '10', (1+2j), 2.3]"
      ]
     },
     "execution_count": 63,
     "metadata": {},
     "output_type": "execute_result"
    }
   ],
   "source": [
    "l1"
   ]
  },
  {
   "cell_type": "code",
   "execution_count": 64,
   "id": "7721b1a0-8577-4b0f-aee2-4b0e4281b088",
   "metadata": {},
   "outputs": [
    {
     "data": {
      "text/plain": [
       "[10, 20, 30, 40, 50]"
      ]
     },
     "execution_count": 64,
     "metadata": {},
     "output_type": "execute_result"
    }
   ],
   "source": [
    "l"
   ]
  },
  {
   "cell_type": "code",
   "execution_count": 65,
   "id": "74651adb-11fd-4869-9572-0f7f64f8b59e",
   "metadata": {},
   "outputs": [],
   "source": [
    "l.append([1,2,3])"
   ]
  },
  {
   "cell_type": "code",
   "execution_count": 66,
   "id": "9dd3ac4a-67cf-47a5-948d-dd8d978e78d2",
   "metadata": {},
   "outputs": [
    {
     "data": {
      "text/plain": [
       "[10, 20, 30, 40, 50, [1, 2, 3]]"
      ]
     },
     "execution_count": 66,
     "metadata": {},
     "output_type": "execute_result"
    }
   ],
   "source": [
    "l"
   ]
  },
  {
   "cell_type": "code",
   "execution_count": 67,
   "id": "bfe8f888-415d-4481-9f01-417cc74c3493",
   "metadata": {},
   "outputs": [
    {
     "name": "stdout",
     "output_type": "stream",
     "text": [
      "[10, 20, 30, 40, 50, [1, 2, 3]]\n",
      "[10, 20, 30, 40, 50, [1, 2, 3]]\n",
      "[10, 20, 30, 40, 50, [1, 2, 3]]\n",
      "[10, 20, 30, 40, 50, [1, 2, 3]]\n",
      "[10, 20, 30, 40, 50, [1, 2, 3]]\n",
      "[10, 20, 30, 40, 50, [1, 2, 3]]\n"
     ]
    }
   ],
   "source": [
    "for i in l:\n",
    "    print(l)"
   ]
  },
  {
   "cell_type": "code",
   "execution_count": 72,
   "id": "b9948b82-13fb-4586-bce0-a3a63ead2094",
   "metadata": {},
   "outputs": [
    {
     "name": "stdout",
     "output_type": "stream",
     "text": [
      "10\n",
      "20\n",
      "30\n",
      "40\n",
      "50\n",
      "[1, 2, 3]\n"
     ]
    }
   ],
   "source": [
    "for i in l:\n",
    "    print(i)"
   ]
  },
  {
   "cell_type": "markdown",
   "id": "affa74bc-e7d6-4e36-b284-c917385581e9",
   "metadata": {},
   "source": [
    "27-9-24"
   ]
  },
  {
   "cell_type": "code",
   "execution_count": 73,
   "id": "956f832b-1737-4b6e-96e7-701d7a73c65e",
   "metadata": {},
   "outputs": [
    {
     "data": {
      "text/plain": [
       "[10, 20, 30, 40, 50, [1, 2, 3]]"
      ]
     },
     "execution_count": 73,
     "metadata": {},
     "output_type": "execute_result"
    }
   ],
   "source": [
    "l"
   ]
  },
  {
   "cell_type": "code",
   "execution_count": 74,
   "id": "32268b4a-f5f1-42af-8545-fd619be319a1",
   "metadata": {},
   "outputs": [
    {
     "data": {
      "text/plain": [
       "[True, '10', (1+2j), 2.3, 90, 80, 'hi', False, (1+2j)]"
      ]
     },
     "execution_count": 74,
     "metadata": {},
     "output_type": "execute_result"
    }
   ],
   "source": [
    "l1"
   ]
  },
  {
   "cell_type": "code",
   "execution_count": 75,
   "id": "a9a93d96-8692-4919-829d-66ca3aa378f7",
   "metadata": {},
   "outputs": [
    {
     "data": {
      "text/plain": [
       "[90, 80, 'hi', False, (1+2j)]"
      ]
     },
     "execution_count": 75,
     "metadata": {},
     "output_type": "execute_result"
    }
   ],
   "source": [
    "l2"
   ]
  },
  {
   "cell_type": "code",
   "execution_count": 76,
   "id": "7109d2ae-21f3-4c63-b4bd-e266cba49e63",
   "metadata": {},
   "outputs": [],
   "source": [
    "l1.extend(l2)"
   ]
  },
  {
   "cell_type": "code",
   "execution_count": 77,
   "id": "bcec93b1-f4de-4152-bcb3-16a57dc5e391",
   "metadata": {},
   "outputs": [
    {
     "data": {
      "text/plain": [
       "[True,\n",
       " '10',\n",
       " (1+2j),\n",
       " 2.3,\n",
       " 90,\n",
       " 80,\n",
       " 'hi',\n",
       " False,\n",
       " (1+2j),\n",
       " 90,\n",
       " 80,\n",
       " 'hi',\n",
       " False,\n",
       " (1+2j)]"
      ]
     },
     "execution_count": 77,
     "metadata": {},
     "output_type": "execute_result"
    }
   ],
   "source": [
    "l1"
   ]
  },
  {
   "cell_type": "code",
   "execution_count": 78,
   "id": "fadbe128-ed81-46e5-b19e-ee67dbda1674",
   "metadata": {},
   "outputs": [
    {
     "data": {
      "text/plain": [
       "[10, 20, 30, 40, 50, [1, 2, 3]]"
      ]
     },
     "execution_count": 78,
     "metadata": {},
     "output_type": "execute_result"
    }
   ],
   "source": [
    "l"
   ]
  },
  {
   "cell_type": "code",
   "execution_count": 79,
   "id": "7a0cb4b5-411a-45c3-a873-4ff905d7ffb2",
   "metadata": {},
   "outputs": [],
   "source": [
    "l2.extend(l)"
   ]
  },
  {
   "cell_type": "code",
   "execution_count": 80,
   "id": "cde0b641-ab04-4f94-9bad-f186f5f8e20b",
   "metadata": {},
   "outputs": [
    {
     "data": {
      "text/plain": [
       "[90, 80, 'hi', False, (1+2j), 10, 20, 30, 40, 50, [1, 2, 3]]"
      ]
     },
     "execution_count": 80,
     "metadata": {},
     "output_type": "execute_result"
    }
   ],
   "source": [
    "l2"
   ]
  },
  {
   "cell_type": "code",
   "execution_count": 81,
   "id": "7e469cdd-eac5-4b1b-b6dc-ec03ffaa336a",
   "metadata": {},
   "outputs": [
    {
     "data": {
      "text/plain": [
       "[1, 2, 3]"
      ]
     },
     "execution_count": 81,
     "metadata": {},
     "output_type": "execute_result"
    }
   ],
   "source": [
    "l.pop()"
   ]
  },
  {
   "cell_type": "code",
   "execution_count": 82,
   "id": "432ba76f-061d-478b-b9c9-43f33daac0c5",
   "metadata": {},
   "outputs": [
    {
     "data": {
      "text/plain": [
       "[10, 20, 30, 40, 50]"
      ]
     },
     "execution_count": 82,
     "metadata": {},
     "output_type": "execute_result"
    }
   ],
   "source": [
    "l"
   ]
  },
  {
   "cell_type": "code",
   "execution_count": 83,
   "id": "834f33d3-2468-4c9e-92a3-8419017cd006",
   "metadata": {},
   "outputs": [
    {
     "data": {
      "text/plain": [
       "(1+2j)"
      ]
     },
     "execution_count": 83,
     "metadata": {},
     "output_type": "execute_result"
    }
   ],
   "source": [
    "l2.pop(4)"
   ]
  },
  {
   "cell_type": "code",
   "execution_count": 84,
   "id": "e0a7be40-8bcb-4346-a9b4-74a84fe98db4",
   "metadata": {},
   "outputs": [
    {
     "data": {
      "text/plain": [
       "[90, 80, 'hi', False, 10, 20, 30, 40, 50, [1, 2, 3]]"
      ]
     },
     "execution_count": 84,
     "metadata": {},
     "output_type": "execute_result"
    }
   ],
   "source": [
    "l2"
   ]
  },
  {
   "cell_type": "code",
   "execution_count": 85,
   "id": "f2152f45-4823-4370-b2cc-100315ccd8d7",
   "metadata": {},
   "outputs": [
    {
     "data": {
      "text/plain": [
       "[1, 2, 3]"
      ]
     },
     "execution_count": 85,
     "metadata": {},
     "output_type": "execute_result"
    }
   ],
   "source": [
    "l2.pop()  #it removes the element by index level"
   ]
  },
  {
   "cell_type": "code",
   "execution_count": 86,
   "id": "0fc91e47-dfbb-43f5-8afd-c6ea154cc3ff",
   "metadata": {},
   "outputs": [
    {
     "data": {
      "text/plain": [
       "[90, 80, 'hi', False, 10, 20, 30, 40, 50]"
      ]
     },
     "execution_count": 86,
     "metadata": {},
     "output_type": "execute_result"
    }
   ],
   "source": [
    "l2"
   ]
  },
  {
   "cell_type": "code",
   "execution_count": 87,
   "id": "2e4e678f-bf4c-4482-a66d-37d2a89e7674",
   "metadata": {},
   "outputs": [],
   "source": [
    "l2.remove('hi')  #it remove the element by value"
   ]
  },
  {
   "cell_type": "code",
   "execution_count": 88,
   "id": "ac96584d-2e54-4b32-9aeb-40cff41f40e1",
   "metadata": {},
   "outputs": [
    {
     "data": {
      "text/plain": [
       "[90, 80, False, 10, 20, 30, 40, 50]"
      ]
     },
     "execution_count": 88,
     "metadata": {},
     "output_type": "execute_result"
    }
   ],
   "source": [
    "l2"
   ]
  },
  {
   "cell_type": "code",
   "execution_count": 89,
   "id": "1faac63f-444b-46cd-93d7-47fa203981e8",
   "metadata": {},
   "outputs": [
    {
     "data": {
      "text/plain": [
       "[90, 80, False, 10, 20, 30, 40, 50]"
      ]
     },
     "execution_count": 89,
     "metadata": {},
     "output_type": "execute_result"
    }
   ],
   "source": [
    "l2"
   ]
  },
  {
   "cell_type": "code",
   "execution_count": 90,
   "id": "faeebf68-5753-474e-83ed-2435fdf9d97b",
   "metadata": {},
   "outputs": [],
   "source": [
    "l2.insert(4,15)"
   ]
  },
  {
   "cell_type": "code",
   "execution_count": 91,
   "id": "22a593fe-6e9e-4e12-8943-d9a2ef1c250a",
   "metadata": {},
   "outputs": [
    {
     "data": {
      "text/plain": [
       "[10, 20, 30, 40, 50]"
      ]
     },
     "execution_count": 91,
     "metadata": {},
     "output_type": "execute_result"
    }
   ],
   "source": [
    "l"
   ]
  },
  {
   "cell_type": "code",
   "execution_count": 92,
   "id": "390b85d8-668c-48a4-87ba-ee34f3b99df3",
   "metadata": {},
   "outputs": [],
   "source": [
    "l.insert(1,15)"
   ]
  },
  {
   "cell_type": "code",
   "execution_count": 93,
   "id": "e7a7a568-92c3-4792-aadf-d20bf89a5af7",
   "metadata": {},
   "outputs": [
    {
     "data": {
      "text/plain": [
       "[10, 15, 20, 30, 40, 50]"
      ]
     },
     "execution_count": 93,
     "metadata": {},
     "output_type": "execute_result"
    }
   ],
   "source": [
    "l"
   ]
  },
  {
   "cell_type": "code",
   "execution_count": 94,
   "id": "19b82c0a-a7ac-402f-8584-fd319faeafe9",
   "metadata": {},
   "outputs": [],
   "source": [
    "l.reverse()"
   ]
  },
  {
   "cell_type": "code",
   "execution_count": 95,
   "id": "d1fa66ac-5e16-4cfd-8e90-8bef27e76d16",
   "metadata": {},
   "outputs": [
    {
     "data": {
      "text/plain": [
       "[50, 40, 30, 20, 15, 10]"
      ]
     },
     "execution_count": 95,
     "metadata": {},
     "output_type": "execute_result"
    }
   ],
   "source": [
    "l"
   ]
  },
  {
   "cell_type": "code",
   "execution_count": 96,
   "id": "da84ea93-7416-4aae-aaeb-3e58e23bea70",
   "metadata": {},
   "outputs": [],
   "source": [
    "l3=[20,200,1,10,3,50,5,9,46]"
   ]
  },
  {
   "cell_type": "code",
   "execution_count": 97,
   "id": "34914b58-65df-41a2-8d5a-d4d108317453",
   "metadata": {},
   "outputs": [
    {
     "data": {
      "text/plain": [
       "[1, 3, 5, 9, 10, 20, 46, 50, 200]"
      ]
     },
     "execution_count": 97,
     "metadata": {},
     "output_type": "execute_result"
    }
   ],
   "source": [
    "l3.sort()\n",
    "l3"
   ]
  },
  {
   "cell_type": "code",
   "execution_count": 98,
   "id": "d4754900-0d1a-4bf6-bdf6-d432783d3b78",
   "metadata": {},
   "outputs": [],
   "source": [
    "l.sort()"
   ]
  },
  {
   "cell_type": "code",
   "execution_count": 99,
   "id": "5b599e5a-2001-4070-980b-abc81ab30a0a",
   "metadata": {},
   "outputs": [
    {
     "data": {
      "text/plain": [
       "[10, 15, 20, 30, 40, 50]"
      ]
     },
     "execution_count": 99,
     "metadata": {},
     "output_type": "execute_result"
    }
   ],
   "source": [
    "l"
   ]
  },
  {
   "cell_type": "code",
   "execution_count": 100,
   "id": "9f0a551e-165d-49a2-9843-34ceee4bb7af",
   "metadata": {},
   "outputs": [
    {
     "data": {
      "text/plain": [
       "[50, 40, 30, 20, 15, 10]"
      ]
     },
     "execution_count": 100,
     "metadata": {},
     "output_type": "execute_result"
    }
   ],
   "source": [
    "l.reverse()\n",
    "l"
   ]
  },
  {
   "cell_type": "code",
   "execution_count": 101,
   "id": "6a90b16f-f4f8-48fe-ac67-a716834c2803",
   "metadata": {},
   "outputs": [
    {
     "data": {
      "text/plain": [
       "[(1+2j),\n",
       " False,\n",
       " 'hi',\n",
       " 80,\n",
       " 90,\n",
       " (1+2j),\n",
       " False,\n",
       " 'hi',\n",
       " 80,\n",
       " 90,\n",
       " 2.3,\n",
       " (1+2j),\n",
       " '10',\n",
       " True]"
      ]
     },
     "execution_count": 101,
     "metadata": {},
     "output_type": "execute_result"
    }
   ],
   "source": [
    "l1.reverse()\n",
    "l1"
   ]
  },
  {
   "cell_type": "code",
   "execution_count": 102,
   "id": "c5720c48-97c8-4f26-a8dd-fcf59ad190f8",
   "metadata": {},
   "outputs": [
    {
     "data": {
      "text/plain": [
       "[50, 40, 30, 20, 15, 10, False, 80, 90]"
      ]
     },
     "execution_count": 102,
     "metadata": {},
     "output_type": "execute_result"
    }
   ],
   "source": [
    "l2.reverse()\n",
    "l2"
   ]
  },
  {
   "cell_type": "code",
   "execution_count": 103,
   "id": "b98f20ae-8927-4e8f-af5b-c686ec2949a2",
   "metadata": {},
   "outputs": [
    {
     "data": {
      "text/plain": [
       "[200, 50, 46, 20, 10, 9, 5, 3, 1]"
      ]
     },
     "execution_count": 103,
     "metadata": {},
     "output_type": "execute_result"
    }
   ],
   "source": [
    "l3.reverse()\n",
    "l3"
   ]
  },
  {
   "cell_type": "code",
   "execution_count": 104,
   "id": "42ca8796-bb8f-48e4-adf3-8ef936eeec86",
   "metadata": {},
   "outputs": [
    {
     "data": {
      "text/plain": [
       "[50, 40, 30, 20, 15, 10]"
      ]
     },
     "execution_count": 104,
     "metadata": {},
     "output_type": "execute_result"
    }
   ],
   "source": [
    "l\n"
   ]
  },
  {
   "cell_type": "code",
   "execution_count": 105,
   "id": "84a055e2-32f1-440c-9cf6-7de5d0d03c54",
   "metadata": {},
   "outputs": [
    {
     "data": {
      "text/plain": [
       "[(1+2j),\n",
       " False,\n",
       " 'hi',\n",
       " 80,\n",
       " 90,\n",
       " (1+2j),\n",
       " False,\n",
       " 'hi',\n",
       " 80,\n",
       " 90,\n",
       " 2.3,\n",
       " (1+2j),\n",
       " '10',\n",
       " True]"
      ]
     },
     "execution_count": 105,
     "metadata": {},
     "output_type": "execute_result"
    }
   ],
   "source": [
    "l1\n"
   ]
  },
  {
   "cell_type": "code",
   "execution_count": 106,
   "id": "f5a9528d-2dbd-4990-90ca-9b76b4fd2ab6",
   "metadata": {},
   "outputs": [
    {
     "ename": "TypeError",
     "evalue": "'<' not supported between instances of 'bool' and 'complex'",
     "output_type": "error",
     "traceback": [
      "\u001b[1;31m---------------------------------------------------------------------------\u001b[0m",
      "\u001b[1;31mTypeError\u001b[0m                                 Traceback (most recent call last)",
      "Cell \u001b[1;32mIn[106], line 1\u001b[0m\n\u001b[1;32m----> 1\u001b[0m \u001b[43ml1\u001b[49m\u001b[38;5;241;43m.\u001b[39;49m\u001b[43msort\u001b[49m\u001b[43m(\u001b[49m\u001b[43m)\u001b[49m\n",
      "\u001b[1;31mTypeError\u001b[0m: '<' not supported between instances of 'bool' and 'complex'"
     ]
    }
   ],
   "source": [
    "l1.sort()"
   ]
  },
  {
   "cell_type": "code",
   "execution_count": 107,
   "id": "41dc403d-7c28-4bba-831a-a0b62e41c832",
   "metadata": {},
   "outputs": [
    {
     "data": {
      "text/plain": [
       "[False, 10, 15, 20, 30, 40, 50, 80, 90]"
      ]
     },
     "execution_count": 107,
     "metadata": {},
     "output_type": "execute_result"
    }
   ],
   "source": [
    "l2.sort()\n",
    "l2"
   ]
  },
  {
   "cell_type": "code",
   "execution_count": 108,
   "id": "66c840f7-4e3a-4677-94ba-7eb1a70c2eaf",
   "metadata": {},
   "outputs": [
    {
     "data": {
      "text/plain": [
       "[1, 3, 5, 9, 10, 20, 46, 50, 200]"
      ]
     },
     "execution_count": 108,
     "metadata": {},
     "output_type": "execute_result"
    }
   ],
   "source": [
    "l3.sort()\n",
    "l3"
   ]
  },
  {
   "cell_type": "code",
   "execution_count": 109,
   "id": "8cabbd20-dcab-41f6-bdaa-553cc81749bb",
   "metadata": {},
   "outputs": [
    {
     "data": {
      "text/plain": [
       "[200, 50, 46, 20, 10, 9, 5, 3, 1]"
      ]
     },
     "execution_count": 109,
     "metadata": {},
     "output_type": "execute_result"
    }
   ],
   "source": [
    "l3.sort(reverse=True)\n",
    "l3"
   ]
  },
  {
   "cell_type": "code",
   "execution_count": 110,
   "id": "f70cee89-759e-4d83-b755-eaedb98491f9",
   "metadata": {},
   "outputs": [
    {
     "ename": "TypeError",
     "evalue": "'<' not supported between instances of 'str' and 'int'",
     "output_type": "error",
     "traceback": [
      "\u001b[1;31m---------------------------------------------------------------------------\u001b[0m",
      "\u001b[1;31mTypeError\u001b[0m                                 Traceback (most recent call last)",
      "Cell \u001b[1;32mIn[110], line 2\u001b[0m\n\u001b[0;32m      1\u001b[0m l4\u001b[38;5;241m=\u001b[39m[\u001b[38;5;241m2\u001b[39m,\u001b[38;5;124m'\u001b[39m\u001b[38;5;124ma\u001b[39m\u001b[38;5;124m'\u001b[39m,\u001b[38;5;28;01mTrue\u001b[39;00m,\u001b[38;5;241m3.3\u001b[39m]\n\u001b[1;32m----> 2\u001b[0m \u001b[43ml4\u001b[49m\u001b[38;5;241;43m.\u001b[39;49m\u001b[43msort\u001b[49m\u001b[43m(\u001b[49m\u001b[43m)\u001b[49m\n",
      "\u001b[1;31mTypeError\u001b[0m: '<' not supported between instances of 'str' and 'int'"
     ]
    }
   ],
   "source": [
    "l4=[2,'a',True,3.3]\n",
    "l4.sort()"
   ]
  },
  {
   "cell_type": "code",
   "execution_count": 111,
   "id": "21f6ec7e-fc04-44c5-bde5-0482333f5d53",
   "metadata": {},
   "outputs": [],
   "source": [
    "l5=['z','m','p','r','a']\n",
    "l5.sort()"
   ]
  },
  {
   "cell_type": "code",
   "execution_count": 112,
   "id": "9b1c411d-1b08-4f5a-a20a-41618e4b6ca9",
   "metadata": {},
   "outputs": [
    {
     "data": {
      "text/plain": [
       "['a', 'm', 'p', 'r', 'z']"
      ]
     },
     "execution_count": 112,
     "metadata": {},
     "output_type": "execute_result"
    }
   ],
   "source": [
    "l5"
   ]
  },
  {
   "cell_type": "code",
   "execution_count": 113,
   "id": "1d8dde1a-fcac-4747-a6bd-b0262cec4749",
   "metadata": {},
   "outputs": [],
   "source": [
    "l5.sort(reverse=True)"
   ]
  },
  {
   "cell_type": "code",
   "execution_count": 114,
   "id": "b49e85b6-bf45-4032-9663-77cfbd9de27b",
   "metadata": {},
   "outputs": [
    {
     "data": {
      "text/plain": [
       "['z', 'r', 'p', 'm', 'a']"
      ]
     },
     "execution_count": 114,
     "metadata": {},
     "output_type": "execute_result"
    }
   ],
   "source": [
    "l5"
   ]
  },
  {
   "cell_type": "code",
   "execution_count": 115,
   "id": "fc2d4a86-5e2a-489d-b12a-1cda29b1cce2",
   "metadata": {},
   "outputs": [],
   "source": [
    "l6=[3.1,4.8,7.9,10.8,6.8]\n",
    "l6.sort()"
   ]
  },
  {
   "cell_type": "code",
   "execution_count": 116,
   "id": "209f5ce3-7fdf-4226-b11b-8a7cd31f24e0",
   "metadata": {},
   "outputs": [
    {
     "data": {
      "text/plain": [
       "[3.1, 4.8, 6.8, 7.9, 10.8]"
      ]
     },
     "execution_count": 116,
     "metadata": {},
     "output_type": "execute_result"
    }
   ],
   "source": [
    "l6"
   ]
  },
  {
   "cell_type": "code",
   "execution_count": 117,
   "id": "88c2c783-d0a0-4c64-83df-1095f30cbfd5",
   "metadata": {},
   "outputs": [
    {
     "data": {
      "text/plain": [
       "[(1+2j), (3+4j)]"
      ]
     },
     "execution_count": 117,
     "metadata": {},
     "output_type": "execute_result"
    }
   ],
   "source": [
    "l7=[1+2j,3+4j]\n",
    "l7"
   ]
  },
  {
   "cell_type": "code",
   "execution_count": 118,
   "id": "3b56b1d3-5b2e-4762-8477-a9d8b12fc6a8",
   "metadata": {},
   "outputs": [
    {
     "ename": "TypeError",
     "evalue": "'<' not supported between instances of 'complex' and 'complex'",
     "output_type": "error",
     "traceback": [
      "\u001b[1;31m---------------------------------------------------------------------------\u001b[0m",
      "\u001b[1;31mTypeError\u001b[0m                                 Traceback (most recent call last)",
      "Cell \u001b[1;32mIn[118], line 1\u001b[0m\n\u001b[1;32m----> 1\u001b[0m \u001b[43ml7\u001b[49m\u001b[38;5;241;43m.\u001b[39;49m\u001b[43msort\u001b[49m\u001b[43m(\u001b[49m\u001b[43m)\u001b[49m\n",
      "\u001b[1;31mTypeError\u001b[0m: '<' not supported between instances of 'complex' and 'complex'"
     ]
    }
   ],
   "source": [
    "l7.sort()"
   ]
  },
  {
   "cell_type": "code",
   "execution_count": 119,
   "id": "f5b64bfd-150c-4378-978b-7cf51d862f06",
   "metadata": {},
   "outputs": [
    {
     "data": {
      "text/plain": [
       "[50, 40, 30, 20, 15, 10]"
      ]
     },
     "execution_count": 119,
     "metadata": {},
     "output_type": "execute_result"
    }
   ],
   "source": [
    "l"
   ]
  },
  {
   "cell_type": "code",
   "execution_count": 120,
   "id": "4f20cdbd-5cca-4308-b786-2c9b1714e2af",
   "metadata": {},
   "outputs": [
    {
     "data": {
      "text/plain": [
       "[(1+2j),\n",
       " False,\n",
       " 'hi',\n",
       " 80,\n",
       " 90,\n",
       " (1+2j),\n",
       " False,\n",
       " 'hi',\n",
       " 80,\n",
       " 90,\n",
       " 2.3,\n",
       " (1+2j),\n",
       " '10',\n",
       " True]"
      ]
     },
     "execution_count": 120,
     "metadata": {},
     "output_type": "execute_result"
    }
   ],
   "source": [
    "l1"
   ]
  },
  {
   "cell_type": "code",
   "execution_count": 121,
   "id": "4e3a6956-b81e-487a-ba8b-1f785e6e4273",
   "metadata": {},
   "outputs": [
    {
     "data": {
      "text/plain": [
       "[False, 10, 15, 20, 30, 40, 50, 80, 90]"
      ]
     },
     "execution_count": 121,
     "metadata": {},
     "output_type": "execute_result"
    }
   ],
   "source": [
    "l2"
   ]
  },
  {
   "cell_type": "code",
   "execution_count": 122,
   "id": "fd7db4af-ef25-4b92-82dc-cd125bcaad08",
   "metadata": {},
   "outputs": [
    {
     "data": {
      "text/plain": [
       "[(1+2j),\n",
       " False,\n",
       " 'hi',\n",
       " 80,\n",
       " 90,\n",
       " (1+2j),\n",
       " False,\n",
       " 'hi',\n",
       " 80,\n",
       " 90,\n",
       " 2.3,\n",
       " (1+2j),\n",
       " '10',\n",
       " True]"
      ]
     },
     "execution_count": 122,
     "metadata": {},
     "output_type": "execute_result"
    }
   ],
   "source": [
    "l1"
   ]
  },
  {
   "cell_type": "code",
   "execution_count": 123,
   "id": "f1bd0eb4-49cd-4e20-9430-680de248648f",
   "metadata": {},
   "outputs": [],
   "source": [
    "l1.append('nit')"
   ]
  },
  {
   "cell_type": "code",
   "execution_count": 124,
   "id": "91dd9c1d-3c7a-4754-ab0c-466811cdad25",
   "metadata": {},
   "outputs": [
    {
     "data": {
      "text/plain": [
       "[(1+2j),\n",
       " False,\n",
       " 'hi',\n",
       " 80,\n",
       " 90,\n",
       " (1+2j),\n",
       " False,\n",
       " 'hi',\n",
       " 80,\n",
       " 90,\n",
       " 2.3,\n",
       " (1+2j),\n",
       " '10',\n",
       " True,\n",
       " 'nit']"
      ]
     },
     "execution_count": 124,
     "metadata": {},
     "output_type": "execute_result"
    }
   ],
   "source": [
    "l1"
   ]
  },
  {
   "cell_type": "code",
   "execution_count": 125,
   "id": "764a9100-f0e1-4f3c-bccb-34df90e1fc53",
   "metadata": {},
   "outputs": [
    {
     "ename": "TypeError",
     "evalue": "'int' object is not subscriptable",
     "output_type": "error",
     "traceback": [
      "\u001b[1;31m---------------------------------------------------------------------------\u001b[0m",
      "\u001b[1;31mTypeError\u001b[0m                                 Traceback (most recent call last)",
      "Cell \u001b[1;32mIn[125], line 1\u001b[0m\n\u001b[1;32m----> 1\u001b[0m \u001b[38;5;28mprint\u001b[39m(\u001b[43ml1\u001b[49m\u001b[43m[\u001b[49m\u001b[38;5;241;43m9\u001b[39;49m\u001b[43m]\u001b[49m\u001b[43m[\u001b[49m\u001b[38;5;241;43m0\u001b[39;49m\u001b[43m]\u001b[49m)\n\u001b[0;32m      2\u001b[0m \u001b[38;5;28mprint\u001b[39m(l1[\u001b[38;5;241m9\u001b[39m][\u001b[38;5;241m1\u001b[39m])\n\u001b[0;32m      3\u001b[0m \u001b[38;5;28mprint\u001b[39m(l1[\u001b[38;5;241m9\u001b[39m][\u001b[38;5;241m2\u001b[39m])   \u001b[38;5;66;03m#nested indexing is avaialbale only for string\u001b[39;00m\n",
      "\u001b[1;31mTypeError\u001b[0m: 'int' object is not subscriptable"
     ]
    }
   ],
   "source": [
    "print(l1[9][0])\n",
    "print(l1[9][1])\n",
    "print(l1[9][2])   #nested indexing is avaialbale only for string"
   ]
  },
  {
   "cell_type": "code",
   "execution_count": 126,
   "id": "2bbcde6a-71d3-4885-9b53-f74da024e2a9",
   "metadata": {},
   "outputs": [
    {
     "data": {
      "text/plain": [
       "[200, 50, 46, 20, 10, 9, 5, 3, 1]"
      ]
     },
     "execution_count": 126,
     "metadata": {},
     "output_type": "execute_result"
    }
   ],
   "source": [
    "l3"
   ]
  },
  {
   "cell_type": "code",
   "execution_count": 127,
   "id": "00700ffb-d381-42ab-84d6-df2090b441a1",
   "metadata": {},
   "outputs": [],
   "source": [
    "del l3"
   ]
  },
  {
   "cell_type": "code",
   "execution_count": 128,
   "id": "3de4e99d-853f-4903-a518-0684652afce1",
   "metadata": {},
   "outputs": [
    {
     "ename": "NameError",
     "evalue": "name 'l3' is not defined",
     "output_type": "error",
     "traceback": [
      "\u001b[1;31m---------------------------------------------------------------------------\u001b[0m",
      "\u001b[1;31mNameError\u001b[0m                                 Traceback (most recent call last)",
      "Cell \u001b[1;32mIn[128], line 1\u001b[0m\n\u001b[1;32m----> 1\u001b[0m \u001b[43ml3\u001b[49m\n",
      "\u001b[1;31mNameError\u001b[0m: name 'l3' is not defined"
     ]
    }
   ],
   "source": [
    "l3"
   ]
  },
  {
   "cell_type": "code",
   "execution_count": 129,
   "id": "61e636a9-fe61-4984-8d26-06c6a17c9362",
   "metadata": {},
   "outputs": [
    {
     "data": {
      "text/plain": [
       "[50, 40, 30, 20, 15, 10]"
      ]
     },
     "execution_count": 129,
     "metadata": {},
     "output_type": "execute_result"
    }
   ],
   "source": [
    "l"
   ]
  },
  {
   "cell_type": "code",
   "execution_count": 130,
   "id": "26e440b0-c20b-499c-bc20-acefff5dbb6a",
   "metadata": {},
   "outputs": [
    {
     "data": {
      "text/plain": [
       "True"
      ]
     },
     "execution_count": 130,
     "metadata": {},
     "output_type": "execute_result"
    }
   ],
   "source": [
    "50 in l"
   ]
  },
  {
   "cell_type": "code",
   "execution_count": 131,
   "id": "cb16a333-c877-4859-886b-901e133a03a2",
   "metadata": {},
   "outputs": [
    {
     "data": {
      "text/plain": [
       "False"
      ]
     },
     "execution_count": 131,
     "metadata": {},
     "output_type": "execute_result"
    }
   ],
   "source": [
    "100 in l"
   ]
  },
  {
   "cell_type": "code",
   "execution_count": 132,
   "id": "45e8a2b3-05a1-45f0-b4b2-3c5bd1031b42",
   "metadata": {},
   "outputs": [
    {
     "data": {
      "text/plain": [
       "True"
      ]
     },
     "execution_count": 132,
     "metadata": {},
     "output_type": "execute_result"
    }
   ],
   "source": [
    "100 not in l"
   ]
  },
  {
   "cell_type": "code",
   "execution_count": 133,
   "id": "363fad4d-5a5f-4f99-98a7-2659cd32dcfa",
   "metadata": {},
   "outputs": [
    {
     "data": {
      "text/plain": [
       "False"
      ]
     },
     "execution_count": 133,
     "metadata": {},
     "output_type": "execute_result"
    }
   ],
   "source": [
    "15 not in l"
   ]
  },
  {
   "cell_type": "code",
   "execution_count": 134,
   "id": "360e889f-c641-47ba-af84-cd31b18cd3b9",
   "metadata": {},
   "outputs": [
    {
     "name": "stdout",
     "output_type": "stream",
     "text": [
      "50\n",
      "40\n",
      "30\n",
      "20\n",
      "15\n",
      "10\n"
     ]
    }
   ],
   "source": [
    "for i in l:\n",
    "    print(i)"
   ]
  },
  {
   "cell_type": "code",
   "execution_count": 135,
   "id": "1f586dd3-d9f7-4a3f-a064-59adaec750ff",
   "metadata": {},
   "outputs": [
    {
     "data": {
      "text/plain": [
       "[False, 10, 15, 20, 30, 40, 50, 80, 90]"
      ]
     },
     "execution_count": 135,
     "metadata": {},
     "output_type": "execute_result"
    }
   ],
   "source": [
    "l2"
   ]
  },
  {
   "cell_type": "code",
   "execution_count": 136,
   "id": "9b186409-28e6-47da-933c-69bfeaf8ec92",
   "metadata": {},
   "outputs": [
    {
     "name": "stdout",
     "output_type": "stream",
     "text": [
      "False\n",
      "10\n",
      "15\n",
      "20\n",
      "30\n",
      "40\n",
      "50\n",
      "80\n",
      "90\n"
     ]
    }
   ],
   "source": [
    "for i in l2:\n",
    "    print(i)"
   ]
  },
  {
   "cell_type": "code",
   "execution_count": 137,
   "id": "537b80bd-04fc-456f-b5f4-dfc12658249f",
   "metadata": {},
   "outputs": [
    {
     "name": "stdout",
     "output_type": "stream",
     "text": [
      "(0, 50)\n",
      "(1, 40)\n",
      "(2, 30)\n",
      "(3, 20)\n",
      "(4, 15)\n",
      "(5, 10)\n"
     ]
    }
   ],
   "source": [
    "for i in enumerate(l):\n",
    "    print(i)"
   ]
  },
  {
   "cell_type": "code",
   "execution_count": 138,
   "id": "1addcac1-316c-48fa-b788-0d62de90dcbf",
   "metadata": {},
   "outputs": [
    {
     "data": {
      "text/plain": [
       "[50, 40, 30, 20, 15, 10]"
      ]
     },
     "execution_count": 138,
     "metadata": {},
     "output_type": "execute_result"
    }
   ],
   "source": [
    "#all() & any()\n",
    "l\n",
    "\n",
    "\n"
   ]
  },
  {
   "cell_type": "code",
   "execution_count": 139,
   "id": "4cba9063-eff3-40cf-af97-76414c34ad3e",
   "metadata": {},
   "outputs": [
    {
     "data": {
      "text/plain": [
       "True"
      ]
     },
     "execution_count": 139,
     "metadata": {},
     "output_type": "execute_result"
    }
   ],
   "source": [
    "all(l)"
   ]
  },
  {
   "cell_type": "code",
   "execution_count": 140,
   "id": "c4a1e8cb-dfeb-470a-be29-af0a3a6b111f",
   "metadata": {},
   "outputs": [
    {
     "data": {
      "text/plain": [
       "True"
      ]
     },
     "execution_count": 140,
     "metadata": {},
     "output_type": "execute_result"
    }
   ],
   "source": [
    "any(l)"
   ]
  },
  {
   "cell_type": "code",
   "execution_count": 141,
   "id": "49b950a5-7a09-4882-945e-74291c0a615e",
   "metadata": {},
   "outputs": [],
   "source": [
    "l.append(0)"
   ]
  },
  {
   "cell_type": "code",
   "execution_count": 142,
   "id": "bcc2b8b5-370f-47c9-985e-ff98fb9ac58c",
   "metadata": {},
   "outputs": [
    {
     "data": {
      "text/plain": [
       "False"
      ]
     },
     "execution_count": 142,
     "metadata": {},
     "output_type": "execute_result"
    }
   ],
   "source": [
    "all(l)"
   ]
  },
  {
   "cell_type": "code",
   "execution_count": 143,
   "id": "7d3e8fa7-8161-4421-ac5a-2cb9145b2531",
   "metadata": {},
   "outputs": [
    {
     "data": {
      "text/plain": [
       "True"
      ]
     },
     "execution_count": 143,
     "metadata": {},
     "output_type": "execute_result"
    }
   ],
   "source": [
    "any(l)"
   ]
  },
  {
   "cell_type": "code",
   "execution_count": 144,
   "id": "dba8ba84-bd26-4977-9d17-49521cc215a2",
   "metadata": {},
   "outputs": [
    {
     "data": {
      "text/plain": [
       "[(1+2j),\n",
       " False,\n",
       " 'hi',\n",
       " 80,\n",
       " 90,\n",
       " (1+2j),\n",
       " False,\n",
       " 'hi',\n",
       " 80,\n",
       " 90,\n",
       " 2.3,\n",
       " (1+2j),\n",
       " '10',\n",
       " True,\n",
       " 'nit']"
      ]
     },
     "execution_count": 144,
     "metadata": {},
     "output_type": "execute_result"
    }
   ],
   "source": [
    "l1"
   ]
  },
  {
   "cell_type": "code",
   "execution_count": 145,
   "id": "3539518b-21e8-45e8-b133-7f4d399ba6a6",
   "metadata": {},
   "outputs": [
    {
     "data": {
      "text/plain": [
       "True"
      ]
     },
     "execution_count": 145,
     "metadata": {},
     "output_type": "execute_result"
    }
   ],
   "source": [
    "any(l1)"
   ]
  },
  {
   "cell_type": "code",
   "execution_count": 146,
   "id": "a73cdac2-485c-4e87-996d-7655bfd62038",
   "metadata": {},
   "outputs": [
    {
     "data": {
      "text/plain": [
       "False"
      ]
     },
     "execution_count": 146,
     "metadata": {},
     "output_type": "execute_result"
    }
   ],
   "source": [
    "all(l1)"
   ]
  },
  {
   "cell_type": "code",
   "execution_count": 147,
   "id": "df6a88c1-f676-4198-89dd-b56c2080cc25",
   "metadata": {},
   "outputs": [],
   "source": [
    "l6=[]"
   ]
  },
  {
   "cell_type": "code",
   "execution_count": 148,
   "id": "30f61c09-d1ee-4c2f-80d4-84ba386e7e46",
   "metadata": {},
   "outputs": [
    {
     "data": {
      "text/plain": [
       "False"
      ]
     },
     "execution_count": 148,
     "metadata": {},
     "output_type": "execute_result"
    }
   ],
   "source": [
    "any(l6)"
   ]
  },
  {
   "cell_type": "code",
   "execution_count": 149,
   "id": "4d4ca695-ed1c-4be3-9a8d-5b8e721898ea",
   "metadata": {},
   "outputs": [
    {
     "data": {
      "text/plain": [
       "True"
      ]
     },
     "execution_count": 149,
     "metadata": {},
     "output_type": "execute_result"
    }
   ],
   "source": [
    "all(l6)"
   ]
  },
  {
   "cell_type": "code",
   "execution_count": 150,
   "id": "47d78d9a-8f2f-4e00-a904-eb2137ea5a16",
   "metadata": {},
   "outputs": [
    {
     "data": {
      "text/plain": [
       "[50, 40, 30, 20, 15, 10, 0]"
      ]
     },
     "execution_count": 150,
     "metadata": {},
     "output_type": "execute_result"
    }
   ],
   "source": [
    "l"
   ]
  },
  {
   "cell_type": "code",
   "execution_count": null,
   "id": "513460b6-9904-4ebe-b909-9cf0050ab842",
   "metadata": {},
   "outputs": [],
   "source": []
  },
  {
   "cell_type": "code",
   "execution_count": null,
   "id": "ec8a5d18-4824-40cc-8ff2-26e313e35509",
   "metadata": {},
   "outputs": [],
   "source": []
  },
  {
   "cell_type": "code",
   "execution_count": null,
   "id": "8ba2a3b3-e97b-410f-9372-d05bd149cc18",
   "metadata": {},
   "outputs": [],
   "source": []
  }
 ],
 "metadata": {
  "kernelspec": {
   "display_name": "Python 3 (ipykernel)",
   "language": "python",
   "name": "python3"
  },
  "language_info": {
   "codemirror_mode": {
    "name": "ipython",
    "version": 3
   },
   "file_extension": ".py",
   "mimetype": "text/x-python",
   "name": "python",
   "nbconvert_exporter": "python",
   "pygments_lexer": "ipython3",
   "version": "3.12.4"
  }
 },
 "nbformat": 4,
 "nbformat_minor": 5
}
