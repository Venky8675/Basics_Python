{
 "cells": [
  {
   "cell_type": "code",
   "execution_count": 1,
   "id": "ca4ea9c2-a6b7-47e9-bad1-ec8c8a329247",
   "metadata": {},
   "outputs": [],
   "source": [
    "#print is use for answer"
   ]
  },
  {
   "cell_type": "code",
   "execution_count": 2,
   "id": "34f2f448-9ca0-45fe-947d-a4057ab2b3d0",
   "metadata": {},
   "outputs": [
    {
     "data": {
      "text/plain": [
       "20"
      ]
     },
     "execution_count": 2,
     "metadata": {},
     "output_type": "execute_result"
    }
   ],
   "source": [
    "a=10\n",
    "b=20\n",
    "a\n",
    "b"
   ]
  },
  {
   "cell_type": "code",
   "execution_count": 3,
   "id": "8938febe-6c77-4a3e-ae0a-7f3d448c9ed5",
   "metadata": {},
   "outputs": [
    {
     "name": "stdout",
     "output_type": "stream",
     "text": [
      "10\n"
     ]
    }
   ],
   "source": [
    "print(a)"
   ]
  },
  {
   "cell_type": "code",
   "execution_count": 4,
   "id": "eec05ad1-6ce3-411b-8096-02e40fe75aaa",
   "metadata": {},
   "outputs": [
    {
     "name": "stdout",
     "output_type": "stream",
     "text": [
      "20\n"
     ]
    }
   ],
   "source": [
    "print(b)"
   ]
  },
  {
   "cell_type": "code",
   "execution_count": 5,
   "id": "eb47032f-2d80-4d3e-8664-b088da08b311",
   "metadata": {},
   "outputs": [
    {
     "name": "stdout",
     "output_type": "stream",
     "text": [
      "10\n",
      "10 20\n",
      "python\n",
      "10 20 python\n"
     ]
    }
   ],
   "source": [
    "print(10)\n",
    "print(10,20)\n",
    "print('python')\n",
    "print(10,20,'python')"
   ]
  },
  {
   "cell_type": "code",
   "execution_count": 6,
   "id": "2dd9d3cc-d590-4476-8f9f-4381772a0afc",
   "metadata": {},
   "outputs": [
    {
     "name": "stdout",
     "output_type": "stream",
     "text": [
      "50\n"
     ]
    }
   ],
   "source": [
    "num1=20\n",
    "num2=30\n",
    "add=num1+num2\n",
    "print(add)"
   ]
  },
  {
   "cell_type": "markdown",
   "id": "7e41a35f-e63e-4430-9aea-bdf27d8c95c1",
   "metadata": {},
   "source": [
    "Print result with string"
   ]
  },
  {
   "cell_type": "code",
   "execution_count": 7,
   "id": "d27ea4aa-ac64-4f70-9536-453f18e47795",
   "metadata": {},
   "outputs": [
    {
     "name": "stdout",
     "output_type": "stream",
     "text": [
      "The addition of 20 and 30 is: 50\n"
     ]
    }
   ],
   "source": [
    "num1=20\n",
    "num2=30\n",
    "add=num1+num2\n",
    "print('The addition of',num1,'and',num2,'is:',add)"
   ]
  },
  {
   "cell_type": "code",
   "execution_count": 12,
   "id": "9887f9b7-d34b-4361-8350-aad290ea189f",
   "metadata": {},
   "outputs": [
    {
     "name": "stdout",
     "output_type": "stream",
     "text": [
      "My name is venky and i am 26 years old from hyd\n"
     ]
    }
   ],
   "source": [
    "name='venky'\n",
    "age=26\n",
    "city='hyd'\n",
    "print(\"My name is\",name,'and i am',age,'years old from',city)"
   ]
  },
  {
   "cell_type": "code",
   "execution_count": 16,
   "id": "f9c24221-6776-43d9-a68e-bfe3dbb96630",
   "metadata": {},
   "outputs": [
    {
     "name": "stdout",
     "output_type": "stream",
     "text": [
      "The addition of 20 and 30 is=50\n"
     ]
    }
   ],
   "source": [
    "num1=20\n",
    "num2=30\n",
    "add=num1+num2\n",
    "print('The addition of {} and {} is={}'.format(num1,num2,add))"
   ]
  },
  {
   "cell_type": "raw",
   "id": "f2fcc8dd-f081-4aaf-a0ab-95e0440029a0",
   "metadata": {},
   "source": [
    "*first decide how the print statement should be\n",
    "*like:- The addition of20 abd 30 is=50\n",
    "*Then replace the avriable position with curly braces{}\n",
    "*Then apply .format(var1,var2,...val-n method)"
   ]
  },
  {
   "cell_type": "code",
   "execution_count": 17,
   "id": "6cd39fdc-f335-47dc-9a3e-2c7777d5a8fb",
   "metadata": {},
   "outputs": [
    {
     "name": "stdout",
     "output_type": "stream",
     "text": [
      "The average of 100,25 and 150 is= 91.66666666666667 or 91.67\n"
     ]
    }
   ],
   "source": [
    "num1=100\n",
    "num2=25\n",
    "num3=150\n",
    "avg=(num1+num2+num3)/3\n",
    "avg1=round((num1+num2+num3)/3,2)\n",
    "print('The average of {},{} and {} is= {} or {}'.format(num1,num2,num3,avg,avg1))"
   ]
  },
  {
   "cell_type": "code",
   "execution_count": 18,
   "id": "b019c045-21b0-4e6c-b8d8-fbdb1fd4b103",
   "metadata": {},
   "outputs": [
    {
     "data": {
      "text/plain": [
       "91.67"
      ]
     },
     "execution_count": 18,
     "metadata": {},
     "output_type": "execute_result"
    }
   ],
   "source": [
    "round(avg,2)"
   ]
  },
  {
   "cell_type": "raw",
   "id": "657b7c92-0bb1-48a5-a2bd-58fc501eac5f",
   "metadata": {},
   "source": [
    "More short format method(f string method)\n",
    "* variable should be in curly braces\n",
    "* and write everything inside quotes\n",
    "* at starting simplt add f"
   ]
  },
  {
   "cell_type": "code",
   "execution_count": 19,
   "id": "91bd222c-0065-4795-9d97-6389b8a6c986",
   "metadata": {},
   "outputs": [
    {
     "name": "stdout",
     "output_type": "stream",
     "text": [
      "The addition of 10 and 20 is=30\n"
     ]
    }
   ],
   "source": [
    "num1=10\n",
    "num2=20\n",
    "add=num1+num2\n",
    "print(f'The addition of {num1} and {num2} is={add}')\n"
   ]
  },
  {
   "cell_type": "code",
   "execution_count": 22,
   "id": "4dd2d9c2-b2c5-43bc-8c37-f9e2f7b8d0d8",
   "metadata": {},
   "outputs": [
    {
     "name": "stdout",
     "output_type": "stream",
     "text": [
      "Hello my name is Venky and i am 26 year old from Hyd.\n"
     ]
    }
   ],
   "source": [
    "name='Venky'\n",
    "age=26\n",
    "city='Hyd'\n",
    "print(f'Hello my name is {name} and i am {age} year old from {city}.')"
   ]
  },
  {
   "cell_type": "code",
   "execution_count": 23,
   "id": "2ec4c1dd-aaa0-486d-863f-d1190c488ca2",
   "metadata": {},
   "outputs": [
    {
     "name": "stdout",
     "output_type": "stream",
     "text": [
      "The average of 100,25 and 333 is =152.67\n"
     ]
    }
   ],
   "source": [
    "num1=100\n",
    "num2=25\n",
    "num3=333\n",
    "avg=round((num1+num2+num3)/3,2)\n",
    "print(f'The average of {num1},{num2} and {num3} is ={avg}')"
   ]
  },
  {
   "cell_type": "code",
   "execution_count": 24,
   "id": "affd437f-4c1a-42d6-9244-1200819bcef5",
   "metadata": {},
   "outputs": [
    {
     "name": "stdout",
     "output_type": "stream",
     "text": [
      "The addition of 20 and 20 is= 40\n",
      "The addition of 20 and 20 is=40\n",
      "The addition of 20 and 20 is= 40\n"
     ]
    }
   ],
   "source": [
    "num1=20\n",
    "num2=20\n",
    "add=num1+num2\n",
    "print(\"The addition of\",num1 ,\"and\", num2,\"is=\",add)\n",
    "print(\"The addition of {} and {} is={}\".format(num1,num2,add))\n",
    "print(f\"The addition of {num1} and {num2} is= {add}\")"
   ]
  },
  {
   "cell_type": "markdown",
   "id": "8a5e2223-a4eb-4ab2-9232-31a52c5159ad",
   "metadata": {},
   "source": [
    "End statement"
   ]
  },
  {
   "cell_type": "code",
   "execution_count": 25,
   "id": "8d57dbb3-ade5-44ac-b82b-ccf20d78bdae",
   "metadata": {},
   "outputs": [
    {
     "name": "stdout",
     "output_type": "stream",
     "text": [
      "Hello\n",
      "Good Morning\n"
     ]
    }
   ],
   "source": [
    "print('Hello')\n",
    "print('Good Morning')"
   ]
  },
  {
   "cell_type": "code",
   "execution_count": 30,
   "id": "bdd09468-5e22-478d-a949-5f8d2778122a",
   "metadata": {},
   "outputs": [
    {
     "name": "stdout",
     "output_type": "stream",
     "text": [
      "Hello Happy friendship day\n"
     ]
    }
   ],
   "source": [
    "print('Hello', end=' ')\n",
    "print(\"Happy friendship day\")\n"
   ]
  },
  {
   "cell_type": "raw",
   "id": "7c437d2f-c99b-42d4-a928-735cb6a9b710",
   "metadata": {},
   "source": [
    "* Here one print statement only we use\n",
    "* inside one print statement we have multiple values\n",
    "* we want to seaprate these multiple values with anthing"
   ]
  },
  {
   "cell_type": "code",
   "execution_count": 33,
   "id": "1be11144-ea18-4244-86bb-87355ee62ed1",
   "metadata": {},
   "outputs": [
    {
     "name": "stdout",
     "output_type": "stream",
     "text": [
      "hello--->hai--->how are you?\n"
     ]
    }
   ],
   "source": [
    "print('hello','hai','how are you?',sep='--->')"
   ]
  },
  {
   "cell_type": "code",
   "execution_count": 35,
   "id": "aa4e4534-13bd-4e0d-b1f8-694479af514c",
   "metadata": {},
   "outputs": [
    {
     "name": "stdout",
     "output_type": "stream",
     "text": [
      "hello & hai & how are you?\n"
     ]
    }
   ],
   "source": [
    "print('hello','hai','how are you?',sep=' & ')"
   ]
  },
  {
   "cell_type": "code",
   "execution_count": 36,
   "id": "1792f19a-f3aa-4e20-9c15-f42ab17cb36d",
   "metadata": {},
   "outputs": [
    {
     "name": "stdout",
     "output_type": "stream",
     "text": [
      "hello @ hai @ how are you?\n"
     ]
    }
   ],
   "source": [
    "print('hello','hai','how are you?',sep=' @ ')"
   ]
  },
  {
   "cell_type": "code",
   "execution_count": 37,
   "id": "2d3b624e-67fb-4f96-9f46-add8e0d8bc6b",
   "metadata": {},
   "outputs": [
    {
     "name": "stdout",
     "output_type": "stream",
     "text": [
      "hello hai how are you?\n"
     ]
    }
   ],
   "source": [
    "print('hello','hai','how are you?',sep=' ')"
   ]
  },
  {
   "cell_type": "code",
   "execution_count": 38,
   "id": "8e7c9810-4950-4be0-beea-bf61064f07f9",
   "metadata": {},
   "outputs": [
    {
     "name": "stdout",
     "output_type": "stream",
     "text": [
      "hello $ hai $ how are you\n"
     ]
    }
   ],
   "source": [
    "print('hello','hai','how are you',sep=' $ ')"
   ]
  },
  {
   "cell_type": "code",
   "execution_count": 39,
   "id": "460a1d2c-1510-4bfd-afe1-319f5c0452cc",
   "metadata": {},
   "outputs": [
    {
     "name": "stdout",
     "output_type": "stream",
     "text": [
      "3 .\n"
     ]
    }
   ],
   "source": [
    "print(3,'.')"
   ]
  },
  {
   "cell_type": "code",
   "execution_count": 40,
   "id": "5a77c9c6-60a6-4751-a0c0-7a34d3dc639f",
   "metadata": {},
   "outputs": [
    {
     "name": "stdout",
     "output_type": "stream",
     "text": [
      "5.0\n"
     ]
    }
   ],
   "source": [
    "print(5.)"
   ]
  },
  {
   "cell_type": "code",
   "execution_count": 41,
   "id": "fc8ad28b-88a8-4078-b99a-15dce5f7b405",
   "metadata": {},
   "outputs": [
    {
     "name": "stdout",
     "output_type": "stream",
     "text": [
      "10 .\n"
     ]
    }
   ],
   "source": [
    "print(10,'.')"
   ]
  },
  {
   "cell_type": "code",
   "execution_count": 42,
   "id": "c6c5b587-3218-440b-b900-be5cd2968d52",
   "metadata": {},
   "outputs": [
    {
     "name": "stdout",
     "output_type": "stream",
     "text": [
      "1 2 3.\n"
     ]
    }
   ],
   "source": [
    "print(1,2,end=' ')\n",
    "print(3,'.',sep='')"
   ]
  },
  {
   "cell_type": "code",
   "execution_count": null,
   "id": "343a62d9-4115-4473-8812-b91e33741001",
   "metadata": {},
   "outputs": [],
   "source": []
  }
 ],
 "metadata": {
  "kernelspec": {
   "display_name": "Python 3 (ipykernel)",
   "language": "python",
   "name": "python3"
  },
  "language_info": {
   "codemirror_mode": {
    "name": "ipython",
    "version": 3
   },
   "file_extension": ".py",
   "mimetype": "text/x-python",
   "name": "python",
   "nbconvert_exporter": "python",
   "pygments_lexer": "ipython3",
   "version": "3.12.4"
  }
 },
 "nbformat": 4,
 "nbformat_minor": 5
}
