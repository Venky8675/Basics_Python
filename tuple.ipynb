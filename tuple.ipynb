{
 "cells": [
  {
   "cell_type": "markdown",
   "id": "c43afc72-c057-4477-b298-c317a2340a35",
   "metadata": {},
   "source": [
    "Tuple creation"
   ]
  },
  {
   "cell_type": "code",
   "execution_count": 1,
   "id": "7d4ef127-637e-4e48-ab71-1be82a6946d3",
   "metadata": {},
   "outputs": [],
   "source": [
    "tup1=()"
   ]
  },
  {
   "cell_type": "code",
   "execution_count": 4,
   "id": "d615ea97-ed0c-40d4-a855-dbedd864f666",
   "metadata": {},
   "outputs": [
    {
     "data": {
      "text/plain": [
       "(10, 30, 60)"
      ]
     },
     "execution_count": 4,
     "metadata": {},
     "output_type": "execute_result"
    }
   ],
   "source": [
    "tup2=(10,30,60)   #tuple of int numbers\n",
    "tup2"
   ]
  },
  {
   "cell_type": "code",
   "execution_count": 5,
   "id": "7fce5dde-ed64-40a2-97c3-c2665446f3d3",
   "metadata": {},
   "outputs": [
    {
     "data": {
      "text/plain": [
       "(10.77, 30.66, 60.89)"
      ]
     },
     "execution_count": 5,
     "metadata": {},
     "output_type": "execute_result"
    }
   ],
   "source": [
    "tup3=(10.77,30.66,60.89)   #tuple of float numbers\n",
    "tup3"
   ]
  },
  {
   "cell_type": "code",
   "execution_count": 12,
   "id": "aaafa80f-4cc7-4ee4-beb4-aa996c49eb82",
   "metadata": {},
   "outputs": [
    {
     "data": {
      "text/plain": [
       "('one', 'two', 'three', 'four')"
      ]
     },
     "execution_count": 12,
     "metadata": {},
     "output_type": "execute_result"
    }
   ],
   "source": [
    "tup4=('one','two','three','four')   #tuple of string\n",
    "tup4"
   ]
  },
  {
   "cell_type": "code",
   "execution_count": 13,
   "id": "e6af1ce8-4cf9-4573-b3e5-d0282b0c11cf",
   "metadata": {},
   "outputs": [
    {
     "data": {
      "text/plain": [
       "('Asif', 25, 5.7, (1+2j), True)"
      ]
     },
     "execution_count": 13,
     "metadata": {},
     "output_type": "execute_result"
    }
   ],
   "source": [
    "tup5=('Asif',25,5.7,1+2j,True)\n",
    "tup5"
   ]
  },
  {
   "cell_type": "code",
   "execution_count": 14,
   "id": "c1b07602-61f7-4358-b666-c77082b204b2",
   "metadata": {},
   "outputs": [
    {
     "data": {
      "text/plain": [
       "(100, 'Venky', (50, 100), (75, 25))"
      ]
     },
     "execution_count": 14,
     "metadata": {},
     "output_type": "execute_result"
    }
   ],
   "source": [
    "tup6=(100,\"Venky\",(50,100),(75,25))  #nested loops\n",
    "tup6"
   ]
  },
  {
   "cell_type": "code",
   "execution_count": 17,
   "id": "f92d4f05-5d57-47e7-b9e3-1ae86c099319",
   "metadata": {},
   "outputs": [
    {
     "data": {
      "text/plain": [
       "('Venky', 25, {'Dvid', 'john'}, (99, 22, 33))"
      ]
     },
     "execution_count": 17,
     "metadata": {},
     "output_type": "execute_result"
    }
   ],
   "source": [
    "tup7=(\"Venky\",25,{\"john\",\"Dvid\"},(99,22,33))  #tuple of mixed dta type\n",
    "tup7"
   ]
  },
  {
   "cell_type": "code",
   "execution_count": 18,
   "id": "b3384398-a46f-42cd-ac0f-eee193820f0b",
   "metadata": {},
   "outputs": [
    {
     "data": {
      "text/plain": [
       "4"
      ]
     },
     "execution_count": 18,
     "metadata": {},
     "output_type": "execute_result"
    }
   ],
   "source": [
    "len(tup7)"
   ]
  },
  {
   "cell_type": "markdown",
   "id": "6e56e995-ccb0-4308-93af-490edd8c6547",
   "metadata": {},
   "source": [
    "Tuple Indexing"
   ]
  },
  {
   "cell_type": "code",
   "execution_count": 23,
   "id": "2a07664b-8291-470a-897e-d96339dd092f",
   "metadata": {},
   "outputs": [
    {
     "data": {
      "text/plain": [
       "10"
      ]
     },
     "execution_count": 23,
     "metadata": {},
     "output_type": "execute_result"
    }
   ],
   "source": [
    "tup2[0]  #Retrieve first element of the tuple"
   ]
  },
  {
   "cell_type": "code",
   "execution_count": 20,
   "id": "fa0a8d9c-a37f-477d-9f6e-fdb537b278a0",
   "metadata": {},
   "outputs": [
    {
     "data": {
      "text/plain": [
       "'one'"
      ]
     },
     "execution_count": 20,
     "metadata": {},
     "output_type": "execute_result"
    }
   ],
   "source": [
    "tup4[0] #Retrieve first element of the tuple"
   ]
  },
  {
   "cell_type": "code",
   "execution_count": 22,
   "id": "eef83862-86b1-4da8-b33b-e754e404975b",
   "metadata": {},
   "outputs": [
    {
     "data": {
      "text/plain": [
       "'o'"
      ]
     },
     "execution_count": 22,
     "metadata": {},
     "output_type": "execute_result"
    }
   ],
   "source": [
    "tup4[0][0] #Nested indexing- Access the first character of the first tuple element"
   ]
  },
  {
   "cell_type": "code",
   "execution_count": 25,
   "id": "f2598059-75e8-4a59-ab0b-f8cc06e9b35f",
   "metadata": {},
   "outputs": [
    {
     "data": {
      "text/plain": [
       "'four'"
      ]
     },
     "execution_count": 25,
     "metadata": {},
     "output_type": "execute_result"
    }
   ],
   "source": [
    "tup4[-1] #last element of the tuple"
   ]
  },
  {
   "cell_type": "code",
   "execution_count": 32,
   "id": "38e02e38-bd40-4614-a2ac-db974c905b56",
   "metadata": {},
   "outputs": [
    {
     "data": {
      "text/plain": [
       "('one', 'two', 'three', 'four')"
      ]
     },
     "execution_count": 32,
     "metadata": {},
     "output_type": "execute_result"
    }
   ],
   "source": [
    "tup4"
   ]
  },
  {
   "cell_type": "code",
   "execution_count": 30,
   "id": "506c53ab-1cd5-4081-90a3-3f2cf5cc75ff",
   "metadata": {},
   "outputs": [
    {
     "data": {
      "text/plain": [
       "'h'"
      ]
     },
     "execution_count": 30,
     "metadata": {},
     "output_type": "execute_result"
    }
   ],
   "source": [
    "#Nested indexingFirst, we define the index of the tuple, then we define the index within the element.\n",
    "tup4[2][1]"
   ]
  },
  {
   "cell_type": "code",
   "execution_count": 33,
   "id": "c9ac8482-1a82-41a0-93fb-01ff894db687",
   "metadata": {},
   "outputs": [
    {
     "data": {
      "text/plain": [
       "'r'"
      ]
     },
     "execution_count": 33,
     "metadata": {},
     "output_type": "execute_result"
    }
   ],
   "source": [
    "tup4[3][3]"
   ]
  },
  {
   "cell_type": "code",
   "execution_count": 35,
   "id": "47a42a42-385b-40ff-8eba-c36ac1d6e28b",
   "metadata": {},
   "outputs": [
    {
     "data": {
      "text/plain": [
       "('Asif', 25, 5.7, (1+2j), True)"
      ]
     },
     "execution_count": 35,
     "metadata": {},
     "output_type": "execute_result"
    }
   ],
   "source": [
    "tup5"
   ]
  },
  {
   "cell_type": "code",
   "execution_count": 36,
   "id": "4027f4c7-5845-43e9-8bab-0f2acc9efad3",
   "metadata": {},
   "outputs": [
    {
     "data": {
      "text/plain": [
       "True"
      ]
     },
     "execution_count": 36,
     "metadata": {},
     "output_type": "execute_result"
    }
   ],
   "source": [
    "tup5[-1]"
   ]
  },
  {
   "cell_type": "code",
   "execution_count": 37,
   "id": "38958889-deab-4fa1-846e-8e8148e65cf1",
   "metadata": {},
   "outputs": [
    {
     "data": {
      "text/plain": [
       "(1+2j)"
      ]
     },
     "execution_count": 37,
     "metadata": {},
     "output_type": "execute_result"
    }
   ],
   "source": [
    "tup5[3]"
   ]
  },
  {
   "cell_type": "markdown",
   "id": "240eb016-ca99-4284-88d9-d0786524c52f",
   "metadata": {},
   "source": [
    "Tuple slicing"
   ]
  },
  {
   "cell_type": "code",
   "execution_count": 38,
   "id": "028dc37f-748e-4844-ab36-b924c2ae6511",
   "metadata": {},
   "outputs": [],
   "source": [
    "mytuple=('one','two','three','four','five','six','seven','eight')"
   ]
  },
  {
   "cell_type": "code",
   "execution_count": 40,
   "id": "f77d84e5-9e9d-4a40-afd4-e75d1a70f5ef",
   "metadata": {},
   "outputs": [
    {
     "data": {
      "text/plain": [
       "('one', 'two', 'three', 'four', 'five', 'six', 'seven', 'eight')"
      ]
     },
     "execution_count": 40,
     "metadata": {},
     "output_type": "execute_result"
    }
   ],
   "source": [
    "mytuple"
   ]
  },
  {
   "cell_type": "code",
   "execution_count": 41,
   "id": "5ca82d03-bf7d-46f8-9d37-d16003b60128",
   "metadata": {},
   "outputs": [
    {
     "data": {
      "text/plain": [
       "('one', 'two', 'three')"
      ]
     },
     "execution_count": 41,
     "metadata": {},
     "output_type": "execute_result"
    }
   ],
   "source": [
    "mytuple[0:3]  #returns all items from 0th to 3rd indexing the item"
   ]
  },
  {
   "cell_type": "code",
   "execution_count": 42,
   "id": "98cd16af-3411-413e-b3d0-e5347d69b8eb",
   "metadata": {},
   "outputs": [
    {
     "data": {
      "text/plain": [
       "('three', 'four', 'five', 'six', 'seven', 'eight')"
      ]
     },
     "execution_count": 42,
     "metadata": {},
     "output_type": "execute_result"
    }
   ],
   "source": [
    "mytuple[2:] #returns 2nd element to last element"
   ]
  },
  {
   "cell_type": "code",
   "execution_count": 43,
   "id": "ed589800-f5e8-429e-99dd-76cca647e751",
   "metadata": {},
   "outputs": [
    {
     "data": {
      "text/plain": [
       "('one', 'two', 'three', 'four')"
      ]
     },
     "execution_count": 43,
     "metadata": {},
     "output_type": "execute_result"
    }
   ],
   "source": [
    "mytuple[:4] # returns firts four items"
   ]
  },
  {
   "cell_type": "code",
   "execution_count": 44,
   "id": "7cfab567-273b-4d1b-b6f6-b626c17f87a6",
   "metadata": {},
   "outputs": [
    {
     "data": {
      "text/plain": [
       "('one', 'two', 'three', 'four', 'five', 'six', 'seven', 'eight')"
      ]
     },
     "execution_count": 44,
     "metadata": {},
     "output_type": "execute_result"
    }
   ],
   "source": [
    "mytuple[:10] #it returns complete tuple even if we declare out of range in slicing"
   ]
  },
  {
   "cell_type": "code",
   "execution_count": 45,
   "id": "d261c1af-1a83-40a8-89fa-ef5d6dfdec90",
   "metadata": {},
   "outputs": [
    {
     "data": {
      "text/plain": [
       "('eight',)"
      ]
     },
     "execution_count": 45,
     "metadata": {},
     "output_type": "execute_result"
    }
   ],
   "source": [
    "mytuple[-1:] #returns last item"
   ]
  },
  {
   "cell_type": "code",
   "execution_count": 46,
   "id": "eaee25ca-67f7-4a4a-b2aa-daa0b9888cc8",
   "metadata": {},
   "outputs": [
    {
     "data": {
      "text/plain": [
       "('one', 'two', 'three', 'four', 'five', 'six', 'seven')"
      ]
     },
     "execution_count": 46,
     "metadata": {},
     "output_type": "execute_result"
    }
   ],
   "source": [
    "mytuple[:-1] #Returns except last item"
   ]
  },
  {
   "cell_type": "code",
   "execution_count": 47,
   "id": "bf7f5abd-c718-4ab9-b645-fe7abfe97cdc",
   "metadata": {},
   "outputs": [
    {
     "data": {
      "text/plain": [
       "('seven', 'eight')"
      ]
     },
     "execution_count": 47,
     "metadata": {},
     "output_type": "execute_result"
    }
   ],
   "source": [
    "mytuple[-2:] #returns last 2 items"
   ]
  },
  {
   "cell_type": "code",
   "execution_count": 48,
   "id": "2ecc0442-6140-472a-9794-84177ba5891e",
   "metadata": {},
   "outputs": [
    {
     "data": {
      "text/plain": [
       "('five', 'six', 'seven')"
      ]
     },
     "execution_count": 48,
     "metadata": {},
     "output_type": "execute_result"
    }
   ],
   "source": [
    "mytuple[-4:-1] #return last 3 items"
   ]
  },
  {
   "cell_type": "code",
   "execution_count": 49,
   "id": "ecdcba6c-f9d1-498e-ae6e-cc0854c463c2",
   "metadata": {},
   "outputs": [
    {
     "data": {
      "text/plain": [
       "('one', 'two', 'three', 'four', 'five', 'six', 'seven', 'eight')"
      ]
     },
     "execution_count": 49,
     "metadata": {},
     "output_type": "execute_result"
    }
   ],
   "source": [
    "mytuple[:]  #return whole tuple"
   ]
  },
  {
   "cell_type": "markdown",
   "id": "4ef55181-5d90-4165-8ebd-d21638f29730",
   "metadata": {},
   "source": [
    "Remove and Change items"
   ]
  },
  {
   "cell_type": "code",
   "execution_count": 50,
   "id": "774bf602-c702-47a6-8cfd-3344482ca0d6",
   "metadata": {},
   "outputs": [
    {
     "data": {
      "text/plain": [
       "('one', 'two', 'three', 'four', 'five', 'six', 'seven', 'eight')"
      ]
     },
     "execution_count": 50,
     "metadata": {},
     "output_type": "execute_result"
    }
   ],
   "source": [
    "mytuple"
   ]
  },
  {
   "cell_type": "code",
   "execution_count": 52,
   "id": "f8cc6c24-dfd1-409b-ac9e-b2db104f8344",
   "metadata": {},
   "outputs": [
    {
     "ename": "TypeError",
     "evalue": "'tuple' object doesn't support item deletion",
     "output_type": "error",
     "traceback": [
      "\u001b[1;31m---------------------------------------------------------------------------\u001b[0m",
      "\u001b[1;31mTypeError\u001b[0m                                 Traceback (most recent call last)",
      "Cell \u001b[1;32mIn[52], line 1\u001b[0m\n\u001b[1;32m----> 1\u001b[0m \u001b[38;5;28;01mdel\u001b[39;00m \u001b[43mmytuple\u001b[49m\u001b[43m[\u001b[49m\u001b[38;5;241;43m0\u001b[39;49m\u001b[43m]\u001b[49m \u001b[38;5;66;03m#tuples are immutable which means can't delete tuple items\u001b[39;00m\n",
      "\u001b[1;31mTypeError\u001b[0m: 'tuple' object doesn't support item deletion"
     ]
    }
   ],
   "source": [
    "del mytuple[0] #tuples are immutable which means can't delete tuple items"
   ]
  },
  {
   "cell_type": "code",
   "execution_count": 53,
   "id": "3fa0c674-17b1-4593-af5e-ca95d074ac06",
   "metadata": {},
   "outputs": [
    {
     "ename": "AttributeError",
     "evalue": "'tuple' object has no attribute 'clear'",
     "output_type": "error",
     "traceback": [
      "\u001b[1;31m---------------------------------------------------------------------------\u001b[0m",
      "\u001b[1;31mAttributeError\u001b[0m                            Traceback (most recent call last)",
      "Cell \u001b[1;32mIn[53], line 1\u001b[0m\n\u001b[1;32m----> 1\u001b[0m \u001b[43mmytuple\u001b[49m\u001b[38;5;241;43m.\u001b[39;49m\u001b[43mclear\u001b[49m()\n",
      "\u001b[1;31mAttributeError\u001b[0m: 'tuple' object has no attribute 'clear'"
     ]
    }
   ],
   "source": [
    "mytuple.clear()"
   ]
  },
  {
   "cell_type": "code",
   "execution_count": 54,
   "id": "bb068139-efbf-49ca-af2f-ffadd919514c",
   "metadata": {},
   "outputs": [
    {
     "ename": "AttributeError",
     "evalue": "'tuple' object has no attribute 'remove'",
     "output_type": "error",
     "traceback": [
      "\u001b[1;31m---------------------------------------------------------------------------\u001b[0m",
      "\u001b[1;31mAttributeError\u001b[0m                            Traceback (most recent call last)",
      "Cell \u001b[1;32mIn[54], line 1\u001b[0m\n\u001b[1;32m----> 1\u001b[0m \u001b[43mmytuple\u001b[49m\u001b[38;5;241;43m.\u001b[39;49m\u001b[43mremove\u001b[49m()\n",
      "\u001b[1;31mAttributeError\u001b[0m: 'tuple' object has no attribute 'remove'"
     ]
    }
   ],
   "source": [
    "mytuple.remove()"
   ]
  },
  {
   "cell_type": "code",
   "execution_count": 56,
   "id": "795aca2b-6140-48c2-8070-647022eefa2e",
   "metadata": {},
   "outputs": [
    {
     "ename": "TypeError",
     "evalue": "'tuple' object does not support item assignment",
     "output_type": "error",
     "traceback": [
      "\u001b[1;31m---------------------------------------------------------------------------\u001b[0m",
      "\u001b[1;31mTypeError\u001b[0m                                 Traceback (most recent call last)",
      "Cell \u001b[1;32mIn[56], line 1\u001b[0m\n\u001b[1;32m----> 1\u001b[0m \u001b[43mmytuple\u001b[49m\u001b[43m[\u001b[49m\u001b[38;5;241;43m0\u001b[39;49m\u001b[43m]\u001b[49m\u001b[38;5;241m=\u001b[39m\u001b[38;5;241m1\u001b[39m  \u001b[38;5;66;03m#Tuples are immutable which means we can't change tuple items\u001b[39;00m\n",
      "\u001b[1;31mTypeError\u001b[0m: 'tuple' object does not support item assignment"
     ]
    }
   ],
   "source": [
    "mytuple[0]=1  #Tuples are immutable which means we can't change tuple items"
   ]
  },
  {
   "cell_type": "code",
   "execution_count": 58,
   "id": "a83334f8-e474-43b1-9fab-8c02a661a8dc",
   "metadata": {},
   "outputs": [
    {
     "ename": "NameError",
     "evalue": "name 'mytuple' is not defined",
     "output_type": "error",
     "traceback": [
      "\u001b[1;31m---------------------------------------------------------------------------\u001b[0m",
      "\u001b[1;31mNameError\u001b[0m                                 Traceback (most recent call last)",
      "Cell \u001b[1;32mIn[58], line 1\u001b[0m\n\u001b[1;32m----> 1\u001b[0m \u001b[38;5;28;01mdel\u001b[39;00m \u001b[43mmytuple\u001b[49m \u001b[38;5;66;03m#Deleting entire tuple object is possible\u001b[39;00m\n",
      "\u001b[1;31mNameError\u001b[0m: name 'mytuple' is not defined"
     ]
    }
   ],
   "source": [
    "del mytuple #Deleting entire tuple object is possible"
   ]
  },
  {
   "cell_type": "code",
   "execution_count": 59,
   "id": "b2423f3f-e5bc-41c8-be9c-075fc657e7b1",
   "metadata": {},
   "outputs": [
    {
     "data": {
      "text/plain": [
       "('hi', 'hello', 'how are you')"
      ]
     },
     "execution_count": 59,
     "metadata": {},
     "output_type": "execute_result"
    }
   ],
   "source": [
    "mytuple1=('hi','hello','how are you')\n",
    "mytuple1"
   ]
  },
  {
   "cell_type": "code",
   "execution_count": 60,
   "id": "4161d1fa-c64d-48c8-89da-ee18029b8f78",
   "metadata": {},
   "outputs": [],
   "source": [
    "del mytuple1"
   ]
  },
  {
   "cell_type": "markdown",
   "id": "0121ab65-7826-4774-8006-065e06338ebb",
   "metadata": {},
   "source": [
    "Loop throgh a tuple"
   ]
  },
  {
   "cell_type": "code",
   "execution_count": 63,
   "id": "277d3012-5696-41f5-aba8-a61d4bcfc038",
   "metadata": {},
   "outputs": [
    {
     "data": {
      "text/plain": [
       "('one', 'two', 'three', 'four', 'five', 'six', 'seven', 'eight')"
      ]
     },
     "execution_count": 63,
     "metadata": {},
     "output_type": "execute_result"
    }
   ],
   "source": [
    "mytuple=('one','two','three','four','five','six','seven','eight')\n",
    "mytuple"
   ]
  },
  {
   "cell_type": "code",
   "execution_count": 64,
   "id": "a9e25fa4-340f-4532-a9e7-300cf596afe6",
   "metadata": {},
   "outputs": [
    {
     "name": "stdout",
     "output_type": "stream",
     "text": [
      "one\n",
      "two\n",
      "three\n",
      "four\n",
      "five\n",
      "six\n",
      "seven\n",
      "eight\n"
     ]
    }
   ],
   "source": [
    "for i in mytuple:\n",
    "    print(i)"
   ]
  },
  {
   "cell_type": "code",
   "execution_count": 65,
   "id": "4080974d-946a-4e6e-8ee9-b4a105141ad0",
   "metadata": {},
   "outputs": [
    {
     "name": "stdout",
     "output_type": "stream",
     "text": [
      "(0, 'one')\n",
      "(1, 'two')\n",
      "(2, 'three')\n",
      "(3, 'four')\n",
      "(4, 'five')\n",
      "(5, 'six')\n",
      "(6, 'seven')\n",
      "(7, 'eight')\n"
     ]
    }
   ],
   "source": [
    "for i in enumerate(mytuple):\n",
    "    print(i)"
   ]
  },
  {
   "cell_type": "code",
   "execution_count": 66,
   "id": "eb7da037-e71e-4f26-b293-55ba76de9f0f",
   "metadata": {},
   "outputs": [
    {
     "name": "stdout",
     "output_type": "stream",
     "text": [
      "('one', 'two', 'three', 'four', 'five', 'six', 'seven', 'eight')\n",
      "('one', 'two', 'three', 'four', 'five', 'six', 'seven', 'eight')\n",
      "('one', 'two', 'three', 'four', 'five', 'six', 'seven', 'eight')\n",
      "('one', 'two', 'three', 'four', 'five', 'six', 'seven', 'eight')\n",
      "('one', 'two', 'three', 'four', 'five', 'six', 'seven', 'eight')\n",
      "('one', 'two', 'three', 'four', 'five', 'six', 'seven', 'eight')\n",
      "('one', 'two', 'three', 'four', 'five', 'six', 'seven', 'eight')\n",
      "('one', 'two', 'three', 'four', 'five', 'six', 'seven', 'eight')\n"
     ]
    }
   ],
   "source": [
    "for i in mytuple:\n",
    "    print(mytuple)"
   ]
  },
  {
   "cell_type": "code",
   "execution_count": 67,
   "id": "2581b614-0fc2-44ad-ae3c-a5c82079864b",
   "metadata": {},
   "outputs": [
    {
     "name": "stdout",
     "output_type": "stream",
     "text": [
      "('one', 'two', 'three', 'four', 'five', 'six', 'seven', 'eight')\n",
      "('one', 'two', 'three', 'four', 'five', 'six', 'seven', 'eight')\n",
      "('one', 'two', 'three', 'four', 'five', 'six', 'seven', 'eight')\n",
      "('one', 'two', 'three', 'four', 'five', 'six', 'seven', 'eight')\n",
      "('one', 'two', 'three', 'four', 'five', 'six', 'seven', 'eight')\n",
      "('one', 'two', 'three', 'four', 'five', 'six', 'seven', 'eight')\n",
      "('one', 'two', 'three', 'four', 'five', 'six', 'seven', 'eight')\n",
      "('one', 'two', 'three', 'four', 'five', 'six', 'seven', 'eight')\n"
     ]
    }
   ],
   "source": [
    "for i in enumerate(mytuple):\n",
    "    print(mytuple)"
   ]
  },
  {
   "cell_type": "markdown",
   "id": "d7e39188-5a58-4018-b3c7-d960d310ec38",
   "metadata": {},
   "source": [
    "Tuple Memebership"
   ]
  },
  {
   "cell_type": "code",
   "execution_count": 68,
   "id": "59f7341b-5f8f-4bd0-bc01-8ed840afcdbc",
   "metadata": {},
   "outputs": [
    {
     "data": {
      "text/plain": [
       "('one', 'two', 'three', 'four', 'five', 'six', 'seven', 'eight')"
      ]
     },
     "execution_count": 68,
     "metadata": {},
     "output_type": "execute_result"
    }
   ],
   "source": [
    "mytuple"
   ]
  },
  {
   "cell_type": "code",
   "execution_count": 70,
   "id": "f2d53608-a91b-4008-b0a2-7ab91e2bd087",
   "metadata": {},
   "outputs": [
    {
     "data": {
      "text/plain": [
       "True"
      ]
     },
     "execution_count": 70,
     "metadata": {},
     "output_type": "execute_result"
    }
   ],
   "source": [
    "'one' in mytuple  #check if 'one' exist in the list"
   ]
  },
  {
   "cell_type": "code",
   "execution_count": 71,
   "id": "8266493a-adfe-48c0-aca2-30e801758ea1",
   "metadata": {},
   "outputs": [
    {
     "data": {
      "text/plain": [
       "False"
      ]
     },
     "execution_count": 71,
     "metadata": {},
     "output_type": "execute_result"
    }
   ],
   "source": [
    "'ten' in mytuple"
   ]
  },
  {
   "cell_type": "code",
   "execution_count": 72,
   "id": "4ba4406b-3e6e-494d-897c-e8d069b1df8a",
   "metadata": {},
   "outputs": [
    {
     "data": {
      "text/plain": [
       "True"
      ]
     },
     "execution_count": 72,
     "metadata": {},
     "output_type": "execute_result"
    }
   ],
   "source": [
    "'ten' not in mytuple"
   ]
  },
  {
   "cell_type": "code",
   "execution_count": 73,
   "id": "32be4f47-b869-4adb-b48a-e99dbe4150df",
   "metadata": {},
   "outputs": [
    {
     "data": {
      "text/plain": [
       "True"
      ]
     },
     "execution_count": 73,
     "metadata": {},
     "output_type": "execute_result"
    }
   ],
   "source": [
    "'one' in mytuple"
   ]
  },
  {
   "cell_type": "code",
   "execution_count": 76,
   "id": "8a446327-1b25-4eb6-85f0-752af8ccc328",
   "metadata": {},
   "outputs": [
    {
     "data": {
      "text/plain": [
       "True"
      ]
     },
     "execution_count": 76,
     "metadata": {},
     "output_type": "execute_result"
    }
   ],
   "source": [
    "'five' in mytuple"
   ]
  },
  {
   "cell_type": "markdown",
   "id": "d6dae325-3995-45ce-b423-116ee63988a0",
   "metadata": {},
   "source": [
    "'three' in mytuple"
   ]
  },
  {
   "cell_type": "code",
   "execution_count": 80,
   "id": "550d4cac-1a52-4dd8-8c3c-ff9f1e55a0da",
   "metadata": {},
   "outputs": [
    {
     "data": {
      "text/plain": [
       "False"
      ]
     },
     "execution_count": 80,
     "metadata": {},
     "output_type": "execute_result"
    }
   ],
   "source": [
    "'three' not in mytuple"
   ]
  },
  {
   "cell_type": "code",
   "execution_count": 74,
   "id": "c73c184a-da17-414e-8822-4d9ed067fb31",
   "metadata": {},
   "outputs": [
    {
     "name": "stdout",
     "output_type": "stream",
     "text": [
      "Three is present in the tuple\n"
     ]
    }
   ],
   "source": [
    "if 'three' in mytuple:\n",
    "    print(\"Three is present in the tuple\")\n",
    "else:\n",
    "    print(\"Three is not present in the tuple\")"
   ]
  },
  {
   "cell_type": "code",
   "execution_count": 75,
   "id": "a25a30df-578f-4e32-8cb8-3262c061c6f5",
   "metadata": {},
   "outputs": [
    {
     "name": "stdout",
     "output_type": "stream",
     "text": [
      "eleven is not present in the tuple\n"
     ]
    }
   ],
   "source": [
    "if 'eleven' in mytuple:\n",
    "    print(\"eleven is present in the tuple\")\n",
    "else:\n",
    "    print(\"eleven is not present in the tuple\")"
   ]
  },
  {
   "cell_type": "markdown",
   "id": "6c0bd358-6b44-482c-b1a1-80d3d6f75ddb",
   "metadata": {},
   "source": [
    "Index Position"
   ]
  },
  {
   "cell_type": "code",
   "execution_count": 82,
   "id": "95a97d84-3aa3-4956-af54-b98f8b3f9857",
   "metadata": {},
   "outputs": [
    {
     "data": {
      "text/plain": [
       "('one', 'two', 'three', 'four', 'five', 'six', 'seven', 'eight')"
      ]
     },
     "execution_count": 82,
     "metadata": {},
     "output_type": "execute_result"
    }
   ],
   "source": [
    "mytuple"
   ]
  },
  {
   "cell_type": "code",
   "execution_count": 83,
   "id": "30b77eff-9e08-4d77-a450-7a287b344180",
   "metadata": {},
   "outputs": [
    {
     "data": {
      "text/plain": [
       "0"
      ]
     },
     "execution_count": 83,
     "metadata": {},
     "output_type": "execute_result"
    }
   ],
   "source": [
    "mytuple.index('one')"
   ]
  },
  {
   "cell_type": "code",
   "execution_count": 84,
   "id": "2f595832-6d21-46e6-a2d8-ce3f8c9e06c2",
   "metadata": {},
   "outputs": [
    {
     "data": {
      "text/plain": [
       "4"
      ]
     },
     "execution_count": 84,
     "metadata": {},
     "output_type": "execute_result"
    }
   ],
   "source": [
    "mytuple.index('five')"
   ]
  },
  {
   "cell_type": "code",
   "execution_count": 85,
   "id": "003cb2bb-645d-4dc4-ac14-304db2cb7a47",
   "metadata": {},
   "outputs": [
    {
     "data": {
      "text/plain": [
       "7"
      ]
     },
     "execution_count": 85,
     "metadata": {},
     "output_type": "execute_result"
    }
   ],
   "source": [
    "mytuple.index('eight')"
   ]
  },
  {
   "cell_type": "markdown",
   "id": "b9c9a479-5728-4419-8451-5fa35dd2af5d",
   "metadata": {},
   "source": [
    "Sorting"
   ]
  },
  {
   "cell_type": "code",
   "execution_count": 87,
   "id": "54983b46-16cf-4dc7-aba2-93546f13e8ee",
   "metadata": {},
   "outputs": [],
   "source": [
    "mytuple2=(43,67,99,12,6,90,67)"
   ]
  },
  {
   "cell_type": "code",
   "execution_count": 88,
   "id": "d7bcd8c2-efde-4ab5-8cf1-211c4529ece6",
   "metadata": {},
   "outputs": [
    {
     "data": {
      "text/plain": [
       "(43, 67, 99, 12, 6, 90, 67)"
      ]
     },
     "execution_count": 88,
     "metadata": {},
     "output_type": "execute_result"
    }
   ],
   "source": [
    "mytuple2"
   ]
  },
  {
   "cell_type": "code",
   "execution_count": 90,
   "id": "1b73d31c-f247-48b3-a8b6-a89fa2be554f",
   "metadata": {},
   "outputs": [
    {
     "data": {
      "text/plain": [
       "[6, 12, 43, 67, 67, 90, 99]"
      ]
     },
     "execution_count": 90,
     "metadata": {},
     "output_type": "execute_result"
    }
   ],
   "source": [
    "sorted(mytuple2)"
   ]
  },
  {
   "cell_type": "code",
   "execution_count": 91,
   "id": "08ee1c2d-b365-4537-88d7-4cf95c4f51cb",
   "metadata": {},
   "outputs": [
    {
     "data": {
      "text/plain": [
       "(45, 92, 33, 81, 10, 24, 6, 7, 99, 57)"
      ]
     },
     "execution_count": 91,
     "metadata": {},
     "output_type": "execute_result"
    }
   ],
   "source": [
    "mytuple3=(45,92,33,81,10,24,6,7,99,57)\n",
    "mytuple3"
   ]
  },
  {
   "cell_type": "code",
   "execution_count": 92,
   "id": "e411d718-510b-4fcb-9582-ce43ddea01b4",
   "metadata": {},
   "outputs": [
    {
     "data": {
      "text/plain": [
       "[6, 7, 10, 24, 33, 45, 57, 81, 92, 99]"
      ]
     },
     "execution_count": 92,
     "metadata": {},
     "output_type": "execute_result"
    }
   ],
   "source": [
    "sorted(mytuple3)"
   ]
  },
  {
   "cell_type": "code",
   "execution_count": 93,
   "id": "4ba8377a-49fb-4e72-a85a-727671a0e8dd",
   "metadata": {},
   "outputs": [
    {
     "data": {
      "text/plain": [
       "[32, 45, 78, 95, 55, 60]"
      ]
     },
     "execution_count": 93,
     "metadata": {},
     "output_type": "execute_result"
    }
   ],
   "source": [
    "l=[32,45,78,95,55,60]\n",
    "l"
   ]
  },
  {
   "cell_type": "code",
   "execution_count": 94,
   "id": "d5bc924a-df4a-40a3-9d80-cbef7cf95240",
   "metadata": {},
   "outputs": [
    {
     "data": {
      "text/plain": [
       "list"
      ]
     },
     "execution_count": 94,
     "metadata": {},
     "output_type": "execute_result"
    }
   ],
   "source": [
    "type(l)"
   ]
  },
  {
   "cell_type": "code",
   "execution_count": 95,
   "id": "4ba88c39-18af-4e40-a627-b6005dc26c0c",
   "metadata": {},
   "outputs": [
    {
     "data": {
      "text/plain": [
       "tuple"
      ]
     },
     "execution_count": 95,
     "metadata": {},
     "output_type": "execute_result"
    }
   ],
   "source": [
    "type(mytuple3)"
   ]
  },
  {
   "cell_type": "code",
   "execution_count": 96,
   "id": "9cd38649-8e8f-4e78-860a-216c866a894d",
   "metadata": {},
   "outputs": [
    {
     "name": "stdout",
     "output_type": "stream",
     "text": [
      "<class 'tuple'>\n"
     ]
    }
   ],
   "source": [
    "print(type(mytuple3))"
   ]
  },
  {
   "cell_type": "code",
   "execution_count": 97,
   "id": "ca4f2e01-f768-4633-bc48-954dc2a5e343",
   "metadata": {},
   "outputs": [
    {
     "data": {
      "text/plain": [
       "2647824156480"
      ]
     },
     "execution_count": 97,
     "metadata": {},
     "output_type": "execute_result"
    }
   ],
   "source": [
    "id(mytuple3)"
   ]
  },
  {
   "cell_type": "code",
   "execution_count": 98,
   "id": "7b4d09d9-22cb-4952-be5b-2d862a8c7a64",
   "metadata": {},
   "outputs": [
    {
     "data": {
      "text/plain": [
       "140721873959512"
      ]
     },
     "execution_count": 98,
     "metadata": {},
     "output_type": "execute_result"
    }
   ],
   "source": [
    "id(mytuple3[6])  #it retrieves the address of 6th index element from the mytuple3"
   ]
  },
  {
   "cell_type": "code",
   "execution_count": null,
   "id": "5c87282c-b881-4679-b40d-b6a2ca2a4674",
   "metadata": {},
   "outputs": [],
   "source": []
  }
 ],
 "metadata": {
  "kernelspec": {
   "display_name": "Python 3 (ipykernel)",
   "language": "python",
   "name": "python3"
  },
  "language_info": {
   "codemirror_mode": {
    "name": "ipython",
    "version": 3
   },
   "file_extension": ".py",
   "mimetype": "text/x-python",
   "name": "python",
   "nbconvert_exporter": "python",
   "pygments_lexer": "ipython3",
   "version": "3.12.4"
  }
 },
 "nbformat": 4,
 "nbformat_minor": 5
}
