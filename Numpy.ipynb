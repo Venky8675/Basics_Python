{
 "cells": [
  {
   "cell_type": "markdown",
   "id": "a296a40e-54c8-4de2-bc9b-30660f4cc930",
   "metadata": {},
   "source": [
    "Matrices"
   ]
  },
  {
   "cell_type": "raw",
   "id": "e743f5c3-0019-482b-834e-0dbcb8348a9e",
   "metadata": {},
   "source": [
    "-Matrix is the tabular representation of the data\n",
    "-Lot of data stored in table format\n",
    "-List is a one dimension array and matrix to plot the data points"
   ]
  },
  {
   "cell_type": "code",
   "execution_count": 5,
   "id": "8be9eace-77cc-4324-b7a5-957f91399cc3",
   "metadata": {},
   "outputs": [],
   "source": [
    "import numpy as np\n",
    "import sys"
   ]
  },
  {
   "cell_type": "code",
   "execution_count": 6,
   "id": "adda87c7-ca3d-4248-8b2d-f15164ef8386",
   "metadata": {},
   "outputs": [
    {
     "data": {
      "text/plain": [
       "'1.26.3'"
      ]
     },
     "execution_count": 6,
     "metadata": {},
     "output_type": "execute_result"
    }
   ],
   "source": [
    "np.__version__"
   ]
  },
  {
   "cell_type": "code",
   "execution_count": 8,
   "id": "27ea19d7-0cdc-4fe8-bd30-ab76c5d69266",
   "metadata": {},
   "outputs": [
    {
     "data": {
      "text/plain": [
       "'3.12.4 | packaged by Anaconda, Inc. | (main, Jun 18 2024, 15:03:56) [MSC v.1929 64 bit (AMD64)]'"
      ]
     },
     "execution_count": 8,
     "metadata": {},
     "output_type": "execute_result"
    }
   ],
   "source": [
    "sys.version"
   ]
  },
  {
   "cell_type": "code",
   "execution_count": 9,
   "id": "395c623e-6086-4ad2-b5f4-2b0c3999fb01",
   "metadata": {},
   "outputs": [
    {
     "data": {
      "text/plain": [
       "[0, 1, 2, 3, 4, 5]"
      ]
     },
     "execution_count": 9,
     "metadata": {},
     "output_type": "execute_result"
    }
   ],
   "source": [
    "#Creating Arrays\n",
    "my_list=[0,1,2,3,4,5]\n",
    "my_list\n"
   ]
  },
  {
   "cell_type": "code",
   "execution_count": 10,
   "id": "ad594e7b-b6da-45f3-9545-24a861a3c48a",
   "metadata": {},
   "outputs": [
    {
     "data": {
      "text/plain": [
       "list"
      ]
     },
     "execution_count": 10,
     "metadata": {},
     "output_type": "execute_result"
    }
   ],
   "source": [
    "type(my_list)"
   ]
  },
  {
   "cell_type": "code",
   "execution_count": 11,
   "id": "0c62c9cc-049c-4408-a284-bbcd16024ebe",
   "metadata": {},
   "outputs": [
    {
     "data": {
      "text/plain": [
       "array([0, 1, 2, 3, 4, 5])"
      ]
     },
     "execution_count": 11,
     "metadata": {},
     "output_type": "execute_result"
    }
   ],
   "source": [
    "arr=np.array(my_list)\n",
    "arr"
   ]
  },
  {
   "cell_type": "code",
   "execution_count": 12,
   "id": "b0600ea6-1451-43b4-afbd-f2a874af20ed",
   "metadata": {},
   "outputs": [
    {
     "data": {
      "text/plain": [
       "numpy.ndarray"
      ]
     },
     "execution_count": 12,
     "metadata": {},
     "output_type": "execute_result"
    }
   ],
   "source": [
    "type(arr)"
   ]
  },
  {
   "cell_type": "code",
   "execution_count": 13,
   "id": "c56a20a0-bdba-45fe-9904-30dc4c2ea282",
   "metadata": {},
   "outputs": [
    {
     "data": {
      "text/plain": [
       "array([ 0,  1,  2,  3,  4,  5,  6,  7,  8,  9, 10, 11, 12, 13, 14])"
      ]
     },
     "execution_count": 13,
     "metadata": {},
     "output_type": "execute_result"
    }
   ],
   "source": [
    "np.arange(15)"
   ]
  },
  {
   "cell_type": "code",
   "execution_count": 14,
   "id": "9124ad5e-a3c1-4c53-abaa-ff785119ef9d",
   "metadata": {},
   "outputs": [
    {
     "data": {
      "text/plain": [
       "array([0., 1., 2., 3., 4.])"
      ]
     },
     "execution_count": 14,
     "metadata": {},
     "output_type": "execute_result"
    }
   ],
   "source": [
    "np.arange(5.0)"
   ]
  },
  {
   "cell_type": "code",
   "execution_count": 15,
   "id": "69191937-5877-4563-8f3a-5c1ded546c7a",
   "metadata": {},
   "outputs": [
    {
     "data": {
      "text/plain": [
       "array([0, 1, 2, 3, 4, 5, 6, 7, 8, 9])"
      ]
     },
     "execution_count": 15,
     "metadata": {},
     "output_type": "execute_result"
    }
   ],
   "source": [
    "np.arange(10)"
   ]
  },
  {
   "cell_type": "code",
   "execution_count": 16,
   "id": "a8cc5806-640d-4fcf-95e7-07e82b72a49c",
   "metadata": {},
   "outputs": [
    {
     "data": {
      "text/plain": [
       "array([0, 1, 2, 3, 4])"
      ]
     },
     "execution_count": 16,
     "metadata": {},
     "output_type": "execute_result"
    }
   ],
   "source": [
    "np.arange(5)"
   ]
  },
  {
   "cell_type": "code",
   "execution_count": 17,
   "id": "9573830e-3f79-4cc7-b4b0-c2121369ee11",
   "metadata": {},
   "outputs": [
    {
     "data": {
      "text/plain": [
       "array([10, 11, 12, 13, 14, 15, 16, 17, 18, 19])"
      ]
     },
     "execution_count": 17,
     "metadata": {},
     "output_type": "execute_result"
    }
   ],
   "source": [
    "np.arange(10,20)"
   ]
  },
  {
   "cell_type": "code",
   "execution_count": 18,
   "id": "cc7c045a-33e5-474d-b1a7-b1c0c27f913e",
   "metadata": {},
   "outputs": [
    {
     "data": {
      "text/plain": [
       "array([2, 3, 4, 5, 6, 7, 8, 9])"
      ]
     },
     "execution_count": 18,
     "metadata": {},
     "output_type": "execute_result"
    }
   ],
   "source": [
    "np.arange(2,10)"
   ]
  },
  {
   "cell_type": "code",
   "execution_count": 19,
   "id": "91b2809f-6678-4baf-8f35-ca179b673d35",
   "metadata": {},
   "outputs": [
    {
     "data": {
      "text/plain": [
       "array([], dtype=int32)"
      ]
     },
     "execution_count": 19,
     "metadata": {},
     "output_type": "execute_result"
    }
   ],
   "source": [
    "np.arange(10,2) "
   ]
  },
  {
   "cell_type": "code",
   "execution_count": 20,
   "id": "635e4598-fe74-4ad1-b066-a85630f245f4",
   "metadata": {},
   "outputs": [
    {
     "data": {
      "text/plain": [
       "array([-10,  -9,  -8,  -7,  -6,  -5,  -4,  -3,  -2,  -1])"
      ]
     },
     "execution_count": 20,
     "metadata": {},
     "output_type": "execute_result"
    }
   ],
   "source": [
    "np.arange(-10,0)"
   ]
  },
  {
   "cell_type": "code",
   "execution_count": 21,
   "id": "fc9350ea-f1bd-48c0-8775-02390f01a80e",
   "metadata": {},
   "outputs": [
    {
     "data": {
      "text/plain": [
       "array([-20, -19, -18, -17, -16, -15, -14, -13, -12, -11])"
      ]
     },
     "execution_count": 21,
     "metadata": {},
     "output_type": "execute_result"
    }
   ],
   "source": [
    "np.arange(-20,-10)"
   ]
  },
  {
   "cell_type": "code",
   "execution_count": 22,
   "id": "23266253-48da-4468-8702-a8b9fd4a7065",
   "metadata": {},
   "outputs": [
    {
     "data": {
      "text/plain": [
       "array([], dtype=int32)"
      ]
     },
     "execution_count": 22,
     "metadata": {},
     "output_type": "execute_result"
    }
   ],
   "source": [
    "np.arange(30,20)"
   ]
  },
  {
   "cell_type": "code",
   "execution_count": 23,
   "id": "7779a3e8-94bb-419e-8e2f-a33c89c62715",
   "metadata": {},
   "outputs": [
    {
     "data": {
      "text/plain": [
       "array([-30, -29, -28, -27, -26, -25, -24, -23, -22, -21, -20, -19, -18,\n",
       "       -17, -16, -15, -14, -13, -12, -11, -10,  -9,  -8,  -7,  -6,  -5,\n",
       "        -4,  -3,  -2,  -1,   0,   1,   2,   3,   4,   5,   6,   7,   8,\n",
       "         9,  10,  11,  12,  13,  14,  15,  16,  17,  18,  19])"
      ]
     },
     "execution_count": 23,
     "metadata": {},
     "output_type": "execute_result"
    }
   ],
   "source": [
    "b=np.arange(-30,20)\n",
    "b"
   ]
  },
  {
   "cell_type": "code",
   "execution_count": 24,
   "id": "89acfa8c-7c2e-4d68-bc40-fc1f01fdcaf0",
   "metadata": {},
   "outputs": [
    {
     "data": {
      "text/plain": [
       "array([-10,  -9,  -8,  -7,  -6,  -5,  -4,  -3,  -2,  -1,   0,   1,   2,\n",
       "         3,   4,   5,   6,   7,   8,   9])"
      ]
     },
     "execution_count": 24,
     "metadata": {},
     "output_type": "execute_result"
    }
   ],
   "source": [
    "np.arange(-10,10)"
   ]
  },
  {
   "cell_type": "code",
   "execution_count": 25,
   "id": "88f32c51-f40f-4768-8955-8dde604372c6",
   "metadata": {},
   "outputs": [
    {
     "data": {
      "text/plain": [
       "array([-10,  -5,   0,   5,  10,  15])"
      ]
     },
     "execution_count": 25,
     "metadata": {},
     "output_type": "execute_result"
    }
   ],
   "source": [
    "np.arange(-10,20,5)"
   ]
  },
  {
   "cell_type": "code",
   "execution_count": 26,
   "id": "8bace71a-3f02-41d9-8e57-1bfd613a5602",
   "metadata": {},
   "outputs": [
    {
     "data": {
      "text/plain": [
       "array([-20, -17, -14, -11,  -8,  -5,  -2,   1,   4,   7,  10,  13,  16,\n",
       "        19,  22,  25,  28,  31,  34,  37,  40,  43,  46,  49])"
      ]
     },
     "execution_count": 26,
     "metadata": {},
     "output_type": "execute_result"
    }
   ],
   "source": [
    "np.arange(-20,50,3)"
   ]
  },
  {
   "cell_type": "code",
   "execution_count": 27,
   "id": "452376ad-cde9-40f6-b9a0-15599145e4ac",
   "metadata": {},
   "outputs": [
    {
     "data": {
      "text/plain": [
       "array([-20, -19, -18, -17, -16, -15, -14, -13, -12, -11, -10,  -9,  -8,\n",
       "        -7,  -6,  -5,  -4,  -3,  -2,  -1,   0,   1,   2,   3,   4,   5,\n",
       "         6,   7,   8,   9])"
      ]
     },
     "execution_count": 27,
     "metadata": {},
     "output_type": "execute_result"
    }
   ],
   "source": [
    "ar=np.arange(-20,10)\n",
    "ar"
   ]
  },
  {
   "cell_type": "code",
   "execution_count": 28,
   "id": "edee9ef4-8004-4741-b3b6-c5097be4816b",
   "metadata": {},
   "outputs": [
    {
     "ename": "TypeError",
     "evalue": "arange() requires stop to be specified.",
     "output_type": "error",
     "traceback": [
      "\u001b[1;31m---------------------------------------------------------------------------\u001b[0m",
      "\u001b[1;31mTypeError\u001b[0m                                 Traceback (most recent call last)",
      "Cell \u001b[1;32mIn[28], line 1\u001b[0m\n\u001b[1;32m----> 1\u001b[0m \u001b[43mnp\u001b[49m\u001b[38;5;241;43m.\u001b[39;49m\u001b[43marange\u001b[49m\u001b[43m(\u001b[49m\u001b[43m)\u001b[49m\n",
      "\u001b[1;31mTypeError\u001b[0m: arange() requires stop to be specified."
     ]
    }
   ],
   "source": [
    "np.arange()"
   ]
  },
  {
   "cell_type": "code",
   "execution_count": 29,
   "id": "4a4529e7-58f0-4afe-8f1e-2233e46cc256",
   "metadata": {},
   "outputs": [
    {
     "data": {
      "text/plain": [
       "array([ 0,  3,  6,  9, 12])"
      ]
     },
     "execution_count": 29,
     "metadata": {},
     "output_type": "execute_result"
    }
   ],
   "source": [
    "np.arange(0,15,3)"
   ]
  },
  {
   "cell_type": "code",
   "execution_count": 30,
   "id": "9a29d230-e743-4297-bfc0-f73338f3cdaa",
   "metadata": {},
   "outputs": [
    {
     "data": {
      "text/plain": [
       "array([10, 23, 36, 49, 62, 75, 88])"
      ]
     },
     "execution_count": 30,
     "metadata": {},
     "output_type": "execute_result"
    }
   ],
   "source": [
    "np.arange(10,100,13)"
   ]
  },
  {
   "cell_type": "code",
   "execution_count": 31,
   "id": "6d837098-64e7-4863-a16d-26a58e408a4f",
   "metadata": {},
   "outputs": [
    {
     "data": {
      "text/plain": [
       "array([0, 9])"
      ]
     },
     "execution_count": 31,
     "metadata": {},
     "output_type": "execute_result"
    }
   ],
   "source": [
    "np.arange(0,10,9)"
   ]
  },
  {
   "cell_type": "code",
   "execution_count": 32,
   "id": "f67db73a-e752-4b46-853e-c25de76c2186",
   "metadata": {},
   "outputs": [
    {
     "ename": "TypeError",
     "evalue": "Cannot interpret '2' as a data type",
     "output_type": "error",
     "traceback": [
      "\u001b[1;31m---------------------------------------------------------------------------\u001b[0m",
      "\u001b[1;31mTypeError\u001b[0m                                 Traceback (most recent call last)",
      "Cell \u001b[1;32mIn[32], line 1\u001b[0m\n\u001b[1;32m----> 1\u001b[0m \u001b[43mnp\u001b[49m\u001b[38;5;241;43m.\u001b[39;49m\u001b[43marange\u001b[49m\u001b[43m(\u001b[49m\u001b[38;5;241;43m0\u001b[39;49m\u001b[43m,\u001b[49m\u001b[38;5;241;43m20\u001b[39;49m\u001b[43m,\u001b[49m\u001b[38;5;241;43m3\u001b[39;49m\u001b[43m,\u001b[49m\u001b[38;5;241;43m2\u001b[39;49m\u001b[43m)\u001b[49m \n",
      "\u001b[1;31mTypeError\u001b[0m: Cannot interpret '2' as a data type"
     ]
    }
   ],
   "source": [
    "np.arange(0,20,3,2) "
   ]
  },
  {
   "cell_type": "code",
   "execution_count": 33,
   "id": "864b4561-3f93-47df-89de-216ca0b91b53",
   "metadata": {},
   "outputs": [
    {
     "ename": "TypeError",
     "evalue": "zeros() missing required argument 'shape' (pos 0)",
     "output_type": "error",
     "traceback": [
      "\u001b[1;31m---------------------------------------------------------------------------\u001b[0m",
      "\u001b[1;31mTypeError\u001b[0m                                 Traceback (most recent call last)",
      "Cell \u001b[1;32mIn[33], line 1\u001b[0m\n\u001b[1;32m----> 1\u001b[0m \u001b[43mnp\u001b[49m\u001b[38;5;241;43m.\u001b[39;49m\u001b[43mzeros\u001b[49m\u001b[43m(\u001b[49m\u001b[43m)\u001b[49m\n",
      "\u001b[1;31mTypeError\u001b[0m: zeros() missing required argument 'shape' (pos 0)"
     ]
    }
   ],
   "source": [
    "np.zeros()"
   ]
  },
  {
   "cell_type": "code",
   "execution_count": 34,
   "id": "ac7505e7-c140-4d95-b210-59ba80d413be",
   "metadata": {},
   "outputs": [
    {
     "data": {
      "text/plain": [
       "array([0., 0., 0.])"
      ]
     },
     "execution_count": 34,
     "metadata": {},
     "output_type": "execute_result"
    }
   ],
   "source": [
    "np.zeros(3) #parameter tuning"
   ]
  },
  {
   "cell_type": "code",
   "execution_count": 35,
   "id": "d00db20e-d40a-48b7-adc6-00cbe6c8262e",
   "metadata": {},
   "outputs": [
    {
     "data": {
      "text/plain": [
       "array([0., 0., 0., 0., 0.])"
      ]
     },
     "execution_count": 35,
     "metadata": {},
     "output_type": "execute_result"
    }
   ],
   "source": [
    "np.zeros(5)"
   ]
  },
  {
   "cell_type": "code",
   "execution_count": 36,
   "id": "514249fd-f2ca-4c21-802c-bb425cb9ab95",
   "metadata": {},
   "outputs": [
    {
     "data": {
      "text/plain": [
       "array([[0., 0., 0., 0.],\n",
       "       [0., 0., 0., 0.]])"
      ]
     },
     "execution_count": 36,
     "metadata": {},
     "output_type": "execute_result"
    }
   ],
   "source": [
    "np.zeros((2,4))"
   ]
  },
  {
   "cell_type": "code",
   "execution_count": 37,
   "id": "809a05c6-c01a-4098-b6ab-097adb932e70",
   "metadata": {},
   "outputs": [
    {
     "data": {
      "text/plain": [
       "array([[0., 0.],\n",
       "       [0., 0.]])"
      ]
     },
     "execution_count": 37,
     "metadata": {},
     "output_type": "execute_result"
    }
   ],
   "source": [
    "np.zeros((2,2))"
   ]
  },
  {
   "cell_type": "code",
   "execution_count": 38,
   "id": "3e9f9e9c-5b59-44ad-8dca-0aedf2f39046",
   "metadata": {},
   "outputs": [
    {
     "data": {
      "text/plain": [
       "array([0, 0, 0, 0])"
      ]
     },
     "execution_count": 38,
     "metadata": {},
     "output_type": "execute_result"
    }
   ],
   "source": [
    "np.zeros(4,dtype=int) #hyperparameter tuning"
   ]
  },
  {
   "cell_type": "code",
   "execution_count": 39,
   "id": "045e40af-4058-4d45-8aad-ed5f3221ea71",
   "metadata": {},
   "outputs": [
    {
     "data": {
      "text/plain": [
       "array([[0, 0, 0, 0],\n",
       "       [0, 0, 0, 0]])"
      ]
     },
     "execution_count": 39,
     "metadata": {},
     "output_type": "execute_result"
    }
   ],
   "source": [
    "np.zeros((2,4),dtype=int)"
   ]
  },
  {
   "cell_type": "code",
   "execution_count": 40,
   "id": "0648a3ef-9066-4493-a8d8-57b0f713f6de",
   "metadata": {},
   "outputs": [
    {
     "data": {
      "text/plain": [
       "array([0, 0, 0, 0, 0, 0, 0, 0, 0, 0])"
      ]
     },
     "execution_count": 40,
     "metadata": {},
     "output_type": "execute_result"
    }
   ],
   "source": [
    "np.zeros(10, dtype=int)"
   ]
  },
  {
   "cell_type": "code",
   "execution_count": 41,
   "id": "d4403d3e-f160-4b40-936e-d626f9566909",
   "metadata": {},
   "outputs": [
    {
     "name": "stdout",
     "output_type": "stream",
     "text": [
      "[[0. 0.]\n",
      " [0. 0.]\n",
      " [0. 0.]]\n",
      "<class 'numpy.ndarray'>\n"
     ]
    }
   ],
   "source": [
    "zero=np.zeros([3,2])\n",
    "print(zero)\n",
    "print(type(zero))"
   ]
  },
  {
   "cell_type": "code",
   "execution_count": 42,
   "id": "5c401acc-6338-4d75-bf53-16bf9026430b",
   "metadata": {},
   "outputs": [
    {
     "name": "stdout",
     "output_type": "stream",
     "text": [
      "[[0. 0. 0. 0.]\n",
      " [0. 0. 0. 0.]]\n",
      "<class 'numpy.ndarray'>\n"
     ]
    },
    {
     "data": {
      "text/plain": [
       "1995448944464"
      ]
     },
     "execution_count": 42,
     "metadata": {},
     "output_type": "execute_result"
    }
   ],
   "source": [
    "zero=np.zeros([2,4])\n",
    "print(zero)\n",
    "print(type(zero))\n",
    "id(zero)"
   ]
  },
  {
   "cell_type": "code",
   "execution_count": 43,
   "id": "ebe797cd-f5e3-41fd-bc88-abace267c2ab",
   "metadata": {},
   "outputs": [
    {
     "data": {
      "text/plain": [
       "array([ 2,  3,  4,  5,  6,  7,  8,  9, 10, 11, 12, 13, 14, 15, 16, 17, 18,\n",
       "       19, 20, 21, 22, 23, 24, 25, 26, 27, 28, 29])"
      ]
     },
     "execution_count": 43,
     "metadata": {},
     "output_type": "execute_result"
    }
   ],
   "source": [
    "np.arange(2,30)"
   ]
  },
  {
   "cell_type": "code",
   "execution_count": 44,
   "id": "668bd090-e460-4667-ae18-bcdc3bf84b95",
   "metadata": {},
   "outputs": [
    {
     "data": {
      "text/plain": [
       "array([[0., 0., 0., 0., 0., 0., 0., 0., 0., 0.],\n",
       "       [0., 0., 0., 0., 0., 0., 0., 0., 0., 0.],\n",
       "       [0., 0., 0., 0., 0., 0., 0., 0., 0., 0.],\n",
       "       [0., 0., 0., 0., 0., 0., 0., 0., 0., 0.],\n",
       "       [0., 0., 0., 0., 0., 0., 0., 0., 0., 0.],\n",
       "       [0., 0., 0., 0., 0., 0., 0., 0., 0., 0.],\n",
       "       [0., 0., 0., 0., 0., 0., 0., 0., 0., 0.],\n",
       "       [0., 0., 0., 0., 0., 0., 0., 0., 0., 0.],\n",
       "       [0., 0., 0., 0., 0., 0., 0., 0., 0., 0.],\n",
       "       [0., 0., 0., 0., 0., 0., 0., 0., 0., 0.]])"
      ]
     },
     "execution_count": 44,
     "metadata": {},
     "output_type": "execute_result"
    }
   ],
   "source": [
    "np.zeros((10,10))"
   ]
  },
  {
   "cell_type": "code",
   "execution_count": 45,
   "id": "2d202f9c-bdbc-4e78-ae38-051fb7be37cc",
   "metadata": {},
   "outputs": [
    {
     "data": {
      "text/plain": [
       "array([[0., 0., 0., 0., 0., 0., 0., 0., 0., 0., 0., 0., 0., 0., 0., 0.,\n",
       "        0., 0., 0., 0., 0., 0., 0., 0., 0., 0., 0., 0., 0., 0.],\n",
       "       [0., 0., 0., 0., 0., 0., 0., 0., 0., 0., 0., 0., 0., 0., 0., 0.,\n",
       "        0., 0., 0., 0., 0., 0., 0., 0., 0., 0., 0., 0., 0., 0.],\n",
       "       [0., 0., 0., 0., 0., 0., 0., 0., 0., 0., 0., 0., 0., 0., 0., 0.,\n",
       "        0., 0., 0., 0., 0., 0., 0., 0., 0., 0., 0., 0., 0., 0.],\n",
       "       [0., 0., 0., 0., 0., 0., 0., 0., 0., 0., 0., 0., 0., 0., 0., 0.,\n",
       "        0., 0., 0., 0., 0., 0., 0., 0., 0., 0., 0., 0., 0., 0.],\n",
       "       [0., 0., 0., 0., 0., 0., 0., 0., 0., 0., 0., 0., 0., 0., 0., 0.,\n",
       "        0., 0., 0., 0., 0., 0., 0., 0., 0., 0., 0., 0., 0., 0.],\n",
       "       [0., 0., 0., 0., 0., 0., 0., 0., 0., 0., 0., 0., 0., 0., 0., 0.,\n",
       "        0., 0., 0., 0., 0., 0., 0., 0., 0., 0., 0., 0., 0., 0.],\n",
       "       [0., 0., 0., 0., 0., 0., 0., 0., 0., 0., 0., 0., 0., 0., 0., 0.,\n",
       "        0., 0., 0., 0., 0., 0., 0., 0., 0., 0., 0., 0., 0., 0.],\n",
       "       [0., 0., 0., 0., 0., 0., 0., 0., 0., 0., 0., 0., 0., 0., 0., 0.,\n",
       "        0., 0., 0., 0., 0., 0., 0., 0., 0., 0., 0., 0., 0., 0.],\n",
       "       [0., 0., 0., 0., 0., 0., 0., 0., 0., 0., 0., 0., 0., 0., 0., 0.,\n",
       "        0., 0., 0., 0., 0., 0., 0., 0., 0., 0., 0., 0., 0., 0.],\n",
       "       [0., 0., 0., 0., 0., 0., 0., 0., 0., 0., 0., 0., 0., 0., 0., 0.,\n",
       "        0., 0., 0., 0., 0., 0., 0., 0., 0., 0., 0., 0., 0., 0.]])"
      ]
     },
     "execution_count": 45,
     "metadata": {},
     "output_type": "execute_result"
    }
   ],
   "source": [
    "np.zeros([10,30])"
   ]
  },
  {
   "cell_type": "code",
   "execution_count": 46,
   "id": "076c5fdd-7385-4d92-bc6a-8cde08ea8d1f",
   "metadata": {},
   "outputs": [
    {
     "data": {
      "text/plain": [
       "array([[0., 0., 0., 0., 0., 0., 0., 0., 0., 0.],\n",
       "       [0., 0., 0., 0., 0., 0., 0., 0., 0., 0.],\n",
       "       [0., 0., 0., 0., 0., 0., 0., 0., 0., 0.],\n",
       "       [0., 0., 0., 0., 0., 0., 0., 0., 0., 0.],\n",
       "       [0., 0., 0., 0., 0., 0., 0., 0., 0., 0.]])"
      ]
     },
     "execution_count": 46,
     "metadata": {},
     "output_type": "execute_result"
    }
   ],
   "source": [
    "np.zeros((5,10))"
   ]
  },
  {
   "cell_type": "code",
   "execution_count": 47,
   "id": "44752d28-38aa-4428-9d31-1ecd0c66964c",
   "metadata": {},
   "outputs": [
    {
     "name": "stdout",
     "output_type": "stream",
     "text": [
      "parameter tuning \n",
      "\n",
      " [[0. 0. 0. 0. 0. 0. 0.]\n",
      " [0. 0. 0. 0. 0. 0. 0.]\n",
      " [0. 0. 0. 0. 0. 0. 0.]\n",
      " [0. 0. 0. 0. 0. 0. 0.]\n",
      " [0. 0. 0. 0. 0. 0. 0.]] \n",
      "\n",
      "hyperparameter tuning \n",
      "\n",
      " [[0 0 0 0 0 0 0 0]\n",
      " [0 0 0 0 0 0 0 0]\n",
      " [0 0 0 0 0 0 0 0]\n",
      " [0 0 0 0 0 0 0 0]]\n"
     ]
    }
   ],
   "source": [
    "n=(5,7)\n",
    "n1=(4,8)\n",
    "print('parameter tuning \\n\\n',np.zeros(n),'\\n') #parameter tuning\n",
    "print(\"hyperparameter tuning \\n\\n\",np.zeros(n1,dtype=int)) ## hyperparameter tuning"
   ]
  },
  {
   "cell_type": "code",
   "execution_count": 48,
   "id": "159de658-c2e3-43fd-b5f9-1fce7245ace2",
   "metadata": {},
   "outputs": [
    {
     "name": "stdout",
     "output_type": "stream",
     "text": [
      "[[0. 0. 0. 0. 0. 0. 0. 0.]\n",
      " [0. 0. 0. 0. 0. 0. 0. 0.]\n",
      " [0. 0. 0. 0. 0. 0. 0. 0.]\n",
      " [0. 0. 0. 0. 0. 0. 0. 0.]]\n"
     ]
    }
   ],
   "source": [
    "print(np.zeros(n1))"
   ]
  },
  {
   "cell_type": "code",
   "execution_count": 49,
   "id": "926b57a9-1b87-461d-bcea-cf1afba63cc1",
   "metadata": {},
   "outputs": [
    {
     "data": {
      "text/plain": [
       "array([10, 13, 16, 19])"
      ]
     },
     "execution_count": 49,
     "metadata": {},
     "output_type": "execute_result"
    }
   ],
   "source": [
    "np.arange(10,20,3)"
   ]
  },
  {
   "cell_type": "code",
   "execution_count": 50,
   "id": "82b88c69-6df0-4d7c-b0b1-fce48ec5bfb4",
   "metadata": {},
   "outputs": [
    {
     "data": {
      "text/plain": [
       "array([1., 1., 1., 1., 1.])"
      ]
     },
     "execution_count": 50,
     "metadata": {},
     "output_type": "execute_result"
    }
   ],
   "source": [
    "np.ones(5)"
   ]
  },
  {
   "cell_type": "code",
   "execution_count": 51,
   "id": "22005955-ea8e-40c9-8812-c868c04cb0ab",
   "metadata": {},
   "outputs": [
    {
     "data": {
      "text/plain": [
       "array([1., 1., 1.])"
      ]
     },
     "execution_count": 51,
     "metadata": {},
     "output_type": "execute_result"
    }
   ],
   "source": [
    "np.ones(3)"
   ]
  },
  {
   "cell_type": "code",
   "execution_count": 52,
   "id": "73bf9e66-0a17-4b2e-9cc6-039de16e4fc2",
   "metadata": {},
   "outputs": [
    {
     "data": {
      "text/plain": [
       "array([1., 1., 1., 1., 1., 1., 1., 1., 1., 1.])"
      ]
     },
     "execution_count": 52,
     "metadata": {},
     "output_type": "execute_result"
    }
   ],
   "source": [
    "np.ones(10)"
   ]
  },
  {
   "cell_type": "code",
   "execution_count": 53,
   "id": "e4fd77e2-d01a-4b6c-9be4-321247c4a47f",
   "metadata": {},
   "outputs": [
    {
     "data": {
      "text/plain": [
       "array([[1., 1., 1.],\n",
       "       [1., 1., 1.]])"
      ]
     },
     "execution_count": 53,
     "metadata": {},
     "output_type": "execute_result"
    }
   ],
   "source": [
    "np.ones((2,3))"
   ]
  },
  {
   "cell_type": "code",
   "execution_count": 54,
   "id": "abcc6e41-4383-4a8d-80f2-aff0fb26995f",
   "metadata": {},
   "outputs": [
    {
     "data": {
      "text/plain": [
       "array([1., 1., 1., 1.])"
      ]
     },
     "execution_count": 54,
     "metadata": {},
     "output_type": "execute_result"
    }
   ],
   "source": [
    "np.ones(4)"
   ]
  },
  {
   "cell_type": "code",
   "execution_count": 55,
   "id": "c38b1e3f-6e07-4b6c-98c8-f140cb51d159",
   "metadata": {},
   "outputs": [
    {
     "data": {
      "text/plain": [
       "array([1, 1, 1, 1])"
      ]
     },
     "execution_count": 55,
     "metadata": {},
     "output_type": "execute_result"
    }
   ],
   "source": [
    "np.ones(4,dtype=int)"
   ]
  },
  {
   "cell_type": "code",
   "execution_count": 56,
   "id": "7d268268-e22b-48a5-970e-9fd6e450d97f",
   "metadata": {},
   "outputs": [
    {
     "data": {
      "text/plain": [
       "(5, 7)"
      ]
     },
     "execution_count": 56,
     "metadata": {},
     "output_type": "execute_result"
    }
   ],
   "source": [
    "n"
   ]
  },
  {
   "cell_type": "code",
   "execution_count": 57,
   "id": "e95edb18-9704-48e2-ba77-78dd2ac70ad4",
   "metadata": {},
   "outputs": [
    {
     "data": {
      "text/plain": [
       "array([1., 1., 1., 1.])"
      ]
     },
     "execution_count": 57,
     "metadata": {},
     "output_type": "execute_result"
    }
   ],
   "source": [
    "np.ones(4)"
   ]
  },
  {
   "cell_type": "code",
   "execution_count": 58,
   "id": "54d73569-6a07-4445-b1b0-325a1c46c483",
   "metadata": {},
   "outputs": [
    {
     "data": {
      "text/plain": [
       "array([[1., 1., 1., 1., 1., 1., 1.],\n",
       "       [1., 1., 1., 1., 1., 1., 1.],\n",
       "       [1., 1., 1., 1., 1., 1., 1.],\n",
       "       [1., 1., 1., 1., 1., 1., 1.],\n",
       "       [1., 1., 1., 1., 1., 1., 1.]])"
      ]
     },
     "execution_count": 58,
     "metadata": {},
     "output_type": "execute_result"
    }
   ],
   "source": [
    "np.ones(n)"
   ]
  },
  {
   "cell_type": "code",
   "execution_count": 59,
   "id": "62b35315-90e4-46e8-9b2d-3fba9d249347",
   "metadata": {},
   "outputs": [
    {
     "data": {
      "text/plain": [
       "(5, 7)"
      ]
     },
     "execution_count": 59,
     "metadata": {},
     "output_type": "execute_result"
    }
   ],
   "source": [
    "n"
   ]
  },
  {
   "cell_type": "code",
   "execution_count": 60,
   "id": "0d88d89d-8c3d-4910-82b3-736d60a68169",
   "metadata": {},
   "outputs": [
    {
     "data": {
      "text/plain": [
       "array([[1., 1., 1., 1., 1., 1., 1., 1.],\n",
       "       [1., 1., 1., 1., 1., 1., 1., 1.],\n",
       "       [1., 1., 1., 1., 1., 1., 1., 1.],\n",
       "       [1., 1., 1., 1., 1., 1., 1., 1.]])"
      ]
     },
     "execution_count": 60,
     "metadata": {},
     "output_type": "execute_result"
    }
   ],
   "source": [
    "np.ones(n1)"
   ]
  },
  {
   "cell_type": "code",
   "execution_count": 61,
   "id": "d266929e-9922-42fc-9941-85cbcf51b619",
   "metadata": {},
   "outputs": [
    {
     "data": {
      "text/plain": [
       "array([[0., 0., 0., 0., 0., 0., 0.],\n",
       "       [0., 0., 0., 0., 0., 0., 0.],\n",
       "       [0., 0., 0., 0., 0., 0., 0.],\n",
       "       [0., 0., 0., 0., 0., 0., 0.],\n",
       "       [0., 0., 0., 0., 0., 0., 0.]])"
      ]
     },
     "execution_count": 61,
     "metadata": {},
     "output_type": "execute_result"
    }
   ],
   "source": [
    "np.zeros(n)"
   ]
  },
  {
   "cell_type": "code",
   "execution_count": 62,
   "id": "e590df67-4dc3-470e-9b1c-962fa96be21c",
   "metadata": {},
   "outputs": [
    {
     "data": {
      "text/plain": [
       "array([[1., 1., 1., 1., 1.],\n",
       "       [1., 1., 1., 1., 1.],\n",
       "       [1., 1., 1., 1., 1.]])"
      ]
     },
     "execution_count": 62,
     "metadata": {},
     "output_type": "execute_result"
    }
   ],
   "source": [
    "ar=np.ones([3,5])\n",
    "ar"
   ]
  },
  {
   "cell_type": "code",
   "execution_count": 63,
   "id": "f6821f8b-61d1-4b21-8c17-656db2804d8f",
   "metadata": {},
   "outputs": [
    {
     "data": {
      "text/plain": [
       "array([[1, 1, 1, 1, 1, 1],\n",
       "       [1, 1, 1, 1, 1, 1],\n",
       "       [1, 1, 1, 1, 1, 1],\n",
       "       [1, 1, 1, 1, 1, 1],\n",
       "       [1, 1, 1, 1, 1, 1]])"
      ]
     },
     "execution_count": 63,
     "metadata": {},
     "output_type": "execute_result"
    }
   ],
   "source": [
    "np.ones((5,6),dtype=int)"
   ]
  },
  {
   "cell_type": "code",
   "execution_count": 64,
   "id": "f2a092a7-4871-43ed-b70d-0ca3a8f59bb0",
   "metadata": {},
   "outputs": [
    {
     "data": {
      "text/plain": [
       "array([[[1., 1., 1.],\n",
       "        [1., 1., 1.],\n",
       "        [1., 1., 1.],\n",
       "        [1., 1., 1.],\n",
       "        [1., 1., 1.],\n",
       "        [1., 1., 1.],\n",
       "        [1., 1., 1.],\n",
       "        [1., 1., 1.],\n",
       "        [1., 1., 1.],\n",
       "        [1., 1., 1.],\n",
       "        [1., 1., 1.],\n",
       "        [1., 1., 1.],\n",
       "        [1., 1., 1.],\n",
       "        [1., 1., 1.],\n",
       "        [1., 1., 1.]]])"
      ]
     },
     "execution_count": 64,
     "metadata": {},
     "output_type": "execute_result"
    }
   ],
   "source": [
    "np.ones((1,15,3))"
   ]
  },
  {
   "cell_type": "code",
   "execution_count": 65,
   "id": "85f81f89-974d-47e8-a5fa-f4423a53fbc4",
   "metadata": {},
   "outputs": [
    {
     "data": {
      "text/plain": [
       "array([[[1., 1., 1., 1.],\n",
       "        [1., 1., 1., 1.],\n",
       "        [1., 1., 1., 1.],\n",
       "        [1., 1., 1., 1.],\n",
       "        [1., 1., 1., 1.],\n",
       "        [1., 1., 1., 1.]],\n",
       "\n",
       "       [[1., 1., 1., 1.],\n",
       "        [1., 1., 1., 1.],\n",
       "        [1., 1., 1., 1.],\n",
       "        [1., 1., 1., 1.],\n",
       "        [1., 1., 1., 1.],\n",
       "        [1., 1., 1., 1.]]])"
      ]
     },
     "execution_count": 65,
     "metadata": {},
     "output_type": "execute_result"
    }
   ],
   "source": [
    "np.ones((2,6,4))"
   ]
  },
  {
   "cell_type": "code",
   "execution_count": 66,
   "id": "fcbc0fdb-6a24-4229-a613-de9a7fe67d5c",
   "metadata": {},
   "outputs": [
    {
     "name": "stdout",
     "output_type": "stream",
     "text": [
      "<class 'numpy.ndarray'>\n"
     ]
    }
   ],
   "source": [
    "print(type(ar))"
   ]
  },
  {
   "cell_type": "code",
   "execution_count": 67,
   "id": "da0f9efe-4329-4b73-9b17-d9be14a3245a",
   "metadata": {},
   "outputs": [
    {
     "data": {
      "text/plain": [
       "array([0.65900578, 0.90036833, 0.57837634, 0.54646409, 0.09946156])"
      ]
     },
     "execution_count": 67,
     "metadata": {},
     "output_type": "execute_result"
    }
   ],
   "source": [
    "np.random.rand(5)"
   ]
  },
  {
   "cell_type": "code",
   "execution_count": 68,
   "id": "ef4520f2-a810-4d71-9769-b25bc794b297",
   "metadata": {},
   "outputs": [
    {
     "data": {
      "text/plain": [
       "array([0.95204164, 0.20594831, 0.48325158])"
      ]
     },
     "execution_count": 68,
     "metadata": {},
     "output_type": "execute_result"
    }
   ],
   "source": [
    "np.random.rand(3)"
   ]
  },
  {
   "cell_type": "code",
   "execution_count": 69,
   "id": "b57d7297-d852-47d2-87cc-87c4fd11bbad",
   "metadata": {},
   "outputs": [
    {
     "data": {
      "text/plain": [
       "array([[0.36610018, 0.11667807],\n",
       "       [0.28684878, 0.06487947]])"
      ]
     },
     "execution_count": 69,
     "metadata": {},
     "output_type": "execute_result"
    }
   ],
   "source": [
    "np.random.rand(2,2)"
   ]
  },
  {
   "cell_type": "code",
   "execution_count": 70,
   "id": "9a662c51-bf45-4647-adbe-450676f79436",
   "metadata": {},
   "outputs": [
    {
     "data": {
      "text/plain": [
       "array([[0.9750669 , 0.76816544, 0.78922556, 0.03071196],\n",
       "       [0.80817752, 0.78738695, 0.01926895, 0.20443741]])"
      ]
     },
     "execution_count": 70,
     "metadata": {},
     "output_type": "execute_result"
    }
   ],
   "source": [
    "np.random.rand(2,4)"
   ]
  },
  {
   "cell_type": "code",
   "execution_count": 71,
   "id": "cb7a1b68-a359-41b7-9350-06ed63561881",
   "metadata": {},
   "outputs": [
    {
     "data": {
      "text/plain": [
       "5"
      ]
     },
     "execution_count": 71,
     "metadata": {},
     "output_type": "execute_result"
    }
   ],
   "source": [
    "np.random.randint(0,9)"
   ]
  },
  {
   "cell_type": "code",
   "execution_count": 72,
   "id": "d5b47247-c030-41d3-836e-2695e5c2ba80",
   "metadata": {},
   "outputs": [
    {
     "data": {
      "text/plain": [
       "52"
      ]
     },
     "execution_count": 72,
     "metadata": {},
     "output_type": "execute_result"
    }
   ],
   "source": [
    "np.random.randint(100)"
   ]
  },
  {
   "cell_type": "code",
   "execution_count": 73,
   "id": "e16bca06-ad7c-461c-9f39-256f0f72b4ee",
   "metadata": {},
   "outputs": [
    {
     "data": {
      "text/plain": [
       "21"
      ]
     },
     "execution_count": 73,
     "metadata": {},
     "output_type": "execute_result"
    }
   ],
   "source": [
    "np.random.randint(10,50)"
   ]
  },
  {
   "cell_type": "code",
   "execution_count": 74,
   "id": "b11ce209-2dae-48a3-bfd8-ec0036e4a78d",
   "metadata": {},
   "outputs": [
    {
     "data": {
      "text/plain": [
       "array([10, 20, 24, 30])"
      ]
     },
     "execution_count": 74,
     "metadata": {},
     "output_type": "execute_result"
    }
   ],
   "source": [
    "np.array([10,20,24,30])"
   ]
  },
  {
   "cell_type": "code",
   "execution_count": 75,
   "id": "2def4828-5ba7-4848-8e7a-082564276228",
   "metadata": {},
   "outputs": [
    {
     "data": {
      "text/plain": [
       "array([[[0., 0., 0., 0.],\n",
       "        [0., 0., 0., 0.],\n",
       "        [0., 0., 0., 0.],\n",
       "        [0., 0., 0., 0.],\n",
       "        [0., 0., 0., 0.],\n",
       "        [0., 0., 0., 0.]],\n",
       "\n",
       "       [[0., 0., 0., 0.],\n",
       "        [0., 0., 0., 0.],\n",
       "        [0., 0., 0., 0.],\n",
       "        [0., 0., 0., 0.],\n",
       "        [0., 0., 0., 0.],\n",
       "        [0., 0., 0., 0.]]])"
      ]
     },
     "execution_count": 75,
     "metadata": {},
     "output_type": "execute_result"
    }
   ],
   "source": [
    "np.zeros((2,6,4))"
   ]
  },
  {
   "cell_type": "code",
   "execution_count": 76,
   "id": "8d6a7511-7b63-44b2-8ed7-8b809b15c1e4",
   "metadata": {},
   "outputs": [
    {
     "ename": "AttributeError",
     "evalue": "module 'numpy' has no attribute 'twos'",
     "output_type": "error",
     "traceback": [
      "\u001b[1;31m---------------------------------------------------------------------------\u001b[0m",
      "\u001b[1;31mAttributeError\u001b[0m                            Traceback (most recent call last)",
      "Cell \u001b[1;32mIn[76], line 1\u001b[0m\n\u001b[1;32m----> 1\u001b[0m \u001b[43mnp\u001b[49m\u001b[38;5;241;43m.\u001b[39;49m\u001b[43mtwos\u001b[49m((\u001b[38;5;241m2\u001b[39m,\u001b[38;5;241m3\u001b[39m))\n",
      "File \u001b[1;32m~\\AppData\\Roaming\\Python\\Python312\\site-packages\\numpy\\__init__.py:347\u001b[0m, in \u001b[0;36m__getattr__\u001b[1;34m(attr)\u001b[0m\n\u001b[0;32m    344\u001b[0m     \u001b[38;5;124m\"\u001b[39m\u001b[38;5;124mRemoved in NumPy 1.25.0\u001b[39m\u001b[38;5;124m\"\u001b[39m\n\u001b[0;32m    345\u001b[0m     \u001b[38;5;28;01mraise\u001b[39;00m \u001b[38;5;167;01mRuntimeError\u001b[39;00m(\u001b[38;5;124m\"\u001b[39m\u001b[38;5;124mTester was removed in NumPy 1.25.\u001b[39m\u001b[38;5;124m\"\u001b[39m)\n\u001b[1;32m--> 347\u001b[0m \u001b[38;5;28;01mraise\u001b[39;00m \u001b[38;5;167;01mAttributeError\u001b[39;00m(\u001b[38;5;124m\"\u001b[39m\u001b[38;5;124mmodule \u001b[39m\u001b[38;5;132;01m{!r}\u001b[39;00m\u001b[38;5;124m has no attribute \u001b[39m\u001b[38;5;124m\"\u001b[39m\n\u001b[0;32m    348\u001b[0m                      \u001b[38;5;124m\"\u001b[39m\u001b[38;5;132;01m{!r}\u001b[39;00m\u001b[38;5;124m\"\u001b[39m\u001b[38;5;241m.\u001b[39mformat(\u001b[38;5;18m__name__\u001b[39m, attr))\n",
      "\u001b[1;31mAttributeError\u001b[0m: module 'numpy' has no attribute 'twos'"
     ]
    }
   ],
   "source": [
    "np.twos((2,3))"
   ]
  },
  {
   "cell_type": "code",
   "execution_count": 77,
   "id": "da8c0b4e-827e-409d-b546-d39f7bb3ed20",
   "metadata": {},
   "outputs": [
    {
     "ename": "AttributeError",
     "evalue": "module 'numpy' has no attribute 'three'",
     "output_type": "error",
     "traceback": [
      "\u001b[1;31m---------------------------------------------------------------------------\u001b[0m",
      "\u001b[1;31mAttributeError\u001b[0m                            Traceback (most recent call last)",
      "Cell \u001b[1;32mIn[77], line 1\u001b[0m\n\u001b[1;32m----> 1\u001b[0m \u001b[43mnp\u001b[49m\u001b[38;5;241;43m.\u001b[39;49m\u001b[43mthree\u001b[49m((\u001b[38;5;241m3\u001b[39m,\u001b[38;5;241m2\u001b[39m))\n",
      "File \u001b[1;32m~\\AppData\\Roaming\\Python\\Python312\\site-packages\\numpy\\__init__.py:347\u001b[0m, in \u001b[0;36m__getattr__\u001b[1;34m(attr)\u001b[0m\n\u001b[0;32m    344\u001b[0m     \u001b[38;5;124m\"\u001b[39m\u001b[38;5;124mRemoved in NumPy 1.25.0\u001b[39m\u001b[38;5;124m\"\u001b[39m\n\u001b[0;32m    345\u001b[0m     \u001b[38;5;28;01mraise\u001b[39;00m \u001b[38;5;167;01mRuntimeError\u001b[39;00m(\u001b[38;5;124m\"\u001b[39m\u001b[38;5;124mTester was removed in NumPy 1.25.\u001b[39m\u001b[38;5;124m\"\u001b[39m)\n\u001b[1;32m--> 347\u001b[0m \u001b[38;5;28;01mraise\u001b[39;00m \u001b[38;5;167;01mAttributeError\u001b[39;00m(\u001b[38;5;124m\"\u001b[39m\u001b[38;5;124mmodule \u001b[39m\u001b[38;5;132;01m{!r}\u001b[39;00m\u001b[38;5;124m has no attribute \u001b[39m\u001b[38;5;124m\"\u001b[39m\n\u001b[0;32m    348\u001b[0m                      \u001b[38;5;124m\"\u001b[39m\u001b[38;5;132;01m{!r}\u001b[39;00m\u001b[38;5;124m\"\u001b[39m\u001b[38;5;241m.\u001b[39mformat(\u001b[38;5;18m__name__\u001b[39m, attr))\n",
      "\u001b[1;31mAttributeError\u001b[0m: module 'numpy' has no attribute 'three'"
     ]
    }
   ],
   "source": [
    "np.three((3,2))"
   ]
  },
  {
   "cell_type": "code",
   "execution_count": 78,
   "id": "d0700b2e-5c41-492a-92d3-a682c2155af7",
   "metadata": {},
   "outputs": [
    {
     "data": {
      "text/plain": [
       "array([[19, 15, 18, 17],\n",
       "       [19, 19, 11, 19],\n",
       "       [10, 12, 11, 15],\n",
       "       [13, 10, 19, 19],\n",
       "       [18, 18, 18, 13]])"
      ]
     },
     "execution_count": 78,
     "metadata": {},
     "output_type": "execute_result"
    }
   ],
   "source": [
    "b=np.random.randint(10,20,(5,4))\n",
    "b"
   ]
  },
  {
   "cell_type": "code",
   "execution_count": 79,
   "id": "24e8c78f-0b7b-4b65-9ec5-82f168fa384c",
   "metadata": {},
   "outputs": [
    {
     "data": {
      "text/plain": [
       "array([[19, 15, 18, 17],\n",
       "       [19, 19, 11, 19],\n",
       "       [10, 12, 11, 15],\n",
       "       [13, 10, 19, 19],\n",
       "       [18, 18, 18, 13]])"
      ]
     },
     "execution_count": 79,
     "metadata": {},
     "output_type": "execute_result"
    }
   ],
   "source": [
    "b[:]"
   ]
  },
  {
   "cell_type": "code",
   "execution_count": 80,
   "id": "d4ce6b01-9314-41de-b0e2-6d85d1ddd3ad",
   "metadata": {},
   "outputs": [
    {
     "data": {
      "text/plain": [
       "array([[19, 19, 11, 19],\n",
       "       [10, 12, 11, 15]])"
      ]
     },
     "execution_count": 80,
     "metadata": {},
     "output_type": "execute_result"
    }
   ],
   "source": [
    "b[1:3]"
   ]
  },
  {
   "cell_type": "code",
   "execution_count": 81,
   "id": "4dd5e484-9440-475c-ac82-c01c93e1f5ca",
   "metadata": {},
   "outputs": [
    {
     "data": {
      "text/plain": [
       "19"
      ]
     },
     "execution_count": 81,
     "metadata": {},
     "output_type": "execute_result"
    }
   ],
   "source": [
    "b[1,3]"
   ]
  },
  {
   "cell_type": "code",
   "execution_count": 82,
   "id": "83171c35-32b1-429a-b2be-e1e6c1341cea",
   "metadata": {},
   "outputs": [
    {
     "data": {
      "text/plain": [
       "array([[10, 12, 11, 15]])"
      ]
     },
     "execution_count": 82,
     "metadata": {},
     "output_type": "execute_result"
    }
   ],
   "source": [
    "b[2:3]"
   ]
  },
  {
   "cell_type": "code",
   "execution_count": 83,
   "id": "4f259969-8fd5-4d7d-bcf6-8e5afcb85a6d",
   "metadata": {},
   "outputs": [
    {
     "data": {
      "text/plain": [
       "array([[19, 15, 18, 17],\n",
       "       [19, 19, 11, 19],\n",
       "       [10, 12, 11, 15],\n",
       "       [13, 10, 19, 19]])"
      ]
     },
     "execution_count": 83,
     "metadata": {},
     "output_type": "execute_result"
    }
   ],
   "source": [
    "b[0:-1]"
   ]
  },
  {
   "cell_type": "markdown",
   "id": "0054d4e4-9333-4de7-8f99-f6f52f454ffa",
   "metadata": {},
   "source": [
    "# importing numpy in another format (from numpy import *)"
   ]
  },
  {
   "cell_type": "code",
   "execution_count": 84,
   "id": "a01f0811-494e-46c6-85ab-8a2b0da3bb18",
   "metadata": {},
   "outputs": [],
   "source": [
    "from numpy import *   #internally it called all 217 functionality"
   ]
  },
  {
   "cell_type": "code",
   "execution_count": 85,
   "id": "72f95ce7-c781-4aa8-be74-43af2d101c70",
   "metadata": {},
   "outputs": [
    {
     "data": {
      "text/plain": [
       "array([0, 1, 2, 3, 4, 5, 6, 7, 8, 9])"
      ]
     },
     "execution_count": 85,
     "metadata": {},
     "output_type": "execute_result"
    }
   ],
   "source": [
    "arange(10)"
   ]
  },
  {
   "cell_type": "code",
   "execution_count": 86,
   "id": "9721fd2f-3df5-4a4e-9422-6810152dde22",
   "metadata": {},
   "outputs": [
    {
     "data": {
      "text/plain": [
       "array([1, 2, 3, 4])"
      ]
     },
     "execution_count": 86,
     "metadata": {},
     "output_type": "execute_result"
    }
   ],
   "source": [
    "arange(1,5)"
   ]
  },
  {
   "cell_type": "code",
   "execution_count": 87,
   "id": "bd16180b-78aa-404d-a4d3-f05cc21b14ea",
   "metadata": {},
   "outputs": [
    {
     "data": {
      "text/plain": [
       "array([-20, -19, -18, -17, -16, -15, -14, -13, -12, -11, -10,  -9,  -8,\n",
       "        -7,  -6,  -5,  -4,  -3,  -2,  -1,   0,   1,   2,   3,   4,   5,\n",
       "         6,   7,   8,   9])"
      ]
     },
     "execution_count": 87,
     "metadata": {},
     "output_type": "execute_result"
    }
   ],
   "source": [
    "arange(-20,10)"
   ]
  },
  {
   "cell_type": "code",
   "execution_count": 88,
   "id": "117ebe86-e790-453c-9c1b-57ca88407efe",
   "metadata": {},
   "outputs": [
    {
     "data": {
      "text/plain": [
       "array([10, 13, 16, 19])"
      ]
     },
     "execution_count": 88,
     "metadata": {},
     "output_type": "execute_result"
    }
   ],
   "source": [
    "arange(10,20,3)"
   ]
  },
  {
   "cell_type": "code",
   "execution_count": 89,
   "id": "ea8d9b7e-7192-4d0c-bf2e-2fc517fdb177",
   "metadata": {},
   "outputs": [
    {
     "data": {
      "text/plain": [
       "array([0., 0., 0., 0., 0.])"
      ]
     },
     "execution_count": 89,
     "metadata": {},
     "output_type": "execute_result"
    }
   ],
   "source": [
    "zeros(5)"
   ]
  },
  {
   "cell_type": "code",
   "execution_count": 90,
   "id": "ddab20aa-67a6-4f5e-997d-bad7092b4c19",
   "metadata": {},
   "outputs": [
    {
     "data": {
      "text/plain": [
       "array([[0., 0., 0.],\n",
       "       [0., 0., 0.]])"
      ]
     },
     "execution_count": 90,
     "metadata": {},
     "output_type": "execute_result"
    }
   ],
   "source": [
    "zeros((2,3))"
   ]
  },
  {
   "cell_type": "code",
   "execution_count": 91,
   "id": "2b4e3ed0-1d88-4d34-ab43-c69c191fbc8a",
   "metadata": {},
   "outputs": [
    {
     "data": {
      "text/plain": [
       "range(0, 12)"
      ]
     },
     "execution_count": 91,
     "metadata": {},
     "output_type": "execute_result"
    }
   ],
   "source": [
    "range(12)"
   ]
  },
  {
   "cell_type": "code",
   "execution_count": 92,
   "id": "bcb37c17-51f3-4e8f-aa8d-c724447283df",
   "metadata": {},
   "outputs": [
    {
     "data": {
      "text/plain": [
       "[0, 1, 2, 3, 4, 5, 6, 7, 8, 9, 10, 11]"
      ]
     },
     "execution_count": 92,
     "metadata": {},
     "output_type": "execute_result"
    }
   ],
   "source": [
    "list(range(12))"
   ]
  },
  {
   "cell_type": "code",
   "execution_count": 93,
   "id": "584b3db1-2339-47ac-8201-309bfda4d406",
   "metadata": {},
   "outputs": [
    {
     "data": {
      "text/plain": [
       "[0, 1, 2, 3, 4, 5, 6, 7, 8]"
      ]
     },
     "execution_count": 93,
     "metadata": {},
     "output_type": "execute_result"
    }
   ],
   "source": [
    "y=list(range(9))\n",
    "y"
   ]
  },
  {
   "cell_type": "code",
   "execution_count": 94,
   "id": "319c9d35-3141-49a8-a4b5-9d960d15a788",
   "metadata": {},
   "outputs": [
    {
     "data": {
      "text/plain": [
       "[0,\n",
       " 1,\n",
       " 2,\n",
       " 3,\n",
       " 4,\n",
       " 5,\n",
       " 6,\n",
       " 7,\n",
       " 8,\n",
       " 9,\n",
       " 10,\n",
       " 11,\n",
       " 12,\n",
       " 13,\n",
       " 14,\n",
       " 15,\n",
       " 16,\n",
       " 17,\n",
       " 18,\n",
       " 19,\n",
       " 20,\n",
       " 21,\n",
       " 22,\n",
       " 23,\n",
       " 24,\n",
       " 25,\n",
       " 26]"
      ]
     },
     "execution_count": 94,
     "metadata": {},
     "output_type": "execute_result"
    }
   ],
   "source": [
    "surya=list(range(27))\n",
    "surya"
   ]
  },
  {
   "cell_type": "code",
   "execution_count": 95,
   "id": "b9a7ff04-3f3e-4b1b-bfe0-1c8eea3a9b7b",
   "metadata": {},
   "outputs": [
    {
     "ename": "NameError",
     "evalue": "name 'rand' is not defined",
     "output_type": "error",
     "traceback": [
      "\u001b[1;31m---------------------------------------------------------------------------\u001b[0m",
      "\u001b[1;31mNameError\u001b[0m                                 Traceback (most recent call last)",
      "Cell \u001b[1;32mIn[95], line 1\u001b[0m\n\u001b[1;32m----> 1\u001b[0m \u001b[43mrand\u001b[49m(\u001b[38;5;241m3\u001b[39m,\u001b[38;5;241m2\u001b[39m)\n",
      "\u001b[1;31mNameError\u001b[0m: name 'rand' is not defined"
     ]
    }
   ],
   "source": [
    "rand(3,2)"
   ]
  },
  {
   "cell_type": "code",
   "execution_count": 96,
   "id": "697df23c-f2ce-441c-9440-9e39acdbc0a3",
   "metadata": {},
   "outputs": [
    {
     "data": {
      "text/plain": [
       "array([[0.23945061, 0.43366017],\n",
       "       [0.25672467, 0.53442808],\n",
       "       [0.141477  , 0.23769701]])"
      ]
     },
     "execution_count": 96,
     "metadata": {},
     "output_type": "execute_result"
    }
   ],
   "source": [
    "random.rand(3,2)"
   ]
  },
  {
   "cell_type": "code",
   "execution_count": 97,
   "id": "8df8d000-c965-457e-8c91-67870c9d666d",
   "metadata": {},
   "outputs": [
    {
     "data": {
      "text/plain": [
       "array([[0.95496753, 0.90686827, 0.89012337, 0.09504053, 0.34193993],\n",
       "       [0.01852114, 0.44581096, 0.82410294, 0.3554158 , 0.99323071],\n",
       "       [0.66310394, 0.02218756, 0.58282314, 0.53442141, 0.34787126],\n",
       "       [0.90294135, 0.9626998 , 0.67477015, 0.07214422, 0.82860653]])"
      ]
     },
     "execution_count": 97,
     "metadata": {},
     "output_type": "execute_result"
    }
   ],
   "source": [
    "random.rand(4,5)"
   ]
  },
  {
   "cell_type": "code",
   "execution_count": 98,
   "id": "abc60cbd-955f-4989-8a00-17362e028a4d",
   "metadata": {},
   "outputs": [
    {
     "data": {
      "text/plain": [
       "array([0.81551044, 0.64220185, 0.71525228])"
      ]
     },
     "execution_count": 98,
     "metadata": {},
     "output_type": "execute_result"
    }
   ],
   "source": [
    "random.rand(3)"
   ]
  },
  {
   "cell_type": "code",
   "execution_count": 99,
   "id": "75af16bf-e89f-46eb-ba79-05ce2a5fb80e",
   "metadata": {},
   "outputs": [
    {
     "data": {
      "text/plain": [
       "array([0.71315325, 0.37199763, 0.10643752])"
      ]
     },
     "execution_count": 99,
     "metadata": {},
     "output_type": "execute_result"
    }
   ],
   "source": [
    "np.random.rand(3)"
   ]
  },
  {
   "cell_type": "code",
   "execution_count": 100,
   "id": "12729d85-387c-469f-a20d-a846aba457f5",
   "metadata": {},
   "outputs": [
    {
     "ename": "AttributeError",
     "evalue": "module 'numpy' has no attribute 'rand'",
     "output_type": "error",
     "traceback": [
      "\u001b[1;31m---------------------------------------------------------------------------\u001b[0m",
      "\u001b[1;31mAttributeError\u001b[0m                            Traceback (most recent call last)",
      "Cell \u001b[1;32mIn[100], line 1\u001b[0m\n\u001b[1;32m----> 1\u001b[0m \u001b[43mnp\u001b[49m\u001b[38;5;241;43m.\u001b[39;49m\u001b[43mrand\u001b[49m(\u001b[38;5;241m4\u001b[39m)\n",
      "File \u001b[1;32m~\\AppData\\Roaming\\Python\\Python312\\site-packages\\numpy\\__init__.py:347\u001b[0m, in \u001b[0;36m__getattr__\u001b[1;34m(attr)\u001b[0m\n\u001b[0;32m    344\u001b[0m     \u001b[38;5;124m\"\u001b[39m\u001b[38;5;124mRemoved in NumPy 1.25.0\u001b[39m\u001b[38;5;124m\"\u001b[39m\n\u001b[0;32m    345\u001b[0m     \u001b[38;5;28;01mraise\u001b[39;00m \u001b[38;5;167;01mRuntimeError\u001b[39;00m(\u001b[38;5;124m\"\u001b[39m\u001b[38;5;124mTester was removed in NumPy 1.25.\u001b[39m\u001b[38;5;124m\"\u001b[39m)\n\u001b[1;32m--> 347\u001b[0m \u001b[38;5;28;01mraise\u001b[39;00m \u001b[38;5;167;01mAttributeError\u001b[39;00m(\u001b[38;5;124m\"\u001b[39m\u001b[38;5;124mmodule \u001b[39m\u001b[38;5;132;01m{!r}\u001b[39;00m\u001b[38;5;124m has no attribute \u001b[39m\u001b[38;5;124m\"\u001b[39m\n\u001b[0;32m    348\u001b[0m                      \u001b[38;5;124m\"\u001b[39m\u001b[38;5;132;01m{!r}\u001b[39;00m\u001b[38;5;124m\"\u001b[39m\u001b[38;5;241m.\u001b[39mformat(\u001b[38;5;18m__name__\u001b[39m, attr))\n",
      "\u001b[1;31mAttributeError\u001b[0m: module 'numpy' has no attribute 'rand'"
     ]
    }
   ],
   "source": [
    "np.rand(4)"
   ]
  },
  {
   "cell_type": "code",
   "execution_count": 101,
   "id": "39f42f55-fb48-44b7-b181-362ef50409bc",
   "metadata": {},
   "outputs": [
    {
     "data": {
      "text/plain": [
       "array([0.00167558, 0.12027827, 0.34344175, 0.40518407, 0.90807942])"
      ]
     },
     "execution_count": 101,
     "metadata": {},
     "output_type": "execute_result"
    }
   ],
   "source": [
    "random.rand(5)"
   ]
  },
  {
   "cell_type": "code",
   "execution_count": 102,
   "id": "99246e99-06af-4de5-90ac-e0ea02644a84",
   "metadata": {},
   "outputs": [
    {
     "data": {
      "text/plain": [
       "7"
      ]
     },
     "execution_count": 102,
     "metadata": {},
     "output_type": "execute_result"
    }
   ],
   "source": [
    "np.random.randint(10)"
   ]
  },
  {
   "cell_type": "code",
   "execution_count": 103,
   "id": "cc33dde2-ebef-41e9-86b4-398bf965406b",
   "metadata": {},
   "outputs": [
    {
     "data": {
      "text/plain": [
       "8"
      ]
     },
     "execution_count": 103,
     "metadata": {},
     "output_type": "execute_result"
    }
   ],
   "source": [
    "np.random.randint(2,10)"
   ]
  },
  {
   "cell_type": "code",
   "execution_count": 104,
   "id": "68c01ba6-24c0-4fec-83dd-6adbb563d23f",
   "metadata": {},
   "outputs": [
    {
     "data": {
      "text/plain": [
       "29"
      ]
     },
     "execution_count": 104,
     "metadata": {},
     "output_type": "execute_result"
    }
   ],
   "source": [
    "random.randint(2,50)"
   ]
  },
  {
   "cell_type": "code",
   "execution_count": 105,
   "id": "c149b687-f0a0-492b-a888-9c5df1d8fccf",
   "metadata": {},
   "outputs": [
    {
     "data": {
      "text/plain": [
       "array([1, 4, 5])"
      ]
     },
     "execution_count": 105,
     "metadata": {},
     "output_type": "execute_result"
    }
   ],
   "source": [
    "np.random.randint(1,10,3)"
   ]
  },
  {
   "cell_type": "code",
   "execution_count": 106,
   "id": "15b58673-aefb-4449-890a-36fc9b3706a8",
   "metadata": {},
   "outputs": [
    {
     "data": {
      "text/plain": [
       "array([16,  5, 19,  9, 16])"
      ]
     },
     "execution_count": 106,
     "metadata": {},
     "output_type": "execute_result"
    }
   ],
   "source": [
    "random.randint(1,20,5)"
   ]
  },
  {
   "cell_type": "code",
   "execution_count": 107,
   "id": "2a22e057-1f87-4ed0-8c14-29f625c6827f",
   "metadata": {},
   "outputs": [
    {
     "data": {
      "text/plain": [
       "array([3, 8, 8, 1, 2, 9, 6, 9, 1, 6, 4, 8, 6, 9, 7, 3, 1, 6, 6, 3])"
      ]
     },
     "execution_count": 107,
     "metadata": {},
     "output_type": "execute_result"
    }
   ],
   "source": [
    "random.randint(1,10,20)"
   ]
  },
  {
   "cell_type": "code",
   "execution_count": 108,
   "id": "c7600b45-0321-4759-a1bd-f7138602c87a",
   "metadata": {},
   "outputs": [
    {
     "data": {
      "text/plain": [
       "array([[30, 12, 38, 37, 38, 28, 21, 23, 24, 24],\n",
       "       [26, 28, 29, 26, 35, 19, 26, 29, 26, 36],\n",
       "       [24, 35, 26, 16, 36, 31, 29, 38, 18, 19],\n",
       "       [14, 33, 25, 35, 39, 27, 13, 18, 33, 11],\n",
       "       [13, 11, 21, 32, 13, 32, 10, 39, 36, 32],\n",
       "       [37, 12, 30, 24, 16, 12, 11, 26, 25, 10],\n",
       "       [24, 28, 17, 10, 26, 38, 34, 36, 25, 37],\n",
       "       [28, 31, 10, 39, 17, 28, 10, 19, 11, 22],\n",
       "       [22, 16, 26, 18, 39, 39, 15, 21, 27, 15],\n",
       "       [11, 38, 15, 20, 22, 39, 28, 30, 19, 19]])"
      ]
     },
     "execution_count": 108,
     "metadata": {},
     "output_type": "execute_result"
    }
   ],
   "source": [
    "random.randint(10,40,(10,10))"
   ]
  },
  {
   "cell_type": "code",
   "execution_count": 109,
   "id": "5f85b185-e183-4c1b-a490-c69809f779b4",
   "metadata": {},
   "outputs": [
    {
     "data": {
      "text/plain": [
       "7"
      ]
     },
     "execution_count": 109,
     "metadata": {},
     "output_type": "execute_result"
    }
   ],
   "source": [
    "random.randint(5,9)"
   ]
  },
  {
   "cell_type": "code",
   "execution_count": 110,
   "id": "ccd0e156-7e34-4714-9c0c-cd4884718381",
   "metadata": {},
   "outputs": [
    {
     "data": {
      "text/plain": [
       "array([[28, 15, 28, 20],\n",
       "       [16, 28, 25, 19],\n",
       "       [17, 12, 15, 11],\n",
       "       [27, 21, 16, 11]])"
      ]
     },
     "execution_count": 110,
     "metadata": {},
     "output_type": "execute_result"
    }
   ],
   "source": [
    "#generate the elements 10-30 with 4*4 matrix\n",
    "random.randint(10,30,(4,4))"
   ]
  },
  {
   "cell_type": "code",
   "execution_count": 111,
   "id": "17972c77-e4ab-4728-9f21-2dad8f9f7593",
   "metadata": {},
   "outputs": [
    {
     "data": {
      "text/plain": [
       "array([[17, 12, 13, 17],\n",
       "       [19, 16, 13, 14],\n",
       "       [11, 10, 13, 18],\n",
       "       [13, 12, 14, 18],\n",
       "       [12, 18, 14, 10]])"
      ]
     },
     "execution_count": 111,
     "metadata": {},
     "output_type": "execute_result"
    }
   ],
   "source": [
    "b=random.randint(10,20,(5,4))\n",
    "b"
   ]
  },
  {
   "cell_type": "code",
   "execution_count": 112,
   "id": "ae9f829d-c6a9-404c-8be5-b26679df5906",
   "metadata": {},
   "outputs": [
    {
     "data": {
      "text/plain": [
       "array([[17, 12, 13, 17],\n",
       "       [19, 16, 13, 14],\n",
       "       [11, 10, 13, 18],\n",
       "       [13, 12, 14, 18],\n",
       "       [12, 18, 14, 10]])"
      ]
     },
     "execution_count": 112,
     "metadata": {},
     "output_type": "execute_result"
    }
   ],
   "source": [
    "b[:]"
   ]
  },
  {
   "cell_type": "code",
   "execution_count": 113,
   "id": "940d9b31-aa80-4b91-a968-3f42b930d2ee",
   "metadata": {},
   "outputs": [
    {
     "data": {
      "text/plain": [
       "array([[17, 12, 13, 17],\n",
       "       [19, 16, 13, 14]])"
      ]
     },
     "execution_count": 113,
     "metadata": {},
     "output_type": "execute_result"
    }
   ],
   "source": [
    "b[0:2]"
   ]
  },
  {
   "cell_type": "code",
   "execution_count": 114,
   "id": "9c87f6fa-9298-4dcc-9e3f-b1b9722cd42c",
   "metadata": {},
   "outputs": [
    {
     "data": {
      "text/plain": [
       "array([[17, 12, 13, 17],\n",
       "       [19, 16, 13, 14],\n",
       "       [11, 10, 13, 18],\n",
       "       [13, 12, 14, 18],\n",
       "       [12, 18, 14, 10]])"
      ]
     },
     "execution_count": 114,
     "metadata": {},
     "output_type": "execute_result"
    }
   ],
   "source": [
    "b"
   ]
  },
  {
   "cell_type": "code",
   "execution_count": 115,
   "id": "9974c563-c1a8-43cf-ba65-458140aef01c",
   "metadata": {},
   "outputs": [
    {
     "data": {
      "text/plain": [
       "array([[17, 12, 13, 17],\n",
       "       [19, 16, 13, 14],\n",
       "       [11, 10, 13, 18],\n",
       "       [13, 12, 14, 18]])"
      ]
     },
     "execution_count": 115,
     "metadata": {},
     "output_type": "execute_result"
    }
   ],
   "source": [
    "b[0:-1]  #0 to (n-1)--(-1-1=-2 so it will print 0th index to -2)"
   ]
  },
  {
   "cell_type": "code",
   "execution_count": 116,
   "id": "c915b9a0-f2fb-480f-996b-40d9975bb17d",
   "metadata": {},
   "outputs": [
    {
     "data": {
      "text/plain": [
       "array([[17, 12, 13, 17],\n",
       "       [19, 16, 13, 14],\n",
       "       [11, 10, 13, 18],\n",
       "       [13, 12, 14, 18],\n",
       "       [12, 18, 14, 10]])"
      ]
     },
     "execution_count": 116,
     "metadata": {},
     "output_type": "execute_result"
    }
   ],
   "source": [
    "b"
   ]
  },
  {
   "cell_type": "code",
   "execution_count": 117,
   "id": "118de8ba-3963-4402-bab5-e8e7fe402d92",
   "metadata": {},
   "outputs": [
    {
     "data": {
      "text/plain": [
       "13"
      ]
     },
     "execution_count": 117,
     "metadata": {},
     "output_type": "execute_result"
    }
   ],
   "source": [
    "b[0,2]"
   ]
  },
  {
   "cell_type": "code",
   "execution_count": 118,
   "id": "6e79b0bb-e203-4b84-a0a5-9f78e2f2b831",
   "metadata": {},
   "outputs": [
    {
     "data": {
      "text/plain": [
       "array([[19, 16, 13, 14],\n",
       "       [11, 10, 13, 18]])"
      ]
     },
     "execution_count": 118,
     "metadata": {},
     "output_type": "execute_result"
    }
   ],
   "source": [
    "b[1:3]"
   ]
  },
  {
   "cell_type": "code",
   "execution_count": 119,
   "id": "50acc30c-61b7-473f-891a-827b25a6cc14",
   "metadata": {},
   "outputs": [
    {
     "data": {
      "text/plain": [
       "array([[17, 12, 13, 17],\n",
       "       [19, 16, 13, 14],\n",
       "       [11, 10, 13, 18],\n",
       "       [13, 12, 14, 18],\n",
       "       [12, 18, 14, 10]])"
      ]
     },
     "execution_count": 119,
     "metadata": {},
     "output_type": "execute_result"
    }
   ],
   "source": [
    "b[0:7]"
   ]
  },
  {
   "cell_type": "code",
   "execution_count": 120,
   "id": "2c7c22a3-15da-477f-be51-a7dab9a062ac",
   "metadata": {},
   "outputs": [
    {
     "data": {
      "text/plain": [
       "array([[17, 12, 13, 17],\n",
       "       [19, 16, 13, 14]])"
      ]
     },
     "execution_count": 120,
     "metadata": {},
     "output_type": "execute_result"
    }
   ],
   "source": [
    "b[:2]"
   ]
  },
  {
   "cell_type": "code",
   "execution_count": 121,
   "id": "b1859b95-0284-4184-b92d-204a51fd6271",
   "metadata": {},
   "outputs": [
    {
     "data": {
      "text/plain": [
       "array([[13, 12, 14, 18],\n",
       "       [12, 18, 14, 10]])"
      ]
     },
     "execution_count": 121,
     "metadata": {},
     "output_type": "execute_result"
    }
   ],
   "source": [
    "b[3:]"
   ]
  },
  {
   "cell_type": "code",
   "execution_count": 122,
   "id": "999aee26-f596-4d39-b205-0ce9c6deb082",
   "metadata": {},
   "outputs": [
    {
     "data": {
      "text/plain": [
       "array([11, 10, 13, 18])"
      ]
     },
     "execution_count": 122,
     "metadata": {},
     "output_type": "execute_result"
    }
   ],
   "source": [
    "b[2] #by default it consider row"
   ]
  },
  {
   "cell_type": "code",
   "execution_count": 123,
   "id": "ec0bec5f-dee6-49c0-8070-518943c653da",
   "metadata": {},
   "outputs": [
    {
     "data": {
      "text/plain": [
       "array([12, 18, 14, 10])"
      ]
     },
     "execution_count": 123,
     "metadata": {},
     "output_type": "execute_result"
    }
   ],
   "source": [
    "b[4,]"
   ]
  },
  {
   "cell_type": "code",
   "execution_count": 124,
   "id": "cf21c73b-b704-471a-b3e5-0c19b0fc80e8",
   "metadata": {},
   "outputs": [
    {
     "data": {
      "text/plain": [
       "12"
      ]
     },
     "execution_count": 124,
     "metadata": {},
     "output_type": "execute_result"
    }
   ],
   "source": [
    "b[4,0]"
   ]
  },
  {
   "cell_type": "code",
   "execution_count": 125,
   "id": "52ee3b03-c18f-4664-a805-781a4d1ee3ac",
   "metadata": {},
   "outputs": [
    {
     "data": {
      "text/plain": [
       "array([[18, 19, 14, 19],\n",
       "       [15, 13, 14, 14],\n",
       "       [19, 19, 14, 18],\n",
       "       [15, 14, 17, 11]])"
      ]
     },
     "execution_count": 125,
     "metadata": {},
     "output_type": "execute_result"
    }
   ],
   "source": [
    "random.randint(10,20,(4,4))"
   ]
  },
  {
   "cell_type": "markdown",
   "id": "3b7fb120-9603-4d4b-aac5-75e975364e6b",
   "metadata": {},
   "source": [
    "# Operations"
   ]
  },
  {
   "cell_type": "code",
   "execution_count": 126,
   "id": "28f21ff8-8c89-45c1-9140-909c205a03a6",
   "metadata": {},
   "outputs": [
    {
     "data": {
      "text/plain": [
       "array([18, 10, 17, 12, 14])"
      ]
     },
     "execution_count": 126,
     "metadata": {},
     "output_type": "execute_result"
    }
   ],
   "source": [
    " a=random.randint(10,20,5)\n",
    "a"
   ]
  },
  {
   "cell_type": "code",
   "execution_count": 127,
   "id": "d62c1a94-d302-46c8-8bc4-d653feb63d4c",
   "metadata": {},
   "outputs": [
    {
     "data": {
      "text/plain": [
       "array([0, 1, 2, 3, 4, 5])"
      ]
     },
     "execution_count": 127,
     "metadata": {},
     "output_type": "execute_result"
    }
   ],
   "source": [
    "arr"
   ]
  },
  {
   "cell_type": "code",
   "execution_count": 128,
   "id": "c32f3e8f-a9ea-42f3-a71d-5b55f50d4773",
   "metadata": {},
   "outputs": [
    {
     "data": {
      "text/plain": [
       "array([[48, 90, 27, 66, 20, 81, 52, 93, 64, 82],\n",
       "       [31, 80, 21,  7,  0,  0, 37, 97, 80, 64],\n",
       "       [53, 34,  6, 18, 82, 26, 52,  3, 79,  6],\n",
       "       [31, 78, 38, 54, 92, 96,  1,  7, 69, 56],\n",
       "       [99, 57,  3, 45, 19, 61, 94,  7, 87, 31],\n",
       "       [11, 67, 14, 15, 30, 59, 84, 16, 21, 38],\n",
       "       [54, 55, 56, 43, 84, 24, 34, 92, 56, 65],\n",
       "       [70, 98, 37, 93, 75, 49, 35, 74, 17, 41],\n",
       "       [12, 90, 37, 95, 98, 11, 96,  3, 90, 16],\n",
       "       [88, 51,  3, 43, 34, 60,  1, 42, 93,  4]])"
      ]
     },
     "execution_count": 128,
     "metadata": {},
     "output_type": "execute_result"
    }
   ],
   "source": [
    "arr2=random.randint(0,100,(10,10))\n",
    "arr2"
   ]
  },
  {
   "cell_type": "code",
   "execution_count": 129,
   "id": "b59b36c7-c27b-4212-a79a-944a1aa052b0",
   "metadata": {},
   "outputs": [
    {
     "data": {
      "text/plain": [
       "array([0, 1, 2, 3, 4, 5])"
      ]
     },
     "execution_count": 129,
     "metadata": {},
     "output_type": "execute_result"
    }
   ],
   "source": [
    "arr\n"
   ]
  },
  {
   "cell_type": "code",
   "execution_count": 130,
   "id": "a2cfae9b-651d-44c5-acbd-7a783b267800",
   "metadata": {},
   "outputs": [
    {
     "data": {
      "text/plain": [
       "array([0, 1, 2, 3, 4, 5])"
      ]
     },
     "execution_count": 130,
     "metadata": {},
     "output_type": "execute_result"
    }
   ],
   "source": [
    "arr[:]"
   ]
  },
  {
   "cell_type": "code",
   "execution_count": 131,
   "id": "3c59c8ac-13e3-4543-bb79-4c4080379e7a",
   "metadata": {},
   "outputs": [
    {
     "data": {
      "text/plain": [
       "array([1, 2])"
      ]
     },
     "execution_count": 131,
     "metadata": {},
     "output_type": "execute_result"
    }
   ],
   "source": [
    "arr[1:3]"
   ]
  },
  {
   "cell_type": "code",
   "execution_count": 132,
   "id": "c9819c48-bf93-49d8-a1dd-3b634fa5d3f5",
   "metadata": {},
   "outputs": [
    {
     "data": {
      "text/plain": [
       "array([0, 1, 2, 3])"
      ]
     },
     "execution_count": 132,
     "metadata": {},
     "output_type": "execute_result"
    }
   ],
   "source": [
    "arr[:4]"
   ]
  },
  {
   "cell_type": "code",
   "execution_count": 133,
   "id": "4f5d32f6-83c3-44ba-ba80-1aeb203310e4",
   "metadata": {},
   "outputs": [
    {
     "data": {
      "text/plain": [
       "array([2, 3, 4, 5])"
      ]
     },
     "execution_count": 133,
     "metadata": {},
     "output_type": "execute_result"
    }
   ],
   "source": [
    "arr[2:]"
   ]
  },
  {
   "cell_type": "code",
   "execution_count": 134,
   "id": "60847362-6d3b-4621-9545-aef00b2ce2de",
   "metadata": {},
   "outputs": [
    {
     "data": {
      "text/plain": [
       "array([0, 1, 2, 3, 4, 5])"
      ]
     },
     "execution_count": 134,
     "metadata": {},
     "output_type": "execute_result"
    }
   ],
   "source": [
    "arr[:]"
   ]
  },
  {
   "cell_type": "code",
   "execution_count": 135,
   "id": "b84ddc88-3048-4ecc-bef4-71cc5cae1e81",
   "metadata": {},
   "outputs": [
    {
     "data": {
      "text/plain": [
       "array([[48, 90, 27, 66, 20, 81, 52, 93, 64, 82],\n",
       "       [31, 80, 21,  7,  0,  0, 37, 97, 80, 64],\n",
       "       [53, 34,  6, 18, 82, 26, 52,  3, 79,  6],\n",
       "       [31, 78, 38, 54, 92, 96,  1,  7, 69, 56],\n",
       "       [99, 57,  3, 45, 19, 61, 94,  7, 87, 31],\n",
       "       [11, 67, 14, 15, 30, 59, 84, 16, 21, 38],\n",
       "       [54, 55, 56, 43, 84, 24, 34, 92, 56, 65],\n",
       "       [70, 98, 37, 93, 75, 49, 35, 74, 17, 41],\n",
       "       [12, 90, 37, 95, 98, 11, 96,  3, 90, 16],\n",
       "       [88, 51,  3, 43, 34, 60,  1, 42, 93,  4]])"
      ]
     },
     "execution_count": 135,
     "metadata": {},
     "output_type": "execute_result"
    }
   ],
   "source": [
    "arr2[:]"
   ]
  },
  {
   "cell_type": "code",
   "execution_count": 136,
   "id": "d47ad0c6-3a12-4dfe-95f9-19448809792e",
   "metadata": {},
   "outputs": [
    {
     "data": {
      "text/plain": [
       "array([[48, 90, 27, 66, 20, 81, 52, 93, 64, 82],\n",
       "       [31, 80, 21,  7,  0,  0, 37, 97, 80, 64],\n",
       "       [53, 34,  6, 18, 82, 26, 52,  3, 79,  6],\n",
       "       [31, 78, 38, 54, 92, 96,  1,  7, 69, 56],\n",
       "       [99, 57,  3, 45, 19, 61, 94,  7, 87, 31]])"
      ]
     },
     "execution_count": 136,
     "metadata": {},
     "output_type": "execute_result"
    }
   ],
   "source": [
    "arr2[0:5]"
   ]
  },
  {
   "cell_type": "code",
   "execution_count": 137,
   "id": "d0612c01-7685-46b1-9061-d19be0d8f38a",
   "metadata": {},
   "outputs": [
    {
     "data": {
      "text/plain": [
       "array([[48, 90, 27, 66, 20, 81, 52, 93, 64, 82],\n",
       "       [31, 80, 21,  7,  0,  0, 37, 97, 80, 64],\n",
       "       [53, 34,  6, 18, 82, 26, 52,  3, 79,  6],\n",
       "       [31, 78, 38, 54, 92, 96,  1,  7, 69, 56],\n",
       "       [99, 57,  3, 45, 19, 61, 94,  7, 87, 31],\n",
       "       [11, 67, 14, 15, 30, 59, 84, 16, 21, 38],\n",
       "       [54, 55, 56, 43, 84, 24, 34, 92, 56, 65],\n",
       "       [70, 98, 37, 93, 75, 49, 35, 74, 17, 41],\n",
       "       [12, 90, 37, 95, 98, 11, 96,  3, 90, 16],\n",
       "       [88, 51,  3, 43, 34, 60,  1, 42, 93,  4]])"
      ]
     },
     "execution_count": 137,
     "metadata": {},
     "output_type": "execute_result"
    }
   ],
   "source": [
    "arr2"
   ]
  },
  {
   "cell_type": "code",
   "execution_count": 138,
   "id": "be00819a-76a2-4769-b3fd-01f2b8b5cf48",
   "metadata": {},
   "outputs": [
    {
     "data": {
      "text/plain": [
       "array([[48, 90, 27, 66, 20, 81, 52, 93, 64, 82],\n",
       "       [31, 80, 21,  7,  0,  0, 37, 97, 80, 64],\n",
       "       [53, 34,  6, 18, 82, 26, 52,  3, 79,  6],\n",
       "       [31, 78, 38, 54, 92, 96,  1,  7, 69, 56],\n",
       "       [99, 57,  3, 45, 19, 61, 94,  7, 87, 31],\n",
       "       [11, 67, 14, 15, 30, 59, 84, 16, 21, 38],\n",
       "       [54, 55, 56, 43, 84, 24, 34, 92, 56, 65],\n",
       "       [70, 98, 37, 93, 75, 49, 35, 74, 17, 41],\n",
       "       [12, 90, 37, 95, 98, 11, 96,  3, 90, 16],\n",
       "       [88, 51,  3, 43, 34, 60,  1, 42, 93,  4]])"
      ]
     },
     "execution_count": 138,
     "metadata": {},
     "output_type": "execute_result"
    }
   ],
   "source": [
    "arr2"
   ]
  },
  {
   "cell_type": "code",
   "execution_count": 139,
   "id": "499129d1-eb00-4fb9-b595-dfec561bbea2",
   "metadata": {},
   "outputs": [
    {
     "data": {
      "text/plain": [
       "6"
      ]
     },
     "execution_count": 139,
     "metadata": {},
     "output_type": "execute_result"
    }
   ],
   "source": [
    "arr2[2,-1]"
   ]
  },
  {
   "cell_type": "code",
   "execution_count": 140,
   "id": "05305852-3e53-4a3a-a322-8e7b4273b496",
   "metadata": {},
   "outputs": [
    {
     "data": {
      "text/plain": [
       "0"
      ]
     },
     "execution_count": 140,
     "metadata": {},
     "output_type": "execute_result"
    }
   ],
   "source": [
    "arr2[1,5]"
   ]
  },
  {
   "cell_type": "code",
   "execution_count": 141,
   "id": "6cd1b382-0f07-4bc2-8ab6-9a5a08a4ef85",
   "metadata": {},
   "outputs": [
    {
     "data": {
      "text/plain": [
       "7"
      ]
     },
     "execution_count": 141,
     "metadata": {},
     "output_type": "execute_result"
    }
   ],
   "source": [
    "arr2[3,7]"
   ]
  },
  {
   "cell_type": "code",
   "execution_count": 142,
   "id": "100cb984-ba18-41fc-8e35-fe275ebf521e",
   "metadata": {},
   "outputs": [
    {
     "data": {
      "text/plain": [
       "array([[48, 90, 27, 66, 20, 81, 52, 93, 64, 82],\n",
       "       [31, 80, 21,  7,  0,  0, 37, 97, 80, 64],\n",
       "       [53, 34,  6, 18, 82, 26, 52,  3, 79,  6],\n",
       "       [31, 78, 38, 54, 92, 96,  1,  7, 69, 56],\n",
       "       [99, 57,  3, 45, 19, 61, 94,  7, 87, 31],\n",
       "       [11, 67, 14, 15, 30, 59, 84, 16, 21, 38],\n",
       "       [54, 55, 56, 43, 84, 24, 34, 92, 56, 65],\n",
       "       [70, 98, 37, 93, 75, 49, 35, 74, 17, 41],\n",
       "       [12, 90, 37, 95, 98, 11, 96,  3, 90, 16],\n",
       "       [88, 51,  3, 43, 34, 60,  1, 42, 93,  4]])"
      ]
     },
     "execution_count": 142,
     "metadata": {},
     "output_type": "execute_result"
    }
   ],
   "source": [
    "arr2"
   ]
  },
  {
   "cell_type": "code",
   "execution_count": 143,
   "id": "5872ad05-a071-4373-8935-d1e31c4884f2",
   "metadata": {},
   "outputs": [
    {
     "data": {
      "text/plain": [
       "14"
      ]
     },
     "execution_count": 143,
     "metadata": {},
     "output_type": "execute_result"
    }
   ],
   "source": [
    "arr2[-5,2]"
   ]
  },
  {
   "cell_type": "code",
   "execution_count": 144,
   "id": "f0751806-1eb6-46b4-bdd2-1843bc8bfa93",
   "metadata": {},
   "outputs": [
    {
     "data": {
      "text/plain": [
       "16"
      ]
     },
     "execution_count": 144,
     "metadata": {},
     "output_type": "execute_result"
    }
   ],
   "source": [
    "arr2[-5,7]"
   ]
  },
  {
   "cell_type": "code",
   "execution_count": 145,
   "id": "ce3cd5de-0138-4803-bd47-d24e1f1970c7",
   "metadata": {},
   "outputs": [
    {
     "data": {
      "text/plain": [
       "98"
      ]
     },
     "execution_count": 145,
     "metadata": {},
     "output_type": "execute_result"
    }
   ],
   "source": [
    "arr2[-3,-9]"
   ]
  },
  {
   "cell_type": "code",
   "execution_count": 146,
   "id": "d1db020e-f9b8-4a34-9a78-bb8364e82f53",
   "metadata": {},
   "outputs": [
    {
     "data": {
      "text/plain": [
       "93"
      ]
     },
     "execution_count": 146,
     "metadata": {},
     "output_type": "execute_result"
    }
   ],
   "source": [
    "arr2[7,-7]"
   ]
  },
  {
   "cell_type": "code",
   "execution_count": 147,
   "id": "c7787c7b-4933-4d5c-a8ad-d210f50dcbd9",
   "metadata": {},
   "outputs": [
    {
     "data": {
      "text/plain": [
       "59"
      ]
     },
     "execution_count": 147,
     "metadata": {},
     "output_type": "execute_result"
    }
   ],
   "source": [
    "arr2[-5,-5]"
   ]
  },
  {
   "cell_type": "code",
   "execution_count": 148,
   "id": "ef3a9b3e-0730-4302-8462-59795421ef65",
   "metadata": {},
   "outputs": [
    {
     "data": {
      "text/plain": [
       "array([[31, 80, 21,  7,  0,  0, 37, 97, 80, 64],\n",
       "       [53, 34,  6, 18, 82, 26, 52,  3, 79,  6],\n",
       "       [31, 78, 38, 54, 92, 96,  1,  7, 69, 56],\n",
       "       [99, 57,  3, 45, 19, 61, 94,  7, 87, 31]])"
      ]
     },
     "execution_count": 148,
     "metadata": {},
     "output_type": "execute_result"
    }
   ],
   "source": [
    "arr2[1:5]"
   ]
  },
  {
   "cell_type": "code",
   "execution_count": 149,
   "id": "5a96dc82-32e8-448d-8148-4b143c53589b",
   "metadata": {},
   "outputs": [
    {
     "data": {
      "text/plain": [
       "array([[48, 90, 27, 66, 20, 81, 52, 93, 64, 82],\n",
       "       [31, 80, 21,  7,  0,  0, 37, 97, 80, 64],\n",
       "       [53, 34,  6, 18, 82, 26, 52,  3, 79,  6],\n",
       "       [31, 78, 38, 54, 92, 96,  1,  7, 69, 56],\n",
       "       [99, 57,  3, 45, 19, 61, 94,  7, 87, 31],\n",
       "       [11, 67, 14, 15, 30, 59, 84, 16, 21, 38],\n",
       "       [54, 55, 56, 43, 84, 24, 34, 92, 56, 65],\n",
       "       [70, 98, 37, 93, 75, 49, 35, 74, 17, 41],\n",
       "       [12, 90, 37, 95, 98, 11, 96,  3, 90, 16],\n",
       "       [88, 51,  3, 43, 34, 60,  1, 42, 93,  4]])"
      ]
     },
     "execution_count": 149,
     "metadata": {},
     "output_type": "execute_result"
    }
   ],
   "source": [
    "arr2"
   ]
  },
  {
   "cell_type": "code",
   "execution_count": 150,
   "id": "73905a06-eca9-41c5-85d3-e6b91194fc5d",
   "metadata": {},
   "outputs": [
    {
     "data": {
      "text/plain": [
       "array([[88, 51,  3, 43, 34, 60,  1, 42, 93,  4],\n",
       "       [12, 90, 37, 95, 98, 11, 96,  3, 90, 16],\n",
       "       [70, 98, 37, 93, 75, 49, 35, 74, 17, 41],\n",
       "       [54, 55, 56, 43, 84, 24, 34, 92, 56, 65],\n",
       "       [11, 67, 14, 15, 30, 59, 84, 16, 21, 38],\n",
       "       [99, 57,  3, 45, 19, 61, 94,  7, 87, 31],\n",
       "       [31, 78, 38, 54, 92, 96,  1,  7, 69, 56],\n",
       "       [53, 34,  6, 18, 82, 26, 52,  3, 79,  6],\n",
       "       [31, 80, 21,  7,  0,  0, 37, 97, 80, 64],\n",
       "       [48, 90, 27, 66, 20, 81, 52, 93, 64, 82]])"
      ]
     },
     "execution_count": 150,
     "metadata": {},
     "output_type": "execute_result"
    }
   ],
   "source": [
    "arr2[::-1]"
   ]
  },
  {
   "cell_type": "code",
   "execution_count": 151,
   "id": "539c862f-a46a-4da4-821b-f5fbbe0d7753",
   "metadata": {},
   "outputs": [
    {
     "data": {
      "text/plain": [
       "array([[48, 90, 27, 66, 20, 81, 52, 93, 64, 82],\n",
       "       [31, 80, 21,  7,  0,  0, 37, 97, 80, 64],\n",
       "       [53, 34,  6, 18, 82, 26, 52,  3, 79,  6],\n",
       "       [31, 78, 38, 54, 92, 96,  1,  7, 69, 56],\n",
       "       [99, 57,  3, 45, 19, 61, 94,  7, 87, 31],\n",
       "       [11, 67, 14, 15, 30, 59, 84, 16, 21, 38],\n",
       "       [54, 55, 56, 43, 84, 24, 34, 92, 56, 65],\n",
       "       [70, 98, 37, 93, 75, 49, 35, 74, 17, 41],\n",
       "       [12, 90, 37, 95, 98, 11, 96,  3, 90, 16],\n",
       "       [88, 51,  3, 43, 34, 60,  1, 42, 93,  4]])"
      ]
     },
     "execution_count": 151,
     "metadata": {},
     "output_type": "execute_result"
    }
   ],
   "source": [
    "arr2"
   ]
  },
  {
   "cell_type": "code",
   "execution_count": 152,
   "id": "df6c51a0-250b-4df9-b71c-b44869e05003",
   "metadata": {},
   "outputs": [
    {
     "data": {
      "text/plain": [
       "array([[88, 51,  3, 43, 34, 60,  1, 42, 93,  4],\n",
       "       [70, 98, 37, 93, 75, 49, 35, 74, 17, 41],\n",
       "       [11, 67, 14, 15, 30, 59, 84, 16, 21, 38],\n",
       "       [31, 78, 38, 54, 92, 96,  1,  7, 69, 56],\n",
       "       [31, 80, 21,  7,  0,  0, 37, 97, 80, 64]])"
      ]
     },
     "execution_count": 152,
     "metadata": {},
     "output_type": "execute_result"
    }
   ],
   "source": [
    "arr2[::-2] #it will print in step format"
   ]
  },
  {
   "cell_type": "code",
   "execution_count": 153,
   "id": "d8bb4c07-cd4d-420c-a7a6-006183120f61",
   "metadata": {},
   "outputs": [
    {
     "data": {
      "text/plain": [
       "array([[88, 51,  3, 43, 34, 60,  1, 42, 93,  4],\n",
       "       [54, 55, 56, 43, 84, 24, 34, 92, 56, 65],\n",
       "       [31, 78, 38, 54, 92, 96,  1,  7, 69, 56],\n",
       "       [48, 90, 27, 66, 20, 81, 52, 93, 64, 82]])"
      ]
     },
     "execution_count": 153,
     "metadata": {},
     "output_type": "execute_result"
    }
   ],
   "source": [
    "arr2[::-3]"
   ]
  },
  {
   "cell_type": "code",
   "execution_count": 154,
   "id": "20d233bf-986e-434b-b6a0-5ad57bc50ccc",
   "metadata": {},
   "outputs": [
    {
     "data": {
      "text/plain": [
       "array([0, 1, 2, 3, 4, 5])"
      ]
     },
     "execution_count": 154,
     "metadata": {},
     "output_type": "execute_result"
    }
   ],
   "source": [
    "arr"
   ]
  },
  {
   "cell_type": "code",
   "execution_count": 155,
   "id": "98c18549-d5b7-4d26-a536-ab00f6883da8",
   "metadata": {},
   "outputs": [
    {
     "data": {
      "text/plain": [
       "5"
      ]
     },
     "execution_count": 155,
     "metadata": {},
     "output_type": "execute_result"
    }
   ],
   "source": [
    "arr.max()"
   ]
  },
  {
   "cell_type": "code",
   "execution_count": 156,
   "id": "cebbf85a-a413-4d8d-8254-b0e84e685112",
   "metadata": {},
   "outputs": [
    {
     "data": {
      "text/plain": [
       "0"
      ]
     },
     "execution_count": 156,
     "metadata": {},
     "output_type": "execute_result"
    }
   ],
   "source": [
    "arr.min()\n"
   ]
  },
  {
   "cell_type": "code",
   "execution_count": 157,
   "id": "f76a2ad1-8d07-4919-8cee-380d62994aa8",
   "metadata": {},
   "outputs": [
    {
     "data": {
      "text/plain": [
       "array([[48, 90, 27, 66, 20, 81, 52, 93, 64, 82],\n",
       "       [31, 80, 21,  7,  0,  0, 37, 97, 80, 64],\n",
       "       [53, 34,  6, 18, 82, 26, 52,  3, 79,  6],\n",
       "       [31, 78, 38, 54, 92, 96,  1,  7, 69, 56],\n",
       "       [99, 57,  3, 45, 19, 61, 94,  7, 87, 31],\n",
       "       [11, 67, 14, 15, 30, 59, 84, 16, 21, 38],\n",
       "       [54, 55, 56, 43, 84, 24, 34, 92, 56, 65],\n",
       "       [70, 98, 37, 93, 75, 49, 35, 74, 17, 41],\n",
       "       [12, 90, 37, 95, 98, 11, 96,  3, 90, 16],\n",
       "       [88, 51,  3, 43, 34, 60,  1, 42, 93,  4]])"
      ]
     },
     "execution_count": 157,
     "metadata": {},
     "output_type": "execute_result"
    }
   ],
   "source": [
    "arr2"
   ]
  },
  {
   "cell_type": "code",
   "execution_count": 158,
   "id": "2629e975-bf85-498f-aed4-e1560dbae668",
   "metadata": {},
   "outputs": [
    {
     "data": {
      "text/plain": [
       "99"
      ]
     },
     "execution_count": 158,
     "metadata": {},
     "output_type": "execute_result"
    }
   ],
   "source": [
    "arr2.max()"
   ]
  },
  {
   "cell_type": "code",
   "execution_count": 159,
   "id": "417bae4e-3a18-4371-b888-03ba11f63feb",
   "metadata": {},
   "outputs": [
    {
     "data": {
      "text/plain": [
       "0"
      ]
     },
     "execution_count": 159,
     "metadata": {},
     "output_type": "execute_result"
    }
   ],
   "source": [
    "arr2.min()"
   ]
  },
  {
   "cell_type": "code",
   "execution_count": 160,
   "id": "9723d776-45b0-47fd-91a6-6de3b3f89c2c",
   "metadata": {},
   "outputs": [
    {
     "data": {
      "text/plain": [
       "4898"
      ]
     },
     "execution_count": 160,
     "metadata": {},
     "output_type": "execute_result"
    }
   ],
   "source": [
    "arr2.sum()"
   ]
  },
  {
   "cell_type": "code",
   "execution_count": 161,
   "id": "87bd6858-c382-4582-9111-c4ca66d17106",
   "metadata": {},
   "outputs": [
    {
     "data": {
      "text/plain": [
       "48.98"
      ]
     },
     "execution_count": 161,
     "metadata": {},
     "output_type": "execute_result"
    }
   ],
   "source": [
    "arr2.mean()"
   ]
  },
  {
   "cell_type": "code",
   "execution_count": 162,
   "id": "9b7ace3e-1591-4a9f-9f33-3c3f6638e0d5",
   "metadata": {},
   "outputs": [],
   "source": [
    "arr2.sort()"
   ]
  },
  {
   "cell_type": "code",
   "execution_count": 163,
   "id": "de56aa1c-dc96-47b5-94d6-b6b97e4702d5",
   "metadata": {},
   "outputs": [
    {
     "data": {
      "text/plain": [
       "array([[20, 27, 48, 52, 64, 66, 81, 82, 90, 93],\n",
       "       [ 0,  0,  7, 21, 31, 37, 64, 80, 80, 97],\n",
       "       [ 3,  6,  6, 18, 26, 34, 52, 53, 79, 82],\n",
       "       [ 1,  7, 31, 38, 54, 56, 69, 78, 92, 96],\n",
       "       [ 3,  7, 19, 31, 45, 57, 61, 87, 94, 99],\n",
       "       [11, 14, 15, 16, 21, 30, 38, 59, 67, 84],\n",
       "       [24, 34, 43, 54, 55, 56, 56, 65, 84, 92],\n",
       "       [17, 35, 37, 41, 49, 70, 74, 75, 93, 98],\n",
       "       [ 3, 11, 12, 16, 37, 90, 90, 95, 96, 98],\n",
       "       [ 1,  3,  4, 34, 42, 43, 51, 60, 88, 93]])"
      ]
     },
     "execution_count": 163,
     "metadata": {},
     "output_type": "execute_result"
    }
   ],
   "source": [
    "arr2"
   ]
  },
  {
   "cell_type": "code",
   "execution_count": 164,
   "id": "3f85a7a3-a840-467e-ad19-143840545e78",
   "metadata": {},
   "outputs": [
    {
     "data": {
      "text/plain": [
       "False"
      ]
     },
     "execution_count": 164,
     "metadata": {},
     "output_type": "execute_result"
    }
   ],
   "source": [
    "arr2.all()"
   ]
  },
  {
   "cell_type": "code",
   "execution_count": 165,
   "id": "7a9ba790-b819-4997-aec2-4af9197ad3e1",
   "metadata": {},
   "outputs": [
    {
     "data": {
      "text/plain": [
       "True"
      ]
     },
     "execution_count": 165,
     "metadata": {},
     "output_type": "execute_result"
    }
   ],
   "source": [
    "arr2.any()"
   ]
  },
  {
   "cell_type": "code",
   "execution_count": 166,
   "id": "d94f9659-0a49-4b6c-8962-e9d50915d1a1",
   "metadata": {},
   "outputs": [],
   "source": [
    "arr3=arr2.copy"
   ]
  },
  {
   "cell_type": "code",
   "execution_count": 167,
   "id": "f601b3c2-04fb-410e-b5f1-2de4f75ffad8",
   "metadata": {},
   "outputs": [
    {
     "data": {
      "text/plain": [
       "<function ndarray.copy>"
      ]
     },
     "execution_count": 167,
     "metadata": {},
     "output_type": "execute_result"
    }
   ],
   "source": [
    "arr3"
   ]
  },
  {
   "cell_type": "code",
   "execution_count": 168,
   "id": "0334aba6-9a75-422f-a29c-4db6e03dc920",
   "metadata": {},
   "outputs": [],
   "source": [
    "del arr3"
   ]
  },
  {
   "cell_type": "code",
   "execution_count": 169,
   "id": "35106bf2-8c5e-4e02-9507-ba77fc05d80a",
   "metadata": {},
   "outputs": [
    {
     "ename": "NameError",
     "evalue": "name 'arr3' is not defined",
     "output_type": "error",
     "traceback": [
      "\u001b[1;31m---------------------------------------------------------------------------\u001b[0m",
      "\u001b[1;31mNameError\u001b[0m                                 Traceback (most recent call last)",
      "Cell \u001b[1;32mIn[169], line 1\u001b[0m\n\u001b[1;32m----> 1\u001b[0m \u001b[43marr3\u001b[49m\n",
      "\u001b[1;31mNameError\u001b[0m: name 'arr3' is not defined"
     ]
    }
   ],
   "source": [
    "arr3"
   ]
  },
  {
   "cell_type": "code",
   "execution_count": null,
   "id": "74f2fe1c-4500-4a01-80f0-52ca1ae67689",
   "metadata": {},
   "outputs": [],
   "source": [
    "arr2"
   ]
  },
  {
   "cell_type": "code",
   "execution_count": 170,
   "id": "05061755-1a63-4539-a41e-6f30af95703b",
   "metadata": {},
   "outputs": [
    {
     "data": {
      "text/plain": [
       "48.98"
      ]
     },
     "execution_count": 170,
     "metadata": {},
     "output_type": "execute_result"
    }
   ],
   "source": [
    "arr2.mean()"
   ]
  },
  {
   "cell_type": "code",
   "execution_count": 171,
   "id": "800c2b3a-e637-4673-bcb9-331e8cbe3a82",
   "metadata": {},
   "outputs": [
    {
     "ename": "AttributeError",
     "evalue": "'numpy.ndarray' object has no attribute 'median'",
     "output_type": "error",
     "traceback": [
      "\u001b[1;31m---------------------------------------------------------------------------\u001b[0m",
      "\u001b[1;31mAttributeError\u001b[0m                            Traceback (most recent call last)",
      "Cell \u001b[1;32mIn[171], line 1\u001b[0m\n\u001b[1;32m----> 1\u001b[0m \u001b[43marr2\u001b[49m\u001b[38;5;241;43m.\u001b[39;49m\u001b[43mmedian\u001b[49m()\n",
      "\u001b[1;31mAttributeError\u001b[0m: 'numpy.ndarray' object has no attribute 'median'"
     ]
    }
   ],
   "source": [
    "arr2.median()"
   ]
  },
  {
   "cell_type": "code",
   "execution_count": null,
   "id": "326b12be-bc49-4b0e-9d5c-388709ed86d9",
   "metadata": {},
   "outputs": [],
   "source": [
    "a=arr2\n",
    "a"
   ]
  },
  {
   "cell_type": "code",
   "execution_count": 172,
   "id": "8f3d87fc-8d81-47c2-89e2-d383b8868a37",
   "metadata": {},
   "outputs": [
    {
     "data": {
      "text/plain": [
       "14.0"
      ]
     },
     "execution_count": 172,
     "metadata": {},
     "output_type": "execute_result"
    }
   ],
   "source": [
    "median(a)"
   ]
  },
  {
   "cell_type": "code",
   "execution_count": 173,
   "id": "c0bd2bf7-0477-4c54-a944-9566d1daa22b",
   "metadata": {},
   "outputs": [
    {
     "data": {
      "text/plain": [
       "array([[20, 27, 48, 52, 64, 66, 81, 82, 90, 93],\n",
       "       [ 0,  0,  7, 21, 31, 37, 64, 80, 80, 97],\n",
       "       [ 3,  6,  6, 18, 26, 34, 52, 53, 79, 82],\n",
       "       [ 1,  7, 31, 38, 54, 56, 69, 78, 92, 96],\n",
       "       [ 3,  7, 19, 31, 45, 57, 61, 87, 94, 99],\n",
       "       [11, 14, 15, 16, 21, 30, 38, 59, 67, 84],\n",
       "       [24, 34, 43, 54, 55, 56, 56, 65, 84, 92],\n",
       "       [17, 35, 37, 41, 49, 70, 74, 75, 93, 98],\n",
       "       [ 3, 11, 12, 16, 37, 90, 90, 95, 96, 98],\n",
       "       [ 1,  3,  4, 34, 42, 43, 51, 60, 88, 93]])"
      ]
     },
     "execution_count": 173,
     "metadata": {},
     "output_type": "execute_result"
    }
   ],
   "source": [
    "b=arr2\n",
    "b"
   ]
  },
  {
   "cell_type": "code",
   "execution_count": 174,
   "id": "21c19795-6f95-45b9-8ee6-b35a84f8f95e",
   "metadata": {},
   "outputs": [
    {
     "data": {
      "text/plain": [
       "50.0"
      ]
     },
     "execution_count": 174,
     "metadata": {},
     "output_type": "execute_result"
    }
   ],
   "source": [
    "median(b)"
   ]
  },
  {
   "cell_type": "code",
   "execution_count": 175,
   "id": "9420c889-dccf-4887-a228-10e33f88f2a4",
   "metadata": {},
   "outputs": [
    {
     "data": {
      "text/plain": [
       "array([[20, 27, 48, 52, 64, 66, 81, 82, 90, 93],\n",
       "       [ 0,  0,  7, 21, 31, 37, 64, 80, 80, 97],\n",
       "       [ 3,  6,  6, 18, 26, 34, 52, 53, 79, 82],\n",
       "       [ 1,  7, 31, 38, 54, 56, 69, 78, 92, 96],\n",
       "       [ 3,  7, 19, 31, 45, 57, 61, 87, 94, 99],\n",
       "       [11, 14, 15, 16, 21, 30, 38, 59, 67, 84],\n",
       "       [24, 34, 43, 54, 55, 56, 56, 65, 84, 92],\n",
       "       [17, 35, 37, 41, 49, 70, 74, 75, 93, 98],\n",
       "       [ 3, 11, 12, 16, 37, 90, 90, 95, 96, 98],\n",
       "       [ 1,  3,  4, 34, 42, 43, 51, 60, 88, 93]])"
      ]
     },
     "execution_count": 175,
     "metadata": {},
     "output_type": "execute_result"
    }
   ],
   "source": [
    "arr2"
   ]
  },
  {
   "cell_type": "code",
   "execution_count": 176,
   "id": "d1c1020a-2fbe-4ac7-ba4f-44eeeb0cddf1",
   "metadata": {},
   "outputs": [
    {
     "data": {
      "text/plain": [
       "array([0, 1, 2, 3, 4, 5])"
      ]
     },
     "execution_count": 176,
     "metadata": {},
     "output_type": "execute_result"
    }
   ],
   "source": [
    "arr"
   ]
  },
  {
   "cell_type": "code",
   "execution_count": 177,
   "id": "b7e2cd7e-eb12-43ca-89ed-9c2c9a1ec096",
   "metadata": {},
   "outputs": [
    {
     "data": {
      "text/plain": [
       "array([[0, 1, 2],\n",
       "       [3, 4, 5]])"
      ]
     },
     "execution_count": 177,
     "metadata": {},
     "output_type": "execute_result"
    }
   ],
   "source": [
    "arr.reshape(2,3)"
   ]
  },
  {
   "cell_type": "code",
   "execution_count": 178,
   "id": "4da233dc-2d6f-4bba-9380-742731c31733",
   "metadata": {},
   "outputs": [
    {
     "data": {
      "text/plain": [
       "array([[0, 1],\n",
       "       [2, 3],\n",
       "       [4, 5]])"
      ]
     },
     "execution_count": 178,
     "metadata": {},
     "output_type": "execute_result"
    }
   ],
   "source": [
    "arr.reshape(3,2)"
   ]
  },
  {
   "cell_type": "code",
   "execution_count": 179,
   "id": "215c168b-8b3c-46ec-8174-fcc261217210",
   "metadata": {},
   "outputs": [
    {
     "data": {
      "text/plain": [
       "array([[0],\n",
       "       [1],\n",
       "       [2],\n",
       "       [3],\n",
       "       [4],\n",
       "       [5]])"
      ]
     },
     "execution_count": 179,
     "metadata": {},
     "output_type": "execute_result"
    }
   ],
   "source": [
    "arr.reshape(6,1)"
   ]
  },
  {
   "cell_type": "code",
   "execution_count": 180,
   "id": "8f23570a-7ce1-4248-8142-7f9f8215326b",
   "metadata": {},
   "outputs": [
    {
     "data": {
      "text/plain": [
       "array([[0, 1, 2, 3, 4, 5]])"
      ]
     },
     "execution_count": 180,
     "metadata": {},
     "output_type": "execute_result"
    }
   ],
   "source": [
    "arr.reshape(1,6)"
   ]
  },
  {
   "cell_type": "code",
   "execution_count": 181,
   "id": "b8d0d76a-d414-4fc9-9433-16084bef33e2",
   "metadata": {},
   "outputs": [
    {
     "data": {
      "text/plain": [
       "array([[20, 27, 48, 52, 64, 66, 81, 82, 90, 93,  0,  0,  7, 21, 31, 37,\n",
       "        64, 80, 80, 97,  3,  6,  6, 18, 26, 34, 52, 53, 79, 82,  1,  7,\n",
       "        31, 38, 54, 56, 69, 78, 92, 96,  3,  7, 19, 31, 45, 57, 61, 87,\n",
       "        94, 99, 11, 14, 15, 16, 21, 30, 38, 59, 67, 84, 24, 34, 43, 54,\n",
       "        55, 56, 56, 65, 84, 92, 17, 35, 37, 41, 49, 70, 74, 75, 93, 98,\n",
       "         3, 11, 12, 16, 37, 90, 90, 95, 96, 98,  1,  3,  4, 34, 42, 43,\n",
       "        51, 60, 88, 93]])"
      ]
     },
     "execution_count": 181,
     "metadata": {},
     "output_type": "execute_result"
    }
   ],
   "source": [
    "arr2.reshape(1,100)"
   ]
  },
  {
   "cell_type": "code",
   "execution_count": 182,
   "id": "fb5a6797-27e4-4526-a8e3-9f6ff02cb1f6",
   "metadata": {},
   "outputs": [
    {
     "data": {
      "text/plain": [
       "array([[20, 27, 48, 52, 64, 66, 81, 82, 90, 93,  0,  0,  7, 21, 31, 37,\n",
       "        64, 80, 80, 97,  3,  6,  6, 18, 26, 34, 52, 53, 79, 82,  1,  7,\n",
       "        31, 38, 54, 56, 69, 78, 92, 96,  3,  7, 19, 31, 45, 57, 61, 87,\n",
       "        94, 99],\n",
       "       [11, 14, 15, 16, 21, 30, 38, 59, 67, 84, 24, 34, 43, 54, 55, 56,\n",
       "        56, 65, 84, 92, 17, 35, 37, 41, 49, 70, 74, 75, 93, 98,  3, 11,\n",
       "        12, 16, 37, 90, 90, 95, 96, 98,  1,  3,  4, 34, 42, 43, 51, 60,\n",
       "        88, 93]])"
      ]
     },
     "execution_count": 182,
     "metadata": {},
     "output_type": "execute_result"
    }
   ],
   "source": [
    "arr2.reshape(2,50)"
   ]
  },
  {
   "cell_type": "code",
   "execution_count": 183,
   "id": "916076a1-b701-4dc5-8c0d-99eacbf48bba",
   "metadata": {},
   "outputs": [
    {
     "data": {
      "text/plain": [
       "array([[20, 27, 48, 52, 64, 66, 81, 82, 90, 93,  0,  0,  7, 21, 31, 37,\n",
       "        64, 80, 80, 97,  3,  6,  6, 18, 26],\n",
       "       [34, 52, 53, 79, 82,  1,  7, 31, 38, 54, 56, 69, 78, 92, 96,  3,\n",
       "         7, 19, 31, 45, 57, 61, 87, 94, 99],\n",
       "       [11, 14, 15, 16, 21, 30, 38, 59, 67, 84, 24, 34, 43, 54, 55, 56,\n",
       "        56, 65, 84, 92, 17, 35, 37, 41, 49],\n",
       "       [70, 74, 75, 93, 98,  3, 11, 12, 16, 37, 90, 90, 95, 96, 98,  1,\n",
       "         3,  4, 34, 42, 43, 51, 60, 88, 93]])"
      ]
     },
     "execution_count": 183,
     "metadata": {},
     "output_type": "execute_result"
    }
   ],
   "source": [
    "arr2.reshape(4,25)"
   ]
  },
  {
   "cell_type": "code",
   "execution_count": 184,
   "id": "023c7f93-a914-4c37-8e87-0d7ae8f5a9b8",
   "metadata": {},
   "outputs": [
    {
     "data": {
      "text/plain": [
       "array([[20, 27, 48, 52, 64, 66, 81, 82, 90, 93,  0,  0,  7, 21, 31, 37,\n",
       "        64, 80, 80, 97,  3,  6,  6, 18, 26, 34, 52, 53, 79, 82,  1,  7,\n",
       "        31, 38, 54, 56, 69, 78, 92, 96,  3,  7, 19, 31, 45, 57, 61, 87,\n",
       "        94, 99],\n",
       "       [11, 14, 15, 16, 21, 30, 38, 59, 67, 84, 24, 34, 43, 54, 55, 56,\n",
       "        56, 65, 84, 92, 17, 35, 37, 41, 49, 70, 74, 75, 93, 98,  3, 11,\n",
       "        12, 16, 37, 90, 90, 95, 96, 98,  1,  3,  4, 34, 42, 43, 51, 60,\n",
       "        88, 93]])"
      ]
     },
     "execution_count": 184,
     "metadata": {},
     "output_type": "execute_result"
    }
   ],
   "source": [
    "arr2.reshape(2,50)"
   ]
  },
  {
   "cell_type": "code",
   "execution_count": 185,
   "id": "5ee66abf-3573-4720-947d-79b2cef09b6c",
   "metadata": {},
   "outputs": [
    {
     "data": {
      "text/plain": [
       "array([0, 1, 2, 3, 4, 5])"
      ]
     },
     "execution_count": 185,
     "metadata": {},
     "output_type": "execute_result"
    }
   ],
   "source": [
    "arr"
   ]
  },
  {
   "cell_type": "code",
   "execution_count": 186,
   "id": "e4ea0916-61a3-4040-bee3-e3acbd83e790",
   "metadata": {},
   "outputs": [
    {
     "data": {
      "text/plain": [
       "array([[0, 1],\n",
       "       [2, 3],\n",
       "       [4, 5]])"
      ]
     },
     "execution_count": 186,
     "metadata": {},
     "output_type": "execute_result"
    }
   ],
   "source": [
    "arr.reshape(3,2,order='C')"
   ]
  },
  {
   "cell_type": "code",
   "execution_count": 187,
   "id": "dabb7265-e5d0-4bf1-89f4-199f735bb48d",
   "metadata": {},
   "outputs": [
    {
     "data": {
      "text/plain": [
       "array([[0, 3],\n",
       "       [1, 4],\n",
       "       [2, 5]])"
      ]
     },
     "execution_count": 187,
     "metadata": {},
     "output_type": "execute_result"
    }
   ],
   "source": [
    "arr.reshape(3,2,order='F')"
   ]
  },
  {
   "cell_type": "code",
   "execution_count": 188,
   "id": "e3c759ec-569c-4023-b96a-20f106d2b6d5",
   "metadata": {},
   "outputs": [
    {
     "data": {
      "text/plain": [
       "array([[0, 1],\n",
       "       [2, 3],\n",
       "       [4, 5]])"
      ]
     },
     "execution_count": 188,
     "metadata": {},
     "output_type": "execute_result"
    }
   ],
   "source": [
    "arr.reshape(3,2,order='A')"
   ]
  },
  {
   "cell_type": "code",
   "execution_count": 189,
   "id": "3030b660-f61d-4daf-a541-c01316531594",
   "metadata": {},
   "outputs": [
    {
     "data": {
      "text/plain": [
       "array([[0, 1, 2],\n",
       "       [3, 4, 5]])"
      ]
     },
     "execution_count": 189,
     "metadata": {},
     "output_type": "execute_result"
    }
   ],
   "source": [
    "arr.reshape(2,3,order='A')"
   ]
  },
  {
   "cell_type": "code",
   "execution_count": 190,
   "id": "58d2d6a6-9adc-48b4-b77f-cca39fc1ce53",
   "metadata": {},
   "outputs": [
    {
     "data": {
      "text/plain": [
       "array([[0, 2, 4],\n",
       "       [1, 3, 5]])"
      ]
     },
     "execution_count": 190,
     "metadata": {},
     "output_type": "execute_result"
    }
   ],
   "source": [
    "arr.reshape(2,3,order='F')"
   ]
  },
  {
   "cell_type": "code",
   "execution_count": 191,
   "id": "9902cc75-8d30-4528-b98d-e9c0bf78f695",
   "metadata": {},
   "outputs": [
    {
     "data": {
      "text/plain": [
       "array([[0, 1, 2],\n",
       "       [3, 4, 5]])"
      ]
     },
     "execution_count": 191,
     "metadata": {},
     "output_type": "execute_result"
    }
   ],
   "source": [
    "arr.reshape(2,3,order='C')"
   ]
  },
  {
   "cell_type": "code",
   "execution_count": 192,
   "id": "2c19f681-63c6-407c-bfb4-182eb02e3e94",
   "metadata": {},
   "outputs": [
    {
     "ename": "ValueError",
     "evalue": "order 'K' is not permitted for reshaping",
     "output_type": "error",
     "traceback": [
      "\u001b[1;31m---------------------------------------------------------------------------\u001b[0m",
      "\u001b[1;31mValueError\u001b[0m                                Traceback (most recent call last)",
      "Cell \u001b[1;32mIn[192], line 1\u001b[0m\n\u001b[1;32m----> 1\u001b[0m \u001b[43marr\u001b[49m\u001b[38;5;241;43m.\u001b[39;49m\u001b[43mreshape\u001b[49m\u001b[43m(\u001b[49m\u001b[38;5;241;43m3\u001b[39;49m\u001b[43m,\u001b[49m\u001b[38;5;241;43m2\u001b[39;49m\u001b[43m,\u001b[49m\u001b[43morder\u001b[49m\u001b[38;5;241;43m=\u001b[39;49m\u001b[38;5;124;43m'\u001b[39;49m\u001b[38;5;124;43mK\u001b[39;49m\u001b[38;5;124;43m'\u001b[39;49m\u001b[43m)\u001b[49m\n",
      "\u001b[1;31mValueError\u001b[0m: order 'K' is not permitted for reshaping"
     ]
    }
   ],
   "source": [
    "arr.reshape(3,2,order='K')"
   ]
  },
  {
   "cell_type": "code",
   "execution_count": 193,
   "id": "572ec154-0513-48fc-abfa-6e0811301ca8",
   "metadata": {},
   "outputs": [
    {
     "data": {
      "text/plain": [
       "array([0, 1, 2, 3, 4, 5])"
      ]
     },
     "execution_count": 193,
     "metadata": {},
     "output_type": "execute_result"
    }
   ],
   "source": [
    "arr"
   ]
  },
  {
   "cell_type": "code",
   "execution_count": 194,
   "id": "17bfaacd-6f28-4aa6-af85-96e91e6ef798",
   "metadata": {},
   "outputs": [
    {
     "data": {
      "text/plain": [
       "array([[0, 1, 2],\n",
       "       [3, 4, 5]])"
      ]
     },
     "execution_count": 194,
     "metadata": {},
     "output_type": "execute_result"
    }
   ],
   "source": [
    "arr.reshape(2,3)"
   ]
  },
  {
   "cell_type": "markdown",
   "id": "e2395c0b-f46a-4b0a-9f0d-441294b9fe5f",
   "metadata": {},
   "source": [
    "# Indexing"
   ]
  },
  {
   "cell_type": "code",
   "execution_count": 195,
   "id": "6a6ded06-21af-4f22-a2e9-04f86b2932d7",
   "metadata": {},
   "outputs": [],
   "source": [
    "mat=np.arange(0,100).reshape(10,10)"
   ]
  },
  {
   "cell_type": "code",
   "execution_count": 196,
   "id": "27e53ee7-ad20-436f-9c14-e6c11a3d24c8",
   "metadata": {},
   "outputs": [
    {
     "data": {
      "text/plain": [
       "array([[ 0,  1,  2,  3,  4,  5,  6,  7,  8,  9],\n",
       "       [10, 11, 12, 13, 14, 15, 16, 17, 18, 19],\n",
       "       [20, 21, 22, 23, 24, 25, 26, 27, 28, 29],\n",
       "       [30, 31, 32, 33, 34, 35, 36, 37, 38, 39],\n",
       "       [40, 41, 42, 43, 44, 45, 46, 47, 48, 49],\n",
       "       [50, 51, 52, 53, 54, 55, 56, 57, 58, 59],\n",
       "       [60, 61, 62, 63, 64, 65, 66, 67, 68, 69],\n",
       "       [70, 71, 72, 73, 74, 75, 76, 77, 78, 79],\n",
       "       [80, 81, 82, 83, 84, 85, 86, 87, 88, 89],\n",
       "       [90, 91, 92, 93, 94, 95, 96, 97, 98, 99]])"
      ]
     },
     "execution_count": 196,
     "metadata": {},
     "output_type": "execute_result"
    }
   ],
   "source": [
    "\n",
    "mat"
   ]
  },
  {
   "cell_type": "code",
   "execution_count": 197,
   "id": "d932efa1-75ab-4cb4-afd0-e20f6204c870",
   "metadata": {},
   "outputs": [],
   "source": [
    "row=4\n",
    "col=5"
   ]
  },
  {
   "cell_type": "code",
   "execution_count": 198,
   "id": "082bff82-2ab5-4fa2-a84e-be4f70d2640c",
   "metadata": {},
   "outputs": [
    {
     "data": {
      "text/plain": [
       "5"
      ]
     },
     "execution_count": 198,
     "metadata": {},
     "output_type": "execute_result"
    }
   ],
   "source": [
    "col"
   ]
  },
  {
   "cell_type": "code",
   "execution_count": 199,
   "id": "1176721f-503b-48a2-97d5-7092d6f414c1",
   "metadata": {},
   "outputs": [
    {
     "data": {
      "text/plain": [
       "4"
      ]
     },
     "execution_count": 199,
     "metadata": {},
     "output_type": "execute_result"
    }
   ],
   "source": [
    "row"
   ]
  },
  {
   "cell_type": "code",
   "execution_count": 200,
   "id": "8271023f-e774-4119-bece-333ab8abc8fb",
   "metadata": {},
   "outputs": [
    {
     "data": {
      "text/plain": [
       "array([[ 0,  1,  2,  3,  4,  5,  6,  7,  8,  9],\n",
       "       [10, 11, 12, 13, 14, 15, 16, 17, 18, 19],\n",
       "       [20, 21, 22, 23, 24, 25, 26, 27, 28, 29],\n",
       "       [30, 31, 32, 33, 34, 35, 36, 37, 38, 39],\n",
       "       [40, 41, 42, 43, 44, 45, 46, 47, 48, 49],\n",
       "       [50, 51, 52, 53, 54, 55, 56, 57, 58, 59],\n",
       "       [60, 61, 62, 63, 64, 65, 66, 67, 68, 69],\n",
       "       [70, 71, 72, 73, 74, 75, 76, 77, 78, 79],\n",
       "       [80, 81, 82, 83, 84, 85, 86, 87, 88, 89],\n",
       "       [90, 91, 92, 93, 94, 95, 96, 97, 98, 99]])"
      ]
     },
     "execution_count": 200,
     "metadata": {},
     "output_type": "execute_result"
    }
   ],
   "source": [
    "mat"
   ]
  },
  {
   "cell_type": "code",
   "execution_count": 201,
   "id": "ab994190-6dd5-475d-9e81-1958be3fa695",
   "metadata": {},
   "outputs": [
    {
     "data": {
      "text/plain": [
       "45"
      ]
     },
     "execution_count": 201,
     "metadata": {},
     "output_type": "execute_result"
    }
   ],
   "source": [
    "mat[row,col]"
   ]
  },
  {
   "cell_type": "code",
   "execution_count": 202,
   "id": "c249f5d2-aec6-462a-b75b-6a686d7658aa",
   "metadata": {},
   "outputs": [
    {
     "data": {
      "text/plain": [
       "array([[ 0,  1,  2,  3,  4,  5,  6,  7,  8,  9],\n",
       "       [10, 11, 12, 13, 14, 15, 16, 17, 18, 19],\n",
       "       [20, 21, 22, 23, 24, 25, 26, 27, 28, 29],\n",
       "       [30, 31, 32, 33, 34, 35, 36, 37, 38, 39],\n",
       "       [40, 41, 42, 43, 44, 45, 46, 47, 48, 49],\n",
       "       [50, 51, 52, 53, 54, 55, 56, 57, 58, 59],\n",
       "       [60, 61, 62, 63, 64, 65, 66, 67, 68, 69],\n",
       "       [70, 71, 72, 73, 74, 75, 76, 77, 78, 79],\n",
       "       [80, 81, 82, 83, 84, 85, 86, 87, 88, 89],\n",
       "       [90, 91, 92, 93, 94, 95, 96, 97, 98, 99]])"
      ]
     },
     "execution_count": 202,
     "metadata": {},
     "output_type": "execute_result"
    }
   ],
   "source": [
    "mat"
   ]
  },
  {
   "cell_type": "code",
   "execution_count": 203,
   "id": "ff2cb54a-1a00-40d6-a4ac-dec0a469bf7d",
   "metadata": {},
   "outputs": [
    {
     "data": {
      "text/plain": [
       "array([[ 0,  1,  2,  3,  4,  5,  6,  7,  8,  9],\n",
       "       [10, 11, 12, 13, 14, 15, 16, 17, 18, 19],\n",
       "       [20, 21, 22, 23, 24, 25, 26, 27, 28, 29],\n",
       "       [30, 31, 32, 33, 34, 35, 36, 37, 38, 39],\n",
       "       [40, 41, 42, 43, 44, 45, 46, 47, 48, 49],\n",
       "       [50, 51, 52, 53, 54, 55, 56, 57, 58, 59],\n",
       "       [60, 61, 62, 63, 64, 65, 66, 67, 68, 69],\n",
       "       [70, 71, 72, 73, 74, 75, 76, 77, 78, 79],\n",
       "       [80, 81, 82, 83, 84, 85, 86, 87, 88, 89],\n",
       "       [90, 91, 92, 93, 94, 95, 96, 97, 98, 99]])"
      ]
     },
     "execution_count": 203,
     "metadata": {},
     "output_type": "execute_result"
    }
   ],
   "source": [
    "mat[:]"
   ]
  },
  {
   "cell_type": "code",
   "execution_count": 204,
   "id": "64f29d8b-607c-4c85-9642-e6ebce66fe02",
   "metadata": {},
   "outputs": [
    {
     "data": {
      "text/plain": [
       "38"
      ]
     },
     "execution_count": 204,
     "metadata": {},
     "output_type": "execute_result"
    }
   ],
   "source": [
    "mat[3,8]"
   ]
  },
  {
   "cell_type": "code",
   "execution_count": 206,
   "id": "8384c3ed-8dcb-4a7c-be97-8a71f679c803",
   "metadata": {},
   "outputs": [
    {
     "data": {
      "text/plain": [
       "array([60, 61, 62, 63, 64, 65, 66, 67, 68, 69])"
      ]
     },
     "execution_count": 206,
     "metadata": {},
     "output_type": "execute_result"
    }
   ],
   "source": [
    "mat[6]"
   ]
  },
  {
   "cell_type": "code",
   "execution_count": 207,
   "id": "2edf1fe7-3de2-47e3-91d9-10ced7b20c0e",
   "metadata": {},
   "outputs": [],
   "source": [
    "col=6\n"
   ]
  },
  {
   "cell_type": "code",
   "execution_count": 208,
   "id": "2e3657ec-e0b6-4604-b0b0-e9869435d7d4",
   "metadata": {},
   "outputs": [
    {
     "data": {
      "text/plain": [
       "array([[ 0,  1,  2,  3,  4,  5,  6,  7,  8,  9],\n",
       "       [10, 11, 12, 13, 14, 15, 16, 17, 18, 19],\n",
       "       [20, 21, 22, 23, 24, 25, 26, 27, 28, 29],\n",
       "       [30, 31, 32, 33, 34, 35, 36, 37, 38, 39],\n",
       "       [40, 41, 42, 43, 44, 45, 46, 47, 48, 49],\n",
       "       [50, 51, 52, 53, 54, 55, 56, 57, 58, 59],\n",
       "       [60, 61, 62, 63, 64, 65, 66, 67, 68, 69],\n",
       "       [70, 71, 72, 73, 74, 75, 76, 77, 78, 79],\n",
       "       [80, 81, 82, 83, 84, 85, 86, 87, 88, 89],\n",
       "       [90, 91, 92, 93, 94, 95, 96, 97, 98, 99]])"
      ]
     },
     "execution_count": 208,
     "metadata": {},
     "output_type": "execute_result"
    }
   ],
   "source": [
    "mat"
   ]
  },
  {
   "cell_type": "code",
   "execution_count": 209,
   "id": "d7d44a6d-96ce-471a-881b-caf393f817c6",
   "metadata": {},
   "outputs": [
    {
     "data": {
      "text/plain": [
       "array([ 6, 16, 26, 36, 46, 56, 66, 76, 86, 96])"
      ]
     },
     "execution_count": 209,
     "metadata": {},
     "output_type": "execute_result"
    }
   ],
   "source": [
    "mat[:,col]"
   ]
  },
  {
   "cell_type": "code",
   "execution_count": 210,
   "id": "8f109774-cd43-4eec-b9f6-da640be9eb49",
   "metadata": {},
   "outputs": [
    {
     "data": {
      "text/plain": [
       "array([[60, 61, 62, 63, 64, 65, 66, 67, 68, 69],\n",
       "       [70, 71, 72, 73, 74, 75, 76, 77, 78, 79],\n",
       "       [80, 81, 82, 83, 84, 85, 86, 87, 88, 89],\n",
       "       [90, 91, 92, 93, 94, 95, 96, 97, 98, 99]])"
      ]
     },
     "execution_count": 210,
     "metadata": {},
     "output_type": "execute_result"
    }
   ],
   "source": [
    "mat[col:]"
   ]
  },
  {
   "cell_type": "code",
   "execution_count": 211,
   "id": "66679d89-fe29-4f09-9294-b67304afd7bb",
   "metadata": {},
   "outputs": [
    {
     "data": {
      "text/plain": [
       "array([40, 41, 42, 43, 44, 45, 46, 47, 48, 49])"
      ]
     },
     "execution_count": 211,
     "metadata": {},
     "output_type": "execute_result"
    }
   ],
   "source": [
    "mat[row,:]"
   ]
  },
  {
   "cell_type": "code",
   "execution_count": 212,
   "id": "2a87b42f-d22f-4e95-9f99-ca0df6179d3f",
   "metadata": {},
   "outputs": [
    {
     "data": {
      "text/plain": [
       "array([[60, 61, 62, 63, 64, 65, 66, 67, 68, 69],\n",
       "       [70, 71, 72, 73, 74, 75, 76, 77, 78, 79],\n",
       "       [80, 81, 82, 83, 84, 85, 86, 87, 88, 89],\n",
       "       [90, 91, 92, 93, 94, 95, 96, 97, 98, 99]])"
      ]
     },
     "execution_count": 212,
     "metadata": {},
     "output_type": "execute_result"
    }
   ],
   "source": [
    "mat[6:]"
   ]
  },
  {
   "cell_type": "code",
   "execution_count": 213,
   "id": "6d091b51-0021-4342-84f1-0565aeabccf0",
   "metadata": {},
   "outputs": [
    {
     "data": {
      "text/plain": [
       "array([[ 0,  1,  2,  3,  4,  5,  6,  7,  8,  9],\n",
       "       [10, 11, 12, 13, 14, 15, 16, 17, 18, 19],\n",
       "       [20, 21, 22, 23, 24, 25, 26, 27, 28, 29],\n",
       "       [30, 31, 32, 33, 34, 35, 36, 37, 38, 39],\n",
       "       [40, 41, 42, 43, 44, 45, 46, 47, 48, 49],\n",
       "       [50, 51, 52, 53, 54, 55, 56, 57, 58, 59]])"
      ]
     },
     "execution_count": 213,
     "metadata": {},
     "output_type": "execute_result"
    }
   ],
   "source": [
    "mat[:col]"
   ]
  },
  {
   "cell_type": "code",
   "execution_count": 214,
   "id": "438d2629-0ff8-43bf-ac7b-0b85ed99a06a",
   "metadata": {},
   "outputs": [
    {
     "data": {
      "text/plain": [
       "4"
      ]
     },
     "execution_count": 214,
     "metadata": {},
     "output_type": "execute_result"
    }
   ],
   "source": [
    "row"
   ]
  },
  {
   "cell_type": "code",
   "execution_count": 215,
   "id": "bcfb0897-257e-4806-b9d1-0e0e132109d9",
   "metadata": {},
   "outputs": [
    {
     "data": {
      "text/plain": [
       "array([[ 0,  1,  2,  3,  4,  5,  6,  7,  8,  9],\n",
       "       [10, 11, 12, 13, 14, 15, 16, 17, 18, 19],\n",
       "       [20, 21, 22, 23, 24, 25, 26, 27, 28, 29],\n",
       "       [30, 31, 32, 33, 34, 35, 36, 37, 38, 39],\n",
       "       [40, 41, 42, 43, 44, 45, 46, 47, 48, 49],\n",
       "       [50, 51, 52, 53, 54, 55, 56, 57, 58, 59],\n",
       "       [60, 61, 62, 63, 64, 65, 66, 67, 68, 69],\n",
       "       [70, 71, 72, 73, 74, 75, 76, 77, 78, 79],\n",
       "       [80, 81, 82, 83, 84, 85, 86, 87, 88, 89],\n",
       "       [90, 91, 92, 93, 94, 95, 96, 97, 98, 99]])"
      ]
     },
     "execution_count": 215,
     "metadata": {},
     "output_type": "execute_result"
    }
   ],
   "source": [
    "mat"
   ]
  },
  {
   "cell_type": "code",
   "execution_count": 216,
   "id": "0a45c217-65cd-4a6c-819d-ebfbbb6b8718",
   "metadata": {},
   "outputs": [
    {
     "data": {
      "text/plain": [
       "array([[ 0,  1,  2,  3,  4,  5,  6,  7,  8,  9],\n",
       "       [10, 11, 12, 13, 14, 15, 16, 17, 18, 19],\n",
       "       [20, 21, 22, 23, 24, 25, 26, 27, 28, 29],\n",
       "       [30, 31, 32, 33, 34, 35, 36, 37, 38, 39]])"
      ]
     },
     "execution_count": 216,
     "metadata": {},
     "output_type": "execute_result"
    }
   ],
   "source": [
    "mat[:row]"
   ]
  },
  {
   "cell_type": "code",
   "execution_count": 217,
   "id": "eaee0f72-7fb4-46d6-8659-5655d462dab3",
   "metadata": {},
   "outputs": [
    {
     "data": {
      "text/plain": [
       "array([[40, 41, 42, 43, 44, 45, 46, 47, 48, 49],\n",
       "       [50, 51, 52, 53, 54, 55, 56, 57, 58, 59],\n",
       "       [60, 61, 62, 63, 64, 65, 66, 67, 68, 69],\n",
       "       [70, 71, 72, 73, 74, 75, 76, 77, 78, 79],\n",
       "       [80, 81, 82, 83, 84, 85, 86, 87, 88, 89],\n",
       "       [90, 91, 92, 93, 94, 95, 96, 97, 98, 99]])"
      ]
     },
     "execution_count": 217,
     "metadata": {},
     "output_type": "execute_result"
    }
   ],
   "source": [
    "mat[row:]"
   ]
  },
  {
   "cell_type": "code",
   "execution_count": 218,
   "id": "40140b32-15b0-4548-b64c-2cecf0a47618",
   "metadata": {},
   "outputs": [
    {
     "data": {
      "text/plain": [
       "array([ 8, 18, 28, 38, 48, 58, 68, 78, 88, 98])"
      ]
     },
     "execution_count": 218,
     "metadata": {},
     "output_type": "execute_result"
    }
   ],
   "source": [
    "mat[:,8]"
   ]
  },
  {
   "cell_type": "code",
   "execution_count": 219,
   "id": "0929e9ec-23cc-4620-8741-06f3359f7f90",
   "metadata": {},
   "outputs": [
    {
     "data": {
      "text/plain": [
       "array([[ 0,  1,  2,  3,  4,  5,  6,  7,  8,  9],\n",
       "       [10, 11, 12, 13, 14, 15, 16, 17, 18, 19],\n",
       "       [20, 21, 22, 23, 24, 25, 26, 27, 28, 29],\n",
       "       [30, 31, 32, 33, 34, 35, 36, 37, 38, 39],\n",
       "       [40, 41, 42, 43, 44, 45, 46, 47, 48, 49],\n",
       "       [50, 51, 52, 53, 54, 55, 56, 57, 58, 59],\n",
       "       [60, 61, 62, 63, 64, 65, 66, 67, 68, 69],\n",
       "       [70, 71, 72, 73, 74, 75, 76, 77, 78, 79]])"
      ]
     },
     "execution_count": 219,
     "metadata": {},
     "output_type": "execute_result"
    }
   ],
   "source": [
    "mat[:8]"
   ]
  },
  {
   "cell_type": "code",
   "execution_count": 220,
   "id": "42be9e0a-2e2b-4391-87a3-39485c24c9ac",
   "metadata": {},
   "outputs": [
    {
     "data": {
      "text/plain": [
       "array([ 9, 19, 29, 39, 49, 59, 69, 79, 89, 99])"
      ]
     },
     "execution_count": 220,
     "metadata": {},
     "output_type": "execute_result"
    }
   ],
   "source": [
    "mat[:,-1]"
   ]
  },
  {
   "cell_type": "code",
   "execution_count": 221,
   "id": "a3746e59-c9e3-4563-9e09-0ad29aeee207",
   "metadata": {},
   "outputs": [
    {
     "data": {
      "text/plain": [
       "array([[ 0,  1,  2,  3,  4,  5,  6,  7,  8,  9],\n",
       "       [10, 11, 12, 13, 14, 15, 16, 17, 18, 19],\n",
       "       [20, 21, 22, 23, 24, 25, 26, 27, 28, 29],\n",
       "       [30, 31, 32, 33, 34, 35, 36, 37, 38, 39],\n",
       "       [40, 41, 42, 43, 44, 45, 46, 47, 48, 49],\n",
       "       [50, 51, 52, 53, 54, 55, 56, 57, 58, 59],\n",
       "       [60, 61, 62, 63, 64, 65, 66, 67, 68, 69],\n",
       "       [70, 71, 72, 73, 74, 75, 76, 77, 78, 79],\n",
       "       [80, 81, 82, 83, 84, 85, 86, 87, 88, 89]])"
      ]
     },
     "execution_count": 221,
     "metadata": {},
     "output_type": "execute_result"
    }
   ],
   "source": [
    "mat[:-1]"
   ]
  },
  {
   "cell_type": "code",
   "execution_count": 222,
   "id": "8ca05335-288f-4b5f-9ed5-4bb2122bba6f",
   "metadata": {},
   "outputs": [
    {
     "data": {
      "text/plain": [
       "array([[ 0,  1,  2,  3,  4,  5,  6,  7,  8,  9],\n",
       "       [10, 11, 12, 13, 14, 15, 16, 17, 18, 19],\n",
       "       [20, 21, 22, 23, 24, 25, 26, 27, 28, 29],\n",
       "       [30, 31, 32, 33, 34, 35, 36, 37, 38, 39],\n",
       "       [40, 41, 42, 43, 44, 45, 46, 47, 48, 49],\n",
       "       [50, 51, 52, 53, 54, 55, 56, 57, 58, 59],\n",
       "       [60, 61, 62, 63, 64, 65, 66, 67, 68, 69]])"
      ]
     },
     "execution_count": 222,
     "metadata": {},
     "output_type": "execute_result"
    }
   ],
   "source": [
    "mat[:-3]"
   ]
  },
  {
   "cell_type": "code",
   "execution_count": 223,
   "id": "7d58cde4-79b9-4195-9b68-a9be4cb4d7e7",
   "metadata": {},
   "outputs": [
    {
     "data": {
      "text/plain": [
       "array([70, 71, 72, 73, 74, 75, 76, 77, 78, 79])"
      ]
     },
     "execution_count": 223,
     "metadata": {},
     "output_type": "execute_result"
    }
   ],
   "source": [
    "mat[-3]"
   ]
  },
  {
   "cell_type": "code",
   "execution_count": 224,
   "id": "eb1e004f-0de6-407f-88f1-f6176669db0f",
   "metadata": {},
   "outputs": [
    {
     "data": {
      "text/plain": [
       "array([ 6, 16, 26, 36, 46, 56, 66, 76, 86, 96])"
      ]
     },
     "execution_count": 224,
     "metadata": {},
     "output_type": "execute_result"
    }
   ],
   "source": [
    "mat[:,-4]"
   ]
  },
  {
   "cell_type": "code",
   "execution_count": 225,
   "id": "747e658a-e497-46d8-b5de-330decf112ef",
   "metadata": {},
   "outputs": [
    {
     "data": {
      "text/plain": [
       "array([[ 0,  1,  2,  3,  4,  5,  6,  7,  8,  9],\n",
       "       [10, 11, 12, 13, 14, 15, 16, 17, 18, 19],\n",
       "       [20, 21, 22, 23, 24, 25, 26, 27, 28, 29],\n",
       "       [30, 31, 32, 33, 34, 35, 36, 37, 38, 39],\n",
       "       [40, 41, 42, 43, 44, 45, 46, 47, 48, 49],\n",
       "       [50, 51, 52, 53, 54, 55, 56, 57, 58, 59],\n",
       "       [60, 61, 62, 63, 64, 65, 66, 67, 68, 69],\n",
       "       [70, 71, 72, 73, 74, 75, 76, 77, 78, 79],\n",
       "       [80, 81, 82, 83, 84, 85, 86, 87, 88, 89],\n",
       "       [90, 91, 92, 93, 94, 95, 96, 97, 98, 99]])"
      ]
     },
     "execution_count": 225,
     "metadata": {},
     "output_type": "execute_result"
    }
   ],
   "source": [
    "mat"
   ]
  },
  {
   "cell_type": "code",
   "execution_count": 226,
   "id": "80d7e58f-7312-48bc-8e0d-67219c93b56d",
   "metadata": {},
   "outputs": [
    {
     "data": {
      "text/plain": [
       "4"
      ]
     },
     "execution_count": 226,
     "metadata": {},
     "output_type": "execute_result"
    }
   ],
   "source": [
    "row"
   ]
  },
  {
   "cell_type": "code",
   "execution_count": 227,
   "id": "8a6e01ac-61db-4401-a5bb-993f8f77c598",
   "metadata": {},
   "outputs": [
    {
     "data": {
      "text/plain": [
       "6"
      ]
     },
     "execution_count": 227,
     "metadata": {},
     "output_type": "execute_result"
    }
   ],
   "source": [
    "col"
   ]
  },
  {
   "cell_type": "code",
   "execution_count": 228,
   "id": "0416f92b-916a-4670-92e6-2e57b4b28a01",
   "metadata": {},
   "outputs": [
    {
     "data": {
      "text/plain": [
       "array([ 6, 16, 26, 36, 46, 56, 66, 76, 86, 96])"
      ]
     },
     "execution_count": 228,
     "metadata": {},
     "output_type": "execute_result"
    }
   ],
   "source": [
    "mat[:,6]"
   ]
  },
  {
   "cell_type": "code",
   "execution_count": 229,
   "id": "dea2636d-bbb1-4188-abf0-e201628c4556",
   "metadata": {},
   "outputs": [
    {
     "data": {
      "text/plain": [
       "14"
      ]
     },
     "execution_count": 229,
     "metadata": {},
     "output_type": "execute_result"
    }
   ],
   "source": [
    "mat[1,4]"
   ]
  },
  {
   "cell_type": "code",
   "execution_count": 230,
   "id": "345a25bd-d59d-4632-bbe8-41f8c2317816",
   "metadata": {},
   "outputs": [
    {
     "data": {
      "text/plain": [
       "array([[ 0,  1,  2,  3,  4,  5,  6,  7,  8,  9],\n",
       "       [10, 11, 12, 13, 14, 15, 16, 17, 18, 19],\n",
       "       [20, 21, 22, 23, 24, 25, 26, 27, 28, 29],\n",
       "       [30, 31, 32, 33, 34, 35, 36, 37, 38, 39],\n",
       "       [40, 41, 42, 43, 44, 45, 46, 47, 48, 49],\n",
       "       [50, 51, 52, 53, 54, 55, 56, 57, 58, 59],\n",
       "       [60, 61, 62, 63, 64, 65, 66, 67, 68, 69],\n",
       "       [70, 71, 72, 73, 74, 75, 76, 77, 78, 79],\n",
       "       [80, 81, 82, 83, 84, 85, 86, 87, 88, 89],\n",
       "       [90, 91, 92, 93, 94, 95, 96, 97, 98, 99]])"
      ]
     },
     "execution_count": 230,
     "metadata": {},
     "output_type": "execute_result"
    }
   ],
   "source": [
    "mat"
   ]
  },
  {
   "cell_type": "code",
   "execution_count": 231,
   "id": "160c132e-267b-4765-b915-3208d45cba91",
   "metadata": {},
   "outputs": [
    {
     "data": {
      "text/plain": [
       "array([[10, 11, 12, 13, 14, 15, 16, 17, 18, 19],\n",
       "       [20, 21, 22, 23, 24, 25, 26, 27, 28, 29],\n",
       "       [30, 31, 32, 33, 34, 35, 36, 37, 38, 39]])"
      ]
     },
     "execution_count": 231,
     "metadata": {},
     "output_type": "execute_result"
    }
   ],
   "source": [
    "mat[1:4]"
   ]
  },
  {
   "cell_type": "code",
   "execution_count": 232,
   "id": "7168d8cc-decd-46aa-a4f6-3b33e0843d29",
   "metadata": {},
   "outputs": [
    {
     "data": {
      "text/plain": [
       "array([[30, 31, 32, 33, 34, 35, 36, 37, 38, 39],\n",
       "       [40, 41, 42, 43, 44, 45, 46, 47, 48, 49],\n",
       "       [50, 51, 52, 53, 54, 55, 56, 57, 58, 59],\n",
       "       [60, 61, 62, 63, 64, 65, 66, 67, 68, 69]])"
      ]
     },
     "execution_count": 232,
     "metadata": {},
     "output_type": "execute_result"
    }
   ],
   "source": [
    "mat[3:-3]"
   ]
  },
  {
   "cell_type": "code",
   "execution_count": 233,
   "id": "fa1bbac1-d6c1-4380-9e1b-8fc660959d00",
   "metadata": {},
   "outputs": [
    {
     "data": {
      "text/plain": [
       "array([[ 0,  1,  2,  3,  4,  5,  6,  7,  8,  9],\n",
       "       [10, 11, 12, 13, 14, 15, 16, 17, 18, 19],\n",
       "       [20, 21, 22, 23, 24, 25, 26, 27, 28, 29],\n",
       "       [30, 31, 32, 33, 34, 35, 36, 37, 38, 39],\n",
       "       [40, 41, 42, 43, 44, 45, 46, 47, 48, 49],\n",
       "       [50, 51, 52, 53, 54, 55, 56, 57, 58, 59],\n",
       "       [60, 61, 62, 63, 64, 65, 66, 67, 68, 69],\n",
       "       [70, 71, 72, 73, 74, 75, 76, 77, 78, 79],\n",
       "       [80, 81, 82, 83, 84, 85, 86, 87, 88, 89],\n",
       "       [90, 91, 92, 93, 94, 95, 96, 97, 98, 99]])"
      ]
     },
     "execution_count": 233,
     "metadata": {},
     "output_type": "execute_result"
    }
   ],
   "source": [
    "mat"
   ]
  },
  {
   "cell_type": "code",
   "execution_count": 234,
   "id": "5b9b76a2-a4e6-44b2-b1d6-efb63045febe",
   "metadata": {},
   "outputs": [
    {
     "data": {
      "text/plain": [
       "array([0, 1, 2, 3, 4, 5, 6, 7, 8, 9])"
      ]
     },
     "execution_count": 234,
     "metadata": {},
     "output_type": "execute_result"
    }
   ],
   "source": [
    "mat[0]"
   ]
  },
  {
   "cell_type": "code",
   "execution_count": 235,
   "id": "2e0faa45-dd8a-45bc-91c1-cca37e4adfa9",
   "metadata": {},
   "outputs": [
    {
     "data": {
      "text/plain": [
       "array([50, 51, 52, 53, 54, 55, 56, 57, 58, 59])"
      ]
     },
     "execution_count": 235,
     "metadata": {},
     "output_type": "execute_result"
    }
   ],
   "source": [
    "mat[5]"
   ]
  },
  {
   "cell_type": "code",
   "execution_count": 236,
   "id": "fb4adad7-b394-419f-a943-1177f50c75ab",
   "metadata": {},
   "outputs": [
    {
     "data": {
      "text/plain": [
       "array([[ 0,  1,  2,  3,  4,  5,  6,  7,  8,  9],\n",
       "       [10, 11, 12, 13, 14, 15, 16, 17, 18, 19],\n",
       "       [20, 21, 22, 23, 24, 25, 26, 27, 28, 29],\n",
       "       [30, 31, 32, 33, 34, 35, 36, 37, 38, 39],\n",
       "       [40, 41, 42, 43, 44, 45, 46, 47, 48, 49]])"
      ]
     },
     "execution_count": 236,
     "metadata": {},
     "output_type": "execute_result"
    }
   ],
   "source": [
    "mat[:5]"
   ]
  },
  {
   "cell_type": "code",
   "execution_count": 237,
   "id": "4a35a124-92d5-47f1-9efb-0894f924297e",
   "metadata": {},
   "outputs": [
    {
     "data": {
      "text/plain": [
       "array([[60, 61, 62, 63, 64, 65, 66, 67, 68, 69],\n",
       "       [70, 71, 72, 73, 74, 75, 76, 77, 78, 79],\n",
       "       [80, 81, 82, 83, 84, 85, 86, 87, 88, 89],\n",
       "       [90, 91, 92, 93, 94, 95, 96, 97, 98, 99]])"
      ]
     },
     "execution_count": 237,
     "metadata": {},
     "output_type": "execute_result"
    }
   ],
   "source": [
    "mat[6:]"
   ]
  },
  {
   "cell_type": "code",
   "execution_count": 238,
   "id": "5e9ad599-358c-46ba-9ab6-1aa1ab51c96c",
   "metadata": {},
   "outputs": [
    {
     "data": {
      "text/plain": [
       "array([[ 0,  1,  2,  3,  4,  5,  6,  7,  8,  9],\n",
       "       [10, 11, 12, 13, 14, 15, 16, 17, 18, 19],\n",
       "       [20, 21, 22, 23, 24, 25, 26, 27, 28, 29],\n",
       "       [30, 31, 32, 33, 34, 35, 36, 37, 38, 39],\n",
       "       [40, 41, 42, 43, 44, 45, 46, 47, 48, 49],\n",
       "       [50, 51, 52, 53, 54, 55, 56, 57, 58, 59],\n",
       "       [60, 61, 62, 63, 64, 65, 66, 67, 68, 69],\n",
       "       [70, 71, 72, 73, 74, 75, 76, 77, 78, 79],\n",
       "       [80, 81, 82, 83, 84, 85, 86, 87, 88, 89],\n",
       "       [90, 91, 92, 93, 94, 95, 96, 97, 98, 99]])"
      ]
     },
     "execution_count": 238,
     "metadata": {},
     "output_type": "execute_result"
    }
   ],
   "source": [
    "mat"
   ]
  },
  {
   "cell_type": "code",
   "execution_count": 239,
   "id": "00d2d266-1f14-48e4-915b-2f9d05a51490",
   "metadata": {},
   "outputs": [
    {
     "data": {
      "text/plain": [
       "array([[50, 51, 52, 53, 54, 55, 56, 57, 58, 59],\n",
       "       [60, 61, 62, 63, 64, 65, 66, 67, 68, 69]])"
      ]
     },
     "execution_count": 239,
     "metadata": {},
     "output_type": "execute_result"
    }
   ],
   "source": [
    "mat[5:7]"
   ]
  },
  {
   "cell_type": "code",
   "execution_count": 240,
   "id": "e18588b3-3d5d-4341-a211-6f3f4eed591e",
   "metadata": {},
   "outputs": [
    {
     "data": {
      "text/plain": [
       "array([[ 0,  1,  2,  3,  4,  5,  6,  7,  8,  9],\n",
       "       [10, 11, 12, 13, 14, 15, 16, 17, 18, 19],\n",
       "       [20, 21, 22, 23, 24, 25, 26, 27, 28, 29],\n",
       "       [30, 31, 32, 33, 34, 35, 36, 37, 38, 39],\n",
       "       [40, 41, 42, 43, 44, 45, 46, 47, 48, 49],\n",
       "       [50, 51, 52, 53, 54, 55, 56, 57, 58, 59],\n",
       "       [60, 61, 62, 63, 64, 65, 66, 67, 68, 69],\n",
       "       [70, 71, 72, 73, 74, 75, 76, 77, 78, 79],\n",
       "       [80, 81, 82, 83, 84, 85, 86, 87, 88, 89],\n",
       "       [90, 91, 92, 93, 94, 95, 96, 97, 98, 99]])"
      ]
     },
     "execution_count": 240,
     "metadata": {},
     "output_type": "execute_result"
    }
   ],
   "source": [
    "mat[0:10]"
   ]
  },
  {
   "cell_type": "code",
   "execution_count": 241,
   "id": "184b7491-39df-4b05-a79c-bac854cbc38c",
   "metadata": {},
   "outputs": [
    {
     "data": {
      "text/plain": [
       "array([[ 0,  1,  2,  3,  4,  5,  6,  7,  8,  9],\n",
       "       [10, 11, 12, 13, 14, 15, 16, 17, 18, 19],\n",
       "       [20, 21, 22, 23, 24, 25, 26, 27, 28, 29],\n",
       "       [30, 31, 32, 33, 34, 35, 36, 37, 38, 39],\n",
       "       [40, 41, 42, 43, 44, 45, 46, 47, 48, 49],\n",
       "       [50, 51, 52, 53, 54, 55, 56, 57, 58, 59],\n",
       "       [60, 61, 62, 63, 64, 65, 66, 67, 68, 69],\n",
       "       [70, 71, 72, 73, 74, 75, 76, 77, 78, 79],\n",
       "       [80, 81, 82, 83, 84, 85, 86, 87, 88, 89],\n",
       "       [90, 91, 92, 93, 94, 95, 96, 97, 98, 99]])"
      ]
     },
     "execution_count": 241,
     "metadata": {},
     "output_type": "execute_result"
    }
   ],
   "source": [
    "mat[:]"
   ]
  },
  {
   "cell_type": "code",
   "execution_count": 242,
   "id": "ae5c729b-46fd-4eed-bcc6-adaf958e6a59",
   "metadata": {},
   "outputs": [
    {
     "data": {
      "text/plain": [
       "array([[ 0,  1,  2,  3,  4,  5,  6,  7,  8,  9],\n",
       "       [30, 31, 32, 33, 34, 35, 36, 37, 38, 39],\n",
       "       [60, 61, 62, 63, 64, 65, 66, 67, 68, 69],\n",
       "       [90, 91, 92, 93, 94, 95, 96, 97, 98, 99]])"
      ]
     },
     "execution_count": 242,
     "metadata": {},
     "output_type": "execute_result"
    }
   ],
   "source": [
    "mat[0:10:3]"
   ]
  },
  {
   "cell_type": "code",
   "execution_count": 243,
   "id": "ccec2ca5-8db6-4163-b6a4-0af75851567f",
   "metadata": {},
   "outputs": [
    {
     "data": {
      "text/plain": [
       "array([[ 0,  1,  2,  3,  4,  5,  6,  7,  8,  9],\n",
       "       [50, 51, 52, 53, 54, 55, 56, 57, 58, 59]])"
      ]
     },
     "execution_count": 243,
     "metadata": {},
     "output_type": "execute_result"
    }
   ],
   "source": [
    "mat[0:10:5]"
   ]
  },
  {
   "cell_type": "code",
   "execution_count": 244,
   "id": "cc47315e-2f40-4e0a-ab84-e24fe0c3eb48",
   "metadata": {},
   "outputs": [
    {
     "data": {
      "text/plain": [
       "array([[ 0,  1,  2,  3,  4,  5,  6,  7,  8,  9],\n",
       "       [20, 21, 22, 23, 24, 25, 26, 27, 28, 29],\n",
       "       [40, 41, 42, 43, 44, 45, 46, 47, 48, 49],\n",
       "       [60, 61, 62, 63, 64, 65, 66, 67, 68, 69],\n",
       "       [80, 81, 82, 83, 84, 85, 86, 87, 88, 89]])"
      ]
     },
     "execution_count": 244,
     "metadata": {},
     "output_type": "execute_result"
    }
   ],
   "source": [
    "mat[0:10:2]"
   ]
  },
  {
   "cell_type": "code",
   "execution_count": 245,
   "id": "b9c1171c-bf7d-42a5-9e8b-6827e04cac75",
   "metadata": {},
   "outputs": [
    {
     "data": {
      "text/plain": [
       "array([[ 0,  1,  2,  3,  4,  5,  6,  7,  8,  9],\n",
       "       [10, 11, 12, 13, 14, 15, 16, 17, 18, 19],\n",
       "       [20, 21, 22, 23, 24, 25, 26, 27, 28, 29],\n",
       "       [30, 31, 32, 33, 34, 35, 36, 37, 38, 39],\n",
       "       [40, 41, 42, 43, 44, 45, 46, 47, 48, 49],\n",
       "       [50, 51, 52, 53, 54, 55, 56, 57, 58, 59],\n",
       "       [60, 61, 62, 63, 64, 65, 66, 67, 68, 69],\n",
       "       [70, 71, 72, 73, 74, 75, 76, 77, 78, 79],\n",
       "       [80, 81, 82, 83, 84, 85, 86, 87, 88, 89],\n",
       "       [90, 91, 92, 93, 94, 95, 96, 97, 98, 99]])"
      ]
     },
     "execution_count": 245,
     "metadata": {},
     "output_type": "execute_result"
    }
   ],
   "source": [
    "mat"
   ]
  },
  {
   "cell_type": "code",
   "execution_count": 246,
   "id": "4d922b93-ee17-467a-8f4b-fa09e1e42ea6",
   "metadata": {},
   "outputs": [
    {
     "data": {
      "text/plain": [
       "array([[40, 41, 42, 43, 44, 45, 46, 47, 48, 49],\n",
       "       [50, 51, 52, 53, 54, 55, 56, 57, 58, 59],\n",
       "       [60, 61, 62, 63, 64, 65, 66, 67, 68, 69],\n",
       "       [70, 71, 72, 73, 74, 75, 76, 77, 78, 79],\n",
       "       [80, 81, 82, 83, 84, 85, 86, 87, 88, 89],\n",
       "       [90, 91, 92, 93, 94, 95, 96, 97, 98, 99]])"
      ]
     },
     "execution_count": 246,
     "metadata": {},
     "output_type": "execute_result"
    }
   ],
   "source": [
    "mat[4:]"
   ]
  },
  {
   "cell_type": "code",
   "execution_count": 248,
   "id": "d87c8378-2648-4816-9a7f-ce2c6081d2d9",
   "metadata": {},
   "outputs": [
    {
     "data": {
      "text/plain": [
       "array([[ 0,  1,  2,  3,  4,  5,  6,  7,  8,  9],\n",
       "       [10, 11, 12, 13, 14, 15, 16, 17, 18, 19],\n",
       "       [20, 21, 22, 23, 24, 25, 26, 27, 28, 29],\n",
       "       [30, 31, 32, 33, 34, 35, 36, 37, 38, 39]])"
      ]
     },
     "execution_count": 248,
     "metadata": {},
     "output_type": "execute_result"
    }
   ],
   "source": [
    "mat[:4]"
   ]
  },
  {
   "cell_type": "code",
   "execution_count": 250,
   "id": "5c735970-f5c9-4ff2-9297-7ac06431e4d4",
   "metadata": {},
   "outputs": [
    {
     "data": {
      "text/plain": [
       "array([[ 0,  1,  2,  3,  4,  5,  6,  7,  8,  9],\n",
       "       [10, 11, 12, 13, 14, 15, 16, 17, 18, 19],\n",
       "       [20, 21, 22, 23, 24, 25, 26, 27, 28, 29],\n",
       "       [30, 31, 32, 33, 34, 35, 36, 37, 38, 39],\n",
       "       [40, 41, 42, 43, 44, 45, 46, 47, 48, 49],\n",
       "       [50, 51, 52, 53, 54, 55, 56, 57, 58, 59],\n",
       "       [60, 61, 62, 63, 64, 65, 66, 67, 68, 69],\n",
       "       [70, 71, 72, 73, 74, 75, 76, 77, 78, 79],\n",
       "       [80, 81, 82, 83, 84, 85, 86, 87, 88, 89],\n",
       "       [90, 91, 92, 93, 94, 95, 96, 97, 98, 99]])"
      ]
     },
     "execution_count": 250,
     "metadata": {},
     "output_type": "execute_result"
    }
   ],
   "source": [
    "mat"
   ]
  },
  {
   "cell_type": "code",
   "execution_count": 252,
   "id": "01237cbe-e368-4011-bce2-286434c35023",
   "metadata": {},
   "outputs": [
    {
     "data": {
      "text/plain": [
       "array([[90, 91, 92, 93, 94, 95, 96, 97, 98, 99],\n",
       "       [80, 81, 82, 83, 84, 85, 86, 87, 88, 89],\n",
       "       [70, 71, 72, 73, 74, 75, 76, 77, 78, 79],\n",
       "       [60, 61, 62, 63, 64, 65, 66, 67, 68, 69],\n",
       "       [50, 51, 52, 53, 54, 55, 56, 57, 58, 59],\n",
       "       [40, 41, 42, 43, 44, 45, 46, 47, 48, 49],\n",
       "       [30, 31, 32, 33, 34, 35, 36, 37, 38, 39],\n",
       "       [20, 21, 22, 23, 24, 25, 26, 27, 28, 29],\n",
       "       [10, 11, 12, 13, 14, 15, 16, 17, 18, 19],\n",
       "       [ 0,  1,  2,  3,  4,  5,  6,  7,  8,  9]])"
      ]
     },
     "execution_count": 252,
     "metadata": {},
     "output_type": "execute_result"
    }
   ],
   "source": [
    "mat[::-1]"
   ]
  },
  {
   "cell_type": "code",
   "execution_count": 253,
   "id": "e3daef31-7d09-40fa-879f-96e768dd6b28",
   "metadata": {},
   "outputs": [
    {
     "data": {
      "text/plain": [
       "array([[90, 91, 92, 93, 94, 95, 96, 97, 98, 99],\n",
       "       [70, 71, 72, 73, 74, 75, 76, 77, 78, 79],\n",
       "       [50, 51, 52, 53, 54, 55, 56, 57, 58, 59],\n",
       "       [30, 31, 32, 33, 34, 35, 36, 37, 38, 39],\n",
       "       [10, 11, 12, 13, 14, 15, 16, 17, 18, 19]])"
      ]
     },
     "execution_count": 253,
     "metadata": {},
     "output_type": "execute_result"
    }
   ],
   "source": [
    "mat[::-2]"
   ]
  },
  {
   "cell_type": "code",
   "execution_count": 254,
   "id": "b13108d0-15f8-45f3-b277-44709fd1d2b0",
   "metadata": {},
   "outputs": [
    {
     "data": {
      "text/plain": [
       "array([[90, 91, 92, 93, 94, 95, 96, 97, 98, 99],\n",
       "       [60, 61, 62, 63, 64, 65, 66, 67, 68, 69],\n",
       "       [30, 31, 32, 33, 34, 35, 36, 37, 38, 39],\n",
       "       [ 0,  1,  2,  3,  4,  5,  6,  7,  8,  9]])"
      ]
     },
     "execution_count": 254,
     "metadata": {},
     "output_type": "execute_result"
    }
   ],
   "source": [
    "mat[::-3]"
   ]
  },
  {
   "cell_type": "code",
   "execution_count": 255,
   "id": "4a080cbf-38b6-455d-8599-c4f91fea2a30",
   "metadata": {},
   "outputs": [
    {
     "data": {
      "text/plain": [
       "array([[ 0,  1,  2,  3,  4,  5,  6,  7,  8,  9],\n",
       "       [10, 11, 12, 13, 14, 15, 16, 17, 18, 19],\n",
       "       [20, 21, 22, 23, 24, 25, 26, 27, 28, 29],\n",
       "       [30, 31, 32, 33, 34, 35, 36, 37, 38, 39],\n",
       "       [40, 41, 42, 43, 44, 45, 46, 47, 48, 49],\n",
       "       [50, 51, 52, 53, 54, 55, 56, 57, 58, 59],\n",
       "       [60, 61, 62, 63, 64, 65, 66, 67, 68, 69],\n",
       "       [70, 71, 72, 73, 74, 75, 76, 77, 78, 79],\n",
       "       [80, 81, 82, 83, 84, 85, 86, 87, 88, 89],\n",
       "       [90, 91, 92, 93, 94, 95, 96, 97, 98, 99]])"
      ]
     },
     "execution_count": 255,
     "metadata": {},
     "output_type": "execute_result"
    }
   ],
   "source": [
    "mat"
   ]
  },
  {
   "cell_type": "code",
   "execution_count": 256,
   "id": "3301975c-23c1-42b3-9151-5089a9886db0",
   "metadata": {},
   "outputs": [
    {
     "data": {
      "text/plain": [
       "array([[90, 91, 92, 93, 94, 95, 96, 97, 98, 99],\n",
       "       [40, 41, 42, 43, 44, 45, 46, 47, 48, 49]])"
      ]
     },
     "execution_count": 256,
     "metadata": {},
     "output_type": "execute_result"
    }
   ],
   "source": [
    "mat[::-5]"
   ]
  },
  {
   "cell_type": "code",
   "execution_count": 257,
   "id": "709ed42b-3eeb-45c3-893a-0fbf68f8a674",
   "metadata": {},
   "outputs": [
    {
     "data": {
      "text/plain": [
       "array([[20, 21, 22, 23, 24, 25, 26, 27, 28, 29],\n",
       "       [30, 31, 32, 33, 34, 35, 36, 37, 38, 39],\n",
       "       [40, 41, 42, 43, 44, 45, 46, 47, 48, 49],\n",
       "       [50, 51, 52, 53, 54, 55, 56, 57, 58, 59]])"
      ]
     },
     "execution_count": 257,
     "metadata": {},
     "output_type": "execute_result"
    }
   ],
   "source": [
    "mat[2:6]"
   ]
  },
  {
   "cell_type": "code",
   "execution_count": 258,
   "id": "003f8797-c53b-4258-a049-d215fe749c93",
   "metadata": {},
   "outputs": [
    {
     "data": {
      "text/plain": [
       "48"
      ]
     },
     "execution_count": 258,
     "metadata": {},
     "output_type": "execute_result"
    }
   ],
   "source": [
    "mat[4,8]"
   ]
  },
  {
   "cell_type": "code",
   "execution_count": 259,
   "id": "349c34b8-3f98-4507-af94-f18031557c20",
   "metadata": {},
   "outputs": [
    {
     "data": {
      "text/plain": [
       "8"
      ]
     },
     "execution_count": 259,
     "metadata": {},
     "output_type": "execute_result"
    }
   ],
   "source": [
    "mat[0,8]"
   ]
  },
  {
   "cell_type": "code",
   "execution_count": 260,
   "id": "ccac76a0-ebac-4d62-895e-3b4ddf37d517",
   "metadata": {},
   "outputs": [
    {
     "data": {
      "text/plain": [
       "array([[ 0,  1,  2,  3,  4,  5,  6,  7,  8,  9],\n",
       "       [10, 11, 12, 13, 14, 15, 16, 17, 18, 19],\n",
       "       [20, 21, 22, 23, 24, 25, 26, 27, 28, 29],\n",
       "       [30, 31, 32, 33, 34, 35, 36, 37, 38, 39],\n",
       "       [40, 41, 42, 43, 44, 45, 46, 47, 48, 49],\n",
       "       [50, 51, 52, 53, 54, 55, 56, 57, 58, 59],\n",
       "       [60, 61, 62, 63, 64, 65, 66, 67, 68, 69],\n",
       "       [70, 71, 72, 73, 74, 75, 76, 77, 78, 79],\n",
       "       [80, 81, 82, 83, 84, 85, 86, 87, 88, 89],\n",
       "       [90, 91, 92, 93, 94, 95, 96, 97, 98, 99]])"
      ]
     },
     "execution_count": 260,
     "metadata": {},
     "output_type": "execute_result"
    }
   ],
   "source": [
    "mat"
   ]
  },
  {
   "cell_type": "code",
   "execution_count": 261,
   "id": "18dab15c-2e51-4b3d-8282-9dc13957661d",
   "metadata": {},
   "outputs": [
    {
     "data": {
      "text/plain": [
       "array([[22, 23],\n",
       "       [32, 33],\n",
       "       [42, 43],\n",
       "       [52, 53]])"
      ]
     },
     "execution_count": 261,
     "metadata": {},
     "output_type": "execute_result"
    }
   ],
   "source": [
    "mat[2:6,2:4]    #2:6---> only row part /// 2:4---> it indicates only column part"
   ]
  },
  {
   "cell_type": "code",
   "execution_count": 264,
   "id": "9d0bdd88-776c-4180-b851-8a4afce3cabd",
   "metadata": {},
   "outputs": [
    {
     "data": {
      "text/plain": [
       "array([[33, 34, 35, 36, 37],\n",
       "       [43, 44, 45, 46, 47],\n",
       "       [53, 54, 55, 56, 57],\n",
       "       [63, 64, 65, 66, 67]])"
      ]
     },
     "execution_count": 264,
     "metadata": {},
     "output_type": "execute_result"
    }
   ],
   "source": [
    "mat[3:7,3:8]"
   ]
  },
  {
   "cell_type": "code",
   "execution_count": 266,
   "id": "ed498d7d-3170-48ed-8a12-6ff91d0bc60d",
   "metadata": {},
   "outputs": [
    {
     "data": {
      "text/plain": [
       "array([[12, 13, 14],\n",
       "       [22, 23, 24],\n",
       "       [32, 33, 34]])"
      ]
     },
     "execution_count": 266,
     "metadata": {},
     "output_type": "execute_result"
    }
   ],
   "source": [
    "mat[1:4,2:5]"
   ]
  },
  {
   "cell_type": "code",
   "execution_count": 267,
   "id": "47b25e96-9ebb-4e93-be7d-83f47813d3e7",
   "metadata": {},
   "outputs": [
    {
     "data": {
      "text/plain": [
       "array([[ 0,  1,  2,  3,  4,  5,  6,  7,  8,  9],\n",
       "       [10, 11, 12, 13, 14, 15, 16, 17, 18, 19],\n",
       "       [20, 21, 22, 23, 24, 25, 26, 27, 28, 29],\n",
       "       [30, 31, 32, 33, 34, 35, 36, 37, 38, 39],\n",
       "       [40, 41, 42, 43, 44, 45, 46, 47, 48, 49],\n",
       "       [50, 51, 52, 53, 54, 55, 56, 57, 58, 59],\n",
       "       [60, 61, 62, 63, 64, 65, 66, 67, 68, 69],\n",
       "       [70, 71, 72, 73, 74, 75, 76, 77, 78, 79],\n",
       "       [80, 81, 82, 83, 84, 85, 86, 87, 88, 89],\n",
       "       [90, 91, 92, 93, 94, 95, 96, 97, 98, 99]])"
      ]
     },
     "execution_count": 267,
     "metadata": {},
     "output_type": "execute_result"
    }
   ],
   "source": [
    "mat"
   ]
  },
  {
   "cell_type": "code",
   "execution_count": 268,
   "id": "e72fd16a-23a7-468b-8d06-40c7daa8f858",
   "metadata": {},
   "outputs": [
    {
     "data": {
      "text/plain": [
       "1"
      ]
     },
     "execution_count": 268,
     "metadata": {},
     "output_type": "execute_result"
    }
   ],
   "source": [
    "mat[0,1]"
   ]
  },
  {
   "cell_type": "code",
   "execution_count": 269,
   "id": "0ccd4697-8916-44dc-a1c9-2ac820769d99",
   "metadata": {},
   "outputs": [
    {
     "data": {
      "text/plain": [
       "16"
      ]
     },
     "execution_count": 269,
     "metadata": {},
     "output_type": "execute_result"
    }
   ],
   "source": [
    "mat[1,6]"
   ]
  },
  {
   "cell_type": "code",
   "execution_count": 270,
   "id": "c60d6e8f-f4b6-4221-99d7-3a3930d281bd",
   "metadata": {},
   "outputs": [
    {
     "data": {
      "text/plain": [
       "array([[10, 11, 12, 13, 14, 15, 16, 17, 18, 19],\n",
       "       [20, 21, 22, 23, 24, 25, 26, 27, 28, 29],\n",
       "       [30, 31, 32, 33, 34, 35, 36, 37, 38, 39],\n",
       "       [40, 41, 42, 43, 44, 45, 46, 47, 48, 49],\n",
       "       [50, 51, 52, 53, 54, 55, 56, 57, 58, 59],\n",
       "       [60, 61, 62, 63, 64, 65, 66, 67, 68, 69],\n",
       "       [70, 71, 72, 73, 74, 75, 76, 77, 78, 79],\n",
       "       [80, 81, 82, 83, 84, 85, 86, 87, 88, 89],\n",
       "       [90, 91, 92, 93, 94, 95, 96, 97, 98, 99]])"
      ]
     },
     "execution_count": 270,
     "metadata": {},
     "output_type": "execute_result"
    }
   ],
   "source": [
    "mat[1:]"
   ]
  },
  {
   "cell_type": "code",
   "execution_count": 271,
   "id": "acac7a21-79a2-42c1-83e3-9b37bc47abf9",
   "metadata": {},
   "outputs": [
    {
     "data": {
      "text/plain": [
       "array([[ 0,  1,  2,  3,  4,  5,  6,  7,  8,  9],\n",
       "       [10, 11, 12, 13, 14, 15, 16, 17, 18, 19],\n",
       "       [20, 21, 22, 23, 24, 25, 26, 27, 28, 29],\n",
       "       [30, 31, 32, 33, 34, 35, 36, 37, 38, 39],\n",
       "       [40, 41, 42, 43, 44, 45, 46, 47, 48, 49],\n",
       "       [50, 51, 52, 53, 54, 55, 56, 57, 58, 59],\n",
       "       [60, 61, 62, 63, 64, 65, 66, 67, 68, 69],\n",
       "       [70, 71, 72, 73, 74, 75, 76, 77, 78, 79],\n",
       "       [80, 81, 82, 83, 84, 85, 86, 87, 88, 89],\n",
       "       [90, 91, 92, 93, 94, 95, 96, 97, 98, 99]])"
      ]
     },
     "execution_count": 271,
     "metadata": {},
     "output_type": "execute_result"
    }
   ],
   "source": [
    "mat"
   ]
  },
  {
   "cell_type": "code",
   "execution_count": 272,
   "id": "f1a0f77c-5150-40d9-9eee-e2f326d7334b",
   "metadata": {},
   "outputs": [
    {
     "data": {
      "text/plain": [
       "array([[ 0,  1,  2,  3,  4,  5,  6,  7,  8,  9],\n",
       "       [10, 11, 12, 13, 14, 15, 16, 17, 18, 19],\n",
       "       [20, 21, 22, 23, 24, 25, 26, 27, 28, 29],\n",
       "       [30, 31, 32, 33, 34, 35, 36, 37, 38, 39],\n",
       "       [40, 41, 42, 43, 44, 45, 46, 47, 48, 49],\n",
       "       [50, 51, 52, 53, 54, 55, 56, 57, 58, 59]])"
      ]
     },
     "execution_count": 272,
     "metadata": {},
     "output_type": "execute_result"
    }
   ],
   "source": [
    "mat[:6]"
   ]
  },
  {
   "cell_type": "code",
   "execution_count": 273,
   "id": "06a5304a-00f8-4bf5-bf15-a59d35bf24cb",
   "metadata": {},
   "outputs": [
    {
     "data": {
      "text/plain": [
       "array([[0, 1, 2, 3, 4, 5, 6, 7, 8, 9]])"
      ]
     },
     "execution_count": 273,
     "metadata": {},
     "output_type": "execute_result"
    }
   ],
   "source": [
    "mat[0:1]"
   ]
  },
  {
   "cell_type": "code",
   "execution_count": 274,
   "id": "be648ea6-bcad-4f26-87ce-9ea325a8a3ae",
   "metadata": {},
   "outputs": [
    {
     "data": {
      "text/plain": [
       "array([[ 0,  1,  2,  3,  4,  5,  6,  7,  8,  9],\n",
       "       [10, 11, 12, 13, 14, 15, 16, 17, 18, 19],\n",
       "       [20, 21, 22, 23, 24, 25, 26, 27, 28, 29],\n",
       "       [30, 31, 32, 33, 34, 35, 36, 37, 38, 39],\n",
       "       [40, 41, 42, 43, 44, 45, 46, 47, 48, 49],\n",
       "       [50, 51, 52, 53, 54, 55, 56, 57, 58, 59],\n",
       "       [60, 61, 62, 63, 64, 65, 66, 67, 68, 69],\n",
       "       [70, 71, 72, 73, 74, 75, 76, 77, 78, 79],\n",
       "       [80, 81, 82, 83, 84, 85, 86, 87, 88, 89],\n",
       "       [90, 91, 92, 93, 94, 95, 96, 97, 98, 99]])"
      ]
     },
     "execution_count": 274,
     "metadata": {},
     "output_type": "execute_result"
    }
   ],
   "source": [
    "mat"
   ]
  },
  {
   "cell_type": "code",
   "execution_count": 275,
   "id": "305c3d8a-0c55-4b15-b158-8e8fab790aec",
   "metadata": {},
   "outputs": [
    {
     "data": {
      "text/plain": [
       "array([[30, 31, 32, 33, 34, 35, 36, 37, 38, 39],\n",
       "       [40, 41, 42, 43, 44, 45, 46, 47, 48, 49]])"
      ]
     },
     "execution_count": 275,
     "metadata": {},
     "output_type": "execute_result"
    }
   ],
   "source": [
    "mat[3:5]"
   ]
  },
  {
   "cell_type": "code",
   "execution_count": 276,
   "id": "f84fc476-ade8-4ffb-ada5-6009b7a8d775",
   "metadata": {},
   "outputs": [
    {
     "data": {
      "text/plain": [
       "35"
      ]
     },
     "execution_count": 276,
     "metadata": {},
     "output_type": "execute_result"
    }
   ],
   "source": [
    "mat[3,5]"
   ]
  },
  {
   "cell_type": "code",
   "execution_count": 277,
   "id": "05fdc009-de52-4003-ab5c-a3f0e09ff597",
   "metadata": {},
   "outputs": [
    {
     "data": {
      "text/plain": [
       "array([[ 0,  1,  2,  3,  4,  5,  6,  7,  8,  9],\n",
       "       [10, 11, 12, 13, 14, 15, 16, 17, 18, 19],\n",
       "       [20, 21, 22, 23, 24, 25, 26, 27, 28, 29],\n",
       "       [30, 31, 32, 33, 34, 35, 36, 37, 38, 39],\n",
       "       [40, 41, 42, 43, 44, 45, 46, 47, 48, 49],\n",
       "       [50, 51, 52, 53, 54, 55, 56, 57, 58, 59],\n",
       "       [60, 61, 62, 63, 64, 65, 66, 67, 68, 69],\n",
       "       [70, 71, 72, 73, 74, 75, 76, 77, 78, 79],\n",
       "       [80, 81, 82, 83, 84, 85, 86, 87, 88, 89],\n",
       "       [90, 91, 92, 93, 94, 95, 96, 97, 98, 99]])"
      ]
     },
     "execution_count": 277,
     "metadata": {},
     "output_type": "execute_result"
    }
   ],
   "source": [
    "mat"
   ]
  },
  {
   "cell_type": "code",
   "execution_count": 278,
   "id": "31177b45-c127-4301-a176-45637468be11",
   "metadata": {},
   "outputs": [
    {
     "data": {
      "text/plain": [
       "array([[12, 13]])"
      ]
     },
     "execution_count": 278,
     "metadata": {},
     "output_type": "execute_result"
    }
   ],
   "source": [
    "mat[1:2,2:4]"
   ]
  },
  {
   "cell_type": "code",
   "execution_count": 279,
   "id": "5cb2331f-1454-47c0-87df-db00a7e9138a",
   "metadata": {},
   "outputs": [
    {
     "data": {
      "text/plain": [
       "array([[ 0,  1,  2,  3,  4,  5,  6,  7,  8,  9],\n",
       "       [10, 11, 12, 13, 14, 15, 16, 17, 18, 19],\n",
       "       [20, 21, 22, 23, 24, 25, 26, 27, 28, 29],\n",
       "       [30, 31, 32, 33, 34, 35, 36, 37, 38, 39],\n",
       "       [40, 41, 42, 43, 44, 45, 46, 47, 48, 49],\n",
       "       [50, 51, 52, 53, 54, 55, 56, 57, 58, 59],\n",
       "       [60, 61, 62, 63, 64, 65, 66, 67, 68, 69],\n",
       "       [70, 71, 72, 73, 74, 75, 76, 77, 78, 79],\n",
       "       [80, 81, 82, 83, 84, 85, 86, 87, 88, 89],\n",
       "       [90, 91, 92, 93, 94, 95, 96, 97, 98, 99]])"
      ]
     },
     "execution_count": 279,
     "metadata": {},
     "output_type": "execute_result"
    }
   ],
   "source": [
    "mat"
   ]
  },
  {
   "cell_type": "code",
   "execution_count": 282,
   "id": "3b57007a-ec3e-4828-ad2b-29f281b36bf5",
   "metadata": {},
   "outputs": [
    {
     "data": {
      "text/plain": [
       "array([[22]])"
      ]
     },
     "execution_count": 282,
     "metadata": {},
     "output_type": "execute_result"
    }
   ],
   "source": [
    "mat[2:3,2:3]"
   ]
  },
  {
   "cell_type": "code",
   "execution_count": 283,
   "id": "8fbb54f2-163b-401a-8ffc-7ccef004bf8b",
   "metadata": {},
   "outputs": [
    {
     "data": {
      "text/plain": [
       "array([[ 0,  1,  2,  3,  4,  5,  6,  7,  8,  9],\n",
       "       [10, 11, 12, 13, 14, 15, 16, 17, 18, 19],\n",
       "       [20, 21, 22, 23, 24, 25, 26, 27, 28, 29],\n",
       "       [30, 31, 32, 33, 34, 35, 36, 37, 38, 39],\n",
       "       [40, 41, 42, 43, 44, 45, 46, 47, 48, 49],\n",
       "       [50, 51, 52, 53, 54, 55, 56, 57, 58, 59],\n",
       "       [60, 61, 62, 63, 64, 65, 66, 67, 68, 69],\n",
       "       [70, 71, 72, 73, 74, 75, 76, 77, 78, 79],\n",
       "       [80, 81, 82, 83, 84, 85, 86, 87, 88, 89],\n",
       "       [90, 91, 92, 93, 94, 95, 96, 97, 98, 99]])"
      ]
     },
     "execution_count": 283,
     "metadata": {},
     "output_type": "execute_result"
    }
   ],
   "source": [
    "mat"
   ]
  },
  {
   "cell_type": "code",
   "execution_count": 284,
   "id": "b2fc250d-3d19-42cb-a905-904b0ca6b3dd",
   "metadata": {},
   "outputs": [
    {
     "data": {
      "text/plain": [
       "array([[32, 33],\n",
       "       [42, 43]])"
      ]
     },
     "execution_count": 284,
     "metadata": {},
     "output_type": "execute_result"
    }
   ],
   "source": [
    "mat[3:5,2:4,]"
   ]
  },
  {
   "cell_type": "code",
   "execution_count": 285,
   "id": "2bdb0e38-a0f7-4dd8-89cd-0e3e9db895bd",
   "metadata": {},
   "outputs": [
    {
     "data": {
      "text/plain": [
       "array([[ 0,  1,  2,  3,  4,  5,  6,  7,  8,  9],\n",
       "       [10, 11, 12, 13, 14, 15, 16, 17, 18, 19],\n",
       "       [20, 21, 22, 23, 24, 25, 26, 27, 28, 29],\n",
       "       [30, 31, 32, 33, 34, 35, 36, 37, 38, 39],\n",
       "       [40, 41, 42, 43, 44, 45, 46, 47, 48, 49],\n",
       "       [50, 51, 52, 53, 54, 55, 56, 57, 58, 59],\n",
       "       [60, 61, 62, 63, 64, 65, 66, 67, 68, 69],\n",
       "       [70, 71, 72, 73, 74, 75, 76, 77, 78, 79],\n",
       "       [80, 81, 82, 83, 84, 85, 86, 87, 88, 89],\n",
       "       [90, 91, 92, 93, 94, 95, 96, 97, 98, 99]])"
      ]
     },
     "execution_count": 285,
     "metadata": {},
     "output_type": "execute_result"
    }
   ],
   "source": [
    "mat"
   ]
  },
  {
   "cell_type": "code",
   "execution_count": 286,
   "id": "5ce7fd96-1ab7-4583-a1ff-1c6f8323e543",
   "metadata": {},
   "outputs": [
    {
     "data": {
      "text/plain": [
       "array([[24]])"
      ]
     },
     "execution_count": 286,
     "metadata": {},
     "output_type": "execute_result"
    }
   ],
   "source": [
    "mat[2:3,4:5]"
   ]
  },
  {
   "cell_type": "markdown",
   "id": "b587d497-8bf8-4317-8158-21a18776c5f2",
   "metadata": {},
   "source": [
    "# Masking"
   ]
  },
  {
   "cell_type": "code",
   "execution_count": 287,
   "id": "00447c51-95a7-4e6d-9ebc-101c3151244e",
   "metadata": {},
   "outputs": [
    {
     "data": {
      "text/plain": [
       "array([[ 0,  1,  2,  3,  4,  5,  6,  7,  8,  9],\n",
       "       [10, 11, 12, 13, 14, 15, 16, 17, 18, 19],\n",
       "       [20, 21, 22, 23, 24, 25, 26, 27, 28, 29],\n",
       "       [30, 31, 32, 33, 34, 35, 36, 37, 38, 39],\n",
       "       [40, 41, 42, 43, 44, 45, 46, 47, 48, 49],\n",
       "       [50, 51, 52, 53, 54, 55, 56, 57, 58, 59],\n",
       "       [60, 61, 62, 63, 64, 65, 66, 67, 68, 69],\n",
       "       [70, 71, 72, 73, 74, 75, 76, 77, 78, 79],\n",
       "       [80, 81, 82, 83, 84, 85, 86, 87, 88, 89],\n",
       "       [90, 91, 92, 93, 94, 95, 96, 97, 98, 99]])"
      ]
     },
     "execution_count": 287,
     "metadata": {},
     "output_type": "execute_result"
    }
   ],
   "source": [
    "mat  # we also called as filter"
   ]
  },
  {
   "cell_type": "code",
   "execution_count": 288,
   "id": "458cacb4-015a-443e-a7c5-4614730517dd",
   "metadata": {},
   "outputs": [
    {
     "data": {
      "text/plain": [
       "1995450828144"
      ]
     },
     "execution_count": 288,
     "metadata": {},
     "output_type": "execute_result"
    }
   ],
   "source": [
    "id(mat)"
   ]
  },
  {
   "cell_type": "code",
   "execution_count": 289,
   "id": "47d2e439-d35c-4a37-8082-26ed4fd17020",
   "metadata": {},
   "outputs": [
    {
     "data": {
      "text/plain": [
       "array([[ 0,  1,  2,  3,  4,  5,  6,  7,  8,  9],\n",
       "       [10, 11, 12, 13, 14, 15, 16, 17, 18, 19],\n",
       "       [20, 21, 22, 23, 24, 25, 26, 27, 28, 29],\n",
       "       [30, 31, 32, 33, 34, 35, 36, 37, 38, 39],\n",
       "       [40, 41, 42, 43, 44, 45, 46, 47, 48, 49],\n",
       "       [50, 51, 52, 53, 54, 55, 56, 57, 58, 59],\n",
       "       [60, 61, 62, 63, 64, 65, 66, 67, 68, 69],\n",
       "       [70, 71, 72, 73, 74, 75, 76, 77, 78, 79],\n",
       "       [80, 81, 82, 83, 84, 85, 86, 87, 88, 89],\n",
       "       [90, 91, 92, 93, 94, 95, 96, 97, 98, 99]])"
      ]
     },
     "execution_count": 289,
     "metadata": {},
     "output_type": "execute_result"
    }
   ],
   "source": [
    "mat"
   ]
  },
  {
   "cell_type": "code",
   "execution_count": 290,
   "id": "a96f56e3-4483-45f0-80a0-61a978d9ad0d",
   "metadata": {},
   "outputs": [
    {
     "data": {
      "text/plain": [
       "array([[ True,  True,  True,  True,  True,  True,  True,  True,  True,\n",
       "         True],\n",
       "       [ True,  True,  True,  True,  True,  True,  True,  True,  True,\n",
       "         True],\n",
       "       [ True,  True,  True,  True,  True,  True,  True,  True,  True,\n",
       "         True],\n",
       "       [ True,  True,  True,  True,  True,  True,  True,  True,  True,\n",
       "         True],\n",
       "       [ True,  True,  True,  True,  True,  True,  True,  True,  True,\n",
       "         True],\n",
       "       [False, False, False, False, False, False, False, False, False,\n",
       "        False],\n",
       "       [False, False, False, False, False, False, False, False, False,\n",
       "        False],\n",
       "       [False, False, False, False, False, False, False, False, False,\n",
       "        False],\n",
       "       [False, False, False, False, False, False, False, False, False,\n",
       "        False],\n",
       "       [False, False, False, False, False, False, False, False, False,\n",
       "        False]])"
      ]
     },
     "execution_count": 290,
     "metadata": {},
     "output_type": "execute_result"
    }
   ],
   "source": [
    "mat<50"
   ]
  },
  {
   "cell_type": "code",
   "execution_count": 291,
   "id": "fbbeb4cf-b6a1-4349-91ee-720178c18917",
   "metadata": {},
   "outputs": [
    {
     "data": {
      "text/plain": [
       "array([ 0,  1,  2,  3,  4,  5,  6,  7,  8,  9, 10, 11, 12, 13, 14, 15, 16,\n",
       "       17, 18, 19, 20, 21, 22, 23, 24, 25, 26, 27, 28, 29, 30, 31, 32, 33,\n",
       "       34, 35, 36, 37, 38, 39, 40, 41, 42, 43, 44, 45, 46, 47, 48, 49])"
      ]
     },
     "execution_count": 291,
     "metadata": {},
     "output_type": "execute_result"
    }
   ],
   "source": [
    "mat[mat<50]"
   ]
  },
  {
   "cell_type": "code",
   "execution_count": 292,
   "id": "270fb476-cbd6-458b-bba9-0ab0974bc287",
   "metadata": {},
   "outputs": [
    {
     "data": {
      "text/plain": [
       "array([ 0,  1,  2,  3,  4,  5,  6,  7,  8,  9, 10, 11, 12, 13, 14, 15, 16,\n",
       "       17, 18, 19, 20, 21, 22, 23, 24, 25, 26, 27, 28, 29, 30, 31, 32, 33,\n",
       "       34, 35, 36, 37, 38, 39, 40, 41, 42, 43, 44, 45, 46, 47, 48, 49, 50])"
      ]
     },
     "execution_count": 292,
     "metadata": {},
     "output_type": "execute_result"
    }
   ],
   "source": [
    "mat[mat<=50]"
   ]
  },
  {
   "cell_type": "code",
   "execution_count": 293,
   "id": "ff9d3de6-6187-4724-8a1b-ac443d115e4f",
   "metadata": {},
   "outputs": [
    {
     "data": {
      "text/plain": [
       "array([[False, False, False, False, False, False, False, False, False,\n",
       "        False],\n",
       "       [False, False, False, False, False, False, False, False, False,\n",
       "        False],\n",
       "       [False, False, False, False, False, False, False, False, False,\n",
       "        False],\n",
       "       [False, False, False, False, False, False, False, False, False,\n",
       "        False],\n",
       "       [False, False, False, False, False, False, False, False, False,\n",
       "        False],\n",
       "       [False,  True,  True,  True,  True,  True,  True,  True,  True,\n",
       "         True],\n",
       "       [ True,  True,  True,  True,  True,  True,  True,  True,  True,\n",
       "         True],\n",
       "       [ True,  True,  True,  True,  True,  True,  True,  True,  True,\n",
       "         True],\n",
       "       [ True,  True,  True,  True,  True,  True,  True,  True,  True,\n",
       "         True],\n",
       "       [ True,  True,  True,  True,  True,  True,  True,  True,  True,\n",
       "         True]])"
      ]
     },
     "execution_count": 293,
     "metadata": {},
     "output_type": "execute_result"
    }
   ],
   "source": [
    "mat>50\n"
   ]
  },
  {
   "cell_type": "code",
   "execution_count": 294,
   "id": "ca6d2474-fb12-4105-8c03-27291d55486a",
   "metadata": {},
   "outputs": [
    {
     "data": {
      "text/plain": [
       "array([[False, False, False, False, False, False, False, False, False,\n",
       "        False],\n",
       "       [False, False, False, False, False, False, False, False, False,\n",
       "        False],\n",
       "       [False, False, False, False, False, False, False, False, False,\n",
       "        False],\n",
       "       [False, False, False, False, False, False, False, False, False,\n",
       "        False],\n",
       "       [False, False, False, False, False, False, False, False, False,\n",
       "        False],\n",
       "       [ True, False, False, False, False, False, False, False, False,\n",
       "        False],\n",
       "       [False, False, False, False, False, False, False, False, False,\n",
       "        False],\n",
       "       [False, False, False, False, False, False, False, False, False,\n",
       "        False],\n",
       "       [False, False, False, False, False, False, False, False, False,\n",
       "        False],\n",
       "       [False, False, False, False, False, False, False, False, False,\n",
       "        False]])"
      ]
     },
     "execution_count": 294,
     "metadata": {},
     "output_type": "execute_result"
    }
   ],
   "source": [
    "mat==50"
   ]
  },
  {
   "cell_type": "code",
   "execution_count": 295,
   "id": "13e57016-ec51-4547-b6d0-7ba4d8a946b4",
   "metadata": {},
   "outputs": [
    {
     "data": {
      "text/plain": [
       "array([50])"
      ]
     },
     "execution_count": 295,
     "metadata": {},
     "output_type": "execute_result"
    }
   ],
   "source": [
    "mat[mat==50]"
   ]
  },
  {
   "cell_type": "code",
   "execution_count": 296,
   "id": "ecd398a2-5318-41cc-b02e-894616a52cf4",
   "metadata": {},
   "outputs": [
    {
     "data": {
      "text/plain": [
       "array([51, 52, 53, 54, 55, 56, 57, 58, 59, 60, 61, 62, 63, 64, 65, 66, 67,\n",
       "       68, 69, 70, 71, 72, 73, 74, 75, 76, 77, 78, 79, 80, 81, 82, 83, 84,\n",
       "       85, 86, 87, 88, 89, 90, 91, 92, 93, 94, 95, 96, 97, 98, 99])"
      ]
     },
     "execution_count": 296,
     "metadata": {},
     "output_type": "execute_result"
    }
   ],
   "source": [
    "mat[mat>50]"
   ]
  },
  {
   "cell_type": "code",
   "execution_count": 297,
   "id": "057c36db-6322-468d-a287-cb5b8e376316",
   "metadata": {},
   "outputs": [
    {
     "data": {
      "text/plain": [
       "array([50, 51, 52, 53, 54, 55, 56, 57, 58, 59, 60, 61, 62, 63, 64, 65, 66,\n",
       "       67, 68, 69, 70, 71, 72, 73, 74, 75, 76, 77, 78, 79, 80, 81, 82, 83,\n",
       "       84, 85, 86, 87, 88, 89, 90, 91, 92, 93, 94, 95, 96, 97, 98, 99])"
      ]
     },
     "execution_count": 297,
     "metadata": {},
     "output_type": "execute_result"
    }
   ],
   "source": [
    "mat[mat>=50]"
   ]
  },
  {
   "cell_type": "code",
   "execution_count": 298,
   "id": "df6267b8-c585-45df-8748-6106e231afbf",
   "metadata": {},
   "outputs": [
    {
     "data": {
      "text/plain": [
       "array([ 0,  1,  2,  3,  4,  5,  6,  7,  8,  9, 10, 11, 12, 13, 14, 15, 16,\n",
       "       17, 18, 19, 20, 21, 22, 23, 24, 25, 26, 27, 28, 29, 30, 31, 32, 33,\n",
       "       34, 35, 36, 37, 38, 39, 40, 41, 42, 43, 44, 45, 46, 47, 48, 49])"
      ]
     },
     "execution_count": 298,
     "metadata": {},
     "output_type": "execute_result"
    }
   ],
   "source": [
    "a1=mat[mat<50]\n",
    "a1"
   ]
  },
  {
   "cell_type": "code",
   "execution_count": 299,
   "id": "49475d62-2cd4-4e27-bea0-5bf32a91a6c0",
   "metadata": {},
   "outputs": [
    {
     "data": {
      "text/plain": [
       "array([[ 0,  1,  2,  3,  4,  5,  6,  7,  8,  9],\n",
       "       [10, 11, 12, 13, 14, 15, 16, 17, 18, 19],\n",
       "       [20, 21, 22, 23, 24, 25, 26, 27, 28, 29],\n",
       "       [30, 31, 32, 33, 34, 35, 36, 37, 38, 39],\n",
       "       [40, 41, 42, 43, 44, 45, 46, 47, 48, 49],\n",
       "       [50, 51, 52, 53, 54, 55, 56, 57, 58, 59],\n",
       "       [60, 61, 62, 63, 64, 65, 66, 67, 68, 69],\n",
       "       [70, 71, 72, 73, 74, 75, 76, 77, 78, 79],\n",
       "       [80, 81, 82, 83, 84, 85, 86, 87, 88, 89],\n",
       "       [90, 91, 92, 93, 94, 95, 96, 97, 98, 99]])"
      ]
     },
     "execution_count": 299,
     "metadata": {},
     "output_type": "execute_result"
    }
   ],
   "source": [
    "mat"
   ]
  },
  {
   "cell_type": "code",
   "execution_count": 300,
   "id": "5aa8777c-75be-4f32-98d7-ee9d4a37831a",
   "metadata": {},
   "outputs": [
    {
     "data": {
      "text/plain": [
       "array([51, 52, 53, 54, 55, 56, 57, 58, 59, 60, 61, 62, 63, 64, 65, 66, 67,\n",
       "       68, 69, 70, 71, 72, 73, 74, 75, 76, 77, 78, 79, 80, 81, 82, 83, 84,\n",
       "       85, 86, 87, 88, 89, 90, 91, 92, 93, 94, 95, 96, 97, 98, 99])"
      ]
     },
     "execution_count": 300,
     "metadata": {},
     "output_type": "execute_result"
    }
   ],
   "source": [
    "a2=mat[mat>50]\n",
    "a2"
   ]
  },
  {
   "cell_type": "code",
   "execution_count": 302,
   "id": "f4240848-a3b7-4f38-9976-a0d5486e695a",
   "metadata": {},
   "outputs": [
    {
     "data": {
      "text/plain": [
       "array([50, 51, 52, 53, 54, 55, 56, 57, 58, 59, 60, 61, 62, 63, 64, 65, 66,\n",
       "       67, 68, 69, 70, 71, 72, 73, 74, 75, 76, 77, 78, 79, 80, 81, 82, 83,\n",
       "       84, 85, 86, 87, 88, 89, 90, 91, 92, 93, 94, 95, 96, 97, 98, 99])"
      ]
     },
     "execution_count": 302,
     "metadata": {},
     "output_type": "execute_result"
    }
   ],
   "source": [
    "a3=mat[mat>=50]\n",
    "a3"
   ]
  },
  {
   "cell_type": "code",
   "execution_count": 303,
   "id": "187d689f-7ab7-4b65-a4fc-1fd57d2868f3",
   "metadata": {},
   "outputs": [
    {
     "data": {
      "text/plain": [
       "array([ 0,  1,  2,  3,  4,  5,  6,  7,  8,  9, 10, 11, 12, 13, 14, 15, 16,\n",
       "       17, 18, 19, 20, 21, 22, 23, 24, 25, 26, 27, 28, 29, 30, 31, 32, 33,\n",
       "       34, 35, 36, 37, 38, 39, 40, 41, 42, 43, 44, 45, 46, 47, 48, 49, 50])"
      ]
     },
     "execution_count": 303,
     "metadata": {},
     "output_type": "execute_result"
    }
   ],
   "source": [
    "a4=mat[mat<=50]\n",
    "a4"
   ]
  },
  {
   "cell_type": "code",
   "execution_count": 305,
   "id": "e3f227ca-d026-4563-b396-857588e65889",
   "metadata": {},
   "outputs": [
    {
     "data": {
      "text/plain": [
       "array([50])"
      ]
     },
     "execution_count": 305,
     "metadata": {},
     "output_type": "execute_result"
    }
   ],
   "source": [
    "a5=mat[mat==50]\n",
    "a5"
   ]
  },
  {
   "cell_type": "code",
   "execution_count": 306,
   "id": "0fb01c3b-3a3a-4646-9da7-be84def8654d",
   "metadata": {},
   "outputs": [
    {
     "data": {
      "text/plain": [
       "array([[False, False, False, False, False, False, False, False, False,\n",
       "        False],\n",
       "       [False, False, False, False, False, False, False, False, False,\n",
       "        False],\n",
       "       [False, False, False, False, False, False, False, False, False,\n",
       "        False],\n",
       "       [False, False, False, False, False, False, False, False, False,\n",
       "        False],\n",
       "       [False, False, False, False, False, False, False, False, False,\n",
       "        False],\n",
       "       [False,  True,  True,  True,  True,  True,  True,  True,  True,\n",
       "         True],\n",
       "       [ True,  True,  True,  True,  True,  True,  True,  True,  True,\n",
       "         True],\n",
       "       [ True,  True,  True,  True,  True,  True,  True,  True,  True,\n",
       "         True],\n",
       "       [ True,  True,  True,  True,  True,  True,  True,  True,  True,\n",
       "         True],\n",
       "       [ True,  True,  True,  True,  True,  True,  True,  True,  True,\n",
       "         True]])"
      ]
     },
     "execution_count": 306,
     "metadata": {},
     "output_type": "execute_result"
    }
   ],
   "source": [
    "mat>50"
   ]
  },
  {
   "cell_type": "code",
   "execution_count": 307,
   "id": "c214c5ae-50cd-4139-bfb1-33a8a1829242",
   "metadata": {},
   "outputs": [
    {
     "data": {
      "text/plain": [
       "array([[ True,  True,  True,  True,  True,  True,  True,  True,  True,\n",
       "         True],\n",
       "       [ True,  True,  True,  True,  True,  True,  True,  True,  True,\n",
       "         True],\n",
       "       [ True,  True,  True,  True,  True,  True,  True,  True,  True,\n",
       "         True],\n",
       "       [ True,  True,  True,  True,  True,  True,  True,  True,  True,\n",
       "         True],\n",
       "       [ True,  True,  True,  True,  True,  True,  True,  True,  True,\n",
       "         True],\n",
       "       [False, False, False, False, False, False, False, False, False,\n",
       "        False],\n",
       "       [False, False, False, False, False, False, False, False, False,\n",
       "        False],\n",
       "       [False, False, False, False, False, False, False, False, False,\n",
       "        False],\n",
       "       [False, False, False, False, False, False, False, False, False,\n",
       "        False],\n",
       "       [False, False, False, False, False, False, False, False, False,\n",
       "        False]])"
      ]
     },
     "execution_count": 307,
     "metadata": {},
     "output_type": "execute_result"
    }
   ],
   "source": [
    "mat<50"
   ]
  },
  {
   "cell_type": "code",
   "execution_count": 308,
   "id": "214291b5-4833-4f48-b995-21b6646b6492",
   "metadata": {},
   "outputs": [
    {
     "data": {
      "text/plain": [
       "array([[False, False, False, False, False, False, False, False, False,\n",
       "        False],\n",
       "       [False, False, False, False, False, False, False, False, False,\n",
       "        False],\n",
       "       [False, False, False, False, False, False, False, False, False,\n",
       "        False],\n",
       "       [False, False, False, False, False, False, False, False, False,\n",
       "        False],\n",
       "       [False, False, False, False, False, False, False, False, False,\n",
       "        False],\n",
       "       [ True, False, False, False, False, False, False, False, False,\n",
       "        False],\n",
       "       [False, False, False, False, False, False, False, False, False,\n",
       "        False],\n",
       "       [False, False, False, False, False, False, False, False, False,\n",
       "        False],\n",
       "       [False, False, False, False, False, False, False, False, False,\n",
       "        False],\n",
       "       [False, False, False, False, False, False, False, False, False,\n",
       "        False]])"
      ]
     },
     "execution_count": 308,
     "metadata": {},
     "output_type": "execute_result"
    }
   ],
   "source": [
    "mat==50\n"
   ]
  },
  {
   "cell_type": "code",
   "execution_count": 309,
   "id": "b8aaef95-f651-4d80-938b-fd4c1f5eb02f",
   "metadata": {},
   "outputs": [
    {
     "data": {
      "text/plain": [
       "array([ 0,  1,  2,  3,  4,  5,  6,  7,  8,  9, 10, 11, 12, 13, 14, 15, 16,\n",
       "       17, 18, 19, 20, 21, 22, 23, 24, 25, 26, 27, 28, 29, 30, 31, 32, 33,\n",
       "       34, 35, 36, 37, 38, 39, 40, 41, 42, 43, 44, 45, 46, 47, 48, 49])"
      ]
     },
     "execution_count": 309,
     "metadata": {},
     "output_type": "execute_result"
    }
   ],
   "source": [
    "a1"
   ]
  },
  {
   "cell_type": "code",
   "execution_count": 310,
   "id": "2239d19c-de47-46bc-819c-b02fa8d6f3b9",
   "metadata": {},
   "outputs": [
    {
     "data": {
      "text/plain": [
       "array([51, 52, 53, 54, 55, 56, 57, 58, 59, 60, 61, 62, 63, 64, 65, 66, 67,\n",
       "       68, 69, 70, 71, 72, 73, 74, 75, 76, 77, 78, 79, 80, 81, 82, 83, 84,\n",
       "       85, 86, 87, 88, 89, 90, 91, 92, 93, 94, 95, 96, 97, 98, 99])"
      ]
     },
     "execution_count": 310,
     "metadata": {},
     "output_type": "execute_result"
    }
   ],
   "source": [
    "a2"
   ]
  },
  {
   "cell_type": "code",
   "execution_count": 311,
   "id": "b0e33295-e9f2-4c03-a6b6-957495900fb3",
   "metadata": {},
   "outputs": [
    {
     "data": {
      "text/plain": [
       "array([50, 51, 52, 53, 54, 55, 56, 57, 58, 59, 60, 61, 62, 63, 64, 65, 66,\n",
       "       67, 68, 69, 70, 71, 72, 73, 74, 75, 76, 77, 78, 79, 80, 81, 82, 83,\n",
       "       84, 85, 86, 87, 88, 89, 90, 91, 92, 93, 94, 95, 96, 97, 98, 99])"
      ]
     },
     "execution_count": 311,
     "metadata": {},
     "output_type": "execute_result"
    }
   ],
   "source": [
    "a3"
   ]
  },
  {
   "cell_type": "code",
   "execution_count": 312,
   "id": "cea9a5e0-d914-485c-aad5-120805393bad",
   "metadata": {},
   "outputs": [
    {
     "data": {
      "text/plain": [
       "array([ 0,  1,  2,  3,  4,  5,  6,  7,  8,  9, 10, 11, 12, 13, 14, 15, 16,\n",
       "       17, 18, 19, 20, 21, 22, 23, 24, 25, 26, 27, 28, 29, 30, 31, 32, 33,\n",
       "       34, 35, 36, 37, 38, 39, 40, 41, 42, 43, 44, 45, 46, 47, 48, 49, 50])"
      ]
     },
     "execution_count": 312,
     "metadata": {},
     "output_type": "execute_result"
    }
   ],
   "source": [
    "a4"
   ]
  },
  {
   "cell_type": "code",
   "execution_count": 313,
   "id": "e71a6a0f-7a73-4aec-8aa7-2afd370c0bc0",
   "metadata": {},
   "outputs": [
    {
     "data": {
      "text/plain": [
       "array([50])"
      ]
     },
     "execution_count": 313,
     "metadata": {},
     "output_type": "execute_result"
    }
   ],
   "source": [
    "a5"
   ]
  },
  {
   "cell_type": "code",
   "execution_count": 314,
   "id": "7d182b9d-ad84-4ce0-8bc1-660862ad0281",
   "metadata": {},
   "outputs": [
    {
     "data": {
      "text/plain": [
       "array([[ 0,  1,  2,  3,  4,  5,  6,  7,  8,  9],\n",
       "       [10, 11, 12, 13, 14, 15, 16, 17, 18, 19],\n",
       "       [20, 21, 22, 23, 24, 25, 26, 27, 28, 29],\n",
       "       [30, 31, 32, 33, 34, 35, 36, 37, 38, 39],\n",
       "       [40, 41, 42, 43, 44, 45, 46, 47, 48, 49],\n",
       "       [50, 51, 52, 53, 54, 55, 56, 57, 58, 59],\n",
       "       [60, 61, 62, 63, 64, 65, 66, 67, 68, 69],\n",
       "       [70, 71, 72, 73, 74, 75, 76, 77, 78, 79],\n",
       "       [80, 81, 82, 83, 84, 85, 86, 87, 88, 89],\n",
       "       [90, 91, 92, 93, 94, 95, 96, 97, 98, 99]])"
      ]
     },
     "execution_count": 314,
     "metadata": {},
     "output_type": "execute_result"
    }
   ],
   "source": [
    "mat"
   ]
  },
  {
   "cell_type": "code",
   "execution_count": 315,
   "id": "3d63202e-662e-47dd-9e99-6f20363a122c",
   "metadata": {},
   "outputs": [
    {
     "data": {
      "text/plain": [
       "array([ 0,  2,  4,  6,  8, 10, 12, 14, 16, 18, 20, 22, 24, 26, 28, 30, 32,\n",
       "       34, 36, 38, 40, 42, 44, 46, 48, 50, 52, 54, 56, 58, 60, 62, 64, 66,\n",
       "       68, 70, 72, 74, 76, 78, 80, 82, 84, 86, 88, 90, 92, 94, 96, 98])"
      ]
     },
     "execution_count": 315,
     "metadata": {},
     "output_type": "execute_result"
    }
   ],
   "source": [
    "mat[mat%2==0]"
   ]
  },
  {
   "cell_type": "code",
   "execution_count": 316,
   "id": "86235bec-9f01-4d20-9ef1-e43588ec47fb",
   "metadata": {},
   "outputs": [
    {
     "data": {
      "text/plain": [
       "array([ 1,  3,  5,  7,  9, 11, 13, 15, 17, 19, 21, 23, 25, 27, 29, 31, 33,\n",
       "       35, 37, 39, 41, 43, 45, 47, 49, 51, 53, 55, 57, 59, 61, 63, 65, 67,\n",
       "       69, 71, 73, 75, 77, 79, 81, 83, 85, 87, 89, 91, 93, 95, 97, 99])"
      ]
     },
     "execution_count": 316,
     "metadata": {},
     "output_type": "execute_result"
    }
   ],
   "source": [
    "mat[mat%2==1]"
   ]
  },
  {
   "cell_type": "code",
   "execution_count": null,
   "id": "46a26f40-d2dc-411d-8d72-e95e3db77698",
   "metadata": {},
   "outputs": [],
   "source": []
  }
 ],
 "metadata": {
  "kernelspec": {
   "display_name": "Python 3 (ipykernel)",
   "language": "python",
   "name": "python3"
  },
  "language_info": {
   "codemirror_mode": {
    "name": "ipython",
    "version": 3
   },
   "file_extension": ".py",
   "mimetype": "text/x-python",
   "name": "python",
   "nbconvert_exporter": "python",
   "pygments_lexer": "ipython3",
   "version": "3.12.4"
  }
 },
 "nbformat": 4,
 "nbformat_minor": 5
}
